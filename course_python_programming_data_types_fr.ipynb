{
  "nbformat": 4,
  "nbformat_minor": 0,
  "metadata": {
    "colab": {
      "provenance": [],
      "authorship_tag": "ABX9TyM4I1/VrYamoVZLdkCBVRMs"
    },
    "kernelspec": {
      "name": "python3",
      "display_name": "Python 3"
    },
    "language_info": {
      "name": "python"
    }
  },
  "cells": [
    {
      "cell_type": "markdown",
      "source": [
        "# Types de données\n",
        "\n",
        "Le tableau suivant liste les types de données prédéfinis dans Python.\n",
        "\n",
        "| Type de données | Classes Python |\n",
        "|: --- |: --- |\n",
        "| Numérique | `int`, `float`, `complex` |\n",
        "| String | `str` |\n",
        "| Séquence | `list`, `tuple`, `range` |\n",
        "| Binaire | `bytes`, `bytearray`, `MemoryView` |\n",
        "| Mappage | `dict` |\n",
        "| Booléen | `bool` |\n",
        "| Set | `set`, `frozenset` |\n",
        "| Aucun | `NoneType` |\n",
        "\n",
        "Pour obtenir le type d'une variable, nous utilisons la fonction `type()`.\n",
        "\n"
      ],
      "metadata": {
        "id": "unh50uzU7p7J"
      }
    },
    {
      "cell_type": "markdown",
      "source": [
        "# Type numérique\n",
        "\n",
        "Python a quatre types numériques prédéfinis:\n",
        "\n",
        "`int` (entier signé)\n",
        "\n",
        "`bool` (booléen)\n",
        "\n",
        "`float` (nombre réel)\n",
        "\n",
        "`complexe` (nombre complexe)\n",
        "\n",
        "**Exemple**"
      ],
      "metadata": {
        "id": "_QhFdkjv9R1M"
      }
    },
    {
      "cell_type": "code",
      "execution_count": null,
      "metadata": {
        "colab": {
          "base_uri": "https://localhost:8080/"
        },
        "id": "fSyoLqb87XTW",
        "outputId": "29752df9-5177-4853-de79-6499a9ddc349"
      },
      "outputs": [
        {
          "output_type": "stream",
          "name": "stdout",
          "text": [
            "<class 'int'>\n",
            "<class 'bool'>\n",
            "<class 'float'>\n",
            "<class 'complex'>\n"
          ]
        }
      ],
      "source": [
        "integer_number = 1        # int: variable entière\n",
        "boolean = True            # bool: variable booléenne\n",
        "real_number = 1.2         # float: variable réelle\n",
        "complex_number = 1 + 2j   # complex: variable complexe\n",
        "\n",
        "print(type(integer_number))\n",
        "print(type(boolean))\n",
        "print(type(real_number))\n",
        "print(type(complex_number))"
      ]
    },
    {
      "cell_type": "markdown",
      "source": [
        "# Type séquence\n",
        "\n",
        "Une séquence est un type de données de collection.\n",
        "\n",
        "Il s'agit d'une collection *ordonnée* d'éléments.\n",
        "\n",
        "Les éléments de la séquence ont un *index de position* commençant par la valeur `0`.\n",
        "\n",
        "Une séquence est *délimitée* et *itérable*.\n",
        "\n",
        "Python a trois types de données de séquence:\n",
        "\n",
        "* `str`\n",
        "* `list`\n",
        "* `tuple`"
      ],
      "metadata": {
        "id": "hFpP6VVT-5M4"
      }
    },
    {
      "cell_type": "markdown",
      "source": [
        "# Type `str`\n",
        "\n",
        "Une variable de type `str` (string) est une chaîne de caractères délimitée par des guillemets simples, doubles ou triples.\n",
        "\n",
        "*Indexation*\n",
        "\n",
        "On accéde aux éléments d'une variable de type `str` en utilisant l'opérateur d'indexation `[]`.\n",
        "\n",
        "*Découpage*\n",
        "\n",
        "On obtient une sous-chaîne d'une chaîne en utilisant l'opérateur de découpage `[:]`.\n",
        "\n",
        "`my_string[start:end:step]`\n",
        "\n",
        "`start` (facultatif): index de démarrage (inclus). Sa valeur par défaut est `0` s'il est omis.\n",
        "\n",
        "`end` (facultatif): index d'arrêt (exclusif). Sa valeur par défaut est la fin de la chaîne s'il est omis.\n",
        "\n",
        "`step` (facultatif): intervalle entre les indices. Une valeur positive découpe de gauche à droite, tandis qu'une valeur négative découpe de droite à gauche. S'il est omis, Sa valeur par défaut est `1` (pas de saut de caractères).\n",
        "\n",
        "*Opérations*\n",
        "\n",
        "* L'opérateur de concaténation est le symbole `+`.\n",
        "* L'opérateur de répétition est le symbole `*`.\n",
        "\n",
        "**Exemple**"
      ],
      "metadata": {
        "id": "fy-PqC3C_Ub_"
      }
    },
    {
      "cell_type": "code",
      "source": [
        "greet = 'Hello'\n",
        "print(greet)\n",
        "print(greet[0])\n",
        "print(greet[:3])\n",
        "print(greet[2:4])\n",
        "print(greet[2:])\n",
        "print(greet[::-1])\n",
        "print(greet * 2)\n",
        "print(greet + \" World!\")"
      ],
      "metadata": {
        "colab": {
          "base_uri": "https://localhost:8080/"
        },
        "id": "mrDAfoWpAO2D",
        "outputId": "c48da956-3b72-4e95-c282-4b7eee7a97e4"
      },
      "execution_count": null,
      "outputs": [
        {
          "output_type": "stream",
          "name": "stdout",
          "text": [
            "Hello\n",
            "H\n",
            "Hel\n",
            "ll\n",
            "llo\n",
            "olleH\n",
            "HelloHello\n",
            "Hello World!\n"
          ]
        }
      ]
    },
    {
      "cell_type": "markdown",
      "source": [
        "# Type `list`\n",
        "\n",
        "Une variable de type `list` est constituée d'éléments séparés par des virgules et délimités par des crochets `[]`.\n",
        "\n",
        "Les éléments d'un `list` peuvent être de différents types.\n",
        "\n",
        "*Liste imbriquée*\n",
        "\n",
        "Un `list` peut avoir un élément de type `list`.\n",
        "\n",
        "*Indexation*\n",
        "\n",
        "On indexe un `list` de la même manière qu'on indexe un `str`.\n",
        "\n",
        "*Découpage*\n",
        "\n",
        "On découpe un `list` de la même manière qu'on découpe un `str`.\n",
        "\n",
        "*Opérations*\n",
        "\n",
        "* L'opérateur de concaténation est le symbole `+`.\n",
        "* L'opérateur de répétition est le symbole `*`.\n",
        "\n",
        "**Exemple**"
      ],
      "metadata": {
        "id": "2TLAwOPdErUU"
      }
    },
    {
      "cell_type": "code",
      "source": [
        "data = [2, 3, 5, 7, 11]\n",
        "print(data)\n",
        "print(data[0])\n",
        "print(data[1:3])\n",
        "print(data[1:])\n",
        "print(data[::-1])"
      ],
      "metadata": {
        "colab": {
          "base_uri": "https://localhost:8080/"
        },
        "id": "hzyAHQnCFtA6",
        "outputId": "04b682e4-5752-42a2-edbf-73e1de382f18"
      },
      "execution_count": null,
      "outputs": [
        {
          "output_type": "stream",
          "name": "stdout",
          "text": [
            "[2, 3, 5, 7, 11]\n",
            "2\n",
            "[3, 5]\n",
            "[3, 5, 7, 11]\n",
            "[11, 7, 5, 3, 2]\n"
          ]
        }
      ]
    },
    {
      "cell_type": "markdown",
      "source": [
        "# Type `tuple`\n",
        "\n",
        "Une variable `tuple` est constituée d'éléments séparés par des virgules et délimités par des parenthèses `()`.\n",
        "\n",
        "Les éléments d'un `tuple` peuvent être de types différents.\n",
        "\n",
        "*tuple imbriqué*\n",
        "\n",
        "Un `tuple` peut avoir un élément de type `tuple` ou de type `list`.\n",
        "\n",
        "*Indexation*\n",
        "\n",
        "On indexe un `tuple` de la même manière qu'on indexe un `str`.\n",
        "\n",
        "*Découpage*\n",
        "\n",
        "On découpe un `tuple` de la même manière qu'on découpe un `str`.\n",
        "\n",
        "*Opérations*\n",
        "\n",
        "* L'opérateur de concaténation est le symbole `+`.\n",
        "* L'opérateur de répétition est le symbole `*`.\n",
        "\n",
        "Contrairement à une variable de type `list`, une variable de type `tuple` ne peut pas être modifiée.\n",
        "\n",
        "Une variable de type `tuple` peut être considérée comme une variable de type `list` en lecture seule.\n",
        "\n",
        "**Exemple**"
      ],
      "metadata": {
        "id": "4-bR9gPSF8Zx"
      }
    },
    {
      "cell_type": "code",
      "source": [
        "data = (2, 3, 5, 7, 11)\n",
        "print(data)\n",
        "print(data[0])\n",
        "print(data[1:3])\n",
        "print(data[1:])\n",
        "print(data[::-1])"
      ],
      "metadata": {
        "id": "IE-9qz0ZNrzk",
        "colab": {
          "base_uri": "https://localhost:8080/"
        },
        "outputId": "0441c9b5-3710-4355-97f3-b01554cdefda"
      },
      "execution_count": null,
      "outputs": [
        {
          "output_type": "stream",
          "name": "stdout",
          "text": [
            "(2, 3, 5, 7, 11)\n",
            "2\n",
            "(3, 5)\n",
            "(3, 5, 7, 11)\n",
            "(11, 7, 5, 3, 2)\n"
          ]
        }
      ]
    },
    {
      "cell_type": "markdown",
      "source": [
        "# Type `dict`\n",
        "\n",
        "Une variable de type `dict` (dictionnaire) est une collection de paires `key:value`.\n",
        "\n",
        "Ces paires sont séparées par des virgules et la séquence est délimitée par des accolades `{}`.\n",
        "\n",
        "Pour établir la correspondance entre les éléments constituant la paire `key:value`, on utilise le caractère `:`.\n",
        "\n",
        "Pour accéder aux valeurs d'une variable `dict`, on utilise les crochets `[]`.\n",
        "\n",
        "**Exemple**"
      ],
      "metadata": {
        "id": "fZQTBfslOVzC"
      }
    },
    {
      "cell_type": "code",
      "source": [
        "data = {\n",
        "'com' : 'Commercial',\n",
        "'org' : 'Organization',\n",
        "'net' : 'Network'\n",
        "}\n",
        "\n",
        "print(data)\n",
        "print(data['com'])\n",
        "print(data.keys())\n",
        "print(data.values())"
      ],
      "metadata": {
        "colab": {
          "base_uri": "https://localhost:8080/"
        },
        "id": "yhmv73hJOmzE",
        "outputId": "009dd70a-4fa5-48b3-87a8-5d4168710ac5"
      },
      "execution_count": null,
      "outputs": [
        {
          "output_type": "stream",
          "name": "stdout",
          "text": [
            "{'com': 'Commercial', 'org': 'Organization', 'net': 'Network'}\n",
            "Commercial\n",
            "dict_keys(['com', 'org', 'net'])\n",
            "dict_values(['Commercial', 'Organization', 'Network'])\n"
          ]
        }
      ]
    },
    {
      "cell_type": "markdown",
      "source": [
        "# Type `set`\n",
        "\n",
        "Le type `set` est une implémentation du concept mathématique d'ensemble.\n",
        "\n",
        "Une variable de type `set` est constituée d'une collection d'éléments séparés par des virgules et délimités par des accolades `{}`.\n",
        "\n",
        "La collection est *non indexée* et *non ordonnée*.\n",
        "\n",
        "Les éléments peuvent être de différents types.\n",
        "\n",
        "Chaque élément de la collection est énuméré une et une seule fois.\n",
        "\n",
        "Un élément doit être un objet *non mutable* comme un objet numérique (`int`,` bool`, `float`,` complexe`), `str` ou `tuple`.\n"
      ],
      "metadata": {
        "id": "yuIB_oKGO6w2"
      }
    }
  ]
}