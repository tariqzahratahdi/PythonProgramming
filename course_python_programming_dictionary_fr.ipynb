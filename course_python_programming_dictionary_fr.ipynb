{
  "nbformat": 4,
  "nbformat_minor": 0,
  "metadata": {
    "colab": {
      "provenance": [],
      "authorship_tag": "ABX9TyOMBIpDeFQ+jw1XCSbYsWgt"
    },
    "kernelspec": {
      "name": "python3",
      "display_name": "Python 3"
    },
    "language_info": {
      "name": "python"
    }
  },
  "cells": [
    {
      "cell_type": "markdown",
      "source": [
        "# **Dictionnaire**\n",
        "\n",
        "# Type de données **`dict`**\n",
        "\n",
        "Une variable **`dict`** (dictionnaire) est une collection de paires **`key:value`**.\n",
        "\n",
        "Ces paires sont séparées par des virgules et la séquence est délimitée par des accolades `{}`.\n",
        "\n",
        "Pour établir la correspondance entre les éléments constituant la paire `key:value`, on utilise le symbole `:` (colon.)\n",
        "\n",
        "Pour accéder aux composantes `value` d'une variable `dict`, on utilise les crochets `[ ]`.\n",
        "\n",
        "La composante `value` attribuée à une compsante `key` doit être *non mutable* (nombre, tuple, string)\n",
        "\n",
        "La valeur attribuée à une `key` doit être unique.\n",
        "\n",
        "**Exemple**"
      ],
      "metadata": {
        "id": "RoFpueJqGzOg"
      }
    },
    {
      "cell_type": "code",
      "execution_count": null,
      "metadata": {
        "colab": {
          "base_uri": "https://localhost:8080/"
        },
        "id": "zLRR22aqGw7f",
        "outputId": "e006d46a-5322-4888-c944-a784872e4bb7"
      },
      "outputs": [
        {
          "output_type": "stream",
          "name": "stdout",
          "text": [
            "{'com': 'Commercial', 'org': 'Organization', 'net': 'Network'}\n",
            "Organization\n",
            "dict_keys(['com', 'org', 'net'])\n",
            "dict_values(['Commercial', 'Organization', 'Network'])\n"
          ]
        }
      ],
      "source": [
        "data = {\n",
        "'com' : 'Commercial',\n",
        "'org' : 'Organization',\n",
        "'net' : 'Network'\n",
        "}\n",
        "print(data)\n",
        "print(data['org'])\n",
        "print(data.keys())\n",
        "print(data.values())"
      ]
    },
    {
      "cell_type": "markdown",
      "source": [
        "# Ajouter des éléments\n",
        "\n",
        "On ajoute un élément à un `dict` en attribuant une composante `value` à une nouvelle composan `key`.\n",
        "\n",
        "**Exemple**"
      ],
      "metadata": {
        "id": "K1liNpB5He94"
      }
    },
    {
      "cell_type": "code",
      "source": [
        "data = {\n",
        "'com' : 'Commercial',\n",
        "'org' : 'Organization',\n",
        "'net' : 'Network'\n",
        "}\n",
        "print(data)\n",
        "\n",
        "# Add an item\n",
        "data['edu'] = 'Education'\n",
        "\n",
        "print(data)"
      ],
      "metadata": {
        "colab": {
          "base_uri": "https://localhost:8080/"
        },
        "id": "av9ZT35iHkdZ",
        "outputId": "8d5500b7-3a19-4840-8d45-02ecd7357db8"
      },
      "execution_count": null,
      "outputs": [
        {
          "output_type": "stream",
          "name": "stdout",
          "text": [
            "{'com': 'Commercial', 'org': 'Organization', 'net': 'Network'}\n",
            "{'com': 'Commercial', 'org': 'Organization', 'net': 'Network', 'edu': 'Education'}\n"
          ]
        }
      ]
    },
    {
      "cell_type": "markdown",
      "source": [
        "# Supprimer des éléments\n",
        "\n",
        "L'instruction **`del`** est utilisée pour supprimer un élément d'un `dict`.\n",
        "\n",
        "**Exemple**"
      ],
      "metadata": {
        "id": "3yUGa89mHx8B"
      }
    },
    {
      "cell_type": "code",
      "source": [
        "data = {\n",
        "'com' : 'Commercial',\n",
        "'org' : 'Organization',\n",
        "'net' : 'Network'\n",
        "}\n",
        "print(data)\n",
        "\n",
        "# Remove an item\n",
        "del data['net']\n",
        "\n",
        "print(data)"
      ],
      "metadata": {
        "colab": {
          "base_uri": "https://localhost:8080/"
        },
        "id": "xQVIJMRDH6PL",
        "outputId": "d163609a-f9a0-4c27-f3cf-beebe4c70e6f"
      },
      "execution_count": null,
      "outputs": [
        {
          "output_type": "stream",
          "name": "stdout",
          "text": [
            "{'com': 'Commercial', 'org': 'Organization', 'net': 'Network'}\n",
            "{'com': 'Commercial', 'org': 'Organization'}\n"
          ]
        }
      ]
    },
    {
      "cell_type": "markdown",
      "source": [
        "La méthode **`pop ()`** est utilisée pour supprimer et renvoyer un élément d'une `clé` spécifiée d'un dict '.\n",
        "\n",
        "**Exemple**"
      ],
      "metadata": {
        "id": "2vN9RLqmIEcu"
      }
    },
    {
      "cell_type": "code",
      "source": [
        "data = {\n",
        "'com' : 'Commercial',\n",
        "'org' : 'Organization',\n",
        "'net' : 'Network'\n",
        "}\n",
        "print(data)\n",
        "\n",
        "# Supprimer un article\n",
        "element = data.pop('com')\n",
        "\n",
        "print(data)\n",
        "print('Popped element:', element)"
      ],
      "metadata": {
        "colab": {
          "base_uri": "https://localhost:8080/"
        },
        "id": "YDhv6FQPIMZL",
        "outputId": "b703d1cc-4e83-463c-839b-24169df2335f"
      },
      "execution_count": null,
      "outputs": [
        {
          "output_type": "stream",
          "name": "stdout",
          "text": [
            "{'com': 'Commercial', 'org': 'Organization', 'net': 'Network'}\n",
            "{'org': 'Organization', 'net': 'Network'}\n",
            "Popped element: Commercial\n"
          ]
        }
      ]
    },
    {
      "cell_type": "markdown",
      "source": [
        "La méthode **`clear()`** est utilisée pour supprimer tous les éléments d'un `dict`.\n",
        "\n",
        "**Exemple**"
      ],
      "metadata": {
        "id": "mL2S-v6WIcTG"
      }
    },
    {
      "cell_type": "code",
      "source": [
        "data = {\n",
        "'com' : 'Commercial',\n",
        "'org' : 'Organization',\n",
        "'net' : 'Network'\n",
        "}\n",
        "print(data)\n",
        "\n",
        "# Clear the dictionary\n",
        "data.clear()\n",
        "\n",
        "print(data)"
      ],
      "metadata": {
        "colab": {
          "base_uri": "https://localhost:8080/"
        },
        "id": "bcNkxZNtIh3-",
        "outputId": "80045f46-3e4c-4c82-bf4d-0127642b8358"
      },
      "execution_count": null,
      "outputs": [
        {
          "output_type": "stream",
          "name": "stdout",
          "text": [
            "{'com': 'Commercial', 'org': 'Organization', 'net': 'Network'}\n",
            "{}\n"
          ]
        }
      ]
    },
    {
      "cell_type": "markdown",
      "source": [
        "# Modifier des éléments\n",
        "\n",
        "Le type de données `dict` est de nature *mutable*.\n",
        "\n",
        "On modifie la composanta `value` d'un élément d'un `dict` en se référant à sa composante `key`.\n",
        "\n",
        "**Exemple**"
      ],
      "metadata": {
        "id": "4TzRDi2iIrpd"
      }
    },
    {
      "cell_type": "code",
      "source": [
        "data = {\n",
        "'com' : 'Commercial',\n",
        "'org' : 'Organization',\n",
        "'net' : 'Networking'\n",
        "}\n",
        "print(data)\n",
        "\n",
        "# Change the value of an item\n",
        "data['net'] = 'Network'\n",
        "\n",
        "print(data)"
      ],
      "metadata": {
        "colab": {
          "base_uri": "https://localhost:8080/"
        },
        "id": "SQqM-cglI2iZ",
        "outputId": "f9079fd0-15f8-479f-f1c5-7ce0ab6e8366"
      },
      "execution_count": null,
      "outputs": [
        {
          "output_type": "stream",
          "name": "stdout",
          "text": [
            "{'com': 'Commercial', 'org': 'Organization', 'net': 'Networking'}\n",
            "{'com': 'Commercial', 'org': 'Organization', 'net': 'Network'}\n"
          ]
        }
      ]
    },
    {
      "cell_type": "markdown",
      "source": [
        "# Itération sur un **`dict`**\n",
        "\n",
        "Un `dict` est délimité et itérable: on peut parcourir les composantes `key` de ses éléments dans une boucle `for`.\n",
        "\n",
        "On utilise l'opérateur d'appartenance **`in`** pour itérer sur les éléments d'un `dict`.\n",
        "\n",
        "**Exemple**"
      ],
      "metadata": {
        "id": "iN-GAl4uJAXP"
      }
    },
    {
      "cell_type": "code",
      "source": [
        "data = {\n",
        "'com' : 'Commercial',\n",
        "'org' : 'Organization',\n",
        "'net' : 'Network'\n",
        "}\n",
        "\n",
        "# iterate on dictionary keys one by one\n",
        "for domain in data :\n",
        "   entity = data[domain]\n",
        "   print(domain, ':', entity)"
      ],
      "metadata": {
        "colab": {
          "base_uri": "https://localhost:8080/"
        },
        "id": "9Qf6bSGJJMXo",
        "outputId": "2f3467ea-1a6d-487e-93b3-089cf84637ea"
      },
      "execution_count": null,
      "outputs": [
        {
          "output_type": "stream",
          "name": "stdout",
          "text": [
            "com : Commercial\n",
            "org : Organization\n",
            "net : Network\n"
          ]
        }
      ]
    },
    {
      "cell_type": "markdown",
      "source": [
        "# Longueur d'un **`dict`**\n",
        "\n",
        "La longueur d'un `dict` est le nombre d'éléments qu'il contient.\n",
        "\n",
        "La fonction **`len()`** renvoie la longueur d'un `dict`.\n",
        "\n",
        "**Exemple**"
      ],
      "metadata": {
        "id": "zCbjy7j-Jbr6"
      }
    },
    {
      "cell_type": "code",
      "source": [
        "data = {\n",
        "'com' : 'Commercial',\n",
        "'org' : 'Organization',\n",
        "'net' : 'Network'\n",
        "}\n",
        "\n",
        "# get dictionary length\n",
        "print(len(data))"
      ],
      "metadata": {
        "colab": {
          "base_uri": "https://localhost:8080/"
        },
        "id": "xaqPlAmIJmsI",
        "outputId": "602cf707-2b1a-4d7b-81b8-c0b8131ff54d"
      },
      "execution_count": null,
      "outputs": [
        {
          "output_type": "stream",
          "name": "stdout",
          "text": [
            "3\n"
          ]
        }
      ]
    },
    {
      "cell_type": "markdown",
      "source": [
        "# Méthodes opérant sur un **`dict`**\n",
        "\n",
        "Voici des méthodes prédéfinies opérant sur un objet `dict`.\n",
        "\n",
        "| Méthode | Description |\n",
        "|: --- |: --- |\n",
        "| `dict.keys()` | Renvoie la liste des composantes `key` d'un `dict`.|\n",
        "| `dict.values()` | Renvoie la liste des composantes de `value` d'un `dict`. |\n",
        "| `dict.get()` | Renvoie la composante `value` pour un `key` spécifié dans `dict`.|\n",
        "| `dict.update()` | Ajoute une paire `key:value` à un `dict`.|\n",
        "| `dict.pop()` | Supprime et renvoie le dernier élément ou l'élément avec un `key` spécifié d'un `dict`. |\n",
        "| `dict.clear()` | Supprime tous les éléments d'un `dict`.|\n",
        "| `dict.copy()` | Renvoie une copie d'un `dict`.|"
      ],
      "metadata": {
        "id": "3h9PxCMiJvNJ"
      }
    }
  ]
}