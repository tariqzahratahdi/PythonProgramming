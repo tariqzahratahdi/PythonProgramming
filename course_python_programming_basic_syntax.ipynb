{
  "nbformat": 4,
  "nbformat_minor": 0,
  "metadata": {
    "colab": {
      "provenance": [],
      "authorship_tag": "ABX9TyNTabwuiZ2fu7w4qkbFBdAp",
      "include_colab_link": true
    },
    "kernelspec": {
      "name": "python3",
      "display_name": "Python 3"
    },
    "language_info": {
      "name": "python"
    }
  },
  "cells": [
    {
      "cell_type": "markdown",
      "metadata": {
        "id": "view-in-github",
        "colab_type": "text"
      },
      "source": [
        "<a href=\"https://colab.research.google.com/github/tariqzahratahdi/PythonProgramming/blob/main/course_python_programming_basic_syntax.ipynb\" target=\"_parent\"><img src=\"https://colab.research.google.com/assets/colab-badge.svg\" alt=\"Open In Colab\"/></a>"
      ]
    },
    {
      "cell_type": "markdown",
      "source": [
        "# Basic Syntax\n",
        "\n",
        "Python syntax defines a set of rules used to write a Python program.\n",
        "\n",
        "A Python program is written in a script which is a text file.\n",
        "\n",
        "The extension of a Python script file is `.py`\n",
        "\n",
        "We invoke the Python interpreter to execute a script.\n",
        "\n",
        "In the following program, we use the predefined function `print()` which displays a text."
      ],
      "metadata": {
        "id": "ZUzueF-CRVxq"
      }
    },
    {
      "cell_type": "code",
      "execution_count": null,
      "metadata": {
        "colab": {
          "base_uri": "https://localhost:8080/"
        },
        "id": "c2ojLsR-RUWw",
        "outputId": "0049e88d-2674-4499-837f-ccf6591d2543"
      },
      "outputs": [
        {
          "output_type": "stream",
          "name": "stdout",
          "text": [
            "Hello World!\n"
          ]
        }
      ],
      "source": [
        "print('Hello World!')"
      ]
    },
    {
      "cell_type": "markdown",
      "source": [
        "# Identifier\n",
        "\n",
        "An identifier is a name used to identify a variable, function, class, module, or other object.\n",
        "\n",
        "An identifier begins with a letter or the underscore character ( `_` ), optionally followed by letters, underscores, or numbers.\n",
        "\n",
        "An identifier is case-sensitive and must not be a Python reserved word."
      ],
      "metadata": {
        "id": "-pdvXv-3SqO7"
      }
    },
    {
      "cell_type": "markdown",
      "source": [
        "# Reserved Words\n",
        "\n",
        "The following list enumerates Python keywords. These reserved words cannot be used as identifiers.\n",
        "\n",
        "<table>\n",
        "<tr><td>and</td><td>False</td><td>nonlocal</td></tr>\n",
        "<tr><td>as</td><td>finally</td><td>not</td></tr>\n",
        "<tr><td>assert</td><td>for</td><td>or</td></tr>\n",
        "<tr><td>break</td><td>from</td><td>pass</td></tr>\n",
        "<tr><td>class</td><td>global</td><td>raise</td></tr>\n",
        "<tr><td>continue</td><td>if</td><td>return</td></tr>\n",
        "<tr><td>def</td><td>import</td><td>True</td></tr>\n",
        "<tr><td>del</td><td>in</td><td>try</td></tr>\n",
        "<tr><td>elif</td><td>is</td><td>while</td></tr>\n",
        "<tr><td>else</td><td>lambda</td><td>with</td></tr>\n",
        "<tr><td>except</td><td>None</td><td>yield</td></tr>\n",
        "</table>\n"
      ],
      "metadata": {
        "id": "3hgCyiuvTHDs"
      }
    },
    {
      "cell_type": "markdown",
      "source": [
        "# Naming Conventions\n",
        "\n",
        "A Python class name begins with an uppercase letter. All other identifiers begin with a lowercase letter.\n",
        "\n",
        "Example: `MyClass`\n",
        "\n",
        "A private identifier begins with a single underscore character.\n",
        "\n",
        "Example: `_aaa`\n",
        "\n",
        "A strongly private identifier begins with two underscore characters.\n",
        "\n",
        "Example: `__aaa`\n",
        "\n",
        "A special reserved identifier begins with two underscore characters and ends with two underscore characters.\n",
        "\n",
        "Example: `__aaa__`"
      ],
      "metadata": {
        "id": "s93J4I83WY-x"
      }
    },
    {
      "cell_type": "markdown",
      "source": [
        "# Naming style\n",
        "\n",
        "A consistent naming style should be used.\n",
        "\n",
        "In this course, we will use the following naming style:\n",
        "\n",
        "`my_variable_name` for variables.\n",
        "\n",
        "`MY_CONSTANT_NAME` for constants.\n",
        "\n",
        "`my_function`, `my_method` for functions and methods.\n",
        "\n",
        "`MyClass` for classes.\n",
        "\n",
        "`module_name` for modules and all other identifiers.\n"
      ],
      "metadata": {
        "id": "Hx2szhXNW3oo"
      }
    },
    {
      "cell_type": "markdown",
      "source": [
        "# Line indentation\n",
        "\n",
        "In a Python program, curly braces `{...}` are not used to delimit statement blocks.\n",
        "\n",
        "Statement blocks are indicated by **line indentation**, which is strictly enforced.\n",
        "\n",
        "The number of spaces in the indentation is variable, but all statements in the statement block must be indented the same number of spaces.\n",
        "\n",
        "**Example**"
      ],
      "metadata": {
        "id": "xfirBBaxYUwl"
      }
    },
    {
      "cell_type": "code",
      "source": [
        "condition = True\n",
        "if condition :\n",
        "   print ('Answer')\n",
        "   print ('True')\n",
        "else :\n",
        "   print ('Answer')\n",
        "   print ('False')"
      ],
      "metadata": {
        "colab": {
          "base_uri": "https://localhost:8080/"
        },
        "id": "D1KThvlNYuZ7",
        "outputId": "bb92d948-fd8d-422b-d4d7-45753b169c63"
      },
      "execution_count": null,
      "outputs": [
        {
          "output_type": "stream",
          "name": "stdout",
          "text": [
            "Answer\n",
            "True\n"
          ]
        }
      ]
    },
    {
      "cell_type": "markdown",
      "source": [
        "# Multi-Line Statement\n",
        "\n",
        "Python statements usually end with a newline.\n",
        "\n",
        "Python, however, allows the use of the line continuation character ( `\\` ) to indicate that the line should continue.\n",
        "\n",
        "**Example**"
      ],
      "metadata": {
        "id": "nwesDuGKY7nt"
      }
    },
    {
      "cell_type": "code",
      "source": [
        "total = item_one + \\\n",
        "        item_two + \\\n",
        "        item_three"
      ],
      "metadata": {
        "id": "eMyELAaHZElZ"
      },
      "execution_count": null,
      "outputs": []
    },
    {
      "cell_type": "markdown",
      "source": [
        "Statements enclosed in square brackets `[...]`, curly braces `{...}`, or parentheses `(...)` do not need to use the line continuation character.\n",
        "\n",
        "**Example**"
      ],
      "metadata": {
        "id": "DtvA_kAxZLoR"
      }
    },
    {
      "cell_type": "code",
      "source": [
        "days = ['Monday', 'Tuesday', 'Wednesday',\n",
        "        'Thursday', 'Friday']"
      ],
      "metadata": {
        "id": "N1K_tfDpZXeW"
      },
      "execution_count": null,
      "outputs": []
    },
    {
      "cell_type": "markdown",
      "source": [
        "# Quotations\n",
        "\n",
        "In a Python program, single quotes ( `'` ), double quotes ( `\"` ), and triple quotes ( `'''` or `\"\"\"` ) are used to delimit a string.\n",
        "\n",
        "**Example**"
      ],
      "metadata": {
        "id": "8Db7Ad_SZrd3"
      }
    },
    {
      "cell_type": "code",
      "source": [
        "word = 'word'\n",
        "print(word)\n",
        "\n",
        "sentence = \"This is a sentence.\"\n",
        "print(sentence)\n",
        "\n",
        "paragraph = \"\"\"This is a paragraph. It is\n",
        "made up of multiple lines and sentences.\"\"\"\n",
        "print(paragraph)"
      ],
      "metadata": {
        "colab": {
          "base_uri": "https://localhost:8080/"
        },
        "id": "_Lxe6ytBZ_sF",
        "outputId": "1fa7b454-d4af-45cb-fff3-3e118d668e1b"
      },
      "execution_count": null,
      "outputs": [
        {
          "output_type": "stream",
          "name": "stdout",
          "text": [
            "word\n",
            "This is a sentence.\n",
            "This is a paragraph. It is\n",
            "made up of multiple lines and sentences.\n"
          ]
        }
      ]
    },
    {
      "cell_type": "markdown",
      "source": [
        "# Comments\n",
        "\n",
        "A comment begins with the hash sign ( `#` ). It is ignored by the Python interpreter.\n",
        "\n",
        "To write a multi-line comment, we use triple quotes.\n",
        "\n",
        "**Example**"
      ],
      "metadata": {
        "id": "X8IL8VMqaSBc"
      }
    },
    {
      "cell_type": "code",
      "source": [
        "# First comment\n",
        "print(\"Hello, World!\")   # Second comment\n",
        "\n",
        "'''\n",
        "This is a multiline\n",
        "comment.\n",
        "'''"
      ],
      "metadata": {
        "id": "ZgHt0sRPaYMf"
      },
      "execution_count": null,
      "outputs": []
    },
    {
      "cell_type": "markdown",
      "source": [
        "# Multiple Statements on a Single Line\n",
        "\n",
        "The semicolon ( `;` ) is used to separate multiple statements written on a single line, given that none of the statements starts a new block of statements.\n",
        "\n",
        "**Example**"
      ],
      "metadata": {
        "id": "z53aGHddbFiE"
      }
    },
    {
      "cell_type": "code",
      "source": [
        "side = 12; perimeter = 4 * side; area = side * side"
      ],
      "metadata": {
        "id": "k6txMcBzbMNh"
      },
      "execution_count": null,
      "outputs": []
    },
    {
      "cell_type": "markdown",
      "source": [
        "# Multiple Statement Group as a Suite\n",
        "\n",
        "A *suite* designate a group of individual statements that make a single code block.\n",
        "\n",
        "Compound or complex statements, such as `if`, `while`, `def`, and `class` require a *header line* and a *suite*.\n",
        "\n",
        "The header line begins the statement (with the keyword) and terminate with a colon ( `:` ) and is followed by one or more lines which make up the suite.\n",
        "\n",
        "**Example**"
      ],
      "metadata": {
        "id": "69il14w0bVOy"
      }
    },
    {
      "cell_type": "code",
      "source": [
        "condition = True\n",
        "if condition :\n",
        "   print ('Answer')\n",
        "   print ('True')\n",
        "else :\n",
        "   print ('Answer')\n",
        "   print ('False')"
      ],
      "metadata": {
        "id": "l-7jDqn6krFr"
      },
      "execution_count": null,
      "outputs": []
    }
  ]
}