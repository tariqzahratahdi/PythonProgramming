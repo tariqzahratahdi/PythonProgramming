{
  "nbformat": 4,
  "nbformat_minor": 0,
  "metadata": {
    "colab": {
      "provenance": [],
      "authorship_tag": "ABX9TyMeo1dOGrXtC6OIEOr90u6N"
    },
    "kernelspec": {
      "name": "python3",
      "display_name": "Python 3"
    },
    "language_info": {
      "name": "python"
    }
  },
  "cells": [
    {
      "cell_type": "markdown",
      "source": [
        "# Reading and Writing Data\n",
        "\n",
        "# Reading Data\n",
        "\n",
        "In a Python program we use the predefined function `input()` to read data entered on the standard input stream (keyboard).\n",
        "\n",
        "**Example**"
      ],
      "metadata": {
        "id": "dWklEFj3FOKc"
      }
    },
    {
      "cell_type": "code",
      "execution_count": null,
      "metadata": {
        "colab": {
          "base_uri": "https://localhost:8080/"
        },
        "id": "HN9peFulFLwD",
        "outputId": "3a851385-4442-472d-cef3-5e8520b1eab3"
      },
      "outputs": [
        {
          "name": "stdout",
          "output_type": "stream",
          "text": [
            "friday\n",
            "october\n"
          ]
        }
      ],
      "source": [
        "day = input()\n",
        "month = input()"
      ]
    },
    {
      "cell_type": "markdown",
      "source": [
        "When the interpreter encounters the `input()` function, it waits for the user to enter data on the standard input stream (keyboard) until the Enter key is pressed.\n",
        "\n",
        "The entered character sequence can be stored in a variable of type `str` (string) for later use.\n",
        "\n",
        "When the Enter key is read, the program moves to the next instruction.\n",
        "\n",
        "To display a prompt message, it is passed as an argument to the `input()` function.\n",
        "\n",
        "**Example**"
      ],
      "metadata": {
        "id": "K1B7kkKpG4rT"
      }
    },
    {
      "cell_type": "code",
      "source": [
        "day = input('Enter the day : ')\n",
        "month = input('Enter the month : ')"
      ],
      "metadata": {
        "colab": {
          "base_uri": "https://localhost:8080/"
        },
        "id": "5ydfOFrzHDOc",
        "outputId": "c2b82d52-4e28-4847-c780-41fe3c43f747"
      },
      "execution_count": null,
      "outputs": [
        {
          "name": "stdout",
          "output_type": "stream",
          "text": [
            "Enter the day : friday\n",
            "Enter the month : october\n"
          ]
        }
      ]
    },
    {
      "cell_type": "markdown",
      "source": [
        "# Reading a Numeric Data\n",
        "\n",
        "The type of a data read using the `input()` function is `str` (string).\n",
        "\n",
        "To read a numeric data type, we use the predefined functions `int()`, `float()` to convert the data read using the `input()` function.\n",
        "\n",
        "**Example**"
      ],
      "metadata": {
        "id": "jmje8GX-HTGK"
      }
    },
    {
      "cell_type": "code",
      "source": [
        "width = int(input(\"Enter width : \"))\n",
        "height = int(input(\"Enter height : \"))\n",
        "\n",
        "print(width * height)"
      ],
      "metadata": {
        "colab": {
          "base_uri": "https://localhost:8080/"
        },
        "id": "KUTYX8e3HeQL",
        "outputId": "cff323a2-c032-43a0-a3ce-0c63593e4eb7"
      },
      "execution_count": null,
      "outputs": [
        {
          "output_type": "stream",
          "name": "stdout",
          "text": [
            "Enter width : 2\n",
            "Enter height : 3\n",
            "6\n"
          ]
        }
      ]
    },
    {
      "cell_type": "markdown",
      "source": [
        "# Writing Data\n",
        "\n",
        "In a Python program we use the predefined function `print()` to write (display) data to the standard output stream (screen.)\n",
        "\n",
        "**Example**"
      ],
      "metadata": {
        "id": "uw0TA224Hrgt"
      }
    },
    {
      "cell_type": "code",
      "source": [
        "print('Hello World!')"
      ],
      "metadata": {
        "colab": {
          "base_uri": "https://localhost:8080/"
        },
        "id": "TpjdOp7ZHxiN",
        "outputId": "905e3aaf-2bd7-4300-97ad-9983b26d4fb9"
      },
      "execution_count": null,
      "outputs": [
        {
          "output_type": "stream",
          "name": "stdout",
          "text": [
            "Hello World!\n"
          ]
        }
      ]
    },
    {
      "cell_type": "markdown",
      "source": [
        "The `print()` function accepts multiple arguments that are valid expressions.\n",
        "\n",
        "**Example**"
      ],
      "metadata": {
        "id": "U_EnuhiYH4TM"
      }
    },
    {
      "cell_type": "code",
      "source": [
        "width = 7\n",
        "height = 5\n",
        "\n",
        "print('width : ', width)\n",
        "print('height : ', height)\n",
        "print('area : ', width * height)"
      ],
      "metadata": {
        "colab": {
          "base_uri": "https://localhost:8080/"
        },
        "id": "jfA8r4tFH8pk",
        "outputId": "b58d1afa-0bf9-4840-8cc3-09f568d50133"
      },
      "execution_count": null,
      "outputs": [
        {
          "output_type": "stream",
          "name": "stdout",
          "text": [
            "width :  7\n",
            "height :  5\n",
            "area :  35\n"
          ]
        }
      ]
    },
    {
      "cell_type": "markdown",
      "source": [
        "The `print()` function emits a newline character ( `\\n` ) at the end.\n",
        "\n",
        "Consequently, the message displayed by the next `print()` statement appears on the next line of the console.\n",
        "\n",
        "To display the results of two successive `print()` statements on the same line, we tell the `print()` function to emit a string as a separator at the end, and we do this by passing it as an argument named `end`.\n",
        "\n",
        "**Example**"
      ],
      "metadata": {
        "id": "vSJdeHAaIGc7"
      }
    },
    {
      "cell_type": "code",
      "source": [
        "width = 7\n",
        "height = 5\n",
        "\n",
        "print('width : ', width, end=' - ')\n",
        "print('height : ', height, end=' - ')\n",
        "print('area : ', width * height)"
      ],
      "metadata": {
        "colab": {
          "base_uri": "https://localhost:8080/"
        },
        "id": "4Ia0c_f5ISNe",
        "outputId": "05ef3148-6ea6-4e01-d06b-9286f56b18fc"
      },
      "execution_count": null,
      "outputs": [
        {
          "output_type": "stream",
          "name": "stdout",
          "text": [
            "width :  7 - height :  5 - area :  35\n"
          ]
        }
      ]
    },
    {
      "cell_type": "markdown",
      "source": [
        "The `print()` function displays its arguments separated by a space.\n",
        "\n",
        "To use another character as a separator, we pass it as an argument named `sep` to the `print()` function.\n",
        "\n",
        "**Example**: arguments separated by a comma."
      ],
      "metadata": {
        "id": "LYuJ1iWAI0bx"
      }
    },
    {
      "cell_type": "code",
      "source": [
        "width = 7\n",
        "height = 5\n",
        "area = width * height\n",
        "\n",
        "print(width, height, area, sep=', ')"
      ],
      "metadata": {
        "colab": {
          "base_uri": "https://localhost:8080/"
        },
        "id": "AnLh1d2BJMdC",
        "outputId": "6558fd6c-621e-4495-9367-714b6fa187a7"
      },
      "execution_count": null,
      "outputs": [
        {
          "output_type": "stream",
          "name": "stdout",
          "text": [
            "7, 5, 35\n"
          ]
        }
      ]
    },
    {
      "cell_type": "markdown",
      "source": [
        "# Formatted Writing of Data\n",
        "\n",
        "The `str.format()` method is used to format the display with the `print()` function.\n",
        "\n",
        "The curly braces `{ }` are used to specify the location and order of the arguments passed to the `print()` function.\n",
        "\n",
        "**Example**"
      ],
      "metadata": {
        "id": "oqEbGrwWJdM_"
      }
    },
    {
      "cell_type": "code",
      "source": [
        "width = 7\n",
        "height = 5\n",
        "\n",
        "print('width : {} height : {}'.format(width, height))"
      ],
      "metadata": {
        "colab": {
          "base_uri": "https://localhost:8080/"
        },
        "id": "-AbVRnHPJnIJ",
        "outputId": "c36f72af-11cb-48d1-a2e3-4f72ca172fb1"
      },
      "execution_count": null,
      "outputs": [
        {
          "output_type": "stream",
          "name": "stdout",
          "text": [
            "width : 7 height : 5\n"
          ]
        }
      ]
    },
    {
      "cell_type": "markdown",
      "source": [
        "# f-Strings Format\n",
        "\n",
        "The f-Strings format makes it easy to display values ​​and variables. It uses the curly braces `{ }` to pass variables.\n",
        "\n",
        "**Example**"
      ],
      "metadata": {
        "id": "cLej4ptxJu1c"
      }
    },
    {
      "cell_type": "code",
      "source": [
        "name = 'apple'\n",
        "family = 'fruit'\n",
        "\n",
        "print(f'{name} is a {family}')"
      ],
      "metadata": {
        "colab": {
          "base_uri": "https://localhost:8080/"
        },
        "id": "Az1YB_l2J2bX",
        "outputId": "95f647a9-e8c1-4fa4-df00-0703ce879ceb"
      },
      "execution_count": null,
      "outputs": [
        {
          "output_type": "stream",
          "name": "stdout",
          "text": [
            "apple is a fruit\n"
          ]
        }
      ]
    },
    {
      "cell_type": "markdown",
      "source": [
        "# Formatted Writing of Integers\n",
        "\n",
        "**Example**: using the `format()` method."
      ],
      "metadata": {
        "id": "j_vA2ZjHKjoI"
      }
    },
    {
      "cell_type": "code",
      "source": [
        "i = 255\n",
        "print('left   : {:<8}'.format(i))\n",
        "print('center : {:^8}'.format(i))\n",
        "print('right  : {:>8}'.format(i))\n",
        "print('zero   : {:08}'.format(i))\n",
        "print('bin    : {:b}'.format(i))\n",
        "print('oct    : {:o}'.format(i))\n",
        "print('hex    : {:x}'.format(i))"
      ],
      "metadata": {
        "colab": {
          "base_uri": "https://localhost:8080/"
        },
        "id": "DE-FrkxXKxVO",
        "outputId": "cd3b4a31-413d-4109-e0e9-48bc73a98886"
      },
      "execution_count": null,
      "outputs": [
        {
          "output_type": "stream",
          "name": "stdout",
          "text": [
            "left   : 255     \n",
            "center :   255   \n",
            "right  :      255\n",
            "zero   : 00000255\n",
            "bin    : 11111111\n",
            "oct    : 377\n",
            "hex    : ff\n"
          ]
        }
      ]
    },
    {
      "cell_type": "markdown",
      "source": [
        "**Example**: using f-Strings format."
      ],
      "metadata": {
        "id": "HWifrGMEK7c6"
      }
    },
    {
      "cell_type": "code",
      "source": [
        "i = 255\n",
        "print(f'left   : {i:<8}')\n",
        "print(f'center : {i:^8}')\n",
        "print(f'right  : {i:>8}')\n",
        "print(f'zero   : {i:08}')\n",
        "print(f'bin    : {i:b}')\n",
        "print(f'oct    : {i:o}')\n",
        "print(f'hex    : {i:x}')"
      ],
      "metadata": {
        "colab": {
          "base_uri": "https://localhost:8080/"
        },
        "id": "7DukzhKsK-Q0",
        "outputId": "3ea960e5-b5e5-48f8-be32-64fdd2b6ed7f"
      },
      "execution_count": null,
      "outputs": [
        {
          "output_type": "stream",
          "name": "stdout",
          "text": [
            "left   : 255     \n",
            "center :   255   \n",
            "right  :      255\n",
            "zero   : 00000255\n",
            "bin    : 11111111\n",
            "oct    : 377\n",
            "hex    : ff\n"
          ]
        }
      ]
    },
    {
      "cell_type": "markdown",
      "source": [
        "# Formatted Writing of Floats\n",
        "\n",
        "**Example**: using the format() method."
      ],
      "metadata": {
        "id": "VH6wxQagLG4s"
      }
    },
    {
      "cell_type": "code",
      "source": [
        "r = 0.1234\n",
        "print('digit   : {:.2}'.format(r))\n",
        "print('digit   : {:.6f}'.format(r))\n",
        "print('exp     : {:.4e}'.format(r))\n",
        "print('percent : {:.0%}'.format(r))"
      ],
      "metadata": {
        "colab": {
          "base_uri": "https://localhost:8080/"
        },
        "id": "s-QzTAkiLJ11",
        "outputId": "aca824dd-5eae-4d37-d384-337eafc8000c"
      },
      "execution_count": null,
      "outputs": [
        {
          "output_type": "stream",
          "name": "stdout",
          "text": [
            "digit   : 0.12\n",
            "digit   : 0.123400\n",
            "exp     : 1.2340e-01\n",
            "percent : 12%\n"
          ]
        }
      ]
    },
    {
      "cell_type": "markdown",
      "source": [
        "**Example**: using f-Strings format."
      ],
      "metadata": {
        "id": "g5akvm_iLVld"
      }
    },
    {
      "cell_type": "code",
      "source": [
        "r = 0.1234\n",
        "print(f'digit   : {r:.2}')\n",
        "print(f'digit   : {r:.6f}')\n",
        "print(f'exp     : {r:.4e}')\n",
        "print(f'percent : {r:.0%}')"
      ],
      "metadata": {
        "colab": {
          "base_uri": "https://localhost:8080/"
        },
        "id": "hBD0-j5DLaCK",
        "outputId": "181e162e-8421-4807-a88d-90e9993f7acc"
      },
      "execution_count": null,
      "outputs": [
        {
          "output_type": "stream",
          "name": "stdout",
          "text": [
            "digit   : 0.12\n",
            "digit   : 0.123400\n",
            "exp     : 1.2340e-01\n",
            "percent : 12%\n"
          ]
        }
      ]
    }
  ]
}