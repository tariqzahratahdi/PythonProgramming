{
  "nbformat": 4,
  "nbformat_minor": 0,
  "metadata": {
    "colab": {
      "provenance": [],
      "authorship_tag": "ABX9TyMX6/7AqcSR7ZTRrvFGpaXI",
      "include_colab_link": true
    },
    "kernelspec": {
      "name": "python3",
      "display_name": "Python 3"
    },
    "language_info": {
      "name": "python"
    }
  },
  "cells": [
    {
      "cell_type": "markdown",
      "metadata": {
        "id": "view-in-github",
        "colab_type": "text"
      },
      "source": [
        "<a href=\"https://colab.research.google.com/github/tariqzahratahdi/PythonProgramming/blob/main/course_python_programming_string_fr.ipynb\" target=\"_parent\"><img src=\"https://colab.research.google.com/assets/colab-badge.svg\" alt=\"Open In Colab\"/></a>"
      ]
    },
    {
      "cell_type": "markdown",
      "source": [
        "# Chaîne de caractères\n",
        "\n",
        "# Type de données **`str`**\n",
        "\n",
        "Le type de données prédéfini **`str`** (String) est un type de données de collection.\n",
        "\n",
        "Un `str` est une collection ordonnée d'éléments.\n",
        "\n",
        "Les éléments du `str` ont un index de position commençant à la valeur `0`.\n",
        "\n",
        "Une variable de type `str` est une chaîne de caractères délimitée par des guillemets simples, doubles ou triples.\n",
        "\n",
        "Une variable de type `str` est non mutable: l'accès aux caractères constituant le `str` est *en lecture seule*.\n",
        "\n",
        "Un `str` est limité et itérable: on peut itérer sur ces éléments dans une boucle `for`.\n",
        "\n",
        "*Accès*\n",
        "\n",
        "on accède aux éléments d'un `str` en utilisant les opérateurs `[]` et `[:]`.\n",
        "\n",
        "*Découper*\n",
        "\n",
        "On découpe une chaîne en utilisant la forme suivante:\n",
        "\n",
        "`my_string[start:end:step]`\n",
        "\n",
        "`start` (facultatif): index de démarrage (inclus). Sa valeur par défaut est `0` s'il est omis.\n",
        "\n",
        "`end` (facultatif): index d'arrêt (exclusif). Sa valeur par défaut est la fin de la chaîne s'il est omis.\n",
        "\n",
        "`step` (facultatif): intervalle entre les indices. Une valeur positive découpe de gauche à droite, tandis qu'une valeur négative découpe de droite à gauche. S'il est omis, Sa valeur par défaut est `1` (pas de saut de caractères).\n",
        "\n",
        "*Opérations*\n",
        "\n",
        "L'opérateur de concaténation est le symbole `+`\n",
        "\n",
        "L'opérateur de répétition est le symbole `*`\n",
        "\n",
        "L'opérateur d'appartenance est `in`\n",
        "\n",
        "L'opérateur non  appartenance est `not in`\n",
        "\n",
        "L'opérateur de comparaison est `==`\n",
        "\n",
        "| Expression | Résultat | Description |\n",
        "|: --- |: --- |: --- |\n",
        "| `'Hello ' + 'World!'` | 'Hello World!' | Concaténation |\n",
        "| `'toc' * 2` | 'toctoc' | Répétition |\n",
        "| `'t' in 'Python'` | True | Appartenance |\n",
        "\n",
        "**Exemple**\n",
        "\n"
      ],
      "metadata": {
        "id": "dQrhwQYRWbuw"
      }
    },
    {
      "cell_type": "code",
      "execution_count": null,
      "metadata": {
        "colab": {
          "base_uri": "https://localhost:8080/"
        },
        "id": "poB8_zR6Q8Fg",
        "outputId": "9d316d67-d65e-452e-d5b9-83c3e2914fe2"
      },
      "outputs": [
        {
          "output_type": "stream",
          "name": "stdout",
          "text": [
            "Hello\n",
            "H\n",
            "ll\n",
            "llo\n",
            "HelloHello\n",
            "Hello World!\n",
            "False\n"
          ]
        }
      ],
      "source": [
        "greet = 'Hello'\n",
        "print(greet)\n",
        "print(greet[0])\n",
        "print(greet[2:4])\n",
        "print(greet[2:])\n",
        "print(greet * 2)\n",
        "print(greet + ' World!')\n",
        "print('a' in greet)"
      ]
    },
    {
      "cell_type": "markdown",
      "source": [
        "# Chaîne multi-ligne\n",
        "\n",
        "Des guillemets triples sont utilisées pour former une chaîne multi-lignes.\n",
        "\n",
        "**Exemple**"
      ],
      "metadata": {
        "id": "HX5DF6P9YlBO"
      }
    },
    {
      "cell_type": "code",
      "source": [
        "# multiline string\n",
        "message = \"\"\"\n",
        "We can also create a multiline string in Python.\n",
        "For this, we use three double quotes\n",
        "or three single quotes\n",
        "\"\"\"\n",
        "print(message)"
      ],
      "metadata": {
        "colab": {
          "base_uri": "https://localhost:8080/"
        },
        "id": "AzGIJgKlYt8N",
        "outputId": "b5a33ac0-9839-4590-891f-8441253b27f1"
      },
      "execution_count": null,
      "outputs": [
        {
          "output_type": "stream",
          "name": "stdout",
          "text": [
            "\n",
            "We can also create a multiline string in Python.\n",
            "For this, we use three double quotes\n",
            "or three single quotes\n",
            "\n"
          ]
        }
      ]
    },
    {
      "cell_type": "markdown",
      "source": [
        "# Itération sur un **`str`**\n",
        "\n",
        "Un `str` est limité et itérable: on peut itérer sur ses éléments dans une boucle `for`.\n",
        "\n",
        "On utilise l'opérateur d'appartenance `in` pour itérer les éléments d'un `str`.\n",
        "\n",
        "**Exemple**"
      ],
      "metadata": {
        "id": "kZP9TUsKY2VP"
      }
    },
    {
      "cell_type": "code",
      "source": [
        "greet = 'Hello'\n",
        "# itérer à travers la chaîne\n",
        "for letter in greet:\n",
        "   print(letter)"
      ],
      "metadata": {
        "colab": {
          "base_uri": "https://localhost:8080/"
        },
        "id": "t_kJH6wMZDdK",
        "outputId": "9d5c0a0a-fdb4-4204-cc38-027bb1d1c56d"
      },
      "execution_count": null,
      "outputs": [
        {
          "output_type": "stream",
          "name": "stdout",
          "text": [
            "H\n",
            "e\n",
            "l\n",
            "l\n",
            "o\n"
          ]
        }
      ]
    },
    {
      "cell_type": "markdown",
      "source": [
        "# Longueur d'un **`str`**\n",
        "\n",
        "La longueur d'un `str` est le nombre de caractères qui le composent.\n",
        "\n",
        "La fonction **`len()`** renvoie la longueur d'un `str`.\n",
        "\n",
        "**Exemple**"
      ],
      "metadata": {
        "id": "sXdVL8T-ZMqN"
      }
    },
    {
      "cell_type": "code",
      "source": [
        "greet = 'Hello'\n",
        "print('String length: ', len(greet))"
      ],
      "metadata": {
        "colab": {
          "base_uri": "https://localhost:8080/"
        },
        "id": "ZLk25U7zZbtc",
        "outputId": "059a6345-511e-4dc1-b34d-5b2eb2999181"
      },
      "execution_count": null,
      "outputs": [
        {
          "output_type": "stream",
          "name": "stdout",
          "text": [
            "String length:  5\n"
          ]
        }
      ]
    },
    {
      "cell_type": "markdown",
      "source": [
        "# Format f-Strings\n",
        "\n",
        "Le format f-Strings facilite l'affichage des valeurs et des variables.\n",
        "\n",
        "**Exemple**"
      ],
      "metadata": {
        "id": "9ZHL98lFZjFV"
      }
    },
    {
      "cell_type": "code",
      "source": [
        "name = 'apple'\n",
        "family = 'fruit'\n",
        "print(f'{name} is a {family}')"
      ],
      "metadata": {
        "colab": {
          "base_uri": "https://localhost:8080/"
        },
        "id": "XS48peHUZn9Z",
        "outputId": "be4c1ecb-0540-474a-9c59-7418aa1e7881"
      },
      "execution_count": null,
      "outputs": [
        {
          "output_type": "stream",
          "name": "stdout",
          "text": [
            "apple is a fruit\n"
          ]
        }
      ]
    },
    {
      "cell_type": "markdown",
      "source": [
        "# Méthodes\n",
        "\n",
        "Liste de certaines méthodes définies dans la classe `str`.\n",
        "\n",
        "| Méthode | Description |\n",
        "|: --- |: --- |\n",
        "| upper() | convertit la chaîne en majuscules.|\n",
        "| lower() | convertit la chaîne en minuscules.|\n",
        "| partition() | partitionne la chaîne, renvoie un tuple.|\n",
        "| replace() | remplacer une sous-chaîne.|\n",
        "| find() | renvoie l'indice de la première occurrence d'une sous-chaîne. |\n",
        "| rstrip () | supprime les caractères espace en fin de chaîne.|\n",
        "| split() | divise la chaîne à partir de la gauche, renvoie un list. |\n",
        "| startswith() | vérifie si la chaîne commence par une chaîne spécifiée. |\n",
        "\n",
        "**Exemple**"
      ],
      "metadata": {
        "id": "uYDiL-6Cat0N"
      }
    },
    {
      "cell_type": "code",
      "source": [
        "a = 'Learn Coding'\n",
        "print(a.upper())\n",
        "print(a.lower())\n",
        "b = a.replace('Coding', 'Python')\n",
        "print(b)\n",
        "k = b.find('Python')\n",
        "print(k)\n",
        "c = 'docs.python.org'\n",
        "tpl = c.partition('.')\n",
        "print(tpl)\n",
        "lst = c.split('.')\n",
        "print(lst)"
      ],
      "metadata": {
        "colab": {
          "base_uri": "https://localhost:8080/"
        },
        "id": "ZXzl_ObVa9Uq",
        "outputId": "bec836cd-5a90-4365-9ad8-88d1bf3555bf"
      },
      "execution_count": null,
      "outputs": [
        {
          "output_type": "stream",
          "name": "stdout",
          "text": [
            "LEARN CODING\n",
            "learn coding\n",
            "Learn Python\n",
            "6\n",
            "('docs', '.', 'python.org')\n",
            "['docs', 'python', 'org']\n"
          ]
        }
      ]
    }
  ]
}