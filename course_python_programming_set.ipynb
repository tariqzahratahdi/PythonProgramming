{
  "nbformat": 4,
  "nbformat_minor": 0,
  "metadata": {
    "colab": {
      "provenance": [],
      "authorship_tag": "ABX9TyOmZHofw4kE+KcQL/Tc0XDC",
      "include_colab_link": true
    },
    "kernelspec": {
      "name": "python3",
      "display_name": "Python 3"
    },
    "language_info": {
      "name": "python"
    }
  },
  "cells": [
    {
      "cell_type": "markdown",
      "metadata": {
        "id": "view-in-github",
        "colab_type": "text"
      },
      "source": [
        "<a href=\"https://colab.research.google.com/github/tariqzahratahdi/PythonProgramming/blob/main/course_python_programming_set.ipynb\" target=\"_parent\"><img src=\"https://colab.research.google.com/assets/colab-badge.svg\" alt=\"Open In Colab\"/></a>"
      ]
    },
    {
      "cell_type": "markdown",
      "source": [
        "# **Set**\n",
        "\n",
        "# **`set`** Data Type\n",
        "\n",
        "The **`set`** data type is an implementation of the mathematical concept of a set.\n",
        "\n",
        "A variable of type `set` consists of a collection of elements delimited by curly braces `{ }`, the elements being separated by commas.\n",
        "\n",
        "The collection is *unindexed* and *unordered*.\n",
        "\n",
        "The elements can be of different types.\n",
        "\n",
        "Each element of the collection is enumerated once and only once.\n",
        "\n",
        "An element must be a `non-mutable` object such as a numeric object (`int`, `bool`, `float`, `complex`), `str` or `tuple`.\n",
        "\n",
        "**Example**"
      ],
      "metadata": {
        "id": "W-MkY_M63FV4"
      }
    },
    {
      "cell_type": "code",
      "execution_count": null,
      "metadata": {
        "colab": {
          "base_uri": "https://localhost:8080/"
        },
        "id": "FxQfcH6Dxnuw",
        "outputId": "eb78c4da-a858-4586-cccc-f59a503ed9f3"
      },
      "outputs": [
        {
          "output_type": "stream",
          "name": "stdout",
          "text": [
            "Prime numbers:\n",
            "{2, 3, 5, 7}\n",
            "Vowels:\n",
            "{'o', 'u', 'e', 'a', 'i'}\n"
          ]
        }
      ],
      "source": [
        "# create a set of integer type\n",
        "primes = {2, 3, 5, 7}\n",
        "print ('Prime numbers:')\n",
        "print (primes)\n",
        "\n",
        "# create a set of string type\n",
        "vowels = {'a', 'e', 'i', 'o', 'u'}\n",
        "print ('Vowels:')\n",
        "print (vowels)"
      ]
    },
    {
      "cell_type": "markdown",
      "source": [
        "# The **`set()`** function\n",
        "\n",
        "**`set()`** is a predefined function that takes a sequence object (`list`, `tuple` or `str`) as argument and returns a `set` object discarding duplicates.\n",
        "\n",
        "**Example**"
      ],
      "metadata": {
        "id": "dW-8cvc237jn"
      }
    },
    {
      "cell_type": "code",
      "source": [
        "# tuple and list\n",
        "primes = (2, 3, 5, 7)\n",
        "vowels = ['a', 'e', 'i', 'o', 'u']\n",
        "\n",
        "# create sets\n",
        "primes_set = set(primes)\n",
        "print(primes_set)\n",
        "vowels_set = set(vowels)\n",
        "print(vowels_set)"
      ],
      "metadata": {
        "colab": {
          "base_uri": "https://localhost:8080/"
        },
        "id": "3u-XfTUF4JuY",
        "outputId": "5293c024-44be-48d3-dc8b-b7d72a0f7d75"
      },
      "execution_count": null,
      "outputs": [
        {
          "output_type": "stream",
          "name": "stdout",
          "text": [
            "{2, 3, 5, 7}\n",
            "{'o', 'a', 'u', 'e', 'i'}\n"
          ]
        }
      ]
    },
    {
      "cell_type": "markdown",
      "source": [
        "# Add Elements\n",
        "\n",
        "The **`add()`** method is used to add an element to a `set`.\n",
        "\n",
        "**Example**"
      ],
      "metadata": {
        "id": "cEazFaNn4Vx-"
      }
    },
    {
      "cell_type": "code",
      "source": [
        "primes = {2, 3, 5, 7}\n",
        "print('Initial Set:')\n",
        "print(primes)\n",
        "\n",
        "# using add() method\n",
        "primes.add(11)\n",
        "\n",
        "print('Updated Set:')\n",
        "print(primes)"
      ],
      "metadata": {
        "colab": {
          "base_uri": "https://localhost:8080/"
        },
        "id": "ZEu_g1Ep4cfw",
        "outputId": "aca1f16b-4a4a-4791-d876-c853d302c9fe"
      },
      "execution_count": null,
      "outputs": [
        {
          "output_type": "stream",
          "name": "stdout",
          "text": [
            "Initial Set:\n",
            "{2, 3, 5, 7}\n",
            "Updated Set:\n",
            "{2, 3, 5, 7, 11}\n"
          ]
        }
      ]
    },
    {
      "cell_type": "markdown",
      "source": [
        "# Add Elements of a Collection\n",
        "\n",
        "The **`update()`** method is used to add elements of a collection (`list`, `tuple`, `str`, `set`, etc.) to a `set`.\n",
        "\n",
        "**Example**"
      ],
      "metadata": {
        "id": "s8P2lVRz4nBm"
      }
    },
    {
      "cell_type": "code",
      "source": [
        "primes = {2, 3, 5, 7}\n",
        "print('Initial Set:')\n",
        "print(primes)\n",
        "more_primes = {11, 13, 17, 19}\n",
        "\n",
        "# using update() method\n",
        "primes.update(more_primes)\n",
        "\n",
        "print('Updated Set:')\n",
        "print(primes)"
      ],
      "metadata": {
        "colab": {
          "base_uri": "https://localhost:8080/"
        },
        "id": "CK1P-eIJ4zDc",
        "outputId": "eceae0ef-f50e-4848-e8a3-a91d555905ac"
      },
      "execution_count": null,
      "outputs": [
        {
          "output_type": "stream",
          "name": "stdout",
          "text": [
            "Initial Set:\n",
            "{2, 3, 5, 7}\n",
            "Updated Set:\n",
            "{2, 3, 5, 7, 11, 13, 17, 19}\n"
          ]
        }
      ]
    },
    {
      "cell_type": "markdown",
      "source": [
        "# Remove Elements\n",
        "\n",
        "The **`discard()`** method is used to remove an element from a `set`.\n",
        "\n",
        "**Example**"
      ],
      "metadata": {
        "id": "ZxB8H3E64_Aa"
      }
    },
    {
      "cell_type": "code",
      "source": [
        "primes = {1, 2, 3, 5, 7}\n",
        "print('Initial Set:')\n",
        "print(primes)\n",
        "\n",
        "# using discard() method\n",
        "primes.discard(1)\n",
        "\n",
        "print('Updated Set:')\n",
        "print(primes)"
      ],
      "metadata": {
        "colab": {
          "base_uri": "https://localhost:8080/"
        },
        "id": "UXG99Cr15Hcm",
        "outputId": "d8088d57-171b-4dba-d5dc-38a0577ce588"
      },
      "execution_count": null,
      "outputs": [
        {
          "output_type": "stream",
          "name": "stdout",
          "text": [
            "Initial Set:\n",
            "{1, 2, 3, 5, 7}\n",
            "Updated Set:\n",
            "{2, 3, 5, 7}\n"
          ]
        }
      ]
    },
    {
      "cell_type": "markdown",
      "source": [
        "# Union\n",
        "\n",
        "The union of two sets `A` and `B` gives a set that contains all the elements that belong to either `A` or `B`.\n",
        "\n",
        "The **`union()`** method returns as a result the union of two sets.\n",
        "\n",
        "**Example**"
      ],
      "metadata": {
        "id": "VhpkmgYy5REd"
      }
    },
    {
      "cell_type": "code",
      "source": [
        "first_primes = {2, 3, 5, 7}\n",
        "more_primes = {11, 13, 17, 19}\n",
        "\n",
        "# using union() method\n",
        "primes = first_primes.union(more_primes)\n",
        "\n",
        "print('Union Set:')\n",
        "print(primes)"
      ],
      "metadata": {
        "colab": {
          "base_uri": "https://localhost:8080/"
        },
        "id": "rcZ-AA9p5kox",
        "outputId": "8dd01546-a437-45c6-86b1-00dfcb4de14c"
      },
      "execution_count": null,
      "outputs": [
        {
          "output_type": "stream",
          "name": "stdout",
          "text": [
            "Union Set:\n",
            "{2, 3, 5, 7, 11, 13, 17, 19}\n"
          ]
        }
      ]
    },
    {
      "cell_type": "markdown",
      "source": [
        "# Intersection\n",
        "\n",
        "The intersection of two sets `A` and `B` gives a set that contains all elements that belong to both `A` and `B`.\n",
        "\n",
        "The **`intersection()`** method returns as result the intersection of two sets.\n",
        "\n",
        "**Example**"
      ],
      "metadata": {
        "id": "5cVkbdp15xj9"
      }
    },
    {
      "cell_type": "code",
      "source": [
        "first_numbers = {0 ,1, 2, 3, 4, 5, 6, 7, 8, 9}\n",
        "primes = {2, 3, 5, 7, 11, 13, 17, 19}\n",
        "\n",
        "# using intersection() method\n",
        "first_primes = primes.intersection(first_numbers)\n",
        "\n",
        "print('Intersection Set:')\n",
        "print(first_primes)"
      ],
      "metadata": {
        "colab": {
          "base_uri": "https://localhost:8080/"
        },
        "id": "QVa51AeF59vs",
        "outputId": "c9bcdd18-91ef-4c3a-f9ce-aaf9f2669bb2"
      },
      "execution_count": null,
      "outputs": [
        {
          "output_type": "stream",
          "name": "stdout",
          "text": [
            "Intersection Set:\n",
            "{2, 3, 5, 7}\n"
          ]
        }
      ]
    },
    {
      "cell_type": "markdown",
      "source": [
        "# Iteration Through a **`set`** Elements\n",
        "\n",
        "A `set` is limited and iterable: we can iterate through its elements in a `for` loop.\n",
        "\n",
        "We use the membership operator **`in`** to iterate through the elements of a `set`.\n",
        "\n",
        "**Example**"
      ],
      "metadata": {
        "id": "n6uRGDk06Rty"
      }
    },
    {
      "cell_type": "code",
      "source": [
        "primes = {2, 3, 5, 7, 11, 13, 17, 19}\n",
        "# iterate through set elements\n",
        "for element in primes :\n",
        "  print(element, end=' ')"
      ],
      "metadata": {
        "colab": {
          "base_uri": "https://localhost:8080/"
        },
        "id": "Oh2YhBfU6etl",
        "outputId": "cdae43a1-11e2-4ffe-f115-fab241969e57"
      },
      "execution_count": null,
      "outputs": [
        {
          "output_type": "stream",
          "name": "stdout",
          "text": [
            "2 3 5 7 11 13 17 19 "
          ]
        }
      ]
    },
    {
      "cell_type": "markdown",
      "source": [
        "# Access Elements\n",
        "\n",
        "We can access a `set` elements using `list` comprehension by converting the `set` into a `list` within the comprehension.\n",
        "\n",
        "This allows us to iterate through the `set` elements and perform operations on them, similar to using a `for` loop.\n",
        "\n",
        "**Example**"
      ],
      "metadata": {
        "id": "5xANA1uR6rvg"
      }
    },
    {
      "cell_type": "code",
      "source": [
        "primes_set = {2, 3, 5, 7, 11, 13, 17, 19}\n",
        "# access set elements using list comprehension\n",
        "primes_list= [element for element in primes_set]\n",
        "print(primes_list)"
      ],
      "metadata": {
        "colab": {
          "base_uri": "https://localhost:8080/"
        },
        "id": "G9uH8OUW63n5",
        "outputId": "66336c33-9a5d-441c-99be-faca333b2cd6"
      },
      "execution_count": null,
      "outputs": [
        {
          "output_type": "stream",
          "name": "stdout",
          "text": [
            "[2, 3, 5, 7, 11, 13, 17, 19]\n"
          ]
        }
      ]
    },
    {
      "cell_type": "markdown",
      "source": [
        "# Membership\n",
        "\n",
        "We can check whether a certain element is available in a `set` using the membership operators: **`in`** and **`not in`**."
      ],
      "metadata": {
        "id": "IMWr0Q_f7Ojf"
      }
    },
    {
      "cell_type": "markdown",
      "source": [
        "# Methods\n",
        "\n",
        "Following are built-in methods for a `set` object.\n",
        "\n",
        "|Method|Description|\n",
        "|:---|:---|\n",
        "|`set.add()`|Add an element to a set.|\n",
        "|`set.clear()`|Remove all elements from a set.|\n",
        "|`set.copy()`|Return a shallow copy of a set.|\n",
        "|`set.discard()`|Remove an element from a set if it is a member.|\n",
        "|`set.pop()`|Remove and return an arbitrary set element.|\n",
        "|`set.remove()`|Remove an element from a set; it must be a member.|\n",
        "\n"
      ],
      "metadata": {
        "id": "tyzuPC5W7YNX"
      }
    },
    {
      "cell_type": "markdown",
      "source": [
        "# Functions\n",
        "\n",
        "The following are functions that take a `set` as argument.\n",
        "\n",
        "|Function|Description|\n",
        "|:---|:---|\n",
        "|`all()`|Returns True if all elements in the set are True or if the set is empty.|\n",
        "|`any()`|Returns True if any element in the set is True. If the set is empty, returns False.|\n",
        "|`enumerate()`|Returns an enumerate object that contains the index and value of all elements in the set in pairs.|\n",
        "|`len()`|Returns the number of elements in the set.|\n",
        "|`max()`|Returns the greatest element in the set.|\n",
        "|`min()`|Returns the smallest element in the set.|\n",
        "|`sorted()`|Returns a list object sorted by the elements of the set (does not sort the set itself).|\n",
        "|`sum()`|Returns the sum of all elements in the set.|\n",
        "\n",
        "**Example**"
      ],
      "metadata": {
        "id": "A2bt_sgo8Gk5"
      }
    },
    {
      "cell_type": "code",
      "source": [
        "s = {2, 3, 5, 7}\n",
        "\n",
        "e = enumerate(s)\n",
        "\n",
        "print(type(e))\n",
        "\n",
        "# print the tuples in enumerate object\n",
        "for elem in e:\n",
        "    print(elem)"
      ],
      "metadata": {
        "colab": {
          "base_uri": "https://localhost:8080/"
        },
        "id": "j8B_ECDV8t_x",
        "outputId": "db11491d-7dac-44bf-cbec-4169858a12a0"
      },
      "execution_count": null,
      "outputs": [
        {
          "output_type": "stream",
          "name": "stdout",
          "text": [
            "<class 'enumerate'>\n",
            "(0, 2)\n",
            "(1, 3)\n",
            "(2, 5)\n",
            "(3, 7)\n"
          ]
        }
      ]
    }
  ]
}