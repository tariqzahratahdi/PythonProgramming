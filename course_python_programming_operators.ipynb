{
  "nbformat": 4,
  "nbformat_minor": 0,
  "metadata": {
    "colab": {
      "provenance": [],
      "authorship_tag": "ABX9TyN7379T6L3CTERffScrwnGZ",
      "include_colab_link": true
    },
    "kernelspec": {
      "name": "python3",
      "display_name": "Python 3"
    },
    "language_info": {
      "name": "python"
    }
  },
  "cells": [
    {
      "cell_type": "markdown",
      "metadata": {
        "id": "view-in-github",
        "colab_type": "text"
      },
      "source": [
        "<a href=\"https://colab.research.google.com/github/tariqzahratahdi/PythonProgramming/blob/main/course_python_programming_operators.ipynb\" target=\"_parent\"><img src=\"https://colab.research.google.com/assets/colab-badge.svg\" alt=\"Open In Colab\"/></a>"
      ]
    },
    {
      "cell_type": "markdown",
      "source": [
        "# Operators\n",
        "\n",
        "# Arithmetic Operators\n",
        "\n",
        "Arithmetic operators are used to perform common mathematical operations, such as addition, subtraction, multiplication, division, etc.\n",
        "\n",
        "The *operands* can be numeric values ​​or variables.\n",
        "\n",
        "The result of an operation must always be assigned to a variable.\n",
        "\n",
        "|Operator|Name|Example|\n",
        "|:---|:---|:---|\n",
        "|`+`|Addition|`c = a + b`|\n",
        "|`-`|Subtraction|`c = a - b`|\n",
        "|`*`|Multiplication|`c = a * b`|\n",
        "|`/`|Division|`c = a / b`|\n",
        "|`//`|Integer division (quotient)|`c = a // b`|\n",
        "|`%`|Modulo (remainder)|`c = a % b`|\n",
        "|`**`|Exponentiation|`c = a ** b`|\n",
        "\n",
        "**Example**"
      ],
      "metadata": {
        "id": "nzz0tnVjVnb1"
      }
    },
    {
      "cell_type": "code",
      "source": [
        "print(17 // 3)\n",
        "\n",
        "print(17 % 3)\n",
        "\n",
        "print(2 ** 3)\n",
        "\n",
        "print(2 ** 0.5)   # square root"
      ],
      "metadata": {
        "colab": {
          "base_uri": "https://localhost:8080/"
        },
        "id": "wJDQd5whbXhl",
        "outputId": "8c274911-2e71-46cc-eb6b-91b2a8a6d5df"
      },
      "execution_count": null,
      "outputs": [
        {
          "output_type": "stream",
          "name": "stdout",
          "text": [
            "5\n",
            "2\n",
            "8\n",
            "1.4142135623730951\n"
          ]
        }
      ]
    },
    {
      "cell_type": "markdown",
      "source": [
        "# Comparison Operators\n",
        "\n",
        "A comparison operator compares two values ​​and returns a boolean value as the result.\n",
        "\n",
        "In the following table, we assume that the value of variable `a` is `10` and the value of variable `b` is `20`.\n",
        "\n",
        "|Operator|Name|Example|Result|\n",
        "|:---|:---|:---|:---|\n",
        "|`==`|Equal|`a = b`|False|\n",
        "|`!=`|Not equal|`a != b`|True|\n",
        "|`>`|Greater|`a > b`|False|\n",
        "|`<`|Lower|`a < b`|True|\n",
        "|`=`|Greater or equal|`a >= b`|False|\n",
        "|`<=`|Lower or equal|`a <= b`|True|\n",
        "\n",
        "**Example**"
      ],
      "metadata": {
        "id": "Giat9gt1X3Bj"
      }
    },
    {
      "cell_type": "code",
      "execution_count": null,
      "metadata": {
        "colab": {
          "base_uri": "https://localhost:8080/"
        },
        "id": "fCqSo1WLVmHF",
        "outputId": "e6fd00e9-5342-4adf-9212-ca3d69322f2d"
      },
      "outputs": [
        {
          "output_type": "stream",
          "name": "stdout",
          "text": [
            "False\n",
            "True\n"
          ]
        }
      ],
      "source": [
        "print(1 == 2)\n",
        "\n",
        "print(1 < 2)"
      ]
    },
    {
      "cell_type": "markdown",
      "source": [
        "# Assignment Operators\n",
        "\n",
        "|Operator|Example|Same as|\n",
        "|:---|:---|:---|\n",
        "|`=`|`a = 12`||\n",
        "|`+=`|`a += 5`|`a = a + 5`|\n",
        "|`-=`|`a -= 5`|`a = a - 5`|\n",
        "|`*=`|`a *= 2`|`a = a * 2`|\n",
        "|`/=`|`a /= 5`|`a = a / 5`|\n",
        "|`//=`|`a //= 5`|`a = a // 5`|\n",
        "|`%=`|`a %= 5`|`a = a % 5`|\n",
        "|`**=`|`a **= 2`|`a = a ** 2`|"
      ],
      "metadata": {
        "id": "ewpaR_v0cn1V"
      }
    },
    {
      "cell_type": "code",
      "source": [
        "a = 12\n",
        "a += 5\n",
        "print(a)"
      ],
      "metadata": {
        "colab": {
          "base_uri": "https://localhost:8080/"
        },
        "id": "SExOMH2Deflj",
        "outputId": "85145513-32d1-43cd-9561-ee5026442c2a"
      },
      "execution_count": null,
      "outputs": [
        {
          "output_type": "stream",
          "name": "stdout",
          "text": [
            "17\n"
          ]
        }
      ]
    },
    {
      "cell_type": "markdown",
      "source": [
        "# Logical Operators\n",
        "\n",
        "Logical operators operate on boolean values.\n",
        "\n",
        "|Operator|Name|Example|\n",
        "|:---|:---|:---|\n",
        "|`not`|Logical NOT|`not a`|\n",
        "|`and`|Logical AND|`a and b`|\n",
        "|`or`|Logical OR|`a or b`|\n",
        "\n",
        "**Example**"
      ],
      "metadata": {
        "id": "f7wZFyWH3gsv"
      }
    },
    {
      "cell_type": "code",
      "source": [
        "a = True\n",
        "b = False\n",
        "print(not a)\n",
        "print(a and b)\n",
        "print(a or b)"
      ],
      "metadata": {
        "colab": {
          "base_uri": "https://localhost:8080/"
        },
        "id": "E4PgCo2J4ikY",
        "outputId": "5089289f-9ce7-4557-db51-bdd7cc62201c"
      },
      "execution_count": null,
      "outputs": [
        {
          "output_type": "stream",
          "name": "stdout",
          "text": [
            "False\n",
            "False\n",
            "True\n"
          ]
        }
      ]
    },
    {
      "cell_type": "markdown",
      "source": [
        "# Membership Operators\n",
        "\n",
        "A membership operator tests whether a value belongs to a sequence, such as a string, list, or tuple.\n",
        "\n",
        "|Operator|Result|Example|\n",
        "|:---|:---|:---|\n",
        "|`in`|Returns True if it finds the searched value in the specified sequence, and False otherwise.|`v in s`|\n",
        "|`not in`|Returns True if it do not find the searched value in the specified sequence, and False otherwise.|`v not in s`|\n",
        "\n",
        "**Example**\n",
        "\n"
      ],
      "metadata": {
        "id": "IChBVqIe5E6j"
      }
    },
    {
      "cell_type": "code",
      "source": [
        "s = [2, 3, 5, 7]\n",
        "v = 5\n",
        "print(v in s)"
      ],
      "metadata": {
        "colab": {
          "base_uri": "https://localhost:8080/"
        },
        "id": "QfeuI3816fMh",
        "outputId": "c7c1c6c2-8cf5-4af5-ca0d-919246c49643"
      },
      "execution_count": null,
      "outputs": [
        {
          "output_type": "stream",
          "name": "stdout",
          "text": [
            "True\n"
          ]
        }
      ]
    },
    {
      "cell_type": "markdown",
      "source": [
        "# Identity Operators\n",
        "\n",
        "An identity operator tests whether two variables reference the same object.\n",
        "\n",
        "|Operator|Result|Example|\n",
        "|:---|:---|:---|\n",
        "|`is`|Returns True if both variables are references to the same object, and False otherwise.|`a is b`|\n",
        "|`is not`|Returns True if it do not find the searched value in the specified sequence, and False otherwise.|`a is not b`|\n",
        "\n",
        "**Example**"
      ],
      "metadata": {
        "id": "Vg28XeKE60KI"
      }
    },
    {
      "cell_type": "code",
      "source": [
        "a = 256\n",
        "b = 256\n",
        "print(id(a))\n",
        "print(id(b))\n",
        "print(a is b)"
      ],
      "metadata": {
        "colab": {
          "base_uri": "https://localhost:8080/"
        },
        "id": "WXs86-qF7VQQ",
        "outputId": "1eee02fd-93e1-44bf-cd8b-c5441af29112"
      },
      "execution_count": null,
      "outputs": [
        {
          "output_type": "stream",
          "name": "stdout",
          "text": [
            "10759016\n",
            "10759016\n",
            "True\n"
          ]
        }
      ]
    },
    {
      "cell_type": "markdown",
      "source": [
        "# Operator Precedence\n",
        "\n",
        "The following table lists the operators according to their precedence in descending order.\n",
        "\n",
        "|Precedence|Operator|Name|\n",
        "|:---|:---|:---|\n",
        "|1|`**`|Exponentiation|\n",
        "|2|`~ + -`|unary operators: complement (bitwise not), positive, negative|\n",
        "|3|`* / % //`|Multiplication, division, modulo, integer division|\n",
        "|4|`+ -`|Addition, subtraction|\n",
        "|5|`<= < > >=`|Comparison operators|\n",
        "|6|`<> == !=`|Equality operators|\n",
        "|7|`= %= /= //= -= += *= **=`|Assignment operators|\n",
        "|8|`is is not`|Identity operators|\n",
        "|9|`in not in`|Membership operators|\n",
        "|10|`not or and`|Logical operators|\n"
      ],
      "metadata": {
        "id": "uSvDcKtr8JYH"
      }
    }
  ]
}