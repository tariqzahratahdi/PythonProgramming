{
  "nbformat": 4,
  "nbformat_minor": 0,
  "metadata": {
    "colab": {
      "provenance": [],
      "authorship_tag": "ABX9TyPPuhD3qKTtGIMDD4NnTw9S"
    },
    "kernelspec": {
      "name": "python3",
      "display_name": "Python 3"
    },
    "language_info": {
      "name": "python"
    }
  },
  "cells": [
    {
      "cell_type": "markdown",
      "source": [
        "# **Functions**\n",
        "\n",
        "# Function\n",
        "\n",
        "A function is a named subprogram (subroutine) that can be called within the program to trigger the execution of the sequence of instructions that make up the body of the function.\n",
        "\n",
        "Values can be passed to a function by declaring *parameters* in its definition.\n",
        "\n",
        "The values passed to the function, called *arguments*, will be assigned to these parameters.\n",
        "\n",
        "A function can *return* a result to the calling program."
      ],
      "metadata": {
        "id": "1SFO9Hep-21C"
      }
    },
    {
      "cell_type": "markdown",
      "source": [
        "# Types of Python Functions\n",
        "\n",
        "Python provides the following types of functions:\n",
        "\n",
        "* Built-in functions.\n",
        "* Functions defined in built-in modules.\n",
        "* User-defined functions."
      ],
      "metadata": {
        "id": "UOjDVDzj_RUN"
      }
    },
    {
      "cell_type": "markdown",
      "source": [
        "# Defining a Python Function\n",
        "\n",
        "*Syntax*\n",
        "\n",
        "<blockquote>\n",
        "<font size=\"3\">\n",
        "<pre>\n",
        "<font color=\"#0000ff\">def</font> <font color=\"#795e26\">functionname</font>(<font color=\"#001080\">parameters</font>) :\n",
        "   <font color=\"#116644\"><i># function body</i></font>\n",
        "   statements\n",
        "   <font color=\"#af00db\">return</font> expression\n",
        "</pre>\n",
        "</font>\n",
        "</blockquote>\n",
        "\n",
        "The **`return`** statement is used to return a result to the calling program.\n",
        "\n",
        "**Example**: write a function that returns a random integer between 0 and 100.\n",
        "\n",
        "We will use the `random()` method which returns a random floating number between 0 and 1. This method is defined in the `random` module.\n",
        "\n"
      ],
      "metadata": {
        "id": "f9AG_gPL_kN7"
      }
    },
    {
      "cell_type": "code",
      "execution_count": null,
      "metadata": {
        "colab": {
          "base_uri": "https://localhost:8080/"
        },
        "id": "eZvR9oQu-zhR",
        "outputId": "114d5095-804c-4fcb-f7a5-59a0bd8fd574"
      },
      "outputs": [
        {
          "output_type": "stream",
          "name": "stdout",
          "text": [
            "62\n"
          ]
        }
      ],
      "source": [
        "# Import random module\n",
        "import random\n",
        "\n",
        "# Function definition\n",
        "def random_int() :\n",
        "  return int(100 * random.random())\n",
        "\n",
        "# Function call\n",
        "print(random_int())"
      ]
    },
    {
      "cell_type": "markdown",
      "source": [
        "# Function with parameters\n",
        "\n",
        "To pass values ​​to a function, we declare *formal parameters* in the function definition.\n",
        "\n",
        "The values ​​passed to the function, called *arguments* or *actual parameters*, will be assigned to these formal parameters.\n",
        "\n",
        "**Example**: write a function that returns a random integer between 0 and a given integer value."
      ],
      "metadata": {
        "id": "5RBGgu7xC3Bn"
      }
    },
    {
      "cell_type": "code",
      "source": [
        "# Function definition with one parameter\n",
        "def random_int(n) :\n",
        "  return int(n * random.random())\n",
        "\n",
        "# Function call with an argument\n",
        "print(random_int(50))"
      ],
      "metadata": {
        "colab": {
          "base_uri": "https://localhost:8080/"
        },
        "id": "g1W2e6I1DLGt",
        "outputId": "897eb185-5c10-4081-f498-89e0fb532e6e"
      },
      "execution_count": null,
      "outputs": [
        {
          "output_type": "stream",
          "name": "stdout",
          "text": [
            "47\n"
          ]
        }
      ]
    },
    {
      "cell_type": "markdown",
      "source": [
        "# Default Argument\n",
        "\n",
        "A default value can be assigned to an argument passed to a function.\n",
        "\n",
        "**Example**"
      ],
      "metadata": {
        "id": "uHt_M24tDirE"
      }
    },
    {
      "cell_type": "code",
      "source": [
        "import random\n",
        "\n",
        "# Function definition with one parameter\n",
        "def random_int(n = 100) :\n",
        "  return int(n * random.random())\n",
        "\n",
        "# Function call with an argument\n",
        "print(random_int())\n",
        "print(random_int(50))"
      ],
      "metadata": {
        "colab": {
          "base_uri": "https://localhost:8080/"
        },
        "id": "6TyXMV4MDnsP",
        "outputId": "f188324a-9206-4df1-846a-c17f105944e7"
      },
      "execution_count": null,
      "outputs": [
        {
          "output_type": "stream",
          "name": "stdout",
          "text": [
            "71\n",
            "22\n"
          ]
        }
      ]
    },
    {
      "cell_type": "markdown",
      "source": [
        "# Keyword Arguments\n",
        "\n",
        "With a keyword argument, the argument is assigned based on the *name* of the formal parameter.\n",
        "\n",
        "This allows you to skip arguments or place them out of order.\n",
        "\n",
        "In this case, the position of the arguments does not matter.\n",
        "\n",
        "**Example**: write a function that returns a random integer between two given values."
      ],
      "metadata": {
        "id": "yAL-5EssD-nh"
      }
    },
    {
      "cell_type": "code",
      "source": [
        "import random\n",
        "\n",
        "# Function definition\n",
        "def random_int(min, max) :\n",
        "  return int(min + (max - min) * random.random())\n",
        "\n",
        "# Function call\n",
        "print(random_int(max = 20, min = 10))"
      ],
      "metadata": {
        "colab": {
          "base_uri": "https://localhost:8080/"
        },
        "id": "vWadRtWbEG7R",
        "outputId": "211f475e-23de-4a53-aab9-cfebedf7a8f5"
      },
      "execution_count": null,
      "outputs": [
        {
          "output_type": "stream",
          "name": "stdout",
          "text": [
            "13\n"
          ]
        }
      ]
    },
    {
      "cell_type": "markdown",
      "source": [
        "# Arbitrary Arguments\n",
        "\n",
        "Sometimes, we do not know in advance the number of arguments that will be passed to a function.\n",
        "\n",
        "To handle this kind of situation, we use *arbitrary arguments*.\n",
        "\n",
        "Arbitrary arguments allow us to pass a variable number of values ​​during a function call.\n",
        "\n",
        "We use an asterisk ( `*` ) before the name of the formal parameter to designate this type of argument.\n",
        "\n",
        "The sequence of arbitrary arguments passed to a function is considered a `tuple`, and thus we can iterate over its elements in a for loop.\n",
        "\n",
        "**Example**: writing a function that returns the mean (average) of several values."
      ],
      "metadata": {
        "id": "Z0GhVlo8EnN2"
      }
    },
    {
      "cell_type": "code",
      "source": [
        "# Function definition\n",
        "def mean(*numbers) :\n",
        "   result = 0\n",
        "   for num in numbers :\n",
        "      result += num / len(numbers)\n",
        "   return result\n",
        "\n",
        "# Function call with 4 arguments\n",
        "print(mean(1, 2, 3, 4))"
      ],
      "metadata": {
        "colab": {
          "base_uri": "https://localhost:8080/"
        },
        "id": "GEV6YyQwE0ik",
        "outputId": "c7aadf75-2ebc-4a34-93a1-8756f2954bea"
      },
      "execution_count": null,
      "outputs": [
        {
          "output_type": "stream",
          "name": "stdout",
          "text": [
            "2.5\n"
          ]
        }
      ]
    },
    {
      "cell_type": "markdown",
      "source": [
        "# Scope of a Variable\n",
        "\n",
        "A variable declared in the body of a function is called a **local** variable.\n",
        "\n",
        "Such a variable exists only during the execution of this function, and is only used by this function.\n",
        "\n",
        "The main program does not have access to a local variable of a function.\n",
        "\n",
        "A function does not have access to a local variable of another function.\n",
        "\n",
        "A variable declared in the main program is called a **global** variable. It exists during the entire execution of the program and is accessible everywhere.\n",
        "\n",
        "A variable local to a function and having the same name as a global variable, hides the global variable during the execution of this function.\n",
        "\n",
        "A **`nonlocal`** variable is used in nested functions.\n",
        "\n",
        "Its local scope is not defined. This means that the variable can be neither in the local scope nor in the global scope.\n",
        "\n",
        "Example: nonlocal variable."
      ],
      "metadata": {
        "id": "vgR7ifIVFW6K"
      }
    },
    {
      "cell_type": "code",
      "source": [
        "# parent function\n",
        "def outer():\n",
        "   message = 'local'\n",
        "   # nested function\n",
        "   def inner():\n",
        "      # declare nonlocal variable\n",
        "      nonlocal message\n",
        "      message = 'nonlocal'\n",
        "      print ('inner: ', message)\n",
        "   # call of nested function inside parent function\n",
        "   inner()\n",
        "   print ('outer: ', message)\n",
        "\n",
        "# call parent function\n",
        "outer()"
      ],
      "metadata": {
        "colab": {
          "base_uri": "https://localhost:8080/"
        },
        "id": "XR7KZB2cFp0E",
        "outputId": "8dc05613-1f55-4e40-e809-f6e6c28ff4d7"
      },
      "execution_count": null,
      "outputs": [
        {
          "output_type": "stream",
          "name": "stdout",
          "text": [
            "inner:  nonlocal\n",
            "outer:  nonlocal\n"
          ]
        }
      ]
    },
    {
      "cell_type": "markdown",
      "source": [
        "The `nonlocal` variable named message in the `inner()` function has the same name as a local variable in the `outer()` function.\n",
        "\n",
        "If the value of the `nonlocal` variable changes, then that change affects the local variable.\n",
        "\n"
      ],
      "metadata": {
        "id": "WVvXLc3uGJM-"
      }
    },
    {
      "cell_type": "markdown",
      "source": [
        "# Parameter Passing\n",
        "\n",
        "Parameter passing (or parameter transmission) refers to the mechanism by which arguments (actual parameters) are assigned to the formal parameters of a function when the function is called.\n",
        "\n",
        "A parameter is transmitted either by **value** or by **reference**.\n",
        "\n",
        "The behavior of the function depends on the `non-mutable` or `mutable` nature of the variable passed as an argument to the function.\n",
        "\n",
        "|Mutable variables|Non-mutable variables|\n",
        "|:---|:---|\n",
        "|list|Numbers|\n",
        "|dict|tuple|\n",
        "|set|str|\n",
        "\n",
        "We can add elements to a variable of type `list`, `dict` or `set`.\n",
        "\n",
        "Thus, the length of the variable changes, and the variable is said to be mutable.\n",
        "\n",
        "## Pass by Value\n",
        "\n",
        "The function uses parameter passing by value when the variable passed as an argument is immutable, for example a numeric variable.\n",
        "\n",
        "In the function call statement, the argument is a value, variable, or expression that is evaluated at the time the function is called.\n",
        "\n",
        "When a numeric variable is passed as an argument and the function then changes the value of the formal argument, it actually creates a new variable in memory, leaving the original variable unchanged.\n",
        "\n",
        "**Example**"
      ],
      "metadata": {
        "id": "1BMA24DTGYF7"
      }
    },
    {
      "cell_type": "code",
      "source": [
        "def func(arg) :\n",
        "   arg = arg + 1\n",
        "   print('arg inside: ', arg)\n",
        "\n",
        "var = 10\n",
        "func(var)\n",
        "print('var: ', var)"
      ],
      "metadata": {
        "colab": {
          "base_uri": "https://localhost:8080/"
        },
        "id": "CJEKeAw6HqDn",
        "outputId": "2fc65689-b7dd-4b9c-e900-1dfb5b776c21"
      },
      "execution_count": null,
      "outputs": [
        {
          "output_type": "stream",
          "name": "stdout",
          "text": [
            "arg inside:  11\n",
            "var:  10\n"
          ]
        }
      ]
    },
    {
      "cell_type": "markdown",
      "source": [
        "## Pass by Reference\n",
        "\n",
        "The function uses parameter passing by reference when the variable passed as an argument is mutable, for example a variable of type `list`.\n",
        "\n",
        "In the function call statement, the argument is a variable whose value is likely to be modified by the function.\n",
        "\n",
        "When a variable of type `list` is passed as an argument and the function then modifies the value of the formal parameter, this change is reflected in this variable.\n",
        "\n",
        "Example: append an element to a list."
      ],
      "metadata": {
        "id": "AxqeOuZMH88h"
      }
    },
    {
      "cell_type": "code",
      "source": [
        "def append_to(num, target=[]):\n",
        "   target += [num]\n",
        "   return target\n",
        "\n",
        "data = [1, 2, 3]\n",
        "append_to(4, data)\n",
        "print(data)"
      ],
      "metadata": {
        "colab": {
          "base_uri": "https://localhost:8080/"
        },
        "id": "PfF3E71CI6cg",
        "outputId": "3fdb1b59-9f5b-4080-c84d-0100490dea9f"
      },
      "execution_count": null,
      "outputs": [
        {
          "output_type": "stream",
          "name": "stdout",
          "text": [
            "[1, 2, 3, 4]\n"
          ]
        }
      ]
    },
    {
      "cell_type": "markdown",
      "source": [
        "# Examples\n",
        "\n",
        "**Example**: write a function that returns the Fibonacci sequence."
      ],
      "metadata": {
        "id": "vUmV1CbJLHVo"
      }
    },
    {
      "cell_type": "code",
      "source": [
        "def fibonacci(n) :\n",
        "  if n == 0 :\n",
        "    s = [1]\n",
        "  elif n == 1 :\n",
        "    s = [1, 1]\n",
        "  else :\n",
        "    f0, f1 = 1, 1\n",
        "    s = [1, 1]\n",
        "    for k in range(2, n+1) :\n",
        "      f0, f1 = f1, f0 + f1\n",
        "      s += [f1]\n",
        "  return s\n",
        "\n",
        "# Function call\n",
        "print(fibonacci(20))"
      ],
      "metadata": {
        "colab": {
          "base_uri": "https://localhost:8080/"
        },
        "id": "YB1KkDaISChn",
        "outputId": "dcebf5c6-0bae-41bb-8538-43d2f6a1fb97"
      },
      "execution_count": null,
      "outputs": [
        {
          "output_type": "stream",
          "name": "stdout",
          "text": [
            "[1, 1, 2, 3, 5, 8, 13, 21, 34, 55, 89, 144, 233, 377, 610, 987, 1597, 2584, 4181, 6765, 10946]\n"
          ]
        }
      ]
    },
    {
      "cell_type": "markdown",
      "source": [
        "**Example**: write a function that returns the sequence of prime numbers."
      ],
      "metadata": {
        "id": "frejflrIhwPJ"
      }
    },
    {
      "cell_type": "code",
      "source": [
        "def primes_sequence(n) :\n",
        "\n",
        "  sieve = []\n",
        "  for i in range(n+1) :\n",
        "    sieve += [True]\n",
        "\n",
        "  p = 2\n",
        "  while (p * p <= n) :\n",
        "    if (sieve[p]) :\n",
        "      for i in range(p * p, n+1, p) :\n",
        "          sieve[i] = False\n",
        "    p += 1\n",
        "\n",
        "  primes = []\n",
        "  for p in range(2, n+1) :\n",
        "    if sieve[p] :\n",
        "      primes += [p]\n",
        "  return primes\n",
        "\n",
        "# calling function\n",
        "print(primes_sequence(120))"
      ],
      "metadata": {
        "colab": {
          "base_uri": "https://localhost:8080/"
        },
        "id": "P_GDLVdDh423",
        "outputId": "931b29f6-5764-401b-8cd9-18bc3c1fda84"
      },
      "execution_count": null,
      "outputs": [
        {
          "output_type": "stream",
          "name": "stdout",
          "text": [
            "[2, 3, 5, 7, 11, 13, 17, 19, 23, 29, 31, 37, 41, 43, 47, 53, 59, 61, 67, 71, 73, 79, 83, 89, 97, 101, 103, 107, 109, 113]\n"
          ]
        }
      ]
    }
  ]
}