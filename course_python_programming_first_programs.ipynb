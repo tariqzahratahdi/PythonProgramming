{
  "nbformat": 4,
  "nbformat_minor": 0,
  "metadata": {
    "colab": {
      "provenance": [],
      "authorship_tag": "ABX9TyMYE6Ye/eqfy4uau/Bg1ETk",
      "include_colab_link": true
    },
    "kernelspec": {
      "name": "python3",
      "display_name": "Python 3"
    },
    "language_info": {
      "name": "python"
    }
  },
  "cells": [
    {
      "cell_type": "markdown",
      "metadata": {
        "id": "view-in-github",
        "colab_type": "text"
      },
      "source": [
        "<a href=\"https://colab.research.google.com/github/tariqzahratahdi/PythonProgramming/blob/main/course_python_programming_first_programs.ipynb\" target=\"_parent\"><img src=\"https://colab.research.google.com/assets/colab-badge.svg\" alt=\"Open In Colab\"/></a>"
      ]
    },
    {
      "cell_type": "markdown",
      "source": [
        "# First Programs\n",
        "\n",
        "**Example**\n",
        "\n",
        "Read the values ​​of two integer variables and then calculate and display the values ​​of the quotient and remainder of their integer division."
      ],
      "metadata": {
        "id": "jy_uAi4vbmDJ"
      }
    },
    {
      "cell_type": "code",
      "execution_count": null,
      "metadata": {
        "colab": {
          "base_uri": "https://localhost:8080/"
        },
        "id": "mRYSFM44bhG-",
        "outputId": "311507bc-4b8d-4198-a48b-cd5ce1a0e515"
      },
      "outputs": [
        {
          "output_type": "stream",
          "name": "stdout",
          "text": [
            "Integer division of two integers a and b\n",
            "Enter value of a : 17\n",
            "Enter value of b : 2\n",
            "quotient :  8\n",
            "remainder :  1\n"
          ]
        }
      ],
      "source": [
        "print('Integer division of two integers a and b')\n",
        "a = int(input('Enter value of a : '))\n",
        "b = int(input('Enter value of b : '))\n",
        "q = a // b\n",
        "r = a % b\n",
        "print('quotient : ', q)\n",
        "print('remainder : ', r)"
      ]
    },
    {
      "cell_type": "markdown",
      "source": [
        "**Example**\n",
        "\n",
        "Read the value of the radius of a circle then calculate and display the value of its area."
      ],
      "metadata": {
        "id": "aZt6ZtbhcAAn"
      }
    },
    {
      "cell_type": "code",
      "source": [
        "print('Calculate circle area')\n",
        "r = float(input('Enter value of radius: '))\n",
        "s = 3.14 * r * r\n",
        "print(f'area: {s:.2f}')"
      ],
      "metadata": {
        "colab": {
          "base_uri": "https://localhost:8080/"
        },
        "id": "XdLG6wtzcMnT",
        "outputId": "2891b0ed-9fb1-4805-8f9d-9313234a400b"
      },
      "execution_count": null,
      "outputs": [
        {
          "output_type": "stream",
          "name": "stdout",
          "text": [
            "Calculate circle area\n",
            "Enter value of radius: 3\n",
            "area: 28.26\n"
          ]
        }
      ]
    },
    {
      "cell_type": "markdown",
      "source": [
        "**Example**\n",
        "\n",
        "Read a character and then display its Unicode code."
      ],
      "metadata": {
        "id": "6Uy8j0wWchlb"
      }
    },
    {
      "cell_type": "code",
      "source": [
        "print('Print Unicode code of a character')\n",
        "c = input('Enter a character: ')\n",
        "u = ord(c)\n",
        "print('code: ', u)\n",
        "print(type(u))"
      ],
      "metadata": {
        "colab": {
          "base_uri": "https://localhost:8080/"
        },
        "id": "O7cyHriAcn5V",
        "outputId": "71907214-f468-4ebf-a0ea-a094188e30ee"
      },
      "execution_count": null,
      "outputs": [
        {
          "output_type": "stream",
          "name": "stdout",
          "text": [
            "Print Unicode code of a character\n",
            "Enter a character: A\n",
            "code:  65\n",
            "<class 'int'>\n"
          ]
        }
      ]
    },
    {
      "cell_type": "markdown",
      "source": [
        "**Example**\n",
        "\n",
        "Read a Unicode code and then display the corresponding character."
      ],
      "metadata": {
        "id": "32Q7bEQ8cynk"
      }
    },
    {
      "cell_type": "code",
      "source": [
        "print('Print character corresponding to Unicode code')\n",
        "n = int(input('Enter a Unicode code: '))\n",
        "c = chr(n)\n",
        "print('character: ', c)\n",
        "print(type(c))"
      ],
      "metadata": {
        "colab": {
          "base_uri": "https://localhost:8080/"
        },
        "id": "U2uXxvDoc305",
        "outputId": "9504c4c1-8f81-4908-f751-cd91f7eafe23"
      },
      "execution_count": null,
      "outputs": [
        {
          "output_type": "stream",
          "name": "stdout",
          "text": [
            "Print character corresponding to Unicode code\n",
            "Enter a Unicode code: 65\n",
            "character:  A\n",
            "<class 'str'>\n"
          ]
        }
      ]
    },
    {
      "cell_type": "markdown",
      "source": [
        "**Example**\n",
        "\n",
        "Using logical operators."
      ],
      "metadata": {
        "id": "JRwWxrNAdGQ2"
      }
    },
    {
      "cell_type": "code",
      "source": [
        "n = int(input('Enter an integer: '))\n",
        "b = (n % 2) == 0    # boolean expression\n",
        "print(f'{n} even?: {b}')\n",
        "c = (n % 3) == 0\n",
        "d = (not b) and c\n",
        "print(f'{n} is odd and multiple of 3?: {d}')"
      ],
      "metadata": {
        "colab": {
          "base_uri": "https://localhost:8080/"
        },
        "id": "qm0khtrddIop",
        "outputId": "28c22d72-abbb-4334-a180-a336901aa0ce"
      },
      "execution_count": null,
      "outputs": [
        {
          "output_type": "stream",
          "name": "stdout",
          "text": [
            "Enter an integer: 12\n",
            "12 even?: True\n",
            "12 is odd and multiple of 3?: False\n"
          ]
        }
      ]
    },
    {
      "cell_type": "markdown",
      "source": [
        "**Example**\n",
        "\n",
        "Calculate the modulus of a complex number.\n",
        "\n",
        "The `sqrt()` function from the `math` module returns the square root of a real number."
      ],
      "metadata": {
        "id": "qOCrcE2MeAwI"
      }
    },
    {
      "cell_type": "code",
      "source": [
        "import math\n",
        "z = 3 + 4j\n",
        "r = z.real\n",
        "i = z.imag\n",
        "m = math.sqrt(r * r + i * i)\n",
        "print(f'modulus: {m:.2f}')"
      ],
      "metadata": {
        "colab": {
          "base_uri": "https://localhost:8080/"
        },
        "id": "fxN7t9yoeUES",
        "outputId": "e83d697c-8a79-40d2-d03b-fc8878cc59ba"
      },
      "execution_count": null,
      "outputs": [
        {
          "output_type": "stream",
          "name": "stdout",
          "text": [
            "modulus: 5.00\n"
          ]
        }
      ]
    }
  ]
}