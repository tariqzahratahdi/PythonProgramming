{
  "nbformat": 4,
  "nbformat_minor": 0,
  "metadata": {
    "colab": {
      "provenance": [],
      "authorship_tag": "ABX9TyPGcFwH1LkkenEsfNWmIMEt",
      "include_colab_link": true
    },
    "kernelspec": {
      "name": "python3",
      "display_name": "Python 3"
    },
    "language_info": {
      "name": "python"
    }
  },
  "cells": [
    {
      "cell_type": "markdown",
      "metadata": {
        "id": "view-in-github",
        "colab_type": "text"
      },
      "source": [
        "<a href=\"https://colab.research.google.com/github/tariqzahratahdi/PythonProgramming/blob/main/course_python_programming_first_programs_fr.ipynb\" target=\"_parent\"><img src=\"https://colab.research.google.com/assets/colab-badge.svg\" alt=\"Open In Colab\"/></a>"
      ]
    },
    {
      "cell_type": "markdown",
      "source": [
        "# Premiers programmes\n",
        "\n",
        "**Exemple**\n",
        "\n",
        "Lire les valeurs de deux variables entières, puis calculer et afficher les valeurs du quotient et du reste de leur division entière."
      ],
      "metadata": {
        "id": "jy_uAi4vbmDJ"
      }
    },
    {
      "cell_type": "code",
      "execution_count": null,
      "metadata": {
        "colab": {
          "base_uri": "https://localhost:8080/"
        },
        "id": "mRYSFM44bhG-",
        "outputId": "740908a5-d326-40fa-8c4b-3e60bf840cf6"
      },
      "outputs": [
        {
          "output_type": "stream",
          "name": "stdout",
          "text": [
            "Integer division of two integers a and b\n",
            "Enter value of a : 17\n",
            "Enter value of b : 3\n",
            "quotient :  5\n",
            "remainder :  2\n"
          ]
        }
      ],
      "source": [
        "print('Integer division of two integers a and b')\n",
        "a = int(input('Enter value of a : '))\n",
        "b = int(input('Enter value of b : '))\n",
        "q = a // b\n",
        "r = a % b\n",
        "print('quotient : ', q)\n",
        "print('remainder : ', r)"
      ]
    },
    {
      "cell_type": "markdown",
      "source": [
        "**Exemple**\n",
        "\n",
        "Lire la valeur du rayon d'un cercle puis calculer et afficher la valeur de sa surface."
      ],
      "metadata": {
        "id": "aZt6ZtbhcAAn"
      }
    },
    {
      "cell_type": "code",
      "source": [
        "import math\n",
        "print('Calculate circle area')\n",
        "r = float(input('Enter value of radius: '))\n",
        "s = math.pi * r * r\n",
        "print(f'area: {s: .4f}')"
      ],
      "metadata": {
        "colab": {
          "base_uri": "https://localhost:8080/"
        },
        "id": "XdLG6wtzcMnT",
        "outputId": "be565332-44e7-45ea-ef21-831f16a82499"
      },
      "execution_count": null,
      "outputs": [
        {
          "output_type": "stream",
          "name": "stdout",
          "text": [
            "Calculate circle area\n",
            "Enter value of radius: 5\n",
            "area:  78.5398\n"
          ]
        }
      ]
    },
    {
      "cell_type": "markdown",
      "source": [
        "**Exemple**\n",
        "\n",
        "Lire un caractère puis afficher son code Unicode."
      ],
      "metadata": {
        "id": "6Uy8j0wWchlb"
      }
    },
    {
      "cell_type": "code",
      "source": [
        "print('Print Unicode code of a character')\n",
        "c = input('Enter a character: ')\n",
        "u = ord(c)\n",
        "print('code: ', u)\n",
        "print(type(u))"
      ],
      "metadata": {
        "colab": {
          "base_uri": "https://localhost:8080/"
        },
        "id": "O7cyHriAcn5V",
        "outputId": "eeacdae8-9d92-43c7-ed6e-7a819eb1f059"
      },
      "execution_count": null,
      "outputs": [
        {
          "output_type": "stream",
          "name": "stdout",
          "text": [
            "Print Unicode code of a character\n",
            "Enter a character: S\n",
            "code:  83\n",
            "<class 'int'>\n"
          ]
        }
      ]
    },
    {
      "cell_type": "markdown",
      "source": [
        "**Exemple**\n",
        "\n",
        "Lire un code Unicode, puis afficher le caractère correspondant."
      ],
      "metadata": {
        "id": "32Q7bEQ8cynk"
      }
    },
    {
      "cell_type": "code",
      "source": [
        "print('Print character corresponding to Unicode code')\n",
        "n = int(input('Enter a Unicode code: '))\n",
        "c = chr(n)\n",
        "print('character: ', c)\n",
        "print(type(c))"
      ],
      "metadata": {
        "colab": {
          "base_uri": "https://localhost:8080/"
        },
        "id": "U2uXxvDoc305",
        "outputId": "7b704e22-80e1-46b0-bc0b-67736cdea5db"
      },
      "execution_count": null,
      "outputs": [
        {
          "output_type": "stream",
          "name": "stdout",
          "text": [
            "Print character corresponding to Unicode code\n",
            "Enter a Unicode code: 64\n",
            "character:  @\n",
            "<class 'str'>\n"
          ]
        }
      ]
    },
    {
      "cell_type": "markdown",
      "source": [
        "**Exemple**\n",
        "\n",
        "Utilisation des opérateurs logiques."
      ],
      "metadata": {
        "id": "JRwWxrNAdGQ2"
      }
    },
    {
      "cell_type": "code",
      "source": [
        "n = int(input('Enter an integer: '))\n",
        "b = (n % 2) == 0    # boolean expression\n",
        "print(f'{n} even ?: {b}')\n",
        "c = (n % 3) == 0\n",
        "d = (not b) and c\n",
        "print(f'{n} is odd and multiple of 3 ?: {d}')"
      ],
      "metadata": {
        "colab": {
          "base_uri": "https://localhost:8080/"
        },
        "id": "qm0khtrddIop",
        "outputId": "3c9043ab-27ed-42e0-db8e-ffa9cae66ec6"
      },
      "execution_count": null,
      "outputs": [
        {
          "output_type": "stream",
          "name": "stdout",
          "text": [
            "Enter an integer: 9\n",
            "9 even ?: False\n",
            "9 is odd and multiple of 3 ?: True\n"
          ]
        }
      ]
    },
    {
      "cell_type": "markdown",
      "source": [
        "**Exemple**\n",
        "\n",
        "Calculer le module d'un nombre complexe.\n",
        "\n",
        "La fonction `sqrt()` du module `math` renvoie la racine carrée d'un nombre réel."
      ],
      "metadata": {
        "id": "qOCrcE2MeAwI"
      }
    },
    {
      "cell_type": "code",
      "source": [
        "import math\n",
        "z = 3 + 4j\n",
        "r = z.real\n",
        "i = z.imag\n",
        "m = math.sqrt(r * r + i * i)\n",
        "print(f'module: {m: .2f}')"
      ],
      "metadata": {
        "colab": {
          "base_uri": "https://localhost:8080/"
        },
        "id": "fxN7t9yoeUES",
        "outputId": "39a2b87e-9483-4a82-c109-724833d6aca9"
      },
      "execution_count": null,
      "outputs": [
        {
          "output_type": "stream",
          "name": "stdout",
          "text": [
            "module:  5.00\n"
          ]
        }
      ]
    }
  ]
}