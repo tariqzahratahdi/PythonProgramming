{
  "nbformat": 4,
  "nbformat_minor": 0,
  "metadata": {
    "colab": {
      "provenance": [],
      "authorship_tag": "ABX9TyM1Anp0A7eyJ3jYRY65CWyh",
      "include_colab_link": true
    },
    "kernelspec": {
      "name": "python3",
      "display_name": "Python 3"
    },
    "language_info": {
      "name": "python"
    }
  },
  "cells": [
    {
      "cell_type": "markdown",
      "metadata": {
        "id": "view-in-github",
        "colab_type": "text"
      },
      "source": [
        "<a href=\"https://colab.research.google.com/github/tariqzahratahdi/PythonProgramming/blob/main/course_python_programming_write_to_a_file.ipynb\" target=\"_parent\"><img src=\"https://colab.research.google.com/assets/colab-badge.svg\" alt=\"Open In Colab\"/></a>"
      ]
    },
    {
      "cell_type": "markdown",
      "source": [
        "# **Write to a File**\n",
        "\n",
        "# Write to a New File\n",
        "\n",
        "The **`write()`** method is used to write a string to a `file`.\n",
        "\n",
        "A string can contain binary data, not just text.\n",
        "\n",
        "The `write()` method does not add a newline character ( `\\n` ) to the end of the string.\n",
        "\n",
        "> *Syntax*\n",
        "<font size=\"5\">\n",
        "```python\n",
        "file_object.write(string)\n",
        "```\n",
        "</font>\n",
        "\n",
        "The argument passed to the `write()` method is the content that will be written to the `file`.\n",
        "\n",
        "**Example**"
      ],
      "metadata": {
        "id": "c04bdYkwVF6a"
      }
    },
    {
      "cell_type": "code",
      "execution_count": null,
      "metadata": {
        "id": "E7JePZjgVEB2"
      },
      "outputs": [],
      "source": [
        "# Open file\n",
        "f = open('tmp', 'w')\n",
        "data = \"\"\"Python is a powerful programming language.\n",
        "Some of its features are:\n",
        "effective approach to object-oriented programming,\n",
        "efficient high-level data structures,\n",
        "dynamic typing,\n",
        "elegant syntax,\n",
        "interpreted nature.\n",
        "\"\"\"\n",
        "\n",
        "# write data to file\n",
        "f.write(data)\n",
        "\n",
        "f.close()"
      ]
    },
    {
      "cell_type": "markdown",
      "source": [
        "Write to a New File in Binary Mode\n",
        "\n",
        "To handle files of various other types such as media (mp3), executables (exe), images (jpg), etc., the prefix **`b`** is added to the read or write mode.\n",
        "\n",
        "**Exampl**e: convert a `str` to `bytes` and write it to a file."
      ],
      "metadata": {
        "id": "35UOmSGcWrA4"
      }
    },
    {
      "cell_type": "code",
      "source": [
        "f = open('tmp', 'wb')\n",
        "data = b'Python programming'\n",
        "\n",
        "# write data to file\n",
        "f.write(data)\n",
        "\n",
        "f.close()"
      ],
      "metadata": {
        "id": "GSJ_4Trvb-wF"
      },
      "execution_count": null,
      "outputs": []
    },
    {
      "cell_type": "markdown",
      "source": [
        "We also use the **`encode()`** method to convert a `str` to `bytes`.\n",
        "\n",
        "**Example**"
      ],
      "metadata": {
        "id": "zzKbYdmEcWbo"
      }
    },
    {
      "cell_type": "code",
      "source": [
        "s = 'Python programming'\n",
        "data = s.encode('utf-8')\n",
        "print(type(data))"
      ],
      "metadata": {
        "colab": {
          "base_uri": "https://localhost:8080/"
        },
        "id": "Ogqso5GbcdSZ",
        "outputId": "ca093642-110b-475b-881f-f372da431055"
      },
      "execution_count": null,
      "outputs": [
        {
          "output_type": "stream",
          "name": "stdout",
          "text": [
            "<class 'bytes'>\n"
          ]
        }
      ]
    },
    {
      "cell_type": "markdown",
      "source": [
        "# Append to an Existing File\n",
        "\n",
        "To append data to a file, we open it in append mode **`a`**.\n",
        "\n",
        "> *Syntax*\n",
        "<font size=\"5\">\n",
        "```python\n",
        "file_object = open(file_name, 'a')\n",
        "```\n",
        "</font>\n",
        "\n",
        "**Example**\n"
      ],
      "metadata": {
        "id": "PEHAQaWbcqCg"
      }
    },
    {
      "cell_type": "code",
      "source": [
        "f = open('tmp', 'w')\n",
        "data = 'Python programming \\n'\n",
        "f.write(data)\n",
        "f.close()\n",
        "\n",
        "# open file in append mode\n",
        "f = open('tmp', 'a')\n",
        "\n",
        "data = 'Python is a powerful programming language.'\n",
        "f.write(data)\n",
        "f.close()"
      ],
      "metadata": {
        "id": "ORXHQL7LdDei"
      },
      "execution_count": null,
      "outputs": []
    },
    {
      "cell_type": "markdown",
      "source": [
        "# The Read-Write Mode\n",
        "\n",
        "When a file is opened for writing (with `w` or `a`), it is not possible to perform write operation at any earlier byte position in the file.\n",
        "\n",
        "The `w+` mode enables using `write()` as well as `read()` methods without closing a file.\n",
        "\n",
        "The `file` object supports **`seek()`** function to *rewind* the stream to any desired byte position.\n",
        "\n",
        "> *Syntax*\n",
        "<font size=\"5\">\n",
        "```python\n",
        "file_object.seek(offset[, whence])\n",
        "```\n",
        "</font>\n",
        "\n",
        "*Parameters*\n",
        "\n",
        "* `offset`: this is the position of the read/write pointer within the file.\n",
        "* `whence`: this is optional\n",
        "    * defaults to 0: means absolute file positioning.\n",
        "    * value 1: means seek relative to the current position.\n",
        "    * value 2: means seek relative to the file's end.\n",
        "\n",
        "**Example**"
      ],
      "metadata": {
        "id": "UmTDwGJodbOP"
      }
    },
    {
      "cell_type": "code",
      "source": [
        "# Open file in read-write mode\n",
        "f = open('tmp', 'w+')\n",
        "data = \"This is a dog race\"\n",
        "f.write(data)\n",
        "\n",
        "# rewind the stream\n",
        "f.seek(10,0)\n",
        "\n",
        "data = \"cat\"\n",
        "f.write(data)\n",
        "f.close()"
      ],
      "metadata": {
        "id": "PHqdb-diht9D"
      },
      "execution_count": null,
      "outputs": []
    }
  ]
}