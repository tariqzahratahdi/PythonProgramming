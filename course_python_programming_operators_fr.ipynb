{
  "nbformat": 4,
  "nbformat_minor": 0,
  "metadata": {
    "colab": {
      "provenance": [],
      "authorship_tag": "ABX9TyMkImCct1ZzRzI26Lq5NDm+",
      "include_colab_link": true
    },
    "kernelspec": {
      "name": "python3",
      "display_name": "Python 3"
    },
    "language_info": {
      "name": "python"
    }
  },
  "cells": [
    {
      "cell_type": "markdown",
      "metadata": {
        "id": "view-in-github",
        "colab_type": "text"
      },
      "source": [
        "<a href=\"https://colab.research.google.com/github/tariqzahratahdi/PythonProgramming/blob/main/course_python_programming_operators_fr.ipynb\" target=\"_parent\"><img src=\"https://colab.research.google.com/assets/colab-badge.svg\" alt=\"Open In Colab\"/></a>"
      ]
    },
    {
      "cell_type": "markdown",
      "source": [
        "# Opérateurs\n",
        "\n",
        "# Opérateurs arithmétiques\n",
        "\n",
        "Les opérateurs arithmétiques sont utilisés pour effectuer des opérations mathématiques courantes, telles que l'addition, la soustraction, la multiplication, la division, etc.\n",
        "\n",
        "Les *opérandes* peuvent être des valeurs ou des variables numériques.\n",
        "\n",
        "Le résultat d'une opération doit toujours être affecté à une variable.\n",
        "\n",
        "| Opérateur | Nom | Exemple |\n",
        "|: --- |: --- |: --- |\n",
        "| `+` | Addition | `c = a + b` |\n",
        "| `-` | Soustraction | `c = a - b` |\n",
        "| `*` | Multiplication | `c = a * b` |\n",
        "| `/` | Division | `c = a / b` |\n",
        "| `//` | Division entière (quotient) | `c = a // b` |\n",
        "| `%` | Modulo (reste) | `c = a % b` |\n",
        "| `**` | Exponentiation | `c = a ** b` |\n",
        "\n",
        "**Exemple**"
      ],
      "metadata": {
        "id": "nzz0tnVjVnb1"
      }
    },
    {
      "cell_type": "code",
      "source": [
        "print(17 // 3)\n",
        "\n",
        "print(17 % 3)\n",
        "\n",
        "print(2 ** 3)\n",
        "\n",
        "print(2 ** 0.5)   # racine carrée"
      ],
      "metadata": {
        "colab": {
          "base_uri": "https://localhost:8080/"
        },
        "id": "wJDQd5whbXhl",
        "outputId": "3556ea74-a244-4e85-c1d4-eb4e68ab2d5a"
      },
      "execution_count": null,
      "outputs": [
        {
          "output_type": "stream",
          "name": "stdout",
          "text": [
            "5\n",
            "2\n",
            "8\n",
            "1.4142135623730951\n"
          ]
        }
      ]
    },
    {
      "cell_type": "markdown",
      "source": [
        "# Opérateurs de comparaison\n",
        "\n",
        "Un opérateur de comparaison compare deux valeurs et renvoie une valeur booléenne comme résultat.\n",
        "\n",
        "Dans le tableau suivant, on suppose que la valeur de la variable `a` est  `10` et que la valeur de la variable `b` est `20`.\n",
        "\n",
        "| Opérateur | Nom | Exemple | Résultat |\n",
        "|: --- |: --- |: --- |: --- |\n",
        "| `==` | Egal | `a == b` | False |\n",
        "| `!=` | Différent | `a != b` | True |\n",
        "| `>` | Supérieur | `a > b` | False |\n",
        "| `<` | Inférieur | `a < b` | True |\n",
        "| `>=` | Supérieur ou égal | `a >= b` | False |\n",
        "| `<=` | Inférieur ou égal | `a <= b` | True |\n",
        "\n",
        "**Exemple**"
      ],
      "metadata": {
        "id": "Giat9gt1X3Bj"
      }
    },
    {
      "cell_type": "code",
      "execution_count": null,
      "metadata": {
        "colab": {
          "base_uri": "https://localhost:8080/"
        },
        "id": "fCqSo1WLVmHF",
        "outputId": "9a6d8cf5-a87f-4ad3-971f-6effeb2c304a"
      },
      "outputs": [
        {
          "output_type": "stream",
          "name": "stdout",
          "text": [
            "False\n",
            "True\n"
          ]
        }
      ],
      "source": [
        "print(1 == 2)\n",
        "\n",
        "print(1 < 2)"
      ]
    },
    {
      "cell_type": "markdown",
      "source": [
        "# Opérateurs d'affectation\n",
        "\n",
        "| Opérateur | Exemple | Identique à |\n",
        "|: --- |: --- |: --- |\n",
        "| `=` | `a = 12` ||\n",
        "| `+=` | `a += 5` | `a = a + 5` |\n",
        "| `-=` | `a -= 5` | `a = a - 5` |\n",
        "| `*=` | `a *= 2` | `a = a * 2` |\n",
        "| `/=` | `a /= 5` | `a = a / 5` |\n",
        "| `//=` | `a //= 5` |`a = a // 5` |\n",
        "| `%=` | `a %= 5` | `a = a % 5` |\n",
        "| `**=` | `a **= 2` | `a = a ** 2` |"
      ],
      "metadata": {
        "id": "ewpaR_v0cn1V"
      }
    },
    {
      "cell_type": "code",
      "source": [
        "a = 12\n",
        "a += 5\n",
        "print(a)"
      ],
      "metadata": {
        "colab": {
          "base_uri": "https://localhost:8080/"
        },
        "id": "SExOMH2Deflj",
        "outputId": "44428fc5-4c35-4144-e24a-7ebbc16b3e27"
      },
      "execution_count": null,
      "outputs": [
        {
          "output_type": "stream",
          "name": "stdout",
          "text": [
            "17\n"
          ]
        }
      ]
    },
    {
      "cell_type": "markdown",
      "source": [
        "# Opérateurs logiques\n",
        "\n",
        "Les opérateurs logiques opèrent sur des valeurs booléennes.\n",
        "\n",
        "| Opérateur | Nom | Exemple |\n",
        "|: --- |: --- |: --- |\n",
        "| `not` | NON logique | `not a` |\n",
        "| `and`| ET logique | `a and b` |\n",
        "| `or` | OU logique | `a or b` |\n",
        "\n",
        "**Exemple**"
      ],
      "metadata": {
        "id": "f7wZFyWH3gsv"
      }
    },
    {
      "cell_type": "code",
      "source": [
        "a = True\n",
        "b = False\n",
        "print(not a)\n",
        "print(a and b)\n",
        "print(a or b)"
      ],
      "metadata": {
        "colab": {
          "base_uri": "https://localhost:8080/"
        },
        "id": "E4PgCo2J4ikY",
        "outputId": "2ab75e3e-dadb-4bff-bc6b-0426f0072d1a"
      },
      "execution_count": null,
      "outputs": [
        {
          "output_type": "stream",
          "name": "stdout",
          "text": [
            "False\n",
            "False\n",
            "True\n"
          ]
        }
      ]
    },
    {
      "cell_type": "markdown",
      "source": [
        "# Opérateurs d'appartenance\n",
        "\n",
        "Un opérateur d'appartenance teste si une valeur appartient à une séquence, comme une chaîne, une liste ou un tuple.\n",
        "\n",
        "| Opérateur | Résultat | Exemple |\n",
        "|: --- |: --- |: --- |\n",
        "| `in` | Renvoie `True` s'il trouve la valeur recherchée dans la séquence spécifiée, et `False` sinon. | `v in s` |\n",
        "| `not in` | Renvoie `True` s'il ne trouve pas la valeur recherchée dans la séquence spécifiée, et `False` sinon. | `v not in s` |\n",
        "\n",
        "**Exemple**\n",
        "\n"
      ],
      "metadata": {
        "id": "IChBVqIe5E6j"
      }
    },
    {
      "cell_type": "code",
      "source": [
        "s = [2, 3, 5, 7]\n",
        "v = 4\n",
        "print(v not in s)"
      ],
      "metadata": {
        "colab": {
          "base_uri": "https://localhost:8080/"
        },
        "id": "QfeuI3816fMh",
        "outputId": "12c7bbb9-85cc-4e01-8b0a-38bc76095835"
      },
      "execution_count": null,
      "outputs": [
        {
          "output_type": "stream",
          "name": "stdout",
          "text": [
            "True\n"
          ]
        }
      ]
    },
    {
      "cell_type": "markdown",
      "source": [
        "# Opérateurs d'identité\n",
        "\n",
        "Un opérateur d'identité teste si deux variables font référence au même objet.\n",
        "\n",
        "| Opérateur | Résultat | Exemple |\n",
        "|: --- |: --- |: --- |\n",
        "| `is` | Renvoie `True` si les deux variables sont des références au même objet, et `False` sinon. | `a is b` |\n",
        "| `is not` | Renvoie `True` s'il ne trouve pas la valeur recherchée dans la séquence spécifiée, et `False` sinon. | `a is not b` |\n",
        "\n",
        "**Exemple**"
      ],
      "metadata": {
        "id": "Vg28XeKE60KI"
      }
    },
    {
      "cell_type": "code",
      "source": [
        "a = 1\n",
        "b = 2\n",
        "print(id(a))\n",
        "print(id(b))\n",
        "print(a is b)"
      ],
      "metadata": {
        "colab": {
          "base_uri": "https://localhost:8080/"
        },
        "id": "WXs86-qF7VQQ",
        "outputId": "17cb9353-b8b7-47aa-f811-5536abad91c4"
      },
      "execution_count": null,
      "outputs": [
        {
          "output_type": "stream",
          "name": "stdout",
          "text": [
            "10750856\n",
            "10750888\n",
            "False\n"
          ]
        }
      ]
    },
    {
      "cell_type": "markdown",
      "source": [
        "# Priorité des opérateurs\n",
        "\n",
        "Le tableau suivant répertorie les opérateurs en fonction de leur priorité dans l'ordre descendant.\n",
        "\n",
        "| Priorité | Opérateur | Nom |\n",
        "|: --- |: --- |: --- |\n",
        "| 1 | `**` | Exponentiation |\n",
        "| 2 | `~ + -` | Opérateurs unaires: complément (négation bit à bit), positif, négatif |\n",
        "| 3 | `* / % //` | Multiplication, division, modulo, division entière |\n",
        "| 4 | `+ -` | Addition, soustraction |\n",
        "| 5 | `<= < > >=` | Opérateurs de comparaison |\n",
        "| 6 | `<> == !=` | Opérateurs d'égalité |\n",
        "| 7 | `= %= /= //= -= += *= **=` | Opérateurs d'affectation |\n",
        "| 8 | `is not is` | Opérateurs d'identité |\n",
        "| 9 | `in not in` | Opérateurs d'adhésions |\n",
        "| 10 | `not and or` | Opérateurs logiques |\n"
      ],
      "metadata": {
        "id": "uSvDcKtr8JYH"
      }
    }
  ]
}