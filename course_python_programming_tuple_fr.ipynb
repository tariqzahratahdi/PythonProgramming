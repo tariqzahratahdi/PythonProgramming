{
  "nbformat": 4,
  "nbformat_minor": 0,
  "metadata": {
    "colab": {
      "provenance": [],
      "authorship_tag": "ABX9TyP2GjQum+xftvvfkYL9WgaO",
      "include_colab_link": true
    },
    "kernelspec": {
      "name": "python3",
      "display_name": "Python 3"
    },
    "language_info": {
      "name": "python"
    }
  },
  "cells": [
    {
      "cell_type": "markdown",
      "metadata": {
        "id": "view-in-github",
        "colab_type": "text"
      },
      "source": [
        "<a href=\"https://colab.research.google.com/github/tariqzahratahdi/PythonProgramming/blob/main/course_python_programming_tuple_fr.ipynb\" target=\"_parent\"><img src=\"https://colab.research.google.com/assets/colab-badge.svg\" alt=\"Open In Colab\"/></a>"
      ]
    },
    {
      "cell_type": "markdown",
      "source": [
        "# **Tuple**\n",
        "\n",
        "# Type de données **`tuple`**\n",
        "\n",
        "Le type de données prédéfini **`tuple`** est un type de données de collection.\n",
        "\n",
        "Un `tuple` est une collection ordonnée d'éléments.\n",
        "\n",
        "Les éléments d'un `tuple` ont un indice de position commençant à partir de la valeur 0.\n",
        "\n",
        "Une variable `tuple` se compose d'éléments séparés par des virgules et délimités par des parenthèses `()`.\n",
        "\n",
        "**Exemple**\n",
        "\n",
        "`data = (2, 3, 5, 7)`\n",
        "\n",
        "*Tuple imbriqué*\n",
        "\n",
        "Un `tuple` peut avoir un élément de type `tuple`.\n",
        "\n",
        "*Accès*\n",
        "\n",
        "On accède aux éléments d'un `tuple` en utilisant les opérateurs `[ ]` et `[:]`.\n",
        "\n",
        "*Découpage*\n",
        "\n",
        "On découpe un `tuple` en utilisant le format suivant:\n",
        "\n",
        "`my_tuple[start:end:step])`\n",
        "\n",
        "`start` (facultatif): index de démarrage (inclus). Par défaut `0` s'il est omis.\n",
        "\n",
        "`end` (facultatif): index d'arrêt (exclusif). Par défaut, l'index de fin du tuple s'il est omis.\n",
        "\n",
        "`step` (facultatif): intervalle entre les indices (le pas d'incrémentation). Une valeur positive découpe de gauche à droite, tandis qu'une valeur négative découpe de droite à gauche. S'il est omis, il est par défaut `1` (pas de saut d'éléments).\n",
        "\n",
        "*Opérations*\n",
        "\n",
        "L'opérateur de concaténation est le symbole `+`\n",
        "\n",
        "L'opérateur de répétition est le symbole `*`\n",
        "\n",
        "L'opérateur d'appartenance est `in`\n",
        "\n",
        "L'opérateur non-appartenance est `not in`\n",
        "\n",
        "| Expression | Résultat | Description |\n",
        "|: --- |: --- |: --- |\n",
        "| `(1, 2, 3) + (4, 5, 6)` | `(1, 2, 3, 4, 5, 6)` | Concaténation |\n",
        "| `('A') * 3` | `('A', 'A', 'A')` | Répétition |\n",
        "| `3 in (1, 2, 3)` | `True` | Appartenance |\n",
        "\n",
        "**Exemple**"
      ],
      "metadata": {
        "id": "t0GAhGZW-6Fp"
      }
    },
    {
      "cell_type": "code",
      "execution_count": null,
      "metadata": {
        "colab": {
          "base_uri": "https://localhost:8080/"
        },
        "id": "IaDij1mP-3-U",
        "outputId": "5a00530b-94a3-4a20-8381-d40cc9a08c3e"
      },
      "outputs": [
        {
          "output_type": "stream",
          "name": "stdout",
          "text": [
            "(2, 3, 5, 7)\n",
            "2\n",
            "(2, 3, 5, 7, 11, 13, 17, 19)\n",
            "(5, 7, 11, 13)\n",
            "(5, 7, 11, 13, 17, 19)\n"
          ]
        }
      ],
      "source": [
        "some_primes = (2, 3, 5, 7)\n",
        "print(some_primes)\n",
        "print(some_primes[0])\n",
        "more_primes = (11, 13, 17, 19)\n",
        "primes = some_primes + more_primes\n",
        "print(primes)\n",
        "print(primes[2:6])\n",
        "print(primes[2:])"
      ]
    },
    {
      "cell_type": "markdown",
      "source": [
        "# Longueur d'un **`tuple`**\n",
        "\n",
        "La longueur d'un `tuple` est le nombre d'éléments qui le composent.\n",
        "\n",
        "La fonction **`len ()`** donne la longueur d'un `tuple`.\n",
        "\n",
        "**Exemple**"
      ],
      "metadata": {
        "id": "U_XqGBZRAj7p"
      }
    },
    {
      "cell_type": "code",
      "source": [
        "colors = ('Red', 'Green', 'Blue')\n",
        "print('Total elements:', len(colors))"
      ],
      "metadata": {
        "colab": {
          "base_uri": "https://localhost:8080/"
        },
        "id": "orQA_NxwAuuy",
        "outputId": "562f4483-af97-413c-cadf-eda1eda2487f"
      },
      "execution_count": null,
      "outputs": [
        {
          "output_type": "stream",
          "name": "stdout",
          "text": [
            "Total elements: 3\n"
          ]
        }
      ]
    },
    {
      "cell_type": "markdown",
      "source": [
        "# Itération sur un **`tuple`**\n",
        "\n",
        "Un `tuple` est limité et itérable: on peut parcourir ses éléments dans une boucle `for`.\n",
        "\n",
        "On utilise l'opérateur d'appartenance **`in`** pour itérer sur les éléments d'un `tuple`.\n",
        "\n",
        "**Exemple**"
      ],
      "metadata": {
        "id": "GhExeCxXA1fS"
      }
    },
    {
      "cell_type": "code",
      "source": [
        "fruits = ('apple', 'banana', 'orange')\n",
        "\n",
        "# iterate through the tuple\n",
        "for item in fruits:\n",
        "   print(item)"
      ],
      "metadata": {
        "colab": {
          "base_uri": "https://localhost:8080/"
        },
        "id": "t5OBtkv8BECo",
        "outputId": "44f66677-c555-411e-cb01-b5a34075ba0c"
      },
      "execution_count": null,
      "outputs": [
        {
          "output_type": "stream",
          "name": "stdout",
          "text": [
            "apple\n",
            "banana\n",
            "orange\n"
          ]
        }
      ]
    },
    {
      "cell_type": "markdown",
      "source": [
        "# Méthodes appliquées à un **`tuple`**\n",
        "\n",
        "Ci-dessous les méthodes appliquées à un `tuple`.\n",
        "\n",
        "| Méthode | Description |\n",
        "|: --- |: --- |\n",
        "| `tuple.count(obj)` | Renvoie le nombre de fois que obj apparit dans le tuple.|\n",
        "| tuple.index(obj)` | Renvoie l'indice le plus bas où obj apparaît dans le tuple.|\n",
        "\n"
      ],
      "metadata": {
        "id": "6WSHIqDPBYcx"
      }
    }
  ]
}