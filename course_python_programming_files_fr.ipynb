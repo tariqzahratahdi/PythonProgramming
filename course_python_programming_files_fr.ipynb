{
  "nbformat": 4,
  "nbformat_minor": 0,
  "metadata": {
    "colab": {
      "provenance": [],
      "authorship_tag": "ABX9TyM6HKOIRKF0YwmjEQlROjWj",
      "include_colab_link": true
    },
    "kernelspec": {
      "name": "python3",
      "display_name": "Python 3"
    },
    "language_info": {
      "name": "python"
    }
  },
  "cells": [
    {
      "cell_type": "markdown",
      "metadata": {
        "id": "view-in-github",
        "colab_type": "text"
      },
      "source": [
        "<a href=\"https://colab.research.google.com/github/tariqzahratahdi/PythonProgramming/blob/main/course_python_programming_files_fr.ipynb\" target=\"_parent\"><img src=\"https://colab.research.google.com/assets/colab-badge.svg\" alt=\"Open In Colab\"/></a>"
      ]
    },
    {
      "cell_type": "markdown",
      "source": [
        "# **Fichiers**\n",
        "\n",
        "# Fichiers\n",
        "\n",
        "Dans un programme Python, on utilise la fonction `input ()` pour lire les données entrées sur le flux d'entrée standard (clavier), et on utilise la fonction `print()` pour écrire des données (afficher) sur le flux de sortie standard (écran).\n",
        "\n",
        "Un programme Python communique avec ces flux d'entrée / sortie (IO) via les objets de flux standard `stdin` et `stdout` définis dans le module `sys`.\n",
        "\n",
        "Tout objet qui communique avec un flux d'entrée / sortie est appelé un objet **`file`**.\n",
        "\n",
        "# Ouvrir un fichier\n",
        "\n",
        "La fonction prédéfinie **`open()`** renvoie un objet `file`.\n",
        "\n",
        "La fonction `open()` crée un objet `file`, qui sera utilisé pour appeler d'autres méthodes qui lui sont associées.\n",
        "\n",
        "> *Syntaxe*\n",
        "<font size=\"4\">\n",
        "```python\n",
        "file_object = open(file_name [, access_mode] [, encoding])\n",
        "```\n",
        "</font>\n",
        "\n",
        "*Paramètres*\n",
        "\n",
        "* `file_name`: est une valeur string qui contient le nom du fichier auquel on souhaite accéder.\n",
        "* `access_mode`: détermine le mode dans lequel le fichier sera ouvert, c'est-à-dire lecture, écriture, ajoute, etc. Il s'agit d'un paramètre facultatif et le mode d'accès au fichier par défaut est en lecture (`r`).\n",
        "* `encoding`: encodage utilisé pour coder les caractères contenus dans le fichier. Encodage recommandé: `encoding =\"UTF-8\"`. UTF-8 est l'encodage standard moderne.\n"
      ],
      "metadata": {
        "id": "nyTfqxQPB0MH"
      }
    },
    {
      "cell_type": "markdown",
      "source": [
        "# Modes d'ouverture des fichiers\n",
        "\n",
        "| Mode | Description |\n",
        "|: --- |: --- |\n",
        "| `r` | Ouvre un fichier pour la lecture uniquement. Le pointeur de fichier est placé au début du fichier. C'est le mode par défaut. |\n",
        "| `rb` | Ouvre un fichier pour la lecture uniquement au format binaire. Le pointeur de fichier est placé au début du fichier.|\n",
        "| `r+` | Ouvre un fichier à la fois pour la lecture et l'écriture. Le pointeur de fichier s'est placé au début du fichier.\n",
        "| `rb+` | Ouvre un fichier pour la lecture et l'écriture au format binaire. Le pointeur de fichier s'est placé au début du fichier.\n",
        "| `w` | Ouvre un fichier pour l'écriture uniquement. Écrase le fichier si le fichier existe. Si le fichier n'existe pas, crée un nouveau fichier pour l'écriture.\n",
        "| `wb` | Ouvre un fichier pour l'écriture uniquement au format binaire. Écrase le fichier si le fichier existe. Si le fichier n'existe pas, crée un nouveau fichier pour l'écriture.\n",
        "| `w+` | Ouvre un fichier à la fois pour l'écriture et la lecture. Écrase le fichier existant si le fichier existe. Si le fichier n'existe pas, crée un nouveau fichier pour la lecture et l'écriture.\n",
        "| `wb+` | Ouvre un fichier pour l'écriture et la lecture au format binaire. Écrase le fichier existant si le fichier existe. Si le fichier n'existe pas, crée un nouveau fichier pour la lecture et l'écriture.\n",
        "| `a` | Ouvre un fichier pour ajouter. Le pointeur de fichier est à la fin du fichier si le fichier existe. C'est-à-dire que le fichier est en mode ajout. Si le fichier n'existe pas, il crée un nouveau fichier pour l'écriture.\n",
        "| `ab` | Ouvre un fichier pour ajouter en format binaire. Le pointeur de fichier est à la fin du fichier si le fichier existe. C'est-à-dire que le fichier est en mode ajout. Si le fichier n'existe pas, il crée un nouveau fichier pour l'écriture.\n",
        "| `a+` | Ouvre un fichier pour ajouter et lire. Le pointeur de fichier est à la fin du fichier si le fichier existe. C'est-à-dire que le fichier est en mode ajout. Si le fichier n'existe pas, il crée un nouveau fichier pour l'écriture.\n",
        "| `ab+` | Ouvre un fichier à la fois pour ajouter et lire au format binaire. Le pointeur de fichier est à la fin du fichier si le fichier existe. Le fichier s'ouvre en mode annexe. Si le fichier n'existe pas, il crée un nouveau fichier pour la lecture et l'écriture.\n",
        "| `b` | ouvre un fichier en mode binaire.\n",
        "| `t` | ouvre un fichier en mode texte (par défaut). |\n",
        "| `+` | Ouvre un fichier pour la mise à jour (lecture et écriture). |\n",
        "| `x` | ouvre un fichier pour la création exclusive, défaillant si le fichier existe déjà.\n",
        "\n",
        "**Exemple**\n",
        "\n",
        "Quelques attributs associés à un objet `file`: `name`, `closed`, `mode`.\n",
        "\n",
        "Une méthode associée à un objet `file`: `close()`."
      ],
      "metadata": {
        "id": "A2dPkC7RFEL6"
      }
    },
    {
      "cell_type": "code",
      "execution_count": null,
      "metadata": {
        "colab": {
          "base_uri": "https://localhost:8080/"
        },
        "id": "1t5ADDMpBuBE",
        "outputId": "ba314639-3ed6-4919-b1a2-cc43a751c482"
      },
      "outputs": [
        {
          "output_type": "stream",
          "name": "stdout",
          "text": [
            "Name of the file:  tmp\n",
            "File is closed:  False\n",
            "Opening mode:  w\n",
            "<class '_io.TextIOWrapper'>\n",
            "Name of the file:  tmp\n",
            "File is closed:  True\n"
          ]
        }
      ],
      "source": [
        "# Open a file\n",
        "f = open('tmp', 'w', encoding=\"utf-8\")\n",
        "\n",
        "print(\"Name of the file: \", f.name)\n",
        "print(\"File is closed: \", f.closed)\n",
        "print(\"Opening mode: \", f.mode)\n",
        "print(type(f))\n",
        "f.close()\n",
        "print(\"Name of the file: \", f.name)\n",
        "print(\"File is closed: \", f.closed)\n"
      ]
    }
  ]
}