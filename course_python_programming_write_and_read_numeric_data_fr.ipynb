{
  "nbformat": 4,
  "nbformat_minor": 0,
  "metadata": {
    "colab": {
      "provenance": [],
      "authorship_tag": "ABX9TyMIpznE1dYa6oOqWVDE/FKZ",
      "include_colab_link": true
    },
    "kernelspec": {
      "name": "python3",
      "display_name": "Python 3"
    },
    "language_info": {
      "name": "python"
    }
  },
  "cells": [
    {
      "cell_type": "markdown",
      "metadata": {
        "id": "view-in-github",
        "colab_type": "text"
      },
      "source": [
        "<a href=\"https://colab.research.google.com/github/tariqzahratahdi/PythonProgramming/blob/main/course_python_programming_write_and_read_numeric_data_fr.ipynb\" target=\"_parent\"><img src=\"https://colab.research.google.com/assets/colab-badge.svg\" alt=\"Open In Colab\"/></a>"
      ]
    },
    {
      "cell_type": "markdown",
      "source": [
        "# **Écriture et lecture des données numériques**\n",
        "\n",
        "# Écriture de données de type **`int`**\n",
        "\n",
        "Pour écrire des données de type `int` dans un fichier binaire, l'objet `int` doit être converti en un objet `bytes` par la méthode **`to_bytes()`**.\n",
        "\n",
        "La méthode `to_bytes()` renvoie un array de `bytes` représentant un nombre entier donné.\n",
        "\n",
        "> *Syntaxe*\n",
        "<font size = \"4\">\n",
        "```python\n",
        "integer_variable.to_bytes(length, byteorder)\n",
        "```\n",
        "</font>\n",
        "\n",
        "*Paramètres*\n",
        "* `length`: le nombre de bytes renvoyés.\n",
        "* `byteorder`: représentation du nombre entier\n",
        "    * `big`: représentation big-endian, le byte le plus significatif (MSB) au début de l'array.\n",
        "    * `little`: représentation little-endian, le bytes le moins significatif (LSB) au début de l'array.\n",
        "\n",
        "**Exemple**"
      ],
      "metadata": {
        "id": "ylFJEfKPayav"
      }
    },
    {
      "cell_type": "code",
      "execution_count": null,
      "metadata": {
        "colab": {
          "base_uri": "https://localhost:8080/"
        },
        "id": "8vRrpTTdZ96x",
        "outputId": "f68a36d8-9a93-4d9c-ff58-7f85bd34467e"
      },
      "outputs": [
        {
          "output_type": "stream",
          "name": "stdout",
          "text": [
            "b'\\x00\\x00\\x00\\x00\\x00\\x00\\x00\\x0c'\n"
          ]
        }
      ],
      "source": [
        "n = 12\n",
        "\n",
        "# convert int to bytes\n",
        "data = n.to_bytes(8,'big')\n",
        "\n",
        "print(data)\n",
        "bf = open('tmp', 'wb')\n",
        "bf.write(data)\n",
        "bf.close()"
      ]
    },
    {
      "cell_type": "markdown",
      "source": [
        "# Lecture de données de type **`int`**\n",
        "\n",
        "Pour lire des données de type **`int`** à partir d'un fichier binaire, on utilise la méthode **`from_bytes()`** pour convertir le résultat renvoyé par la méthode `read()` en un objet `int`.\n",
        "\n",
        "La méthode `from_bytes()` renvoie un entier représenté par un array de `bytes`.\n",
        "\n",
        "> *Syntaxe*\n",
        "<font size = \"4\">\n",
        "```python\n",
        "integer_variable.from_bytes(bytes_array, byteorder)\n",
        "```\n",
        "</font>\n",
        "\n",
        "*Paramètres*\n",
        "* `bytes_array`: un array de `bytes`.\n",
        "* `byteorder`: représentation du nombre entier\n",
        "    * `big`: représentation big-endian, le byte le plus significatif (MSB) au début de l'array.\n",
        "    * `little`: représentation little-endian, le bytes le moins significatif (LSB) au début de l'array.\n",
        "\n",
        "**Exemple**\n",
        "\n"
      ],
      "metadata": {
        "id": "Eoj81urjdjzL"
      }
    },
    {
      "cell_type": "code",
      "source": [
        "bf = open('tmp', 'rb')\n",
        "data = bf.read()\n",
        "bf.close()\n",
        "\n",
        "# convert bytes to int\n",
        "n = int.from_bytes(data, 'big')\n",
        "\n",
        "print(n)"
      ],
      "metadata": {
        "colab": {
          "base_uri": "https://localhost:8080/"
        },
        "id": "To4HJIBfeN7C",
        "outputId": "126a1ba1-9a70-4f58-f93a-882c353fb24a"
      },
      "execution_count": null,
      "outputs": [
        {
          "output_type": "stream",
          "name": "stdout",
          "text": [
            "12\n"
          ]
        }
      ]
    },
    {
      "cell_type": "markdown",
      "source": [
        "# Écriture des données de type **`float`**\n",
        "\n",
        "Pour écrire des données de type `float` dans un fichier binaire, l'objet `float` doit être converti en un objet `bytes` par la méthode **`pack()`** définie dans le module **`struct`**.\n",
        "\n",
        "**Exemple**"
      ],
      "metadata": {
        "id": "IYqB0OZrfPFg"
      }
    },
    {
      "cell_type": "code",
      "source": [
        "import struct\n",
        "r = 12.34\n",
        "\n",
        "# convert float to bytes\n",
        "data = struct.pack('f', r)\n",
        "\n",
        "bf = open('tmp', 'wb')\n",
        "bf.write(data)\n",
        "bf.close()"
      ],
      "metadata": {
        "id": "0XaoD-b1fc2G"
      },
      "execution_count": null,
      "outputs": []
    },
    {
      "cell_type": "markdown",
      "source": [
        "# Lecture de données de type **`float`**\n",
        "\n",
        "Pour lire une données de type `float` dans un fichier binaire, on convertit l'objet `bytes` renvoyé par la méthode `read()` en un objet `float` à l'aide de la méthode **`unpack()`** définie dans le module **`struct`**.\n",
        "\n",
        "**Exemple**"
      ],
      "metadata": {
        "id": "UKFadDrzgJGR"
      }
    },
    {
      "cell_type": "code",
      "source": [
        "import struct\n",
        "bf = open('tmp', 'rb')\n",
        "data = bf.read()\n",
        "bf.close()\n",
        "\n",
        "# convert bytes to float\n",
        "r = struct.unpack('f', data)\n",
        "\n",
        "print(r)"
      ],
      "metadata": {
        "colab": {
          "base_uri": "https://localhost:8080/"
        },
        "id": "9Eq4AzfkgY5w",
        "outputId": "02fc0854-9bac-459e-8ff4-a4b315100138"
      },
      "execution_count": null,
      "outputs": [
        {
          "output_type": "stream",
          "name": "stdout",
          "text": [
            "(12.34000015258789,)\n"
          ]
        }
      ]
    }
  ]
}