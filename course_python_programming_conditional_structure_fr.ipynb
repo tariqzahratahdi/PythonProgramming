{
  "nbformat": 4,
  "nbformat_minor": 0,
  "metadata": {
    "colab": {
      "provenance": [],
      "authorship_tag": "ABX9TyPdUBETZuDTcI5uE8RNrbD+"
    },
    "kernelspec": {
      "name": "python3",
      "display_name": "Python 3"
    },
    "language_info": {
      "name": "python"
    }
  },
  "cells": [
    {
      "cell_type": "markdown",
      "source": [
        "# Structure conditionnelle\n",
        "\n",
        "La structure conditionnelle permet de décider du traitement à effectuer selon qu'une condition est vraie ou non.\n",
        "\n",
        "# Instruction **`if`**\n",
        "L'instruction **`if`** implémente une structure conditionnelle simple.\n",
        "\n",
        "*Syntaxe*\n",
        "\n",
        "<blockquote>\n",
        "<font size=\"3\">\n",
        "<pre>\n",
        "<font color=\"#af00db\">if</font> boolean_expression :\n",
        "   statements\n",
        "</pre>\n",
        "</font>\n",
        "</blockquote>\n",
        "\n",
        "Si la valeur de `boolean_expression` est `True`, alors `statements` est exécutée.\n",
        "\n",
        "**Exemple**"
      ],
      "metadata": {
        "id": "kM10MEHal3zl"
      }
    },
    {
      "cell_type": "code",
      "source": [
        "discount = 0\n",
        "amount = 800\n",
        "\n",
        "if amount > 1000 :\n",
        "  discount = amount * 0.1\n",
        "\n",
        "print('Payable amount = ', amount - discount)"
      ],
      "metadata": {
        "colab": {
          "base_uri": "https://localhost:8080/"
        },
        "id": "V8b7Uib8nrTu",
        "outputId": "ece5b588-f6a2-4eb6-83f7-af96f3c70f1a"
      },
      "execution_count": null,
      "outputs": [
        {
          "output_type": "stream",
          "name": "stdout",
          "text": [
            "Payable amount =  800\n"
          ]
        }
      ]
    },
    {
      "cell_type": "markdown",
      "source": [
        "# Instruction **`if else`**\n",
        "\n",
        "L'instruction **`if else`** else met en œuvre une structure conditionnelle composée.\n",
        "\n",
        "*Syntaxe*\n",
        "\n",
        "<blockquote>\n",
        "<font size=\"3\">\n",
        "<pre>\n",
        "<font color=\"#af00db\">if</font> boolean_expression :\n",
        "   statements_1\n",
        "<font color=\"#af00db\">else</font> :\n",
        "   statements_2\n",
        "</pre>\n",
        "</font>\n",
        "</blockquote>\n",
        "\n",
        "Si la valeur de `boolean_expression` est `True`, alors `statements_1` est exécuté, sinon `statements_2` est exécuté.\n",
        "\n",
        "**Exemple**"
      ],
      "metadata": {
        "id": "DTenvmbcoad5"
      }
    },
    {
      "cell_type": "code",
      "source": [
        "amount = 1200\n",
        "\n",
        "if amount > 1000 :\n",
        "  discount = amount * 0.2\n",
        "else :\n",
        "  discount = amount * 0.1\n",
        "\n",
        "print('Payable amount = ', amount - discount)"
      ],
      "metadata": {
        "colab": {
          "base_uri": "https://localhost:8080/"
        },
        "id": "PpPMCELhqXi4",
        "outputId": "16ac66a6-542c-4c32-8c0a-4d89492260e4"
      },
      "execution_count": null,
      "outputs": [
        {
          "output_type": "stream",
          "name": "stdout",
          "text": [
            "Payable amount =  960.0\n"
          ]
        }
      ]
    },
    {
      "cell_type": "markdown",
      "source": [
        "# Instruction **`if elif else`**\n",
        "\n",
        "L'instruction **`if elif else`** implémente une structure conditionnelle imbriquée.\n",
        "\n",
        "*Synatxe*\n",
        "\n",
        "<blockquote>\n",
        "<font size=\"3\">\n",
        "<pre>\n",
        "<font color=\"#af00db\">if</font> expression_1 :\n",
        "   statements_1\n",
        "<font color=\"#af00db\">elif</font>  expression_2 :\n",
        "   statements_2\n",
        "<font color=\"#af00db\">elif</font> expression_3 :\n",
        "   statements_3\n",
        "<font color=\"#af00db\">else</font> :\n",
        "   statements\n",
        "</pre>\n",
        "</font>\n",
        "</blockquote>\n",
        "\n",
        "Implémentation avec **`if else`**\n",
        "\n",
        "<blockquote>\n",
        "<font size=\"3\">\n",
        "<pre>\n",
        "<font color=\"#af00db\">if</font> expression_1 :\n",
        "   statements_1\n",
        "<font color=\"#af00db\">else</font> :\n",
        "   <font color=\"#af00db\">if</font> expression_2 :\n",
        "      statements_2\n",
        "   <font color=\"#af00db\">else</font> :\n",
        "      <font color=\"#af00db\">if</font> expression_3 :\n",
        "         statements_3\n",
        "      <font color=\"#af00db\">else</font> :\n",
        "         statements\n",
        "</pre>\n",
        "</font>\n",
        "</blockquote>\n",
        "\n",
        "**Exemple**"
      ],
      "metadata": {
        "id": "gtwgk7flqpW0"
      }
    },
    {
      "cell_type": "code",
      "source": [
        "amount = 2000\n",
        "\n",
        "if amount > 10000 :\n",
        "   discount = amount * 0.2\n",
        "elif amount > 5000 :\n",
        "   discount = amount * 0.1\n",
        "elif amount > 1000 :\n",
        "   discount = amount * 0.05\n",
        "else :\n",
        "   discount = 0\n",
        "\n",
        "print('Payable amount = ', amount - discount)"
      ],
      "metadata": {
        "colab": {
          "base_uri": "https://localhost:8080/"
        },
        "id": "xYGMplHCsyuq",
        "outputId": "cb045217-d610-4130-950f-c361b83117cd"
      },
      "execution_count": null,
      "outputs": [
        {
          "output_type": "stream",
          "name": "stdout",
          "text": [
            "Payable amount =  1900.0\n"
          ]
        }
      ]
    },
    {
      "cell_type": "markdown",
      "source": [
        "# Instruction **`match`**\n",
        "\n",
        "L'instruction **`match`** implémente une structure conditionnelle multiple.\n",
        "\n",
        "L'utilisation de base de l'instruction **`match`** consiste à comparer une variable à plusieurs valeurs.\n",
        "\n",
        "*Syntaxe*\n",
        "\n",
        "blockquote>\n",
        "<font size=\"3\">\n",
        "<pre>\n",
        "<font color=\"#af00db\">match</font> variable_name :\n",
        "   <font color=\"#af00db\">case</font> <font color=\"#116644\">value_1</font> :\n",
        "      statement_1\n",
        "   <font color=\"#af00db\">case</font> <font color=\"#116644\">value_2</font>  :\n",
        "      statement_2\n",
        "   ...\n",
        "   <font color=\"#af00db\">case</font> <font color=\"#116644\">value_n</font>  :\n",
        "      statement_n\n",
        "   <font color=\"#af00db\">case</font> _ :\n",
        "      statement\n",
        "</pre>\n",
        "</font>\n",
        "</blockquote>\n",
        "\n",
        "**Exemple**: Le programme suivant affiche le nom du jour de la semaine correspondant à un entier donné."
      ],
      "metadata": {
        "id": "X5e3egRAtYG5"
      }
    },
    {
      "cell_type": "code",
      "source": [
        "n = 8\n",
        "\n",
        "match n :\n",
        "   case 1: d = 'Monday'\n",
        "   case 2: d = 'Tuesday'\n",
        "   case 3: d = 'Wednesday'\n",
        "   case 4: d = 'Thursday'\n",
        "   case 5: d = 'Friday'\n",
        "   case 6: d = 'Saturday'\n",
        "   case 7: d = 'Sunday'\n",
        "   case _: d = 'Invalid day number'\n",
        "\n",
        "print(d)"
      ],
      "metadata": {
        "colab": {
          "base_uri": "https://localhost:8080/"
        },
        "id": "UPFQlE3Zt1gP",
        "outputId": "d7b923f0-38db-4648-93ad-55ed9e26086b"
      },
      "execution_count": null,
      "outputs": [
        {
          "output_type": "stream",
          "name": "stdout",
          "text": [
            "Invalid day number\n"
          ]
        }
      ]
    }
  ]
}