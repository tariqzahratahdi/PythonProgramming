{
  "nbformat": 4,
  "nbformat_minor": 0,
  "metadata": {
    "colab": {
      "provenance": [],
      "authorship_tag": "ABX9TyPSYXeQXp/nlPCNFqlNpmtH",
      "include_colab_link": true
    },
    "kernelspec": {
      "name": "python3",
      "display_name": "Python 3"
    },
    "language_info": {
      "name": "python"
    }
  },
  "cells": [
    {
      "cell_type": "markdown",
      "metadata": {
        "id": "view-in-github",
        "colab_type": "text"
      },
      "source": [
        "<a href=\"https://colab.research.google.com/github/tariqzahratahdi/PythonProgramming/blob/main/course_python_programming_string.ipynb\" target=\"_parent\"><img src=\"https://colab.research.google.com/assets/colab-badge.svg\" alt=\"Open In Colab\"/></a>"
      ]
    },
    {
      "cell_type": "markdown",
      "source": [
        "# String\n",
        "\n",
        "# **`str`** Data Type\n",
        "\n",
        "The predefined data type **`str`** (string) is a collection data type.\n",
        "\n",
        "A `str` is an ordered collection of elements.\n",
        "\n",
        "The elements of the `str` have a position index starting with the value `0`.\n",
        "\n",
        "A variable of type `str` is a string of characters delimited by single, double or triple quotes.\n",
        "\n",
        "A variable of type `str` is immutable: access to the characters constituting the `str` is *read-only*.\n",
        "\n",
        "A `str` is limited and iterable: we can iterate over these elements in a `for` loop.\n",
        "\n",
        "*Access*\n",
        "\n",
        "We access the elements of a str using the `[ ]` and `[:]` operators.\n",
        "\n",
        "*Slicing*\n",
        "\n",
        "We slice a string using the following form:\n",
        "\n",
        "`my_string[start:end:step])`\n",
        "\n",
        "`start` (optional): starting index (inclusive). Defaults to `0` if omitted.\n",
        "\n",
        "`end` (optional): stopping index (exclusive). Defaults to the end of the string if omitted.\n",
        "\n",
        "`step` (optional): interval between indices (incrementation step). A positive value slices from left to right, while a negative value slices from right to left. If omitted, it defaults to `1` (no skipping of characters).\n",
        "\n",
        "*Operations*\n",
        "\n",
        "The concatenation operator is the symbol `+`\n",
        "\n",
        "The repetition operator is the symbol `*`\n",
        "\n",
        "The membership operator is `in`\n",
        "\n",
        "The non-membership operator is `not in`\n",
        "\n",
        "The comparison operator is `==`\n",
        "\n",
        "|Expression|Result|Description|\n",
        "|:---|:---|:---|\n",
        "|'Hello ' + 'World!'|'Hello World!'|Concatenation|\n",
        "|'toc' * 2|'toctoc'|Repetition|\n",
        "|'t' in 'Python'|True|Membership|\n",
        "\n",
        "**Example**\n",
        "\n"
      ],
      "metadata": {
        "id": "dQrhwQYRWbuw"
      }
    },
    {
      "cell_type": "code",
      "execution_count": null,
      "metadata": {
        "colab": {
          "base_uri": "https://localhost:8080/"
        },
        "id": "poB8_zR6Q8Fg",
        "outputId": "2dcee56a-98fb-46a7-9c63-6ae0490fdbc4"
      },
      "outputs": [
        {
          "output_type": "stream",
          "name": "stdout",
          "text": [
            "Hello\n",
            "H\n",
            "llo\n",
            "llo\n",
            "HelloHello\n",
            "Hello World!\n"
          ]
        }
      ],
      "source": [
        "greet = 'Hello'\n",
        "print (greet)\n",
        "print (greet[0])\n",
        "print (greet[2:5])\n",
        "print (greet[2:])\n",
        "print (greet * 2)\n",
        "print (greet + ' World!')"
      ]
    },
    {
      "cell_type": "markdown",
      "source": [
        "# Multiline String\n",
        "\n",
        "Triple quotes are used to form a multi-line string.\n",
        "\n",
        "**Example**"
      ],
      "metadata": {
        "id": "HX5DF6P9YlBO"
      }
    },
    {
      "cell_type": "code",
      "source": [
        "# multiline string\n",
        "message = \"\"\"\n",
        "We can also create a multiline string in Python.\n",
        "For this, we use three double quotes\n",
        "or three single quotes\n",
        "\"\"\"\n",
        "print(message)"
      ],
      "metadata": {
        "colab": {
          "base_uri": "https://localhost:8080/"
        },
        "id": "AzGIJgKlYt8N",
        "outputId": "9636c871-de1c-427a-b2df-82ce204c6cdc"
      },
      "execution_count": null,
      "outputs": [
        {
          "output_type": "stream",
          "name": "stdout",
          "text": [
            "\n",
            "We can also create a multiline string in Python.\n",
            "For this, we use three double quotes\n",
            "or three single quotes\n",
            "\n"
          ]
        }
      ]
    },
    {
      "cell_type": "markdown",
      "source": [
        "# Iteration through a **`str`**\n",
        "\n",
        "A `str` is limited and iterable: we can iterate over its elements in a `for` loop.\n",
        "\n",
        "We use the membership operator `in` to iterate over the elements of a `str`.\n",
        "\n",
        "**Example**"
      ],
      "metadata": {
        "id": "kZP9TUsKY2VP"
      }
    },
    {
      "cell_type": "code",
      "source": [
        "greet = 'Hello'\n",
        "# iterate through the string\n",
        "for letter in greet:\n",
        "   print(letter)"
      ],
      "metadata": {
        "colab": {
          "base_uri": "https://localhost:8080/"
        },
        "id": "t_kJH6wMZDdK",
        "outputId": "f649e664-145e-486e-a8c1-ef97e4455c76"
      },
      "execution_count": null,
      "outputs": [
        {
          "output_type": "stream",
          "name": "stdout",
          "text": [
            "H\n",
            "e\n",
            "l\n",
            "l\n",
            "o\n"
          ]
        }
      ]
    },
    {
      "cell_type": "markdown",
      "source": [
        "# **`str`** Length\n",
        "\n",
        "The length of a `str` is the number of characters it contains.\n",
        "\n",
        "The **`len()`** function returns the length of a `str`.\n",
        "\n",
        "**Example**"
      ],
      "metadata": {
        "id": "sXdVL8T-ZMqN"
      }
    },
    {
      "cell_type": "code",
      "source": [
        "greet = 'Hello'\n",
        "print('String length: ', len(greet))"
      ],
      "metadata": {
        "colab": {
          "base_uri": "https://localhost:8080/"
        },
        "id": "ZLk25U7zZbtc",
        "outputId": "e57141ca-b7f0-4974-c719-f77147df217b"
      },
      "execution_count": null,
      "outputs": [
        {
          "output_type": "stream",
          "name": "stdout",
          "text": [
            "String length:  5\n"
          ]
        }
      ]
    },
    {
      "cell_type": "markdown",
      "source": [
        "# f-Strings Format\n",
        "\n",
        "The f-Strings format makes it easy to display values ​​and variables.\n",
        "\n",
        "**Example**"
      ],
      "metadata": {
        "id": "9ZHL98lFZjFV"
      }
    },
    {
      "cell_type": "code",
      "source": [
        "name = 'apple'\n",
        "family = 'fruit'\n",
        "print(f'{name} is a {family}')"
      ],
      "metadata": {
        "colab": {
          "base_uri": "https://localhost:8080/"
        },
        "id": "XS48peHUZn9Z",
        "outputId": "bac287fb-301b-45a8-e257-8b826c21978b"
      },
      "execution_count": null,
      "outputs": [
        {
          "output_type": "stream",
          "name": "stdout",
          "text": [
            "apple is a fruit\n"
          ]
        }
      ]
    },
    {
      "cell_type": "markdown",
      "source": [
        "# Methods\n",
        "\n",
        "List of some methods defined in the `str` class.\n",
        "\n",
        "|Method|Description|\n",
        "|:---|:---|\n",
        "|upper()|Converts string to uppercase.|\n",
        "|lower()|Converts string to lowercase.|\n",
        "|partition()|Partitions the string, returns a tuple.|\n",
        "|replace()|Replace a substring.|\n",
        "|find()|Returns the index of the first occurrence of a substring.|\n",
        "|rstrip()|Removes trailing space characters.|\n",
        "|split()|Splits string from left, returns a list.|\n",
        "|startswith()|Checks if the string starts with a specified string.|\n",
        "\n",
        "**Example**"
      ],
      "metadata": {
        "id": "uYDiL-6Cat0N"
      }
    },
    {
      "cell_type": "code",
      "source": [
        "a = 'Learn Coding'\n",
        "print(a.upper())\n",
        "print(a.lower())\n",
        "b = a.replace('Coding', 'Python')\n",
        "print(b)\n",
        "k = b.find('Python')\n",
        "print(k)\n",
        "c = 'docs.python.org'\n",
        "tpl = c.partition('.')\n",
        "print(tpl)\n",
        "lst = c.split('.')\n",
        "print(lst)"
      ],
      "metadata": {
        "colab": {
          "base_uri": "https://localhost:8080/"
        },
        "id": "ZXzl_ObVa9Uq",
        "outputId": "53938b26-cf72-462b-f779-f7463a689d6e"
      },
      "execution_count": null,
      "outputs": [
        {
          "output_type": "stream",
          "name": "stdout",
          "text": [
            "LEARN CODING\n",
            "learn coding\n",
            "Learn Python\n",
            "6\n",
            "('docs', '.', 'python.org')\n",
            "['docs', 'python', 'org']\n"
          ]
        }
      ]
    }
  ]
}