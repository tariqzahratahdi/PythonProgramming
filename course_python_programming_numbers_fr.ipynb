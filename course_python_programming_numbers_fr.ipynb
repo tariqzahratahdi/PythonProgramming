{
  "nbformat": 4,
  "nbformat_minor": 0,
  "metadata": {
    "colab": {
      "provenance": [],
      "authorship_tag": "ABX9TyPhf1njunW/r4GUq7d02nZs",
      "include_colab_link": true
    },
    "kernelspec": {
      "name": "python3",
      "display_name": "Python 3"
    },
    "language_info": {
      "name": "python"
    }
  },
  "cells": [
    {
      "cell_type": "markdown",
      "metadata": {
        "id": "view-in-github",
        "colab_type": "text"
      },
      "source": [
        "<a href=\"https://colab.research.google.com/github/tariqzahratahdi/PythonProgramming/blob/main/course_python_programming_numbers_fr.ipynb\" target=\"_parent\"><img src=\"https://colab.research.google.com/assets/colab-badge.svg\" alt=\"Open In Colab\"/></a>"
      ]
    },
    {
      "cell_type": "markdown",
      "source": [
        "# Nombres\n",
        "\n",
        "Python prend en charge quatre types de données numériques prédéfinis.\n",
        "\n",
        "Ces types de données sont définis en tant que classes:\n",
        "\n",
        "`int` (entier signé).\n",
        "\n",
        "`bool` (booléen, sous-type de` int`).\n",
        "\n",
        "`float` (nombre réel).\n",
        "\n",
        "`complex` (nombre complexe).\n",
        "\n",
        "**Exemple**\n",
        "\n"
      ],
      "metadata": {
        "id": "Ov3md5Dtqs8e"
      }
    },
    {
      "cell_type": "code",
      "execution_count": null,
      "metadata": {
        "colab": {
          "base_uri": "https://localhost:8080/"
        },
        "id": "YXmmkWSbqq6y",
        "outputId": "26b69c4e-d250-424a-eaf6-a647069f8573"
      },
      "outputs": [
        {
          "output_type": "stream",
          "name": "stdout",
          "text": [
            "<class 'int'>\n",
            "<class 'bool'>\n",
            "<class 'float'>\n",
            "<class 'complex'>\n"
          ]
        }
      ],
      "source": [
        "integer_number = 1\n",
        "print(type(integer_number))\n",
        "\n",
        "boolean = True\n",
        "print(type(boolean))\n",
        "\n",
        "real_number = 12.34\n",
        "print(type(real_number))\n",
        "\n",
        "complex_number = 1.2 + 3.4j\n",
        "print(type(complex_number))"
      ]
    },
    {
      "cell_type": "markdown",
      "source": [
        "# Nombres entiers\n",
        "\n",
        "Il existe trois façons de former un entier: représentation littérale, expression qui évalue à un entier ou en utilisant la fonction `int()` qui effectue une conversion de type (casting).\n",
        "\n",
        "**Exemple**"
      ],
      "metadata": {
        "id": "GsFVfc6Is0UL"
      }
    },
    {
      "cell_type": "code",
      "source": [
        "a = 1            # représentation littérale\n",
        "b = int(1.2)     # fonction int()\n",
        "c = a + b        # expression\n",
        "print(a, b, c)"
      ],
      "metadata": {
        "id": "hp9n3P0_tJiI",
        "colab": {
          "base_uri": "https://localhost:8080/"
        },
        "outputId": "c8e63220-9f0e-49dc-9c66-946c88b031a9"
      },
      "execution_count": null,
      "outputs": [
        {
          "output_type": "stream",
          "name": "stdout",
          "text": [
            "1 1 2\n"
          ]
        }
      ]
    },
    {
      "cell_type": "markdown",
      "source": [
        "# Nombres réels\n",
        "\n",
        "Un nombre réel représenté en virgule flottante (`float`: floating point) se compose d'une partie entière et d'une partie décimale séparée par un point.\n",
        "\n",
        "Il existe trois façons de former un nombre réel: représentation littérale, expression qui évalue à un nombre réel ou en utilisant la fonction `float()`.\n",
        "\n",
        "**Exemple**"
      ],
      "metadata": {
        "id": "YkbviG59tOjU"
      }
    },
    {
      "cell_type": "code",
      "source": [
        "a = 1.2            # représentation littérale\n",
        "b = float(12)      # fonction float()\n",
        "c = a + b          # expression\n",
        "print(a, b, c)"
      ],
      "metadata": {
        "id": "jNOoyXI4tZ_W",
        "colab": {
          "base_uri": "https://localhost:8080/"
        },
        "outputId": "16055227-b54f-47ec-95b5-2a659ddcc6fb"
      },
      "execution_count": null,
      "outputs": [
        {
          "output_type": "stream",
          "name": "stdout",
          "text": [
            "1.2 12.0 13.2\n"
          ]
        }
      ]
    },
    {
      "cell_type": "markdown",
      "source": [
        "## Notation scientifique\n",
        "\n",
        "En notation scientifique, un nombre réel se compose d'une mantissa `m` et d'un exposant `n`. La notation est la suivante:\n",
        "\n",
        "`mEn` ou `men`, avec `1 ≤ m <10` et `n` est l'exposant de `10`.\n",
        "\n",
        "**Exemple**"
      ],
      "metadata": {
        "id": "3YfUfIDPtf0N"
      }
    },
    {
      "cell_type": "code",
      "source": [
        "a = 1.2E3\n",
        "print(a)"
      ],
      "metadata": {
        "id": "d2DOFh403UkM",
        "colab": {
          "base_uri": "https://localhost:8080/"
        },
        "outputId": "4deebfd4-169e-4648-c12f-73037037c2d0"
      },
      "execution_count": null,
      "outputs": [
        {
          "output_type": "stream",
          "name": "stdout",
          "text": [
            "1200.0\n"
          ]
        }
      ]
    },
    {
      "cell_type": "markdown",
      "source": [
        "# Nombres complexes\n",
        "\n",
        "Un nombre complexe se compose d'une partie réelle et d'une partie imaginaire.\n",
        "\n",
        "Il existe trois façons de former un nombre complexe: représentation littérale, expression qui évalue à un nombre complexe et en utilisant la fonction `complex()`.\n",
        "\n",
        "**Exemple**"
      ],
      "metadata": {
        "id": "v-rAxccX3dLu"
      }
    },
    {
      "cell_type": "code",
      "source": [
        "a = 1.2 + 3.4j            # représentation littérale\n",
        "b = complex(5.6, 7.8)     # fonction complex()\n",
        "c = a + b                 # expression\n",
        "print(a, b, c)"
      ],
      "metadata": {
        "id": "uSHLi8_v3lC8",
        "colab": {
          "base_uri": "https://localhost:8080/"
        },
        "outputId": "1fa1b98d-46db-4555-bbe5-cae282b56fb6"
      },
      "execution_count": null,
      "outputs": [
        {
          "output_type": "stream",
          "name": "stdout",
          "text": [
            "(1.2+3.4j) (5.6+7.8j) (6.8+11.2j)\n"
          ]
        }
      ]
    },
    {
      "cell_type": "markdown",
      "source": [
        "La classe `complex` définit deux attributs nommés `real` et `imag` qui renvoient la partie réelle et la partie imaginaire d'un objet de la classe `complex`, respectivement.\n",
        "\n",
        "La classe `complex` définit une méthode nommée `conjugate()` qui renvoie le conjugué d'un objet de la classe `complex`.\n",
        "\n",
        "**Exemple**"
      ],
      "metadata": {
        "id": "zR6NCbL33sfb"
      }
    },
    {
      "cell_type": "code",
      "source": [
        "a = 1 + 2j\n",
        "print(a.real)\n",
        "print(a.imag)\n",
        "print(a.conjugate())"
      ],
      "metadata": {
        "colab": {
          "base_uri": "https://localhost:8080/"
        },
        "id": "5dDVvdbM32Jp",
        "outputId": "f273a87e-6333-49c5-c4c2-4d8718f94968"
      },
      "execution_count": null,
      "outputs": [
        {
          "output_type": "stream",
          "name": "stdout",
          "text": [
            "1.0\n",
            "2.0\n",
            "(1-2j)\n"
          ]
        }
      ]
    },
    {
      "cell_type": "markdown",
      "source": [
        "# Le module `math`\n",
        "\n",
        "Le module `math` de Python définit diverses fonctions mathématiques: trigonométrie, logarithmes, probabilité, statistiques, etc.\n",
        "\n",
        "Pour utiliser ce module dans un programme, nous devons d'abord l'importer.\n",
        "\n",
        "**Exemple**"
      ],
      "metadata": {
        "id": "hh6XgL-I4AXa"
      }
    },
    {
      "cell_type": "code",
      "source": [
        "# importer le module math\n",
        "import math\n",
        "\n",
        "print(math.pi)\n",
        "print(math.cos(math.pi))\n",
        "print(math.sqrt(2))\n",
        "print(math.exp(1))\n",
        "print(math.log10(1000))\n",
        "print(math.factorial(6))"
      ],
      "metadata": {
        "colab": {
          "base_uri": "https://localhost:8080/"
        },
        "id": "zaSbuP1g4J6A",
        "outputId": "a35ed176-0bd9-42b9-e926-edec9d39c788"
      },
      "execution_count": null,
      "outputs": [
        {
          "output_type": "stream",
          "name": "stdout",
          "text": [
            "3.141592653589793\n",
            "-1.0\n",
            "1.4142135623730951\n",
            "2.718281828459045\n",
            "3.0\n",
            "720\n"
          ]
        }
      ]
    },
    {
      "cell_type": "markdown",
      "source": [
        "Remarque: le type de données `complex` est géré dans le module `cmath` de Python."
      ],
      "metadata": {
        "id": "trWraXsQ4s1d"
      }
    },
    {
      "cell_type": "markdown",
      "source": [
        "# Nombres aléatoires\n",
        "\n",
        "La fonction `random()` génère un nombre réel aléatoire dans la plage `[0.0, 1.0]`.\n",
        "\n",
        "Cette fonction est définie dans le module Python `random`.\n",
        "\n",
        "Pour utiliser ce module dans un programme, nous devons d'abord l'importer.\n",
        "\n",
        "**Exemple**"
      ],
      "metadata": {
        "id": "npyY5QT540Uv"
      }
    },
    {
      "cell_type": "code",
      "source": [
        "# importer le module random\n",
        "import random\n",
        "\n",
        "print(random.random())"
      ],
      "metadata": {
        "colab": {
          "base_uri": "https://localhost:8080/"
        },
        "id": "Hyr9WHta5O_W",
        "outputId": "c87c74ba-3a2b-4944-dfb2-4488fc430b8e"
      },
      "execution_count": null,
      "outputs": [
        {
          "output_type": "stream",
          "name": "stdout",
          "text": [
            "0.8609444879130571\n"
          ]
        }
      ]
    }
  ]
}