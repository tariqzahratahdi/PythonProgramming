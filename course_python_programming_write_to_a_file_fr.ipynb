{
  "nbformat": 4,
  "nbformat_minor": 0,
  "metadata": {
    "colab": {
      "provenance": [],
      "authorship_tag": "ABX9TyN31e1cd0AcUG4eUu5rEDxv",
      "include_colab_link": true
    },
    "kernelspec": {
      "name": "python3",
      "display_name": "Python 3"
    },
    "language_info": {
      "name": "python"
    }
  },
  "cells": [
    {
      "cell_type": "markdown",
      "metadata": {
        "id": "view-in-github",
        "colab_type": "text"
      },
      "source": [
        "<a href=\"https://colab.research.google.com/github/tariqzahratahdi/PythonProgramming/blob/main/course_python_programming_write_to_a_file_fr.ipynb\" target=\"_parent\"><img src=\"https://colab.research.google.com/assets/colab-badge.svg\" alt=\"Open In Colab\"/></a>"
      ]
    },
    {
      "cell_type": "markdown",
      "source": [
        "# **Écrire dans un fichier**\n",
        "\n",
        "# Écrire dans un nouveau fichier\n",
        "\n",
        "On utilise la méthode **`write()`** pour écrire une chaîne dans un `file`.\n",
        "\n",
        "Une chaîne peut contenir des données binaires, pas seulement du texte.\n",
        "\n",
        "La méthode `write()` n'ajoute pas de caractère newline (`\\n`) à la fin de la chaîne.\n",
        "\n",
        "> *Syntaxe*\n",
        "<font size = \"5\">\n",
        "```python\n",
        "file_object.write(string)\n",
        "```\n",
        "</font>\n",
        "\n",
        "L'argument transmis à la méthode `write()` est le contenu qui sera écrit dans le `file`.\n",
        "\n",
        "**Exemple**"
      ],
      "metadata": {
        "id": "c04bdYkwVF6a"
      }
    },
    {
      "cell_type": "code",
      "execution_count": null,
      "metadata": {
        "id": "E7JePZjgVEB2"
      },
      "outputs": [],
      "source": [
        "# Open file\n",
        "f = open('tmp', 'w')\n",
        "data = \"\"\"Python is a powerful programming language.\n",
        "Some of its features are:\n",
        "effective approach to object-oriented programming,\n",
        "efficient high-level data structures,\n",
        "dynamic typing,\n",
        "elegant syntax,\n",
        "interpreted nature.\n",
        "\"\"\"\n",
        "\n",
        "# write data to file\n",
        "f.write(data)\n",
        "\n",
        "f.close()"
      ]
    },
    {
      "cell_type": "markdown",
      "source": [
        "# Écrire dans un nouveau fichier en mode binaire\n",
        "\n",
        "Pour gérer les fichiers de divers autres types tels que les médias (mp3), les exécutables (exe), les images (jpg), etc., le préfixe **`b`** est ajouté au mode de lecture ou d'écriture.\n",
        "\n",
        "**Exampl**: convertir un `str` en `bytes` et l'écrire  dans un fichier."
      ],
      "metadata": {
        "id": "35UOmSGcWrA4"
      }
    },
    {
      "cell_type": "code",
      "source": [
        "f = open('tmp', 'wb')\n",
        "data = b'Python programming'\n",
        "\n",
        "# write data to file\n",
        "f.write(data)\n",
        "\n",
        "f.close()"
      ],
      "metadata": {
        "id": "GSJ_4Trvb-wF"
      },
      "execution_count": null,
      "outputs": []
    },
    {
      "cell_type": "markdown",
      "source": [
        "On utilise également la méthode **`encode()`** pour convertir un `str` en `bytes`.\n",
        "\n",
        "**Exemple**"
      ],
      "metadata": {
        "id": "zzKbYdmEcWbo"
      }
    },
    {
      "cell_type": "code",
      "source": [
        "s = 'Python programming'\n",
        "data = s.encode('utf-8')\n",
        "print(type(data))"
      ],
      "metadata": {
        "colab": {
          "base_uri": "https://localhost:8080/"
        },
        "id": "Ogqso5GbcdSZ",
        "outputId": "1a63a6ac-d4f5-4cca-c200-493bdf85ef10"
      },
      "execution_count": null,
      "outputs": [
        {
          "output_type": "stream",
          "name": "stdout",
          "text": [
            "<class 'bytes'>\n"
          ]
        }
      ]
    },
    {
      "cell_type": "markdown",
      "source": [
        "# Ajouter à un fichier existant\n",
        "\n",
        "Pour ajouter des données à un fichier, on l'ouvre en mode ajout **`a`**.\n",
        "\n",
        "> *Syntaxe*\n",
        "<font size = \"5\">\n",
        "```python\n",
        "file_object = open(file_name, 'a')\n",
        "```\n",
        "</font>\n",
        "\n",
        "**Exemple**\n"
      ],
      "metadata": {
        "id": "PEHAQaWbcqCg"
      }
    },
    {
      "cell_type": "code",
      "source": [
        "f = open('tmp', 'w')\n",
        "data = 'Python programming \\n'\n",
        "f.write(data)\n",
        "f.close()\n",
        "\n",
        "# open file in append mode\n",
        "f = open('tmp', 'a')\n",
        "\n",
        "data = 'Python is a powerful programming language.'\n",
        "f.write(data)\n",
        "f.close()"
      ],
      "metadata": {
        "id": "ORXHQL7LdDei"
      },
      "execution_count": null,
      "outputs": []
    },
    {
      "cell_type": "markdown",
      "source": [
        "# Le mode lecture-écriture\n",
        "\n",
        "Lorsqu'un fichier est ouvert pour l'écriture (avec `w` ou `a`), il n'est pas possible d'effectuer une opération d'écriture à n'importe quelle position d'octet antérieure dans le fichier.\n",
        "\n",
        "Le mode `w+` permet d'utiliser les méthodes `write()` et `read()`  sans fermer un fichier.\n",
        "\n",
        "L'objet `file` prend en charge la fonction **`seek()`**  pour *rembobiner* le flux vers n'importe quelle position d'octet souhaitée.\n",
        "\n",
        "> *Syntaxe*\n",
        "<font size = \"5\">\n",
        "```python\n",
        "file_object.seek(offset[, whence])\n",
        "```\n",
        "</font>\n",
        "\n",
        "*Paramètres*\n",
        "\n",
        "* `offset`: il s'agit de la position du pointeur de lecture / écriture dans le fichier.\n",
        "* `whence`: c'est facultatif\n",
        "    * par défaut est 0: signifie positionnement de fichier absolu.\n",
        "    * valeur 1: signifie rechercher par rapport à la position actuelle.\n",
        "    * valeur 2: signifie rechercher par rapport à la fin du fichier.\n",
        "\n",
        "**Exemple**"
      ],
      "metadata": {
        "id": "UmTDwGJodbOP"
      }
    },
    {
      "cell_type": "code",
      "source": [
        "# Open file in read-write mode\n",
        "f = open('tmp', 'w+')\n",
        "data = \"This is a dog race\"\n",
        "f.write(data)\n",
        "\n",
        "# rewind the stream\n",
        "f.seek(10,0)\n",
        "\n",
        "data = \"cat\"\n",
        "f.write(data)\n",
        "f.close()"
      ],
      "metadata": {
        "id": "PHqdb-diht9D"
      },
      "execution_count": null,
      "outputs": []
    }
  ]
}