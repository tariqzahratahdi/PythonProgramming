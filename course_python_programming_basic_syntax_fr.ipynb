{
  "nbformat": 4,
  "nbformat_minor": 0,
  "metadata": {
    "colab": {
      "provenance": [],
      "authorship_tag": "ABX9TyPWcLlFTbXStuqEf1VACasU"
    },
    "kernelspec": {
      "name": "python3",
      "display_name": "Python 3"
    },
    "language_info": {
      "name": "python"
    }
  },
  "cells": [
    {
      "cell_type": "markdown",
      "source": [
        "# Syntaxe de base\n",
        "\n",
        "La syntaxe Python définit un ensemble de règles utilisées pour écrire un programme Python.\n",
        "\n",
        "Un programme Python est écrit dans un script qui est un fichier texte.\n",
        "\n",
        "L'extension d'un fichier de script python est `.py`\n",
        "\n",
        "Nous invoquons l'interprète Python pour exécuter un script.\n",
        "\n",
        "Dans le programme suivant, nous utilisons la fonction prédéfinie `print()` qui affiche un texte."
      ],
      "metadata": {
        "id": "ZUzueF-CRVxq"
      }
    },
    {
      "cell_type": "code",
      "execution_count": null,
      "metadata": {
        "colab": {
          "base_uri": "https://localhost:8080/"
        },
        "id": "c2ojLsR-RUWw",
        "outputId": "e47fe3f6-29e0-49e8-c0b0-fdaaf11e5105"
      },
      "outputs": [
        {
          "output_type": "stream",
          "name": "stdout",
          "text": [
            "Hello World!\n"
          ]
        }
      ],
      "source": [
        "print('Hello World!')"
      ]
    },
    {
      "cell_type": "markdown",
      "source": [
        "# Identifiant\n",
        "\n",
        "Un identifiant est un nom utilisé pour identifier une variable, une fonction, une classe, un module ou un autre objet.\n",
        "\n",
        "Un identifiant commence par une lettre ou le caractère de soulignement (`_`), éventuellement suivis de lettres, de soulignements ou de nombres.\n",
        "\n",
        "Un identifiant est sensible à la casse et ne doit pas être un mot réservé Python."
      ],
      "metadata": {
        "id": "-pdvXv-3SqO7"
      }
    },
    {
      "cell_type": "markdown",
      "source": [
        "# Mots réservés\n",
        "\n",
        "La liste suivante énumère les mots clés Python. Ces mots réservés ne peuvent pas être utilisés comme identifiants.\n",
        "\n",
        "<table>\n",
        "<tr> <td> and </td> <td> False </td> <td> non-local </td> </tr>\n",
        "<tr> <td> as </td> <td> finally </td> <td> pas </td> </tr>\n",
        "<tr> <td> assert </td> <td> for </td> <td> or </td> </tr>\n",
        "<tr> <td> break </td> <Td> from </td> <td> pass\n",
        "<tr> <td> class </td> <Td> global </td> <Td> raise </td> </tr>\n",
        "<tr> <td> continue </td> <td> if </td> <td> return </td> </tr>\n",
        "<tr> <td> def </td> <td> import </td> <td> True </td> </tr>\n",
        "<tr> <td> del </td> <td> in </td> <td> try </td> </tr>\n",
        "<tr> <td> elif </td> <td> is </td> <td> while </td> </tr>\n",
        "<tr> <td> else </td> <td> lambda </td> <td> with </td> </tr>\n",
        "<tr> <td> except </td> <td> None </td> <td> yield </td> </tr>\n",
        "</ table>\n"
      ],
      "metadata": {
        "id": "3hgCyiuvTHDs"
      }
    },
    {
      "cell_type": "markdown",
      "source": [
        "# Conventions de nommage\n",
        "\n",
        "Un nom de classe Python commence par une lettre majuscule. Tous les autres identifiants commencent par une lettre minuscule.\n",
        "\n",
        "Exemple: `MyClass`\n",
        "\n",
        "Un identifiant privé commence par un seul caractère de soulignement.\n",
        "\n",
        "Exemple: `_aaa`\n",
        "\n",
        "Un identifiant fortement privé commence par deux personnages de soulignement.\n",
        "\n",
        "Exemple: `__aaa`\n",
        "\n",
        "Un identifiant réservé spécial commence par deux personnages de soulignement et se termine par deux caractères de soulignement.\n",
        "\n",
        "Exemple: `__aaa__`"
      ],
      "metadata": {
        "id": "s93J4I83WY-x"
      }
    },
    {
      "cell_type": "markdown",
      "source": [
        "# Style de nommage\n",
        "\n",
        "On doit utiliser un style de nommage cohérent.\n",
        "\n",
        "Dans ce cours, nous utiliserons le style de nommage suivant:\n",
        "\n",
        "`my_variable_name` pour les variables.\n",
        "\n",
        "`MY_CONSTANT_NAME` pour les constantes.\n",
        "\n",
        "`my_function`, `my_method` pour les fonctions et les méthodes.\n",
        "\n",
        "`MyClass` pour les classes.\n",
        "\n",
        "`module_name` pour les modules et tous les autres identifiants.\n"
      ],
      "metadata": {
        "id": "Hx2szhXNW3oo"
      }
    },
    {
      "cell_type": "markdown",
      "source": [
        "# Indentation de ligne\n",
        "\n",
        "Dans un programme Python, on n'utilise pas les accolades `{...}` pour délimiter les blocs d'instruction.\n",
        "\n",
        "Un bloc d'instruction est indiqués par une **indentation de ligne**, qui est strictement appliquée. Le nombre d'espaces dans l'indentation doit être le même dans un bloc.\n",
        "\n",
        "**Exemple**"
      ],
      "metadata": {
        "id": "xfirBBaxYUwl"
      }
    },
    {
      "cell_type": "code",
      "source": [
        "condition = False\n",
        "if condition :\n",
        "   print ('Answer')\n",
        "   print ('True')\n",
        "else :\n",
        "   print ('Answer')\n",
        "   print ('False')"
      ],
      "metadata": {
        "colab": {
          "base_uri": "https://localhost:8080/"
        },
        "id": "D1KThvlNYuZ7",
        "outputId": "d07a331e-95da-4741-e729-e336d377ef2e"
      },
      "execution_count": null,
      "outputs": [
        {
          "output_type": "stream",
          "name": "stdout",
          "text": [
            "Answer\n",
            "False\n"
          ]
        }
      ]
    },
    {
      "cell_type": "markdown",
      "source": [
        "# Déclaration multi-lignes\n",
        "\n",
        "Les instructions Python se terminent généralement par une nouvelle ligne.\n",
        "\n",
        "Cependant, on peut utiliser le caractère de continuation de ligne (`\\`) pour indiquer la poursuite de la ligne.\n",
        "\n",
        "**Exemple**"
      ],
      "metadata": {
        "id": "nwesDuGKY7nt"
      }
    },
    {
      "cell_type": "code",
      "source": [
        "total = item_one + \\\n",
        "        item_two + \\\n",
        "        item_three"
      ],
      "metadata": {
        "id": "eMyELAaHZElZ"
      },
      "execution_count": null,
      "outputs": []
    },
    {
      "cell_type": "markdown",
      "source": [
        "Les instructions enfermées entre crochets `[...]`, accolades `{...}`, ou parentheses `(...)` n'ont pas besoin d'utiliser le caractère de continuation de ligne.\n",
        "\n",
        "**Exemple**"
      ],
      "metadata": {
        "id": "DtvA_kAxZLoR"
      }
    },
    {
      "cell_type": "code",
      "source": [
        "days = ['Monday', 'Tuesday', 'Wednesday',\n",
        "        'Thursday', 'Friday']"
      ],
      "metadata": {
        "id": "N1K_tfDpZXeW"
      },
      "execution_count": null,
      "outputs": []
    },
    {
      "cell_type": "markdown",
      "source": [
        "# Chaîne de caractères\n",
        "\n",
        "Dans un programme Python, pour délimiter une chaîne de caractères, on utilise des guillemets simples (`'`), des guillemets doubles (`\"`) et des guillemets triples (`'''`) ou (`\"\"\" `).\n",
        "\n",
        "**Exemple**"
      ],
      "metadata": {
        "id": "8Db7Ad_SZrd3"
      }
    },
    {
      "cell_type": "code",
      "source": [
        "word = 'word'\n",
        "print(word)\n",
        "\n",
        "sentence = \"This is a sentence.\"\n",
        "print(sentence)\n",
        "\n",
        "paragraph = \"\"\"This is a paragraph. It is\n",
        "made up of multiple lines and sentences.\"\"\"\n",
        "print(paragraph)"
      ],
      "metadata": {
        "colab": {
          "base_uri": "https://localhost:8080/"
        },
        "id": "_Lxe6ytBZ_sF",
        "outputId": "72853cfb-0679-42ef-94b8-aedb7ea02a9c"
      },
      "execution_count": null,
      "outputs": [
        {
          "output_type": "stream",
          "name": "stdout",
          "text": [
            "word\n",
            "This is a sentence.\n",
            "This is a paragraph. It is\n",
            "made up of multiple lines and sentences.\n"
          ]
        }
      ]
    },
    {
      "cell_type": "markdown",
      "source": [
        "# Commentaires\n",
        "\n",
        "Un commentaire commence par le caractère dièse (`#`). Il est ignoré par l'interpréteur Python.\n",
        "\n",
        "Pour écrire un commentaire multi-lignes, nous utilisons des citations triples.\n",
        "\n",
        "**Exemple**"
      ],
      "metadata": {
        "id": "X8IL8VMqaSBc"
      }
    },
    {
      "cell_type": "code",
      "source": [
        "# Premier commentaire\n",
        "print(\"Hello, World!\")   # Deuxième commentaire\n",
        "\n",
        "'''\n",
        "This is a multiline\n",
        "comment.\n",
        "'''"
      ],
      "metadata": {
        "id": "ZgHt0sRPaYMf"
      },
      "execution_count": null,
      "outputs": []
    },
    {
      "cell_type": "markdown",
      "source": [
        "# Plusieurs déclarations sur une seule ligne\n",
        "\n",
        "Le point-virgule (`;`) est utilisé pour séparer plusieurs instructions écrites sur une seule ligne, étant donné qu'aucune des instructions ne commence un nouveau bloc d'instructions.\n",
        "\n",
        "**Exemple**"
      ],
      "metadata": {
        "id": "z53aGHddbFiE"
      }
    },
    {
      "cell_type": "code",
      "source": [
        "side = 12; perimeter = 4 * side; area = side * side"
      ],
      "metadata": {
        "id": "k6txMcBzbMNh"
      },
      "execution_count": null,
      "outputs": []
    },
    {
      "cell_type": "markdown",
      "source": [
        "# Groupe d'instructions en tant que suite\n",
        "\n",
        "Une *suite* désigne un groupe d'instructions individuelles qui constituent un seul bloc de code.\n",
        "\n",
        "Une instruction composée ou complexe, telles que `if`, `while`, `def` ou `class`, est constituée d'une *ligne d'en-tête* et d'une *suite*.\n",
        "\n",
        "La ligne  d'en-tête commence par le mot-clé et se termine par le caractère côlon (`:`).\n",
        "\n",
        "L'instruction composée commence par la ligne d'en-tête  et est suivie d'une ou plusieurs lignes qui composent la suite.\n",
        "\n",
        "**Exemple**"
      ],
      "metadata": {
        "id": "69il14w0bVOy"
      }
    },
    {
      "cell_type": "code",
      "source": [
        "condition = True\n",
        "if condition :\n",
        "   print ('Answer')\n",
        "   print ('True')\n",
        "else :\n",
        "   print ('Answer')\n",
        "   print ('False')"
      ],
      "metadata": {
        "id": "l-7jDqn6krFr"
      },
      "execution_count": null,
      "outputs": []
    }
  ]
}