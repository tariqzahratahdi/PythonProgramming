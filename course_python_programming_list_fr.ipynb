{
  "nbformat": 4,
  "nbformat_minor": 0,
  "metadata": {
    "colab": {
      "provenance": [],
      "authorship_tag": "ABX9TyOgQ6JaGvwyrQ6VaEzukwF2",
      "include_colab_link": true
    },
    "kernelspec": {
      "name": "python3",
      "display_name": "Python 3"
    },
    "language_info": {
      "name": "python"
    }
  },
  "cells": [
    {
      "cell_type": "markdown",
      "metadata": {
        "id": "view-in-github",
        "colab_type": "text"
      },
      "source": [
        "<a href=\"https://colab.research.google.com/github/tariqzahratahdi/PythonProgramming/blob/main/course_python_programming_list_fr.ipynb\" target=\"_parent\"><img src=\"https://colab.research.google.com/assets/colab-badge.svg\" alt=\"Open In Colab\"/></a>"
      ]
    },
    {
      "cell_type": "markdown",
      "source": [
        "# **Liste**\n",
        "\n",
        "# Type de données **`list`**\n",
        "\n",
        "Le type de données prédéfini **`list`** est un type de données de collection.\n",
        "\n",
        "Un `list` est une collection ordonnée d'éléments.\n",
        "\n",
        "Les éléments d'un `list` ont un index de position commençant à partir de la valeur 0.\n",
        "\n",
        "Une variable `list` se compose d'éléments séparés par des virgules et délimités par des crochets `[ ]`.\n",
        "\n",
        "Exemple\n",
        "\n",
        "`data = [2, 3, 5, 7]`\n",
        "\n",
        "Le type de données `list` est conceptuellement similaire au type array, mais contrairement à un array, les éléments d'un `list` peuvent être de types différents.\n",
        "\n",
        "Un `list` Python est borné et itérable: on peut itérer sur ses éléments dans une boucle `for`.\n",
        "\n",
        "*Liste imbriquée*\n",
        "\n",
        "Un `list` peut avoir un élément de type `list`.\n",
        "\n",
        "*Accès*\n",
        "\n",
        "On accède aux éléments d'un `list` à l'aide des opérateurs `[ ]` et `[:]` .\n",
        "\n",
        "*Découpage*\n",
        "\n",
        "On découpe un `list` en utilisant le format suivant:\n",
        "\n",
        "`my_list[start:end:step])`\n",
        "\n",
        "`start` (facultatif): index de démarrage (inclus). Par défaut `0` s'il est omis.\n",
        "\n",
        "`end` (facultatif): index d'arrêt (exclusif). Par défaut, l'index de fin de la liste s'il est omis.\n",
        "\n",
        "`step` (facultatif): intervalle entre les indices (le pas d'incrémentation). Une valeur positive découpe de gauche à droite, tandis qu'une valeur négative découpe de droite à gauche. S'il est omis, il est par défaut `1` (pas de saut d'éléments).\n",
        "\n",
        "*Opérations*\n",
        "\n",
        "L'opérateur de concaténation est le symbole `+`\n",
        "\n",
        "L'opérateur de répétition est le symbole `*`\n",
        "\n",
        "L'opérateur d'appartenance est `in`\n",
        "\n",
        "L'opérateur non-appartenance est `not in`\n",
        "\n",
        "| Expression | Résultat | Description |\n",
        "|: --- |: --- |: --- |\n",
        "| `[1, 2, 3] + [4, 5, 6]` | `[1, 2, 3, 4, 5, 6]` | Concaténation |\n",
        "| `['A'] * 3` | `['a', 'a', 'a']` | Répétition |\n",
        "| `3 in [1, 2, 3]` | `True` | Appartenance |\n",
        "\n",
        "** Exemple **: séquence de Fibonacci"
      ],
      "metadata": {
        "id": "D9B3E9nMu5c-"
      }
    },
    {
      "cell_type": "code",
      "execution_count": null,
      "metadata": {
        "colab": {
          "base_uri": "https://localhost:8080/"
        },
        "id": "R0a3nADFu1Tb",
        "outputId": "efd930c0-7e61-4f9e-972b-99b28af3395d"
      },
      "outputs": [
        {
          "output_type": "stream",
          "name": "stdout",
          "text": [
            "[1, 2, 3, 5, 8, 13, 21, 34, 55, 89, 144]\n"
          ]
        }
      ],
      "source": [
        "data = [1,2]\n",
        "for k in range(2, 11, 1) :\n",
        "  data += [data[k-1] + data[k-2]]\n",
        "print(data)"
      ]
    },
    {
      "cell_type": "markdown",
      "source": [
        "# Ajouter des éléments à un **`list`**\n",
        "\n",
        "La méthode **`append()`** permet d'ajouter des éléments à la fin d'un `list`.\n",
        "\n",
        "**Exemple**"
      ],
      "metadata": {
        "id": "dEJgaPA7xX9x"
      }
    },
    {
      "cell_type": "code",
      "source": [
        "fruits = ['apple', 'banana', 'orange']\n",
        "print('Original list:')\n",
        "print(fruits)\n",
        "\n",
        "# using append method\n",
        "fruits.append('cherry')\n",
        "\n",
        "print('Updated list:')\n",
        "print(fruits)"
      ],
      "metadata": {
        "colab": {
          "base_uri": "https://localhost:8080/"
        },
        "id": "7Cnj2ct4xiI8",
        "outputId": "ff55b109-4702-4295-d682-ee7dc7275701"
      },
      "execution_count": null,
      "outputs": [
        {
          "output_type": "stream",
          "name": "stdout",
          "text": [
            "Original list:\n",
            "['apple', 'banana', 'orange']\n",
            "Updated list:\n",
            "['apple', 'banana', 'orange', 'cherry']\n"
          ]
        }
      ]
    },
    {
      "cell_type": "markdown",
      "source": [
        "# Insérer des éléments dans un **`list`**\n",
        "\n",
        "La méthode **`insert()`** permet d'insérer un élément dans un `list` à un index (position) donné.\n",
        "\n",
        "**Exemple**"
      ],
      "metadata": {
        "id": "4VaaNvbKx_t0"
      }
    },
    {
      "cell_type": "code",
      "source": [
        "fruits = ['apple', 'banana', 'orange']\n",
        "print('Original list:')\n",
        "print(fruits)\n",
        "\n",
        "# insert 'cherry' at index 2\n",
        "fruits.insert(2, 'cherry')\n",
        "\n",
        "print('Updated list:')\n",
        "print(fruits)"
      ],
      "metadata": {
        "colab": {
          "base_uri": "https://localhost:8080/"
        },
        "id": "t-wNeKA8yMYi",
        "outputId": "0c893706-adb1-4beb-f8a2-4c1ce91021ba"
      },
      "execution_count": null,
      "outputs": [
        {
          "output_type": "stream",
          "name": "stdout",
          "text": [
            "Original list:\n",
            "['apple', 'banana', 'orange']\n",
            "Updated list:\n",
            "['apple', 'banana', 'cherry', 'orange']\n"
          ]
        }
      ]
    },
    {
      "cell_type": "markdown",
      "source": [
        "# Étendre un **`list`**\n",
        "\n",
        "La méthode **`extend()`** permet d'ajouter les éléments d'un `list` à un autre `list`.\n",
        "\n",
        "**Exemple**"
      ],
      "metadata": {
        "id": "1tpxRuh3ya0Z"
      }
    },
    {
      "cell_type": "code",
      "source": [
        "fruits = ['apple', 'banana', 'orange']\n",
        "print('Original List:')\n",
        "print(fruits)\n",
        "more_fruits = ['cherry', 'kiwi', 'peach']\n",
        "\n",
        "# adding elements of one list to another\n",
        "fruits.extend(more_fruits)\n",
        "\n",
        "print('Updated List:')\n",
        "print(fruits)"
      ],
      "metadata": {
        "colab": {
          "base_uri": "https://localhost:8080/"
        },
        "id": "TuYWy2oTyq8o",
        "outputId": "8515dbc1-e4da-4caf-f5ad-6858c19d69dd"
      },
      "execution_count": null,
      "outputs": [
        {
          "output_type": "stream",
          "name": "stdout",
          "text": [
            "Original List:\n",
            "['apple', 'banana', 'orange']\n",
            "Updated List:\n",
            "['apple', 'banana', 'orange', 'cherry', 'kiwi', 'peach']\n"
          ]
        }
      ]
    },
    {
      "cell_type": "markdown",
      "source": [
        "# Modifier les éléments d'un **`list`**\n",
        "\n",
        "L'opérateur d'affectation `=` est utilisé pour attribuer une valeur à un élément d'un `list`.\n",
        "\n",
        "**Exemple**"
      ],
      "metadata": {
        "id": "Ex2qHOOKy-Zq"
      }
    },
    {
      "cell_type": "code",
      "source": [
        "colors = ['Red', 'Green', 'Yellow']\n",
        "print('Original List:',)\n",
        "print(colors)\n",
        "\n",
        "# changing the third item to 'Blue'\n",
        "colors[2] = 'Blue'\n",
        "\n",
        "print('Updated List:')\n",
        "print(colors)"
      ],
      "metadata": {
        "colab": {
          "base_uri": "https://localhost:8080/"
        },
        "id": "DM9LRFcvzHGF",
        "outputId": "ab74ffd0-c9e4-4624-bf8f-5ba17b5d36f2"
      },
      "execution_count": null,
      "outputs": [
        {
          "output_type": "stream",
          "name": "stdout",
          "text": [
            "Original List:\n",
            "['Red', 'Green', 'Yellow']\n",
            "Updated List:\n",
            "['Red', 'Green', 'Blue']\n"
          ]
        }
      ]
    },
    {
      "cell_type": "markdown",
      "source": [
        "# Supprimer un élément d'un **`list`**\n",
        "\n",
        "La méthode **`remove()`** permet de supprimer un élément d'un `list`.\n",
        "\n",
        "**Exemple**"
      ],
      "metadata": {
        "id": "-dwwUF3f0v4y"
      }
    },
    {
      "cell_type": "code",
      "source": [
        "colors = ['Red', 'Green', 'Yellow', 'Blue']\n",
        "print('Original List:')\n",
        "print(colors)\n",
        "\n",
        "# remove item Yellow from the list\n",
        "colors.remove('Yellow')\n",
        "\n",
        "print('Updated List:')\n",
        "print(colors)"
      ],
      "metadata": {
        "colab": {
          "base_uri": "https://localhost:8080/"
        },
        "id": "jYtDRaXg0_5R",
        "outputId": "2e37eb96-882a-4eba-b60d-64a9e5e08856"
      },
      "execution_count": null,
      "outputs": [
        {
          "output_type": "stream",
          "name": "stdout",
          "text": [
            "Original List:\n",
            "['Red', 'Green', 'Yellow', 'Blue']\n",
            "Updated List:\n",
            "['Red', 'Green', 'Blue']\n"
          ]
        }
      ]
    },
    {
      "cell_type": "markdown",
      "source": [
        "La méthode **`pop()`** est utilisée pour supprimer et renvoyer un élément de l'index spécifié d'un `liste`.\n",
        "\n",
        "**Exemple**"
      ],
      "metadata": {
        "id": "Xa3TNSGZ1KqN"
      }
    },
    {
      "cell_type": "code",
      "source": [
        "colors = ['Red', 'Green', 'Yellow', 'Blue']\n",
        "print('Original List:')\n",
        "print(colors)\n",
        "\n",
        "# remove item Yellow from the list\n",
        "element = colors.pop(2)\n",
        "\n",
        "print('Updated List:')\n",
        "print(colors)\n",
        "print('popped element:')\n",
        "print(element)"
      ],
      "metadata": {
        "colab": {
          "base_uri": "https://localhost:8080/"
        },
        "id": "IKCOErmn1QV3",
        "outputId": "090588a2-36ca-4457-be7e-4d912f8ef4c0"
      },
      "execution_count": null,
      "outputs": [
        {
          "output_type": "stream",
          "name": "stdout",
          "text": [
            "Original List:\n",
            "['Red', 'Green', 'Yellow', 'Blue']\n",
            "Updated List:\n",
            "['Red', 'Green', 'Blue']\n",
            "popped element:\n",
            "Yellow\n"
          ]
        }
      ]
    },
    {
      "cell_type": "markdown",
      "source": [
        "# Supprimer tous les éléments\n",
        "\n",
        "La méthode **`clear()`** permet de supprimer tous les éléments d'une `listes '.\n",
        "\n",
        "**Exemple**"
      ],
      "metadata": {
        "id": "Sey2xon81kGt"
      }
    },
    {
      "cell_type": "code",
      "source": [
        "colors = ['Red', 'Green', 'Blue']\n",
        "print('Original List:')\n",
        "print(colors)\n",
        "\n",
        "# remove all items from the list\n",
        "colors.clear()\n",
        "\n",
        "print('Updated List:')\n",
        "print(colors)"
      ],
      "metadata": {
        "colab": {
          "base_uri": "https://localhost:8080/"
        },
        "id": "qE4HVodU1vKh",
        "outputId": "670bc515-40a3-491b-a6a1-de648d282492"
      },
      "execution_count": null,
      "outputs": [
        {
          "output_type": "stream",
          "name": "stdout",
          "text": [
            "Original List:\n",
            "['Red', 'Green', 'Blue']\n",
            "Updated List:\n",
            "[]\n"
          ]
        }
      ]
    },
    {
      "cell_type": "markdown",
      "source": [
        "# Supprimer un intervalle d'éléments\n",
        "\n",
        "L'instruction **`del`** permet de supprimer un ou plusieurs éléments d'un `liste`.\n",
        "\n",
        "**Exemple**"
      ],
      "metadata": {
        "id": "UDXGcWm_2DHe"
      }
    },
    {
      "cell_type": "code",
      "source": [
        "colors = ['Red', 'Green', 'Blue', 'Cyan', 'Magenta', 'Yellow', 'Black']\n",
        "print('Original List:')\n",
        "print(colors)\n",
        "\n",
        "# delete 4th item\n",
        "del colors[3]\n",
        "\n",
        "print('Updated List:')\n",
        "print(colors)\n",
        "\n",
        "# delete items from 4th to 6th\n",
        "del colors[3:6]\n",
        "\n",
        "print('Updated List:')\n",
        "print(colors)"
      ],
      "metadata": {
        "colab": {
          "base_uri": "https://localhost:8080/"
        },
        "id": "BddbEChZ2JaD",
        "outputId": "278b0a1a-37c8-4cc9-ee27-ac5dff4a43ac"
      },
      "execution_count": null,
      "outputs": [
        {
          "output_type": "stream",
          "name": "stdout",
          "text": [
            "Original List:\n",
            "['Red', 'Green', 'Blue', 'Cyan', 'Magenta', 'Yellow', 'Black']\n",
            "Updated List:\n",
            "['Red', 'Green', 'Blue', 'Magenta', 'Yellow', 'Black']\n",
            "Updated List:\n",
            "['Red', 'Green', 'Blue']\n"
          ]
        }
      ]
    },
    {
      "cell_type": "markdown",
      "source": [
        "L'instruction `del` peut être utilisée pour supprimer tous les éléments d'un `liste`.\n",
        "\n",
        "**Exemple**"
      ],
      "metadata": {
        "id": "nj-o1-J72fAI"
      }
    },
    {
      "cell_type": "code",
      "source": [
        "colors = ['Red', 'Green', 'Blue']\n",
        "print('Original List:')\n",
        "print(colors)\n",
        "\n",
        "# remove all items from the list\n",
        "del colors[:]\n",
        "\n",
        "print('Updated List:')\n",
        "print(colors)"
      ],
      "metadata": {
        "colab": {
          "base_uri": "https://localhost:8080/"
        },
        "id": "hs-apXSD2imp",
        "outputId": "1b647991-d887-4426-ca41-a9f19f284c29"
      },
      "execution_count": null,
      "outputs": [
        {
          "output_type": "stream",
          "name": "stdout",
          "text": [
            "Original List:\n",
            "['Red', 'Green', 'Blue']\n",
            "Updated List:\n",
            "[]\n"
          ]
        }
      ]
    },
    {
      "cell_type": "markdown",
      "source": [
        "# Longueur d'un **`list`**\n",
        "\n",
        "La longueur d'un `list` est le nombre d'éléments qui le composent.\n",
        "\n",
        "La fonction **`len()`** donne la longueur d'un `liste`.\n",
        "\n",
        "**Exemple**"
      ],
      "metadata": {
        "id": "H40boX0S2sgX"
      }
    },
    {
      "cell_type": "code",
      "source": [
        "colors = ['Red', 'Green', 'Blue']\n",
        "print('Total elements:', len(colors))"
      ],
      "metadata": {
        "colab": {
          "base_uri": "https://localhost:8080/"
        },
        "id": "V26boKKx22V2",
        "outputId": "823258c2-7d3c-473e-942e-ccdcfaa96ab0"
      },
      "execution_count": null,
      "outputs": [
        {
          "output_type": "stream",
          "name": "stdout",
          "text": [
            "Total elements: 3\n"
          ]
        }
      ]
    },
    {
      "cell_type": "markdown",
      "source": [
        "# Itération sur les élémentd d'un **`list`**\n",
        "\n",
        "Une `liste` est limitée et itérable: on peur parcourir ses éléments dans une boucle `for`.\n",
        "\n",
        "On utilise l'opérateur d'appartenance **`in`** pour itérer sur les éléments d'un `liste`.\n",
        "\n",
        "**Exemple**"
      ],
      "metadata": {
        "id": "RtLCqkqI3Abw"
      }
    },
    {
      "cell_type": "code",
      "source": [
        "fruits = ['apple', 'banana', 'orange']\n",
        "\n",
        "# iterate through the list\n",
        "for item in fruits:\n",
        "   print(item)"
      ],
      "metadata": {
        "colab": {
          "base_uri": "https://localhost:8080/"
        },
        "id": "UY4_evER3RPd",
        "outputId": "6b35bff6-bf3a-481c-dc3e-931305b0cc07"
      },
      "execution_count": null,
      "outputs": [
        {
          "output_type": "stream",
          "name": "stdout",
          "text": [
            "apple\n",
            "banana\n",
            "orange\n"
          ]
        }
      ]
    },
    {
      "cell_type": "markdown",
      "source": [
        "## Itération sur deux listes simultanément\n",
        "\n",
        "Nous utilisons la fonction intégrée `zip()` pour itérer sur deux listes simultanément.\n",
        "\n",
        "La fonction `zip()` s'arrête à la liste la plus courte si elles ne sont pas de même longueur."
      ],
      "metadata": {
        "id": "cDOCYSDuoLCc"
      }
    },
    {
      "cell_type": "code",
      "source": [
        "fruits = ['apple', 'banana', 'orange']\n",
        "prices = [1, 2, 3]\n",
        "\n",
        "for fruit, price in zip(fruits, prices) :\n",
        "  print(fruit, price)"
      ],
      "metadata": {
        "id": "RkNiX7tJoXk_",
        "outputId": "2efa5c26-1afc-4891-d77d-d9e25b815f0c",
        "colab": {
          "base_uri": "https://localhost:8080/"
        }
      },
      "execution_count": null,
      "outputs": [
        {
          "output_type": "stream",
          "name": "stdout",
          "text": [
            "apple 1\n",
            "banana 2\n",
            "orange 3\n"
          ]
        }
      ]
    },
    {
      "cell_type": "markdown",
      "source": [
        "# Tri un **`list`**\n",
        "\n",
        "La méthode **`sort()`** est utilisée pour trier une liste.\n",
        "\n",
        "**Exemple**"
      ],
      "metadata": {
        "id": "TVSPfteM3k5j"
      }
    },
    {
      "cell_type": "code",
      "source": [
        "primes = [11, 3, 7, 5, 2]\n",
        "\n",
        "# sort the list in ascending order\n",
        "primes.sort()\n",
        "\n",
        "print(primes)"
      ],
      "metadata": {
        "colab": {
          "base_uri": "https://localhost:8080/"
        },
        "id": "8H-n5RIE3ubI",
        "outputId": "cb072ea4-a797-4ed9-f3d3-ff341d2f967f"
      },
      "execution_count": null,
      "outputs": [
        {
          "output_type": "stream",
          "name": "stdout",
          "text": [
            "[2, 3, 5, 7, 11]\n"
          ]
        }
      ]
    },
    {
      "cell_type": "markdown",
      "source": [
        "# Liste par Compréhension\n",
        "\n",
        "Définir un `list` par compréhension est un moyen efficace de créer un `list`.\n",
        "\n",
        "Il permet de générer un nouveau `liste` en appliquant une expression à chaque élément dans un itérable, incluant éventuellement une condition pour filtrer les éléments.\n",
        "\n",
        "**Exemple**"
      ],
      "metadata": {
        "id": "o7_ZT8_F33mg"
      }
    },
    {
      "cell_type": "code",
      "source": [
        "nums = [1, 2, 3, 4]\n",
        "squares = [ n * n for n in nums ]\n",
        "print(squares)"
      ],
      "metadata": {
        "colab": {
          "base_uri": "https://localhost:8080/"
        },
        "id": "bHtNJkag4DFj",
        "outputId": "ffc44d00-11f2-4f77-8fd7-d1f7014a6d04"
      },
      "execution_count": null,
      "outputs": [
        {
          "output_type": "stream",
          "name": "stdout",
          "text": [
            "[1, 4, 9, 16]\n"
          ]
        }
      ]
    },
    {
      "cell_type": "markdown",
      "source": [
        "**Exemple**: condition aux éléments de filtre."
      ],
      "metadata": {
        "id": "0iO1Cxdn4Se5"
      }
    },
    {
      "cell_type": "code",
      "source": [
        "# Squares of even numbers in a range\n",
        "squares = [n * n for n in range(10) if n % 2 == 0]\n",
        "print(squares)"
      ],
      "metadata": {
        "colab": {
          "base_uri": "https://localhost:8080/"
        },
        "id": "QGiIUMsZ4UmE",
        "outputId": "ff35f2dc-9e2e-40d2-ece3-4bcd4f344041"
      },
      "execution_count": null,
      "outputs": [
        {
          "output_type": "stream",
          "name": "stdout",
          "text": [
            "[0, 4, 16, 36, 64]\n"
          ]
        }
      ]
    },
    {
      "cell_type": "markdown",
      "source": [
        "# Méthodes de liste\n",
        "\n",
        "Voici les méthodes d'ajout de nouveaux d'éléments dans un `liste`.\n",
        "\n",
        "| Méthode | Description |\n",
        "|: --- |: --- |\n",
        "| `list.append(obj)` | Ajoute objet obj à la liste.|\n",
        "| `list.extend(seq)` | Ajoute le contenu de la séquence seq à list.|\n",
        "| `list.insert(index, obj)` | Insère l'objet obj dans la liste à l'index de décalage.|\n",
        "\n",
        "Voici les méthodes spécialement conçues pour supprimer des éléments d'un `list`.\n",
        "\n",
        "| Méthode | Description |\n",
        "|: --- |: --- |\n",
        "| `list.clear()` | Efface tous les contenus de la liste.|\n",
        "| `list.pop(obj = list[-1])` | Supprime et renvoie le dernier objet ou l'objet à l'index spécifié de la liste.|\n",
        "| `list.remove (obj)` | Supprime la première occurrence de l'objet obj de la liste.|\n",
        "\n",
        "Voici les méthodes utilisées pour trouver ou compter les éléments dans un `liste`.\n",
        "\n",
        "| Méthode | Description |\n",
        "|: --- |: --- |\n",
        "| `list.index(obj)` | Renvoie le plus petit index où obj apparaît dans la liste. |\n",
        "| `list.count(obj)` | Renvoie le nombre du nombre de fois obj apparait dans la liste.|\n",
        "\n",
        "Voici les méthodes utilisées pour créer des copies et organiser des éléments dans un `liste`.\n",
        "\n",
        "| Méthode | Description |\n",
        "|: --- |: --- |\n",
        "| `list.copy()` | Renvoie une copie de l'objet de liste.|\n",
        "| `list.sort([func]) `| Trie les objets dans la liste en place, en utilisant une fonction de comparaison si elle est fournie.|\n",
        "| `list.reverse()` | Inverse l'ordre des objets dans la liste en place.|"
      ],
      "metadata": {
        "id": "QK_SNmmF4rYt"
      }
    }
  ]
}