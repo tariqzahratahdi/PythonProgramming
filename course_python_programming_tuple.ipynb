{
  "nbformat": 4,
  "nbformat_minor": 0,
  "metadata": {
    "colab": {
      "provenance": [],
      "authorship_tag": "ABX9TyOvasR8DxPmGrNQ2BU3OFvu"
    },
    "kernelspec": {
      "name": "python3",
      "display_name": "Python 3"
    },
    "language_info": {
      "name": "python"
    }
  },
  "cells": [
    {
      "cell_type": "markdown",
      "source": [
        "# **Tuple**\n",
        "\n",
        "# **`tuple`** Data Type\n",
        "\n",
        "The predefined data type **`tuple`** is a collection data type.\n",
        "\n",
        "A `tuple` is an ordered collection of elements.\n",
        "\n",
        "The elements of a `tuple` have a position index starting with the value `0`.\n",
        "\n",
        "A `tuple` variable consists of elements separated by commas and delimited by parenthesis `( )`.\n",
        "\n",
        "**Example**\n",
        "\n",
        "`data = (2, 3, 5, 7)`\n",
        "\n",
        "*Nested `tuple`*\n",
        "\n",
        "A `tuple` can have one element of type `tuple`.\n",
        "\n",
        "*Access*\n",
        "\n",
        "You access the elements of a `tuple` using the `[ ]` and `[:]` operators.\n",
        "\n",
        "*Slicing*\n",
        "\n",
        "We slice a `tuple` using the following form:\n",
        "\n",
        "`my_tuple[start:end:step])`\n",
        "\n",
        "`start` (optional): starting index (inclusive). Defaults to `0` if omitted.\n",
        "\n",
        "`end` (optional): stopping index (exclusive). Defaults to the end of the string if omitted.\n",
        "\n",
        "`step` (optional): interval between indices. A positive value slices from left to right, while a negative value slices from right to left. If omitted, it defaults to `1` (no skipping of characters).\n",
        "\n",
        "*Operations*\n",
        "\n",
        "The concatenation operator is the symbol `+`\n",
        "\n",
        "The repetition operator is the symbol `*`\n",
        "\n",
        "The membership operator is `in`\n",
        "\n",
        "The non-membership operator is `not in`\n",
        "\n",
        "|Expression|Result|Description|\n",
        "|:---|:---|:---|\n",
        "|`(1, 2, 3) + (4, 5, 6)`|(1, 2, 3, 4, 5, 6)|Concatenate|\n",
        "|`('A') * 3`|('A', 'A', 'A')|Repetition|\n",
        "|`3 in (1, 2, 3)`|True|Membership|\n",
        "\n",
        "**Example**"
      ],
      "metadata": {
        "id": "t0GAhGZW-6Fp"
      }
    },
    {
      "cell_type": "code",
      "execution_count": null,
      "metadata": {
        "colab": {
          "base_uri": "https://localhost:8080/"
        },
        "id": "IaDij1mP-3-U",
        "outputId": "7182d689-0837-4a4d-d074-9d59f7a8023f"
      },
      "outputs": [
        {
          "output_type": "stream",
          "name": "stdout",
          "text": [
            "(2, 3, 5, 7)\n",
            "2\n",
            "(2, 3, 5, 7, 11, 13, 17, 19)\n",
            "(5, 7, 11, 13)\n",
            "(5, 7, 11, 13, 17, 19)\n"
          ]
        }
      ],
      "source": [
        "some_primes = (2, 3, 5, 7)\n",
        "print(some_primes)\n",
        "print(some_primes[0])\n",
        "more_primes = (11, 13, 17, 19)\n",
        "primes = some_primes + more_primes\n",
        "print(primes)\n",
        "print(primes[2:6])\n",
        "print(primes[2:])"
      ]
    },
    {
      "cell_type": "markdown",
      "source": [
        "# Length of a **`tuple`**\n",
        "\n",
        "The length of a tuple is the number of elements that make up the tuple.\n",
        "\n",
        "The **`len()`** function gives the length of a tuple.\n",
        "\n",
        "**Example**"
      ],
      "metadata": {
        "id": "U_XqGBZRAj7p"
      }
    },
    {
      "cell_type": "code",
      "source": [
        "colors = ('Red', 'Green', 'Blue')\n",
        "print('Total elements:', len(colors))"
      ],
      "metadata": {
        "colab": {
          "base_uri": "https://localhost:8080/"
        },
        "id": "orQA_NxwAuuy",
        "outputId": "d30389c6-720b-4d11-a705-fea4cf6f1463"
      },
      "execution_count": null,
      "outputs": [
        {
          "output_type": "stream",
          "name": "stdout",
          "text": [
            "Total elements: 3\n"
          ]
        }
      ]
    },
    {
      "cell_type": "markdown",
      "source": [
        "Iteration Through a **`tuple`** Items\n",
        "\n",
        "A `tuple` is limited and iterable: we can iterate through its elements in a `for` loop.\n",
        "\n",
        "We use the membership operator **`in`** to iterate through the elements of a `tuple`.\n",
        "\n",
        "**Example**"
      ],
      "metadata": {
        "id": "GhExeCxXA1fS"
      }
    },
    {
      "cell_type": "code",
      "source": [
        "fruits = ('apple', 'banana', 'orange')\n",
        "\n",
        "# iterate through the tuple\n",
        "for item in fruits:\n",
        "   print(item)"
      ],
      "metadata": {
        "colab": {
          "base_uri": "https://localhost:8080/"
        },
        "id": "t5OBtkv8BECo",
        "outputId": "686f98b7-1ee4-47ba-fd79-3dff8113cf9c"
      },
      "execution_count": null,
      "outputs": [
        {
          "output_type": "stream",
          "name": "stdout",
          "text": [
            "apple\n",
            "banana\n",
            "orange\n"
          ]
        }
      ]
    },
    {
      "cell_type": "markdown",
      "source": [
        "# **`tuple`** Methods\n",
        "\n",
        "Below are the built-in methods for tuples.\n",
        "\n",
        "|Method|Description|\n",
        "|:---|:---|\n",
        "|tuple.count(obj)|Returns count of how many times obj occurs in tuple.|\n",
        "|tuple.index(obj)|Returns the lowest index at which obj appears in tuple.|\n",
        "\n"
      ],
      "metadata": {
        "id": "6WSHIqDPBYcx"
      }
    }
  ]
}