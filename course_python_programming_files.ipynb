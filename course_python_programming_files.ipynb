{
  "nbformat": 4,
  "nbformat_minor": 0,
  "metadata": {
    "colab": {
      "provenance": [],
      "authorship_tag": "ABX9TyPUsdzF1aJxA+dyxTT4VuKs"
    },
    "kernelspec": {
      "name": "python3",
      "display_name": "Python 3"
    },
    "language_info": {
      "name": "python"
    }
  },
  "cells": [
    {
      "cell_type": "markdown",
      "source": [
        "# **Files**\n",
        "\n",
        "# Files\n",
        "\n",
        "In a Python program, we use the `input()` function to read data entered on the standard input stream (keyboard), and we use the `print()` function to write (display) data on the standard output stream (screen).\n",
        "\n",
        "A Python program communicates with these input/output (IO) streams via the standard stream objects `stdin` and `stdout` defined in the `sys` module.\n",
        "\n",
        "Any object that communicates with an input/output stream is called a **`file`** object.\n",
        "\n",
        "# Open a File\n",
        "\n",
        "The predefined **`open()`** function returns a `file` object.\n",
        "\n",
        "The `open()` function creates a `file` object, which will be used to call other methods associated with it.\n",
        "\n",
        "> *Syntaxe*\n",
        "<font size=\"4\">\n",
        "```python\n",
        "file_object = open(file_name [, access_mode] [, encoding])\n",
        "```\n",
        "</font>\n",
        "\n",
        "*Parameters*\n",
        "\n",
        "* `file_name`: is a string value that contains the name of the file that you want to access.\n",
        "* `access_mode`: determines the mode in which the file will be opened, i.e. read, write, append, etc. This is an optional parameter and the default file access mode is read ( `r` ).\n",
        "* `encoding`: encoding used to encode the characters contained in the file.\n",
        "Recommended encoding: `encoding=\"utf-8\"`. UTF-8 is the modern standard encoding.\n"
      ],
      "metadata": {
        "id": "nyTfqxQPB0MH"
      }
    },
    {
      "cell_type": "markdown",
      "source": [
        "# File Opening Modes\n",
        "\n",
        "|Mode|Description|\n",
        "|:---|:---|\n",
        "|`r`|Opens a file for reading only. The file pointer is placed at the beginning of the file. This is the default mode.|\n",
        "|`rb`|Opens a file for reading only in binary format. The file pointer is placed at the beginning of the file.|\n",
        "|`r+`|Opens a file for both reading and writing. The file pointer placed at the beginning of the file.|\n",
        "|`rb+`|Opens a file for both reading and writing in binary format. The file pointer placed at the beginning of the file.|\n",
        "|`w`|Opens a file for writing only. Overwrites the file if the file exists. If the file does not exist, creates a new file for writing.|\n",
        "|`wb`|Opens a file for writing only in binary format. Overwrites the file if the file exists. If the file does not exist, creates a new file for writing.|\n",
        "|`w+`|Opens a file for both writing and reading. Overwrites the existing file if the file exists. If the file does not exist, creates a new file for reading and writing.|\n",
        "|`wb+`|Opens a file for both writing and reading in binary format. Overwrites the existing file if the file exists. If the file does not exist, creates a new file for reading and writing.|\n",
        "|`a`|Opens a file for appending. The file pointer is at the end of the file if the file exists. That is, the file is in the append mode. If the file does not exist, it creates a new file for writing.|\n",
        "|`ab`|Opens a file for appending in binary format. The file pointer is at the end of the file if the file exists. That is, the file is in the append mode. If the file does not exist, it creates a new file for writing.|\n",
        "|`a+`|Opens a file for appending and reading in binary format. The file pointer is at the end of the file if the file exists. That is, the file is in the append mode. If the file does not exist, it creates a new file for writing.|\n",
        "|`ab+`|Opens a file for both appending and reading in binary format. The file pointer is at the end of the file if the file exists. The file opens in the append mode. If the file does not exist, it creates a new file for reading and writing.|\n",
        "|`b`|Opens a file in binary mode.|\n",
        "|`t`|Opens a file in text mode (default).|\n",
        "|`+`|Opens a file for updating (reading and writing).|\n",
        "|`x`|Opens a file for exclusive creation, failing if the file already exists.|\n",
        "\n",
        "**Example**\n",
        "\n",
        "Some attributes associated with a `file` object: `name`, `closed`, `mode`.\n",
        "\n",
        "A method associated with a `file` object: `close()`."
      ],
      "metadata": {
        "id": "A2dPkC7RFEL6"
      }
    },
    {
      "cell_type": "code",
      "execution_count": null,
      "metadata": {
        "colab": {
          "base_uri": "https://localhost:8080/"
        },
        "id": "1t5ADDMpBuBE",
        "outputId": "fbb3e0df-8ccf-4ffb-abdc-6ce1b0cc017a"
      },
      "outputs": [
        {
          "output_type": "stream",
          "name": "stdout",
          "text": [
            "Name of the file:  tmp\n",
            "File is closed:  False\n",
            "Opening mode:  w\n",
            "<class '_io.TextIOWrapper'>\n"
          ]
        }
      ],
      "source": [
        "# Open a file\n",
        "f = open('tmp', 'w', encoding=\"utf-8\")\n",
        "print(\"Name of the file: \", f.name)\n",
        "print(\"File is closed: \", f.closed)\n",
        "print(\"Opening mode: \", f.mode)\n",
        "print(type(f))\n",
        "f.close()"
      ]
    }
  ]
}