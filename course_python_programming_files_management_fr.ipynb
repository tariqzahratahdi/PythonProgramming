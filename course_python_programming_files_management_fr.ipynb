{
  "nbformat": 4,
  "nbformat_minor": 0,
  "metadata": {
    "colab": {
      "provenance": [],
      "authorship_tag": "ABX9TyMWns0qynn+i14phDWIykDO"
    },
    "kernelspec": {
      "name": "python3",
      "display_name": "Python 3"
    },
    "language_info": {
      "name": "python"
    }
  },
  "cells": [
    {
      "cell_type": "markdown",
      "source": [
        "# **Gestion des fichiers**\n",
        "\n",
        "# Le module **`os`**\n",
        "\n",
        "Le module **`os`** de Python fournit des méthodes pour effectuer des opérations de gestion de fichiers, telles que renommer et supprimer des fichiers.\n",
        "\n",
        "Le module `os` fournit des méthodes pour effectuer des opérations de gestion de répertoires, telles que créer, renommer et supprimer des répertoires.\n",
        "\n",
        "**Exemple**"
      ],
      "metadata": {
        "id": "yCHq-iNjjaba"
      }
    },
    {
      "cell_type": "code",
      "execution_count": null,
      "metadata": {
        "colab": {
          "base_uri": "https://localhost:8080/"
        },
        "id": "J-vL1_TBjYBZ",
        "outputId": "27a94026-bbc9-4417-e245-ec922c434297"
      },
      "outputs": [
        {
          "output_type": "stream",
          "name": "stdout",
          "text": [
            "/content\n",
            "['.config', 'sample_data']\n"
          ]
        }
      ],
      "source": [
        "import os\n",
        "\n",
        "# Get path of the current directory\n",
        "d = os.getcwd()\n",
        "\n",
        "print(d)\n",
        "\n",
        "# Get entries in directory\n",
        "e = os.listdir(d)\n",
        "\n",
        "print(e)"
      ]
    },
    {
      "cell_type": "markdown",
      "source": [
        "### La méthode **`getcwd()`**\n",
        "\n",
        "On utilise la méthode **`getcwd()`** du module `os` pour obtenir le chemin du répertoire actuel.\n",
        "\n",
        "### La méthode **`listdir()`**\n",
        "\n",
        "On utilise la méthode **`listdir()`** du module `os` pour obtenir les noms des fichiers et des sous-répertoires dans un répertoire.\n",
        "\n"
      ],
      "metadata": {
        "id": "Dqk8FouRo9_-"
      }
    },
    {
      "cell_type": "markdown",
      "source": [
        "# Gestion des fichiers\n",
        "\n",
        "### La méthode **`rename()`**\n",
        "\n",
        "> *Syntaxe*\n",
        "<font size = \"4\">\n",
        "```python\n",
        "os.rename(current_file_name, new_file_name)\n",
        "```\n",
        "</font>\n",
        "\n",
        "**Exemple**: créer d'abord un fichier nommé `tmp`."
      ],
      "metadata": {
        "id": "pUK9xx_skIae"
      }
    },
    {
      "cell_type": "code",
      "source": [
        "# Rename  file\n",
        "os.rename('tmp', 'tmp1' )"
      ],
      "metadata": {
        "id": "ETfdqrWakhCA"
      },
      "execution_count": null,
      "outputs": []
    },
    {
      "cell_type": "markdown",
      "source": [
        "### La méthode **`remove()`**\n",
        "\n",
        "> *Syntaxe*\n",
        "<font size = \"4\">\n",
        "```python\n",
        "os.remove(file_name)\n",
        "```\n",
        "</font>\n",
        "\n",
        "**Exemple**"
      ],
      "metadata": {
        "id": "am-3BDrgmQbF"
      }
    },
    {
      "cell_type": "code",
      "source": [
        "# Delete file\n",
        "os.remove('tmp1')"
      ],
      "metadata": {
        "id": "EAIFmhwamf4_"
      },
      "execution_count": null,
      "outputs": []
    },
    {
      "cell_type": "markdown",
      "source": [
        "# Gestion des répertoires\n",
        "\n",
        "### La méthode **`mkdir()`**\n",
        "\n",
        "La méthode  **`mkdir()`** du module `os` est utilisée pour créer un répertoire dans le répertoire actuel.\n",
        "\n",
        "Cette méthode reçoit un argument qui contient le nom du répertoire à créer.\n",
        "\n",
        "> *Syntaxe*\n",
        "<font size = \"4\">\n",
        "```python\n",
        "os.mkdir(directory_name)\n",
        "```\n",
        "</font>\n",
        "\n",
        "**Exemple**"
      ],
      "metadata": {
        "id": "sT1m2fPtnA-2"
      }
    },
    {
      "cell_type": "code",
      "source": [
        "# Create a directory\n",
        "os.mkdir('dir_tmp')"
      ],
      "metadata": {
        "id": "VWYfdvLunnOT"
      },
      "execution_count": null,
      "outputs": []
    },
    {
      "cell_type": "markdown",
      "source": [
        "### La méthode **`chdir()`**\n",
        "\n",
        "On utilise la méthode **`chdir()`** du module `os` pour changer le répertoire de travail actuel.\n",
        "\n",
        "Cette méthode reçoit un argument qui contient le `chemin` du répertoire qui sera le répertoire de travail actuel.\n",
        "\n",
        "> *Syntaxe*\n",
        "<font size = \"4\">\n",
        "```python\n",
        "os.chdir(path_to_directory)\n",
        "```\n",
        "</font>\n",
        "\n",
        "**Exemple**"
      ],
      "metadata": {
        "id": "v3JneV3un3B6"
      }
    },
    {
      "cell_type": "code",
      "source": [
        "# Change current directory\n",
        "os.chdir('/content/sample_data')\n",
        "\n",
        "print(os.getcwd())\n",
        "\n",
        "# Change current directory\n",
        "os.chdir('/content')\n",
        "\n",
        "print(os.getcwd())"
      ],
      "metadata": {
        "colab": {
          "base_uri": "https://localhost:8080/"
        },
        "id": "_Z3Ns9D_oIcr",
        "outputId": "208bf9a9-af82-417d-f50a-46fb31a731bf"
      },
      "execution_count": null,
      "outputs": [
        {
          "output_type": "stream",
          "name": "stdout",
          "text": [
            "/content/sample_data\n",
            "/content\n"
          ]
        }
      ]
    },
    {
      "cell_type": "markdown",
      "source": [
        "### La méthode **`rmdir()`**\n",
        "\n",
        "On utilise la méthode **`rmdir()`** du module `os` pour supprimer un répertoire.\n",
        "\n",
        "Cette méthode reçoit un argument qui contient le *chemin* du répertoire à supprimer.\n",
        "\n",
        "> *Syntaxe*\n",
        "<font size = \"4\">\n",
        "```python\n",
        "os.rmdir(directory_name)\n",
        "```\n",
        "</font>\n",
        "\n",
        "**Exemple**"
      ],
      "metadata": {
        "id": "4k0eLhFxpwyp"
      }
    },
    {
      "cell_type": "code",
      "source": [
        "# Supprimer le répertoire\n",
        "os.rmdir('/content/dir_tmp')"
      ],
      "metadata": {
        "id": "kerWb53MqVD2"
      },
      "execution_count": null,
      "outputs": []
    }
  ]
}