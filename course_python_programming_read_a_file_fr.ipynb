{
  "nbformat": 4,
  "nbformat_minor": 0,
  "metadata": {
    "colab": {
      "provenance": [],
      "authorship_tag": "ABX9TyMtRXCNWk6MIpyf8+Xg5swx"
    },
    "kernelspec": {
      "name": "python3",
      "display_name": "Python 3"
    },
    "language_info": {
      "name": "python"
    }
  },
  "cells": [
    {
      "cell_type": "markdown",
      "source": [
        "# **Lecture d'un fichier**\n",
        "\n",
        "# Lecture d'un fichier\n",
        "\n",
        "Pour lire les données d'un fichier, on l'ouvre en mode de lecture **`r`**, qui est le mode par défaut.\n",
        "\n",
        "> *Syntaxe*: les deux instructions suivantes sont équivalentes.\n",
        "<font size = \"5\">\n",
        "```python\n",
        "file_object = open(file_name,'r')\n",
        "file_object = open(file_name)\n",
        "```\n",
        "</font>\n",
        "\n",
        "La méthode **`read()`** est utilisée pour lire les données d'un fichier.\n",
        "\n",
        "Il est important de noter qu'une chaîne peut contenir des données binaires ainsi que des données texte.\n",
        "\n",
        "> *Syntaxe*\n",
        "<font size = \"5\">\n",
        "```python\n",
        "file_object.read([count])\n",
        "```\n",
        "</font>\n",
        "\n",
        "*Paramètres*\n",
        "\n",
        "`count`: nombre de bytes (octets) à lire.\n",
        "\n",
        "La méthode `read()` commence à lire depuis le début du fichier, et si le paramètre `count` est omis, elle essaie de lire autant que possible, éventuellement jusqu'à la fin du fichier.\n",
        "\n",
        "**Exemple**"
      ],
      "metadata": {
        "id": "5NpgL8GekjTN"
      }
    },
    {
      "cell_type": "code",
      "execution_count": null,
      "metadata": {
        "colab": {
          "base_uri": "https://localhost:8080/"
        },
        "id": "lIvWaRYnkhPT",
        "outputId": "482619e7-f270-4367-f3a8-113dd3e9fa43"
      },
      "outputs": [
        {
          "output_type": "stream",
          "name": "stdout",
          "text": [
            "Python programming.\n",
            "Python is a powerful programming language.\n",
            "It has an effective approach to object-oriented programming.\n",
            "\n"
          ]
        }
      ],
      "source": [
        "f = open('tmp', 'w')\n",
        "data = '''Python programming.\n",
        "Python is a powerful programming language.\n",
        "It has an effective approach to object-oriented programming.\n",
        "'''\n",
        "f.write(data)\n",
        "f.close()\n",
        "\n",
        "# open file in read mode\n",
        "f = open('tmp')\n",
        "\n",
        "# read file\n",
        "data = f.read()\n",
        "\n",
        "print(data)\n",
        "f.close()"
      ]
    },
    {
      "cell_type": "markdown",
      "source": [
        "# L'instruction **`with`**\n",
        "\n",
        "L'instruction **`with`** doit être utilisée lors de la gestion d'un objet `file`.\n",
        "\n",
        "Le `file` est automatiquement fermé après l'instruction `with`.\n",
        "\n",
        "> *Syntaxe*\n",
        "<font size = \"5\">\n",
        "```python\n",
        "with open(file_path, mode, encoding) as file:\n",
        "```\n",
        "</font>\n",
        "\n",
        "**Exemple**"
      ],
      "metadata": {
        "id": "JTYIZ6b3nHMr"
      }
    },
    {
      "cell_type": "code",
      "source": [
        "with open('tmp', 'r') as f :\n",
        "   data = f.read()\n",
        "   print(data)"
      ],
      "metadata": {
        "colab": {
          "base_uri": "https://localhost:8080/"
        },
        "id": "z5br4vPenTHn",
        "outputId": "39d2999f-cd0b-4a6f-8859-9825de7cb4c5"
      },
      "execution_count": null,
      "outputs": [
        {
          "output_type": "stream",
          "name": "stdout",
          "text": [
            "Python programming.\n",
            "Python is a powerful programming language.\n",
            "It has an effective approach to object-oriented programming.\n",
            "\n"
          ]
        }
      ]
    },
    {
      "cell_type": "markdown",
      "source": [
        "# La méthode **`readline()`**\n",
        "\n",
        "La méthode **`readline()`** lit une seule ligne à partir du fichier.\n",
        "\n",
        "Un caractère newline `\\n` est laissé à la fin de la lecture de la chaîne et est omis sur la dernière ligne du fichier, à moins que le fichier se termine par un caractère Newline.\n",
        "\n",
        "Si la fin du fichier est atteinte, la méthode `readline()` renvoie une chaîne vide.\n",
        "\n",
        "Notez qu'une ligne vide est représentée par le caractère Newline `\\n`, une chaîne ne contenant qu'une seule nouvelle ligne.\n",
        "\n",
        "**Exemple**"
      ],
      "metadata": {
        "id": "Bo7_cvAfniJk"
      }
    },
    {
      "cell_type": "code",
      "source": [
        "f = open('tmp')\n",
        "\n",
        "# read a line\n",
        "data = f.readline()\n",
        "\n",
        "print(data)\n",
        "f.close()"
      ],
      "metadata": {
        "colab": {
          "base_uri": "https://localhost:8080/"
        },
        "id": "9CXfIqM-ofEN",
        "outputId": "8c984cc0-75e4-44da-86ae-45fe852a7c53"
      },
      "execution_count": null,
      "outputs": [
        {
          "output_type": "stream",
          "name": "stdout",
          "text": [
            "Python programming.\n",
            "\n"
          ]
        }
      ]
    },
    {
      "cell_type": "markdown",
      "source": [
        "# L'instruction **`for`**\n",
        "\n",
        "Pour lire les lignes à partir d'un fichier, on peut utiliser l'instruction **`for`** pour itérer sur un objet `file`.\n",
        "\n",
        "Ceci est efficace, rapide et mène à un code simple.\n",
        "\n",
        "**Exemple**"
      ],
      "metadata": {
        "id": "Q3WNiE4apLKb"
      }
    },
    {
      "cell_type": "code",
      "source": [
        "f = open('tmp')\n",
        "for line in f :\n",
        "   print(line, end='')\n",
        "f.close()"
      ],
      "metadata": {
        "colab": {
          "base_uri": "https://localhost:8080/"
        },
        "id": "ulOVNoCdpWCw",
        "outputId": "62084f69-d165-4b49-994c-41ab2504069b"
      },
      "execution_count": null,
      "outputs": [
        {
          "output_type": "stream",
          "name": "stdout",
          "text": [
            "Python programming.\n",
            "Python is a powerful programming language.\n",
            "It has an effective approach to object-oriented programming.\n"
          ]
        }
      ]
    },
    {
      "cell_type": "markdown",
      "source": [
        "# Lire vers un **`list`**\n",
        "\n",
        "La fonction **`list()`** et la méthode **`readlines()`** permettent de lire toutes les lignes d'un fichier et de les écrire dans un objet `list`.\n",
        "\n",
        "**Exemple**: utilisation de la fonction `list()`."
      ],
      "metadata": {
        "id": "yhzmWY2zp4sm"
      }
    },
    {
      "cell_type": "code",
      "source": [
        "f = open('tmp')\n",
        "\n",
        "# read file lines to a list\n",
        "data = list(f)\n",
        "\n",
        "print(data)\n",
        "f.close()"
      ],
      "metadata": {
        "colab": {
          "base_uri": "https://localhost:8080/"
        },
        "id": "p7_qWPr1qF2N",
        "outputId": "d0c40ae1-76ca-4730-c14c-64581148b55a"
      },
      "execution_count": null,
      "outputs": [
        {
          "output_type": "stream",
          "name": "stdout",
          "text": [
            "['Python programming.\\n', 'Python is a powerful programming language.\\n', 'It has an effective approach to object-oriented programming.\\n']\n"
          ]
        }
      ]
    },
    {
      "cell_type": "markdown",
      "source": [
        "**Exemple**: utilisation de la méthode `readlines () '"
      ],
      "metadata": {
        "id": "DdBs6dAtqUQS"
      }
    },
    {
      "cell_type": "code",
      "source": [
        "f = open('tmp')\n",
        "\n",
        "# read file lines to a list\n",
        "data = f.readlines()\n",
        "\n",
        "print(data)\n",
        "f.close()"
      ],
      "metadata": {
        "colab": {
          "base_uri": "https://localhost:8080/"
        },
        "id": "SXuE-YLsqYk4",
        "outputId": "79d560f1-1d0c-457c-ca9a-64ecd7ab8291"
      },
      "execution_count": null,
      "outputs": [
        {
          "output_type": "stream",
          "name": "stdout",
          "text": [
            "['Python programming.\\n', 'Python is a powerful programming language.\\n', 'It has an effective approach to object-oriented programming.\\n']\n"
          ]
        }
      ]
    },
    {
      "cell_type": "markdown",
      "source": [
        "# Lire un fichier en mode binaire\n",
        "\n",
        "Pour gérer les fichiers de divers autres types tels que les médias (mp3), les exécutables (exe), les images (jpg), etc., le préfixe **`b`** est ajouté au mode de lecture ou d'écriture.\n",
        "\n",
        "**Exemple**: lire les `bytes` à partir d'un fichier et les convertir en un `str`. La valeur renvoyée par la méthode `read()` est décodée avant de l'afficher."
      ],
      "metadata": {
        "id": "rSiak4HlrAyB"
      }
    },
    {
      "cell_type": "code",
      "source": [
        "f = open('tmp', 'wb')\n",
        "\n",
        "# convert str to bytes\n",
        "data = b'Python programming'\n",
        "\n",
        "f.write(data)\n",
        "f.close()\n",
        "f = open('tmp', 'rb')\n",
        "data = f.read()\n",
        "print(data.decode(encoding = 'utf-8'))"
      ],
      "metadata": {
        "colab": {
          "base_uri": "https://localhost:8080/"
        },
        "id": "abLDwDbsrMh9",
        "outputId": "506366ae-6903-407d-f71d-1c2cf769f0fd"
      },
      "execution_count": null,
      "outputs": [
        {
          "output_type": "stream",
          "name": "stdout",
          "text": [
            "Python programming\n"
          ]
        }
      ]
    }
  ]
}