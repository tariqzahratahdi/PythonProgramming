{
  "nbformat": 4,
  "nbformat_minor": 0,
  "metadata": {
    "colab": {
      "provenance": [],
      "authorship_tag": "ABX9TyO1tz27GHuojmEv6q7XQEnz"
    },
    "kernelspec": {
      "name": "python3",
      "display_name": "Python 3"
    },
    "language_info": {
      "name": "python"
    }
  },
  "cells": [
    {
      "cell_type": "markdown",
      "source": [
        "# Numbers\n",
        "\n",
        "Python supports four predefined numeric data types.\n",
        "\n",
        "These data types are defined as classes:\n",
        "\n",
        "`int` (signed integer).\n",
        "\n",
        "`bool` (boolean, subtype of `int`).\n",
        "\n",
        "`float` (real number).\n",
        "\n",
        "`complex` (complex number).\n",
        "\n",
        "**Example**\n",
        "\n"
      ],
      "metadata": {
        "id": "Ov3md5Dtqs8e"
      }
    },
    {
      "cell_type": "code",
      "execution_count": null,
      "metadata": {
        "colab": {
          "base_uri": "https://localhost:8080/"
        },
        "id": "YXmmkWSbqq6y",
        "outputId": "598ab8d0-eaad-49ca-9c49-4399c1b10498"
      },
      "outputs": [
        {
          "output_type": "stream",
          "name": "stdout",
          "text": [
            "<class 'int'>\n",
            "<class 'bool'>\n",
            "<class 'float'>\n",
            "<class 'complex'>\n"
          ]
        }
      ],
      "source": [
        "integer_number = 1\n",
        "print(type(integer_number))\n",
        "\n",
        "boolean = True\n",
        "print(type(boolean))\n",
        "\n",
        "real_number = 12.34\n",
        "print(type(real_number))\n",
        "\n",
        "complex_number = 1.2 + 3.4j\n",
        "print(type(complex_number))"
      ]
    },
    {
      "cell_type": "markdown",
      "source": [
        "# Integer Numbers\n",
        "\n",
        "There are three ways to form an integer: literal representation, expression that evaluates to an integer, and using the `int()` function which performs a type conversion (casting).\n",
        "\n",
        "**Example**"
      ],
      "metadata": {
        "id": "GsFVfc6Is0UL"
      }
    },
    {
      "cell_type": "code",
      "source": [
        "a = 1            # literal representation\n",
        "b = int(1.2)     # function int()\n",
        "c = a + b        # expression"
      ],
      "metadata": {
        "id": "hp9n3P0_tJiI"
      },
      "execution_count": null,
      "outputs": []
    },
    {
      "cell_type": "markdown",
      "source": [
        "# Floating Point Numbers\n",
        "\n",
        "A real floating point number (`float`) consists of an integer part and a decimal part separated by a period.\n",
        "\n",
        "There are three ways to form a real number: literal representation, expression that evaluates to a real number, and using the `float()` function.\n",
        "\n",
        "**Example**"
      ],
      "metadata": {
        "id": "YkbviG59tOjU"
      }
    },
    {
      "cell_type": "code",
      "source": [
        "a = 1.2            # literal representation\n",
        "b = float(12)      # function float()\n",
        "c = a + b          # expression"
      ],
      "metadata": {
        "id": "jNOoyXI4tZ_W"
      },
      "execution_count": null,
      "outputs": []
    },
    {
      "cell_type": "markdown",
      "source": [
        "## Scientific notation\n",
        "\n",
        "In scientific notation, a real number consists of a mantissa `m` and an exponent `n`. The notation is as follows:\n",
        "\n",
        "`mEn` or `men`, with `1 ≤ m < 10` and `n` is the exponent of `10`.\n",
        "\n",
        "**Example**"
      ],
      "metadata": {
        "id": "3YfUfIDPtf0N"
      }
    },
    {
      "cell_type": "code",
      "source": [
        "a = 1.2E3"
      ],
      "metadata": {
        "id": "d2DOFh403UkM"
      },
      "execution_count": null,
      "outputs": []
    },
    {
      "cell_type": "markdown",
      "source": [
        "# Complex Numbers\n",
        "\n",
        "A complex number consists of a real part and an imaginary part.\n",
        "\n",
        "There are three ways to form a complex number: literal representation, expression that evaluates to a complex number, and using the `complex()` function.\n",
        "\n",
        "**Example**"
      ],
      "metadata": {
        "id": "v-rAxccX3dLu"
      }
    },
    {
      "cell_type": "code",
      "source": [
        "a = 1.2 + 3.4j            # literal representation\n",
        "b = complex(5.6, 7.8)     # function complex()\n",
        "c = a + b                 # expression"
      ],
      "metadata": {
        "id": "uSHLi8_v3lC8"
      },
      "execution_count": null,
      "outputs": []
    },
    {
      "cell_type": "markdown",
      "source": [
        "The `complex` class defines two attributes named `real` and `imag` that return the real part and the imaginary part of an object of the `complex` class, respectively.\n",
        "\n",
        "The `complex` class defines a method named `conjugate()` that returns the conjugate of an object of the `complex` class.\n",
        "\n",
        "**Example**"
      ],
      "metadata": {
        "id": "zR6NCbL33sfb"
      }
    },
    {
      "cell_type": "code",
      "source": [
        "a = 1 + 2j\n",
        "print(a.real)\n",
        "print(a.imag)\n",
        "print(a.conjugate())"
      ],
      "metadata": {
        "colab": {
          "base_uri": "https://localhost:8080/"
        },
        "id": "5dDVvdbM32Jp",
        "outputId": "4f659379-e8af-425a-9557-0951122ddb88"
      },
      "execution_count": null,
      "outputs": [
        {
          "output_type": "stream",
          "name": "stdout",
          "text": [
            "1.0\n",
            "2.0\n",
            "(1-2j)\n"
          ]
        }
      ]
    },
    {
      "cell_type": "markdown",
      "source": [
        "# `math` Module\n",
        "\n",
        "Python’s `math` module defines various mathematical functions: trigonometry, logarithms, probability, statistics, etc.\n",
        "\n",
        "To use this module in a program, we must first import it.\n",
        "\n",
        "**Example**"
      ],
      "metadata": {
        "id": "hh6XgL-I4AXa"
      }
    },
    {
      "cell_type": "code",
      "source": [
        "# import math module\n",
        "import math\n",
        "\n",
        "print(math.pi)\n",
        "print(math.cos(math.pi))\n",
        "print(math.sqrt(2))\n",
        "print(math.exp(1))\n",
        "print(math.log10(1000))\n",
        "print(math.factorial(6))"
      ],
      "metadata": {
        "colab": {
          "base_uri": "https://localhost:8080/"
        },
        "id": "zaSbuP1g4J6A",
        "outputId": "a35ed176-0bd9-42b9-e926-edec9d39c788"
      },
      "execution_count": null,
      "outputs": [
        {
          "output_type": "stream",
          "name": "stdout",
          "text": [
            "3.141592653589793\n",
            "-1.0\n",
            "1.4142135623730951\n",
            "2.718281828459045\n",
            "3.0\n",
            "720\n"
          ]
        }
      ]
    },
    {
      "cell_type": "markdown",
      "source": [
        "Note: the `complex` data type is handled in Python’s `cmath` module."
      ],
      "metadata": {
        "id": "trWraXsQ4s1d"
      }
    },
    {
      "cell_type": "markdown",
      "source": [
        "# Random Numbers\n",
        "\n",
        "The `random()` function generates a random real number in the range `[0.0, 1.0]`.\n",
        "\n",
        "This function is defined in the Python `random` module.\n",
        "\n",
        "To use this module in a program, we must first import it.\n",
        "\n",
        "**Example**"
      ],
      "metadata": {
        "id": "npyY5QT540Uv"
      }
    },
    {
      "cell_type": "code",
      "source": [
        "import random\n",
        "\n",
        "print(random.random())"
      ],
      "metadata": {
        "colab": {
          "base_uri": "https://localhost:8080/"
        },
        "id": "Hyr9WHta5O_W",
        "outputId": "585c8119-bea4-4c90-87f1-d7debe795345"
      },
      "execution_count": null,
      "outputs": [
        {
          "output_type": "stream",
          "name": "stdout",
          "text": [
            "0.23134015599789015\n"
          ]
        }
      ]
    }
  ]
}