{
  "nbformat": 4,
  "nbformat_minor": 0,
  "metadata": {
    "colab": {
      "provenance": [],
      "authorship_tag": "ABX9TyOZdTFv7vsCd6ufgptKI8Ol",
      "include_colab_link": true
    },
    "kernelspec": {
      "name": "python3",
      "display_name": "Python 3"
    },
    "language_info": {
      "name": "python"
    }
  },
  "cells": [
    {
      "cell_type": "markdown",
      "metadata": {
        "id": "view-in-github",
        "colab_type": "text"
      },
      "source": [
        "<a href=\"https://colab.research.google.com/github/tariqzahratahdi/PythonProgramming/blob/main/course_python_programming_read_a_file.ipynb\" target=\"_parent\"><img src=\"https://colab.research.google.com/assets/colab-badge.svg\" alt=\"Open In Colab\"/></a>"
      ]
    },
    {
      "cell_type": "markdown",
      "source": [
        "# **Read a File**\n",
        "\n",
        "# Read a File\n",
        "\n",
        "To read data from a file, we open it in read mode **`r`**, which is the default mode.\n",
        "\n",
        "> *Syntax*: the following two statements are equivalent.\n",
        "<font size=\"5\">\n",
        "```python\n",
        "file_object = open(file_name,'r')\n",
        "file_object = open(file_name)\n",
        "```\n",
        "</font>\n",
        "\n",
        "The `read()` method is used to read data from a file.\n",
        "\n",
        "It is important to note that a string can contain binary data as well as text data.\n",
        "\n",
        "> *Syntax*\n",
        "<font size=\"5\">\n",
        "```python\n",
        "file_object.read([count])\n",
        "```\n",
        "</font>\n",
        "\n",
        "*Parameters*\n",
        "\n",
        "`count`: number of bytes to be read.\n",
        "\n",
        "The `read()` method starts reading from the beginning of the file, and if the `count` parameter is missing, it tries to read as much as possible, possibly up to the end of the file.\n",
        "\n",
        "**Example**"
      ],
      "metadata": {
        "id": "5NpgL8GekjTN"
      }
    },
    {
      "cell_type": "code",
      "execution_count": null,
      "metadata": {
        "colab": {
          "base_uri": "https://localhost:8080/"
        },
        "id": "lIvWaRYnkhPT",
        "outputId": "a466d738-423b-4f2c-c150-f0eafd3c8351"
      },
      "outputs": [
        {
          "output_type": "stream",
          "name": "stdout",
          "text": [
            "Python programming.\n",
            "Python is a powerful programming language.\n",
            "It has an effective approach to object-oriented programming.\n",
            "\n"
          ]
        }
      ],
      "source": [
        "f = open('tmp', 'w')\n",
        "data = '''Python programming.\n",
        "Python is a powerful programming language.\n",
        "It has an effective approach to object-oriented programming.\n",
        "'''\n",
        "f.write(data)\n",
        "f.close()\n",
        "\n",
        "# open file in read mode\n",
        "f = open('tmp')\n",
        "\n",
        "# read file\n",
        "data = f.read()\n",
        "\n",
        "print(data)\n",
        "f.close()"
      ]
    },
    {
      "cell_type": "markdown",
      "source": [
        "# The **`with`** Statement\n",
        "\n",
        "The **`with`** statement should be used when dealing with a `file` object.\n",
        "\n",
        "The `file` is automatically closed after the `with` statement.\n",
        "\n",
        "> *Syntax*\n",
        "<font size = \"5\">\n",
        "```python\n",
        "with open(file_path, mode, encoding) as file:\n",
        "```\n",
        "</font>\n",
        "\n",
        "**Example**"
      ],
      "metadata": {
        "id": "JTYIZ6b3nHMr"
      }
    },
    {
      "cell_type": "code",
      "source": [
        "with open('tmp', 'r') as f :\n",
        "   data = f.read()\n",
        "   print(data)"
      ],
      "metadata": {
        "colab": {
          "base_uri": "https://localhost:8080/"
        },
        "id": "z5br4vPenTHn",
        "outputId": "37d077ec-43c4-42dc-8ea0-b61aa08db591"
      },
      "execution_count": null,
      "outputs": [
        {
          "output_type": "stream",
          "name": "stdout",
          "text": [
            "Python programming.\n",
            "Python is a powerful programming language.\n",
            "It has an effective approach to object-oriented programming.\n",
            "\n"
          ]
        }
      ]
    },
    {
      "cell_type": "markdown",
      "source": [
        "# The **`readline()`** Method\n",
        "\n",
        "The **`readline()`** method reads a single line from the file.\n",
        "\n",
        "A newline character `\\n` is left at the end of the string read, and is omitted on the last line of the file, unless the file ends with a newline character.\n",
        "\n",
        "If the end of the file is reached, then the `readline()` method returns an empty string.\n",
        "\n",
        "Note that an empty line is represented by the newline character `\\n`, a string containing only one newline.\n",
        "\n",
        "**Example**"
      ],
      "metadata": {
        "id": "Bo7_cvAfniJk"
      }
    },
    {
      "cell_type": "code",
      "source": [
        "f = open('tmp')\n",
        "\n",
        "# read a line\n",
        "data = f.readline()\n",
        "\n",
        "print(data)\n",
        "f.close()"
      ],
      "metadata": {
        "colab": {
          "base_uri": "https://localhost:8080/"
        },
        "id": "9CXfIqM-ofEN",
        "outputId": "09d79002-a0cf-44ab-8ce8-33a9c7728b23"
      },
      "execution_count": null,
      "outputs": [
        {
          "output_type": "stream",
          "name": "stdout",
          "text": [
            "Python programming.\n",
            "\n"
          ]
        }
      ]
    },
    {
      "cell_type": "markdown",
      "source": [
        "# The **`for`** Statement\n",
        "\n",
        "To read lines from a file, we can use the `for` statement to iterate over a `file` object.\n",
        "\n",
        "This is memory efficient, fast, and leads to simple code.\n",
        "\n",
        "**Example**"
      ],
      "metadata": {
        "id": "Q3WNiE4apLKb"
      }
    },
    {
      "cell_type": "code",
      "source": [
        "f = open('tmp')\n",
        "for line in f :\n",
        "   print(line, end='')\n",
        "f.close()"
      ],
      "metadata": {
        "colab": {
          "base_uri": "https://localhost:8080/"
        },
        "id": "ulOVNoCdpWCw",
        "outputId": "beaacd90-658d-4585-e92c-695c154251ca"
      },
      "execution_count": null,
      "outputs": [
        {
          "output_type": "stream",
          "name": "stdout",
          "text": [
            "Python programming.\n",
            "Python is a powerful programming language.\n",
            "It has an effective approach to object-oriented programming.\n"
          ]
        }
      ]
    },
    {
      "cell_type": "markdown",
      "source": [
        "# Read to a **`list`**\n",
        "\n",
        "The **`list()`** function and the **`readlines()`** method allow you to read all the lines of a file and write them into a `list` object.\n",
        "\n",
        "**Example**: using the `list()` function."
      ],
      "metadata": {
        "id": "yhzmWY2zp4sm"
      }
    },
    {
      "cell_type": "code",
      "source": [
        "f = open('tmp')\n",
        "\n",
        "# read file lines to a list\n",
        "data = list(f)\n",
        "\n",
        "print(data)\n",
        "f.close()"
      ],
      "metadata": {
        "colab": {
          "base_uri": "https://localhost:8080/"
        },
        "id": "p7_qWPr1qF2N",
        "outputId": "774610f4-f7ec-4ffc-f5f2-b1fcfa22ec06"
      },
      "execution_count": null,
      "outputs": [
        {
          "output_type": "stream",
          "name": "stdout",
          "text": [
            "['Python programming.\\n', 'Python is a powerful programming language.\\n', 'It has an effective approach to object-oriented programming.\\n']\n"
          ]
        }
      ]
    },
    {
      "cell_type": "markdown",
      "source": [
        "**Example**: using the `readlines()` method"
      ],
      "metadata": {
        "id": "DdBs6dAtqUQS"
      }
    },
    {
      "cell_type": "code",
      "source": [
        "f = open('tmp')\n",
        "\n",
        "# read file lines to a list\n",
        "data = f.readlines()\n",
        "\n",
        "print(data)\n",
        "f.close()"
      ],
      "metadata": {
        "colab": {
          "base_uri": "https://localhost:8080/"
        },
        "id": "SXuE-YLsqYk4",
        "outputId": "6f8bdf61-71ac-4b86-ffcc-627fd5883b3a"
      },
      "execution_count": null,
      "outputs": [
        {
          "output_type": "stream",
          "name": "stdout",
          "text": [
            "['Python programming.\\n', 'Python is a powerful programming language.\\n', 'It has an effective approach to object-oriented programming.\\n']\n"
          ]
        }
      ]
    },
    {
      "cell_type": "markdown",
      "source": [
        "# Read a File in Binary Mode\n",
        "\n",
        "To handle files of various other types such as media (mp3), executables (exe), images (jpg), etc., the prefix **`b`** is added to the read or write mode.\n",
        "\n",
        "**Example**: read bytes from a file and convert it to a `str`.\n",
        "The value returned by the `read()` method is decoded before displaying it."
      ],
      "metadata": {
        "id": "rSiak4HlrAyB"
      }
    },
    {
      "cell_type": "code",
      "source": [
        "f = open('tmp', 'wb')\n",
        "\n",
        "# convert str to bytes\n",
        "data = b'Python programming'\n",
        "\n",
        "f.write(data)\n",
        "f.close()\n",
        "f = open('tmp', 'rb')\n",
        "data = f.read()\n",
        "print(data.decode(encoding = 'utf-8'))"
      ],
      "metadata": {
        "colab": {
          "base_uri": "https://localhost:8080/"
        },
        "id": "abLDwDbsrMh9",
        "outputId": "6bcc5ee8-402b-4446-8098-9f8cdcae1cfb"
      },
      "execution_count": null,
      "outputs": [
        {
          "output_type": "stream",
          "name": "stdout",
          "text": [
            "Python programming\n"
          ]
        }
      ]
    }
  ]
}