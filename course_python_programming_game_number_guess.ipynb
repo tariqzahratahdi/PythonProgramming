{
  "nbformat": 4,
  "nbformat_minor": 0,
  "metadata": {
    "colab": {
      "provenance": [],
      "authorship_tag": "ABX9TyNKpCBt5FTxfmHlY5xdUHHj",
      "include_colab_link": true
    },
    "kernelspec": {
      "name": "python3",
      "display_name": "Python 3"
    },
    "language_info": {
      "name": "python"
    }
  },
  "cells": [
    {
      "cell_type": "markdown",
      "metadata": {
        "id": "view-in-github",
        "colab_type": "text"
      },
      "source": [
        "<a href=\"https://colab.research.google.com/github/tariqzahratahdi/PythonProgramming/blob/main/course_python_programming_game_number_guess.ipynb\" target=\"_parent\"><img src=\"https://colab.research.google.com/assets/colab-badge.svg\" alt=\"Open In Colab\"/></a>"
      ]
    },
    {
      "cell_type": "markdown",
      "source": [
        "# Simple Number Guessing Game\n",
        "\n",
        "In a number guessing game, the user guesses a randomly generated secret number within a given number of attempts.\n",
        "\n",
        "After each guess, the user gets hints on whether the guess is higher, lower, or correct.\n",
        "\n",
        "The game ends when the user guesses the secret number or runs out of attempts."
      ],
      "metadata": {
        "id": "av-NHKYFEaAx"
      }
    },
    {
      "cell_type": "markdown",
      "source": [
        "### Handling data input errors\n",
        "\n",
        "The Python **`ValueError`** is an exception that occurs when a function receives an argument of the correct data type but an inappropriate value.\n",
        "\n",
        "This error usually occurs in mathematical operations that require a certain kind of value\n",
        "\n",
        "To resolve the `ValueError`, a **`try-except`** block can be used.\n",
        "\n",
        "The lines of code that can *throw* the `ValueError` are placed in the `try` clause, then the `except` clause can *catch* and handle the error.\n",
        "\n",
        "**Example:**"
      ],
      "metadata": {
        "id": "sNPU-gzajTN_"
      }
    },
    {
      "cell_type": "code",
      "source": [
        "try:\n",
        "  n = int(input('give an integer number: '))\n",
        "  print(n)\n",
        "except ValueError:\n",
        "  print('invalid input')"
      ],
      "metadata": {
        "colab": {
          "base_uri": "https://localhost:8080/"
        },
        "id": "rgirEtwOkqnL",
        "outputId": "4e3a3df8-7a3f-4279-cd50-7ff3d56b5e90"
      },
      "execution_count": 1,
      "outputs": [
        {
          "output_type": "stream",
          "name": "stdout",
          "text": [
            "give an integer number: a\n",
            "invalid input\n"
          ]
        }
      ]
    },
    {
      "cell_type": "markdown",
      "source": [
        "**Example:** use a `while` loop to prompt the user for a valid input as long as the input is invalid."
      ],
      "metadata": {
        "id": "P-apDtVNlHGb"
      }
    },
    {
      "cell_type": "code",
      "source": [
        "while True:\n",
        "  try:\n",
        "    n = int(input('give an integer number: '))\n",
        "    print('valid input: ', n)\n",
        "    break\n",
        "  except ValueError:\n",
        "    print('invalid input')"
      ],
      "metadata": {
        "colab": {
          "base_uri": "https://localhost:8080/"
        },
        "id": "4VAKwSM2l3oG",
        "outputId": "f1ff5e3f-ef06-48fb-ba9b-85256d333817"
      },
      "execution_count": 2,
      "outputs": [
        {
          "output_type": "stream",
          "name": "stdout",
          "text": [
            "give an integer number: a\n",
            "invalid input\n",
            "give an integer number: 1\n",
            "valid input:  1\n"
          ]
        }
      ]
    },
    {
      "cell_type": "markdown",
      "source": [
        "### Step 1 - Import the random module\n",
        "\n",
        "The random module has functions we can use to generate a random number within a specified range."
      ],
      "metadata": {
        "id": "rzrHfEWdFmFD"
      }
    },
    {
      "cell_type": "code",
      "execution_count": null,
      "metadata": {
        "id": "RAyfOG0JDvcb"
      },
      "outputs": [],
      "source": [
        "import random"
      ]
    },
    {
      "cell_type": "markdown",
      "source": [
        "### Step 2 - Set up the range and the maximum number of attempts\n",
        "\n",
        "We set the range for the secret number and the maximum number of attempts allowed for the player.\n",
        "\n",
        "Let's set the `lower_bound` and `upper_bound` to 1 and 1000, respectively. Also, set the maximum attempts allowed `max_attempts` to 10:"
      ],
      "metadata": {
        "id": "2iFd0EWTGD93"
      }
    },
    {
      "cell_type": "code",
      "source": [
        "# define range and max_attempts\n",
        "lower_bound = 1\n",
        "upper_bound = 1000\n",
        "max_attempts = 10"
      ],
      "metadata": {
        "id": "0U_Uh5JTG5Yy"
      },
      "execution_count": null,
      "outputs": []
    },
    {
      "cell_type": "markdown",
      "source": [
        "### Step 3 - Generate a random number\n",
        "\n",
        "Let's generate a random number within the specified range using the `random.randint()` function. This is the secret number that the user will try to guess."
      ],
      "metadata": {
        "id": "qmwTCiI3G_Zn"
      }
    },
    {
      "cell_type": "code",
      "source": [
        "# generate the secret number\n",
        "secret_number = random.randint(lower_bound, upper_bound)"
      ],
      "metadata": {
        "id": "9DBJ5hK_HnkI"
      },
      "execution_count": null,
      "outputs": []
    },
    {
      "cell_type": "markdown",
      "source": [
        "### Step 4 - Read in the user's input\n",
        "\n",
        "To get input from the user, let's create a function called `get_guess()`.\n",
        "\n",
        "Remember, the user can enter an invalid input: a number outside the range `[lower_bound, upper_bound]`, a string or a floating point number, and more.\n",
        "\n",
        "We handle this in the `get_guess()` function that continuously prompts the user to enter a number within the specified range until they provide a valid input.\n",
        "\n",
        "We use a `while` loop to prompt the user for a valid input until they enter an integer between `lower_bound` and `upper_bound`.\n",
        "\n",
        "The Python `ValueError` is an exception that occurs when a function receives an argument of the correct data type but an inappropriate value.\n",
        "\n",
        "This error usually occurs in mathematical operations that require a certain kind of value\n",
        "\n",
        "To resolve the `ValueError`, a `try-except` block can be used.\n",
        "\n",
        "The lines of code that can *throw* the `ValueError` are placed in the `try` clause, then the `except` clause can *catch* and handle the error."
      ],
      "metadata": {
        "id": "FaaKNVW_J7Pu"
      }
    },
    {
      "cell_type": "code",
      "source": [
        "# Get the user's guess\n",
        "def get_guess():\n",
        "    while True:\n",
        "        try:\n",
        "            guess = int(input(f\"Guess a number between {lower_bound} and {upper_bound}: \"))\n",
        "            if lower_bound <= guess <= upper_bound:\n",
        "                return guess\n",
        "            else:\n",
        "                print(\"Invalid input. Please enter a number within the specified range.\")\n",
        "        except ValueError:\n",
        "            print(\"Invalid input. Please enter a valid number.\")"
      ],
      "metadata": {
        "id": "WmhAyozSK5Q-"
      },
      "execution_count": null,
      "outputs": []
    },
    {
      "cell_type": "markdown",
      "source": [
        "### Step 5 - Validate the user's guess\n",
        "\n",
        "Let's define a `check_guess()` function that takes the user's guess and the secret number as inputs and provides feedback on whether the guess is correct, too high, or too low.\n",
        "\n",
        "The function compares the player's guess with the secret number and returns a corresponding message:"
      ],
      "metadata": {
        "id": "ZoZ9GDMRMM9F"
      }
    },
    {
      "cell_type": "code",
      "source": [
        "# Validate guess\n",
        "def check_guess(guess, secret_number):\n",
        "    if guess == secret_number:\n",
        "        return \"Correct\"\n",
        "    elif guess < secret_number:\n",
        "        return \"Low\"\n",
        "    else:\n",
        "        return \"High\""
      ],
      "metadata": {
        "id": "LMhJqyeeMhpW"
      },
      "execution_count": null,
      "outputs": []
    },
    {
      "cell_type": "markdown",
      "source": [
        "### Step 6 - Track the number of attempts and detect end-of-game conditions\n",
        "\n",
        "We'll now create the function `play_game()` that handles the game logic and puts everything together.\n",
        "\n",
        "The function uses the `attempts` variable to keep track of the number of attempts made by the user.\n",
        "\n",
        "Within a `while` loop, the user is prompted to enter a guess that's processed by the `get_guess()` function.\n",
        "\n",
        "The call to the `check_guess()` function provides feedback on the user's guess:\n",
        "\n",
        "* If the guess is correct, the user wins, and the game ends.\n",
        "* Otherwise, the user is given another chance to guess.\n",
        "* And this continues until the player guesses the secret number or runs out of attempts.\n"
      ],
      "metadata": {
        "id": "FT4-5BWgMtWl"
      }
    },
    {
      "cell_type": "code",
      "source": [
        "# track the number of attempts, detect if the game is over\n",
        "def play_game():\n",
        "    attempts = 0\n",
        "    won = False\n",
        "\n",
        "    while attempts < max_attempts:\n",
        "        attempts += 1\n",
        "        guess = get_guess()\n",
        "        result = check_guess(guess, secret_number)\n",
        "\n",
        "        if result == \"Correct\":\n",
        "            print(f\"Congratulations! You guessed the secret number {secret_number} in {attempts} attempts.\")\n",
        "            won = True\n",
        "            break\n",
        "        else:\n",
        "            print(f\"{result}. Try again!\")\n",
        "\n",
        "    if not won:\n",
        "        print(f\"Sorry, you ran out of attempts! The secret number is {secret_number}.\")"
      ],
      "metadata": {
        "id": "7RaaUeoYNK3M"
      },
      "execution_count": null,
      "outputs": []
    },
    {
      "cell_type": "markdown",
      "source": [
        "### Step 7 - Play the game!\n",
        "\n",
        "Finally, you can call the `play_game()` function to start the game."
      ],
      "metadata": {
        "id": "ygFpUjydOYy-"
      }
    },
    {
      "cell_type": "code",
      "source": [
        "play_game()"
      ],
      "metadata": {
        "colab": {
          "base_uri": "https://localhost:8080/"
        },
        "id": "EZI7IBpSNhq1",
        "outputId": "40fe4d53-d732-45bb-d91b-a30f2c573851"
      },
      "execution_count": null,
      "outputs": [
        {
          "output_type": "stream",
          "name": "stdout",
          "text": [
            "Guess a number between 1 and 1000: az\n",
            "Invalid input. Please enter a valid number.\n",
            "Guess a number between 1 and 1000: 500\n",
            "Too low. Try again!\n",
            "Guess a number between 1 and 1000: 750\n",
            "Too low. Try again!\n",
            "Guess a number between 1 and 1000: 900\n",
            "Too low. Try again!\n",
            "Guess a number between 1 and 1000: 950\n",
            "Too low. Try again!\n",
            "Guess a number between 1 and 1000: 970\n",
            "Too high. Try again!\n",
            "Guess a number between 1 and 1000: 960\n",
            "Too high. Try again!\n",
            "Guess a number between 1 and 1000: 955\n",
            "Too low. Try again!\n",
            "Guess a number between 1 and 1000: 953\n",
            "Too low. Try again!\n",
            "Guess a number between 1 and 1000: 958\n",
            "Too low. Try again!\n",
            "Guess a number between 1 and 1000: 959\n",
            "Congratulations! You guessed the secret number 959 in 10 attempts.\n"
          ]
        }
      ]
    },
    {
      "cell_type": "markdown",
      "source": [
        "### Putting it all together\n",
        "\n",
        "We put all the modules together in a script:"
      ],
      "metadata": {
        "id": "vGPMbmRhQFuW"
      }
    },
    {
      "cell_type": "code",
      "source": [
        "# main.py\n",
        "import random\n",
        "\n",
        "# define range and max_attempts\n",
        "lower_bound = 1\n",
        "upper_bound = 1000\n",
        "max_attempts = 10\n",
        "\n",
        "# generate the secret number\n",
        "secret_number = random.randint(lower_bound, upper_bound)\n",
        "\n",
        "# get the user's guess\n",
        "def get_guess():\n",
        "    while True:\n",
        "        try:\n",
        "            guess = int(input(f\"Guess a number between {lower_bound} and {upper_bound}: \"))\n",
        "            if lower_bound <= guess <= upper_bound:\n",
        "                return guess\n",
        "            else:\n",
        "                print(\"Invalid input. Please enter a number within the specified range.\")\n",
        "        except ValueError:\n",
        "            print(\"Invalid input. Please enter a valid number.\")\n",
        "\n",
        "# validate guess\n",
        "def check_guess(guess, secret_number):\n",
        "    if guess == secret_number:\n",
        "        return \"Correct\"\n",
        "    elif guess < secret_number:\n",
        "        return \"Too low\"\n",
        "    else:\n",
        "        return \"Too high\"\n",
        "\n",
        "# start the game, track the number of attempts, detect if the game is over\n",
        "def play_game():\n",
        "    attempts = 0\n",
        "    won = False\n",
        "\n",
        "    while attempts < max_attempts:\n",
        "        attempts += 1\n",
        "        guess = get_guess()\n",
        "        result = check_guess(guess, secret_number)\n",
        "\n",
        "        if result == \"Correct\":\n",
        "            print(f\"Congratulations! You guessed the secret number {secret_number} in {attempts} attempts.\")\n",
        "            won = True\n",
        "            break\n",
        "        else:\n",
        "            print(f\"{result}. Try again!\")\n",
        "    else:\n",
        "        print(f\"Sorry, you ran out of attempts! The secret number is {secret_number}.\")\n",
        "\n",
        "# play the game\n",
        "play_game()"
      ],
      "metadata": {
        "colab": {
          "base_uri": "https://localhost:8080/"
        },
        "id": "iSiM_-pkQPdY",
        "outputId": "1f5f0963-c107-4f9e-c6d7-ad03348e4c3a"
      },
      "execution_count": null,
      "outputs": [
        {
          "output_type": "stream",
          "name": "stdout",
          "text": [
            "Guess a number between 1 and 1000: 500\n",
            "Too low. Try again!\n",
            "Guess a number between 1 and 1000: 750\n",
            "Too low. Try again!\n",
            "Guess a number between 1 and 1000: 850\n",
            "Too low. Try again!\n",
            "Guess a number between 1 and 1000: 900\n",
            "Too high. Try again!\n",
            "Guess a number between 1 and 1000: 875\n",
            "Too low. Try again!\n",
            "Guess a number between 1 and 1000: 885\n",
            "Too low. Try again!\n",
            "Guess a number between 1 and 1000: 890\n",
            "Too low. Try again!\n",
            "Guess a number between 1 and 1000: 895\n",
            "Too low. Try again!\n",
            "Guess a number between 1 and 1000: 897\n",
            "Too low. Try again!\n",
            "Guess a number between 1 and 1000: 898\n",
            "Congratulations! You guessed the secret number 898 in 10 attempts.\n"
          ]
        }
      ]
    }
  ]
}