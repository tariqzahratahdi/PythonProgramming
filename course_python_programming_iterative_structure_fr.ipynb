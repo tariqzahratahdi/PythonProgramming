{
  "nbformat": 4,
  "nbformat_minor": 0,
  "metadata": {
    "colab": {
      "provenance": [],
      "authorship_tag": "ABX9TyMQVHMsCvjkUOaim94wgF/7"
    },
    "kernelspec": {
      "name": "python3",
      "display_name": "Python 3"
    },
    "language_info": {
      "name": "python"
    }
  },
  "cells": [
    {
      "cell_type": "markdown",
      "source": [
        "# Structure itérative\n",
        "\n",
        "Une *itération* désigne l'exécution d'une séquence d'instructions.\n",
        "\n",
        "Une *structure itérative* permet d'effectuer une série d'itérations sur la même séquence d'instructions.\n",
        "\n",
        "Les termes boucle et répétition sont également utilisés pour désigner une structure itérative.\n",
        "\n",
        "*Condition de sortie*\n",
        "\n",
        "Une boucle effectue un certain nombre d'itérations puis se termine.\n",
        "\n",
        "Pour empêcher une boucle d'itérer indéfiniment, il est nécessaire de fournir une *condition de sortie* qui, une fois vraie, met fin à la boucle.\n",
        "\n",
        "Parfois, un compteur est utilisé à l'intérieur de la boucle pour compter le nombre d'itérations déjà effectuées.\n",
        "\n",
        "Un compteur est une variable entière, généralement initialisée à `0` et *incrémentée* à chaque nouvelle itération.\n",
        "\n",
        "La valeur de compteur est utilisée dans la condition de sortie pour terminer la boucle après un certain nombre d'itérations.\n",
        "\n"
      ],
      "metadata": {
        "id": "GtxAkJkIybnC"
      }
    },
    {
      "cell_type": "markdown",
      "source": [
        "<br> <br>\n",
        "![course-python-programming-iterative-structure-01.png](data:image/png;base64,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)\n",
        "<br> <br>"
      ],
      "metadata": {
        "id": "vcw1i5LxDXSB"
      }
    },
    {
      "cell_type": "markdown",
      "source": [
        "# Instruction **`for`**\n",
        "\n",
        "L'instruction **`for`** permet d'itérer sur les éléments d'une séquence (itérable), comme une variable de type `list`, `tuple` ou `str`.\n",
        "\n",
        "*Syntaxe*\n",
        "\n",
        "<blockquote>\n",
        "<font size = \"3\">\n",
        "<pre>\n",
        "<font color = \"#af00db\">for</font> iterating_var <font color = \"#0000ff\">in</font> sequence:\n",
        "   statements\n",
        "</pre>\n",
        "</font>\n",
        "</blockquote>\n",
        "\n",
        "## Itération sur un `str`\n",
        "\n",
        "**Exemple**: afficher uniquement les consonnes d'une chaîne de caractères."
      ],
      "metadata": {
        "id": "Qp_FeehI0DEi"
      }
    },
    {
      "cell_type": "code",
      "execution_count": null,
      "metadata": {
        "colab": {
          "base_uri": "https://localhost:8080/"
        },
        "id": "_p8-7I5MyZWt",
        "outputId": "be0c5bf4-064e-4f7e-984d-3fc2a9f9de3c"
      },
      "outputs": [
        {
          "output_type": "stream",
          "name": "stdout",
          "text": [
            "Pythn prgrmmng lngg"
          ]
        }
      ],
      "source": [
        "string = 'Python programming language'\n",
        "vowels = 'aeiou'\n",
        "\n",
        "for char in string :\n",
        "   if char not in vowels :\n",
        "      print(char, end='')"
      ]
    },
    {
      "cell_type": "markdown",
      "source": [
        "## Itération sur un `list`\n",
        "\n",
        "**Exemple**: calculez la somme des éléments nombres entiers d'un `list`."
      ],
      "metadata": {
        "id": "qRNNjkkK027h"
      }
    },
    {
      "cell_type": "code",
      "source": [
        "numbers = [1,4,9,16,25]\n",
        "s = 0\n",
        "\n",
        "for num in numbers :\n",
        "   s += num\n",
        "\n",
        "print('Sum = ', s)"
      ],
      "metadata": {
        "colab": {
          "base_uri": "https://localhost:8080/"
        },
        "id": "auG83_6008Cq",
        "outputId": "53be0f9e-2a50-4aef-86ba-cc7a61ca1916"
      },
      "execution_count": null,
      "outputs": [
        {
          "output_type": "stream",
          "name": "stdout",
          "text": [
            "Sum =  55\n"
          ]
        }
      ]
    },
    {
      "cell_type": "markdown",
      "source": [
        "## Itération avec la fonction `range()`\n",
        "\n",
        "La fonction prédéfinie `range()` renvoie un itérateur qui génère un nombre entier à chaque itération.\n",
        "\n",
        "L'itérateur génère des nombres entiers dans une plage à partir d'une valeur de `start` et se terminant à une valeur `end` avec un pas d'incrémentation (incrément) dont la valeur est `step`.\n",
        "\n",
        "*Syntaxe*\n",
        "\n",
        "<blockquote>\n",
        "<font size=\"3\">\n",
        "<pre>\n",
        "<font color=\"#795e26\">range</font>(<font color=\"#116644\">start</font>, <font color=\"#116644\">end</font>, <font color=\"#116644\">step</font>)\n",
        "</pre>\n",
        "</font>\n",
        "</blockquote>\n",
        "\n",
        "Paramètres:\n",
        "\n",
        "* `start`: valeur de démarrage de la plage de valeurs. La valeur par défaut est `0`.\n",
        "* `end`: les valeurs vont jusqu'à `end - 1`.\n",
        "* `step`: valeur du pas d'incrémentation. La valeur par défaut est `1`.\n",
        "\n",
        "**Exemple**: table de multiplication."
      ],
      "metadata": {
        "id": "ePEuxMUf1zph"
      }
    },
    {
      "cell_type": "code",
      "source": [
        "table = []\n",
        "\n",
        "for num in range(4, 44, 4) :\n",
        "   table += [num]\n",
        "\n",
        "print(table)"
      ],
      "metadata": {
        "colab": {
          "base_uri": "https://localhost:8080/"
        },
        "id": "A6AGsEM92d1q",
        "outputId": "5860d06f-bd11-480c-df4c-e1dd79856f3f"
      },
      "execution_count": null,
      "outputs": [
        {
          "output_type": "stream",
          "name": "stdout",
          "text": [
            "[4, 8, 12, 16, 20, 24, 28, 32, 36, 40]\n"
          ]
        }
      ]
    },
    {
      "cell_type": "markdown",
      "source": [
        "## Itération sur les indices d'une séquence\n",
        "\n",
        "La fonction `range()` permet d'obtenir les indices d'une séquence et par suite itérer sur eux.\n",
        "\n",
        "**Exemple**"
      ],
      "metadata": {
        "id": "AiaEvlZS30uD"
      }
    },
    {
      "cell_type": "code",
      "source": [
        "numbers = [1,4,9,16,25,36]\n",
        "indices = range(len(numbers))\n",
        "\n",
        "for index in indices :\n",
        "   print(f'element index: {index} element value: {numbers[index]}')"
      ],
      "metadata": {
        "colab": {
          "base_uri": "https://localhost:8080/"
        },
        "id": "fUAlyKtK39lW",
        "outputId": "b6f5e8b3-077b-4329-cfca-ae201ff9d9e0"
      },
      "execution_count": null,
      "outputs": [
        {
          "output_type": "stream",
          "name": "stdout",
          "text": [
            "element index: 0 element value: 1\n",
            "element index: 1 element value: 4\n",
            "element index: 2 element value: 9\n",
            "element index: 3 element value: 16\n",
            "element index: 4 element value: 25\n",
            "element index: 5 element value: 36\n"
          ]
        }
      ]
    },
    {
      "cell_type": "markdown",
      "source": [
        "## Itération sur un `dict`\n",
        "\n",
        "L'itération sur un `dict` utilise les valeurs de la composante `key` des paires constituant le `dict`.\n",
        "\n",
        "**Exemple**"
      ],
      "metadata": {
        "id": "aVsMFG5d4QzQ"
      }
    },
    {
      "cell_type": "code",
      "source": [
        "numbers = {10:'Ten', 20:'Twenty', 30:'Thirty', 40:'Forty'}\n",
        "\n",
        "for k in numbers :\n",
        "   print(k)"
      ],
      "metadata": {
        "colab": {
          "base_uri": "https://localhost:8080/"
        },
        "id": "DxY9gOgl4YT0",
        "outputId": "67e4d062-35c9-452c-dac3-110eff49d617"
      },
      "execution_count": null,
      "outputs": [
        {
          "output_type": "stream",
          "name": "stdout",
          "text": [
            "10\n",
            "20\n",
            "30\n",
            "40\n"
          ]
        }
      ]
    },
    {
      "cell_type": "markdown",
      "source": [
        "Lorsqu'on accède à la valeur de la composante `key` d'une paire, on peut également accéder à la valeur de la composante `value` de cette paire à l'aide de l'opérateur crochets `[ ]`.\n",
        "\n",
        "**Exemple**"
      ],
      "metadata": {
        "id": "FxsONx1F4lGl"
      }
    },
    {
      "cell_type": "code",
      "source": [
        "numbers = {10:'Ten', 20:'Twenty', 30:'Thirty', 40:'Forty'}\n",
        "\n",
        "for k in numbers :\n",
        "   print(k,':', numbers[k])"
      ],
      "metadata": {
        "colab": {
          "base_uri": "https://localhost:8080/"
        },
        "id": "3tNf3aDH4yHN",
        "outputId": "f22c5a0e-08f9-44ff-a4fe-2ed4bb65dd9a"
      },
      "execution_count": null,
      "outputs": [
        {
          "output_type": "stream",
          "name": "stdout",
          "text": [
            "10 : Ten\n",
            "20 : Twenty\n",
            "30 : Thirty\n",
            "40 : Forty\n"
          ]
        }
      ]
    },
    {
      "cell_type": "markdown",
      "source": [
        "La classe `dict` possède les méthodes `items()`, `keys()` et `values()` qui renvoient des objets.\n",
        "\n",
        "Ces objets sont des itérateurs utilisables dans une boucle `for`.\n",
        "\n",
        "L'objet `dict.items()` est contient des paires (`key`, `value`).\n",
        "\n",
        "Cet objet peut être utilisé pour itérer dans une boucle `for`.\n",
        "\n",
        "**Exemple**"
      ],
      "metadata": {
        "id": "zMahOnRR49CY"
      }
    },
    {
      "cell_type": "code",
      "source": [
        "numbers = {10:'Ten', 20:'Twenty', 30:'Thirty', 40:'Forty'}\n",
        "\n",
        "for p in numbers.items() :\n",
        "   print(p)"
      ],
      "metadata": {
        "colab": {
          "base_uri": "https://localhost:8080/"
        },
        "id": "cHrrDRcL5OY8",
        "outputId": "816fed1f-c66e-4d14-bd81-f1f1fc73020e"
      },
      "execution_count": null,
      "outputs": [
        {
          "output_type": "stream",
          "name": "stdout",
          "text": [
            "(10, 'Ten')\n",
            "(20, 'Twenty')\n",
            "(30, 'Thirty')\n",
            "(40, 'Forty')\n"
          ]
        }
      ]
    },
    {
      "cell_type": "markdown",
      "source": [
        "**Exemple**"
      ],
      "metadata": {
        "id": "wRDXgOp35gdG"
      }
    },
    {
      "cell_type": "code",
      "source": [
        "numbers = {10:'Ten', 20:'Twenty', 30:'Thirty', 40:'Forty'}\n",
        "\n",
        "for k,v in numbers.items() :\n",
        "   print(k, ':', v)"
      ],
      "metadata": {
        "colab": {
          "base_uri": "https://localhost:8080/"
        },
        "id": "_j78yVRf5jDt",
        "outputId": "86170129-82aa-4ae0-d84b-a9a35ee05b28"
      },
      "execution_count": null,
      "outputs": [
        {
          "output_type": "stream",
          "name": "stdout",
          "text": [
            "10 : Ten\n",
            "20 : Twenty\n",
            "30 : Thirty\n",
            "40 : Forty\n"
          ]
        }
      ]
    },
    {
      "cell_type": "markdown",
      "source": [
        "L'objet `dict.keys()` est une collection des valeurs de la composante `key` des paires (`key`, `value').\n",
        "\n",
        "Cet objet peut être utilisé pour itérer dans une boucle `for`.\n",
        "\n",
        "**Exemple**"
      ],
      "metadata": {
        "id": "a1SBu_Nw54bB"
      }
    },
    {
      "cell_type": "code",
      "source": [
        "numbers = {10:'Ten', 20:'Twenty', 30:'Thirty', 40:'Forty'}\n",
        "\n",
        "for k in numbers.keys() :\n",
        "   print(k, ':', numbers[k])"
      ],
      "metadata": {
        "colab": {
          "base_uri": "https://localhost:8080/"
        },
        "id": "u4KD-x5F6CFy",
        "outputId": "116a045b-cfe0-428d-b71d-95778a4712f1"
      },
      "execution_count": null,
      "outputs": [
        {
          "output_type": "stream",
          "name": "stdout",
          "text": [
            "10 : Ten\n",
            "20 : Twenty\n",
            "30 : Thirty\n",
            "40 : Forty\n"
          ]
        }
      ]
    },
    {
      "cell_type": "markdown",
      "source": [
        "## Boucles imbriquées\n",
        "\n",
        "**Exemple**: tables de multiplication."
      ],
      "metadata": {
        "id": "posXkX7-6naj"
      }
    },
    {
      "cell_type": "code",
      "source": [
        "for m in range(1,11) :\n",
        "  for num in range(m, 11*m, m) :\n",
        "    print(num, end=' ')\n",
        "  print()"
      ],
      "metadata": {
        "colab": {
          "base_uri": "https://localhost:8080/"
        },
        "id": "GrdJmQnv6xuK",
        "outputId": "ebe7d116-9cf9-4a64-f371-19507d93f0e6"
      },
      "execution_count": null,
      "outputs": [
        {
          "output_type": "stream",
          "name": "stdout",
          "text": [
            "1 2 3 4 5 6 7 8 9 10 \n",
            "2 4 6 8 10 12 14 16 18 20 \n",
            "3 6 9 12 15 18 21 24 27 30 \n",
            "4 8 12 16 20 24 28 32 36 40 \n",
            "5 10 15 20 25 30 35 40 45 50 \n",
            "6 12 18 24 30 36 42 48 54 60 \n",
            "7 14 21 28 35 42 49 56 63 70 \n",
            "8 16 24 32 40 48 56 64 72 80 \n",
            "9 18 27 36 45 54 63 72 81 90 \n",
            "10 20 30 40 50 60 70 80 90 100 \n"
          ]
        }
      ]
    },
    {
      "cell_type": "markdown",
      "source": [
        "# Instruction **`while`**\n",
        "\n",
        "La boucle **`while`** permet d'itérer un bloc d'instructions tant que la valeur d'une expression booléenne est vraie.\n",
        "\n",
        "*Syntaxe*\n",
        "\n",
        "<blockquote>\n",
        "<font size=\"3\">\n",
        "<pre>\n",
        "<font color=\"#af00db\">while</font> boolean_expression :\n",
        "   statements\n",
        "</pre>\n",
        "</font>\n",
        "</blockquote>\n",
        "\n",
        "**Exemple**"
      ],
      "metadata": {
        "id": "I1XK4U8d7sBB"
      }
    },
    {
      "cell_type": "code",
      "source": [
        "count = 0\n",
        "\n",
        "while count < 5 :\n",
        "   count += 1\n",
        "   print('Iteration no. ', count)\n",
        "\n",
        "print('End of while loop')"
      ],
      "metadata": {
        "colab": {
          "base_uri": "https://localhost:8080/"
        },
        "id": "IhImH-Me8Rhh",
        "outputId": "4363272c-b2ad-4a92-c7a5-d7f7714c9083"
      },
      "execution_count": null,
      "outputs": [
        {
          "output_type": "stream",
          "name": "stdout",
          "text": [
            "Iteration no.  1\n",
            "Iteration no.  2\n",
            "Iteration no.  3\n",
            "Iteration no.  4\n",
            "Iteration no.  5\n",
            "End of while loop\n"
          ]
        }
      ]
    },
    {
      "cell_type": "markdown",
      "source": [
        "# Instruction **`break`**\n",
        "\n",
        "L'instruction **`break`** est utilisée pour terminer la boucle courante et reprendre l'exécution à l'instruction suivante.\n",
        "\n",
        "L'instruction **`break`** est utilisée dans une boucle `for` ou `while`.\n",
        "\n",
        "**Exemple**: arrêtez les itérations si un entier négatif se trouve parmi les éléments d'une liste."
      ],
      "metadata": {
        "id": "eohYq62c8pII"
      }
    },
    {
      "cell_type": "code",
      "source": [
        "numbers = [2,5,7,-8,13]\n",
        "\n",
        "for num in numbers :\n",
        "  if num < 0 :\n",
        "    break\n",
        "  print(num)\n",
        "\n",
        "print('negative number found, loop stopped')"
      ],
      "metadata": {
        "colab": {
          "base_uri": "https://localhost:8080/"
        },
        "id": "7MNFDPxS84c3",
        "outputId": "6a887127-6d7e-4001-98f5-0db128d54e67"
      },
      "execution_count": null,
      "outputs": [
        {
          "output_type": "stream",
          "name": "stdout",
          "text": [
            "2\n",
            "5\n",
            "7\n",
            "negative number found, loop stopped\n"
          ]
        }
      ]
    },
    {
      "cell_type": "markdown",
      "source": [
        "# Instruction **`continue`**\n",
        "\n",
        "L'instruction **`continue`** est utilisée pour arrêter l'exécution de *l'itération actuelle* dans une boucle, puis continuer la boucle en exécutant *l'itération suivante*.\n",
        "\n",
        "L'instruction **`continue`** est utilisée dans une boucle `for` ou `while`.\n",
        "\n",
        "**Exemple**: afficher uniquement les nombres positifs parmi les éléments d'une liste d'entiers."
      ],
      "metadata": {
        "id": "bhTJBRMj-a-F"
      }
    },
    {
      "cell_type": "code",
      "source": [
        "numbers = [2,5,-7,8,13]\n",
        "\n",
        "for num in numbers :\n",
        "   if num < 0 :\n",
        "      continue\n",
        "   print(num)"
      ],
      "metadata": {
        "colab": {
          "base_uri": "https://localhost:8080/"
        },
        "id": "uyYrK3PN-t01",
        "outputId": "1cefff40-1329-42c4-8a50-6caaa2018b69"
      },
      "execution_count": null,
      "outputs": [
        {
          "output_type": "stream",
          "name": "stdout",
          "text": [
            "2\n",
            "5\n",
            "8\n",
            "13\n"
          ]
        }
      ]
    },
    {
      "cell_type": "markdown",
      "source": [
        "# Instruction **`else`**  dans une boucle `for` ou `while`\n",
        "\n",
        "L'instruction **`else`** est utilisée dans une boucle `for` ou `while` pour exécuter un bloc d'instructions lors de la sortie de la boucle.\n",
        "\n",
        "*Syntaxe*\n",
        "\n",
        "<blockquote>\n",
        "<font size=\"3\">\n",
        "<pre>\n",
        "<font color=\"#af00db\">for</font> iterating_var <font color=\"#0000ff\">in</font> sequence :\n",
        "   statements\n",
        "<font color=\"#af00db\">else</font> :\n",
        "   statements_2\n",
        "</pre>\n",
        "</font>\n",
        "</blockquote>\n",
        "\n",
        "L'instruction `else` n'est pas exécutée lorsque la boucle est terminée par une instruction `break`.\n",
        "\n",
        "**Exemple**: rechercher dans une liste d'entiers un entier entré par l'utilisateur."
      ],
      "metadata": {
        "id": "oAOfyy0Q_Vmm"
      }
    },
    {
      "cell_type": "code",
      "source": [
        "n = int(input('Enter an integer : '))\n",
        "numbers = [1,4,9,16,25,36,49,64,81]\n",
        "\n",
        "for num in numbers :\n",
        "   if num == n :\n",
        "      print ('number found in list')\n",
        "      break\n",
        "else :\n",
        "   print ('number not found in list')"
      ],
      "metadata": {
        "colab": {
          "base_uri": "https://localhost:8080/"
        },
        "id": "bzkGXeuAAZiE",
        "outputId": "79ff2790-391e-4d50-c325-5bfb607edf2e"
      },
      "execution_count": null,
      "outputs": [
        {
          "output_type": "stream",
          "name": "stdout",
          "text": [
            "Enter an integer : 3\n",
            "number not found in list\n"
          ]
        }
      ]
    }
  ]
}