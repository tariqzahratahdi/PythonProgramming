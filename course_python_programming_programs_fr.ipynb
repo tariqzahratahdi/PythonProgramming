{
  "nbformat": 4,
  "nbformat_minor": 0,
  "metadata": {
    "colab": {
      "provenance": [],
      "authorship_tag": "ABX9TyOLJFkWRiE/iLB+MBaK4apg"
    },
    "kernelspec": {
      "name": "python3",
      "display_name": "Python 3"
    },
    "language_info": {
      "name": "python"
    }
  },
  "cells": [
    {
      "cell_type": "markdown",
      "source": [
        "# Programmes\n",
        "\n",
        "**Exemple**: vérifier la parité d'un nombre."
      ],
      "metadata": {
        "id": "O5cosaETpuFw"
      }
    },
    {
      "cell_type": "code",
      "execution_count": null,
      "metadata": {
        "colab": {
          "base_uri": "https://localhost:8080/"
        },
        "id": "M1-sZ9BOptFU",
        "outputId": "4865a1e3-f9ce-441c-a675-e4f8d36b0aad"
      },
      "outputs": [
        {
          "output_type": "stream",
          "name": "stdout",
          "text": [
            "Check the parity of a number.\n",
            "Enter an integer : 4\n",
            "4  is even\n"
          ]
        }
      ],
      "source": [
        "print('Check the parity of a number.')\n",
        "n = int(input('Enter an integer : '))\n",
        "\n",
        "if (n % 2) == 0 :\n",
        "   print(n, ' is even')\n",
        "else :\n",
        "   print(n, ' is odd')"
      ]
    },
    {
      "cell_type": "markdown",
      "source": [
        "**Exemple**: créer trois listes contenant des caractères alphanumériques:\n",
        "* la 1ère liste contient des caractères numériques: codes [48 .. 57]\n",
        "* la 2e liste contient des caractères de lettres majuscules: codes [65 .. 90]\n",
        "* la 3e liste contient des caractères de lettre minuscules: codes [97 .. 123]"
      ],
      "metadata": {
        "id": "HUywmb2wqQPy"
      }
    },
    {
      "cell_type": "code",
      "source": [
        "s1, s2, s3 = [], [], []\n",
        "\n",
        "for k in range(10):\n",
        "  s1 += [chr(k + 48)]\n",
        "\n",
        "for k in range(26):\n",
        "  s2 += [chr(k + 65)]\n",
        "  s3 += [chr(k + 97)]\n",
        "\n",
        "print('chiffres: ',s1)\n",
        "print(s2)\n",
        "print(s3)"
      ],
      "metadata": {
        "colab": {
          "base_uri": "https://localhost:8080/"
        },
        "id": "thaAafnAqpYl",
        "outputId": "a15e193b-1bc6-47e8-cc59-578c7977bfe7"
      },
      "execution_count": null,
      "outputs": [
        {
          "output_type": "stream",
          "name": "stdout",
          "text": [
            "chiffres:  ['0', '1', '2', '3', '4', '5', '6', '7', '8', '9']\n",
            "['A', 'B', 'C', 'D', 'E', 'F', 'G', 'H', 'I', 'J', 'K', 'L', 'M', 'N', 'O', 'P', 'Q', 'R', 'S', 'T', 'U', 'V', 'W', 'X', 'Y', 'Z']\n",
            "['a', 'b', 'c', 'd', 'e', 'f', 'g', 'h', 'i', 'j', 'k', 'l', 'm', 'n', 'o', 'p', 'q', 'r', 's', 't', 'u', 'v', 'w', 'x', 'y', 'z']\n"
          ]
        }
      ]
    },
    {
      "cell_type": "markdown",
      "source": [
        "**Exemple**: vérifier si un caractère est alphanumérique."
      ],
      "metadata": {
        "id": "CnpmmBQdq28n"
      }
    },
    {
      "cell_type": "code",
      "source": [
        "s1, s2, s3 = [], [], []\n",
        "\n",
        "for k in range(10):\n",
        "  s1 += [chr(k + 48)]\n",
        "for k in range(26):\n",
        "  s2 += [chr(k + 65)]\n",
        "  s3 += [chr(k + 97)]\n",
        "\n",
        "print('Check if a character is alphanumeric.')\n",
        "c = input('Enter a character : ')\n",
        "\n",
        "if c in s1 :\n",
        "  print(c, ' is a digit')\n",
        "elif c in s2 :\n",
        "  print(c, ' is an uppercase letter')\n",
        "elif c in s3 :\n",
        "  print(c, ' is a lowercase letter')\n",
        "else :\n",
        "  print(c, ' is not alphanumeric')"
      ],
      "metadata": {
        "colab": {
          "base_uri": "https://localhost:8080/"
        },
        "id": "rGhiPEcHq0SF",
        "outputId": "872326c7-8ada-4131-82a4-d1b28c46442f"
      },
      "execution_count": null,
      "outputs": [
        {
          "output_type": "stream",
          "name": "stdout",
          "text": [
            "Check if a character is alphanumeric.\n",
            "Enter a character : *\n",
            "*  is not alphanumeric\n"
          ]
        }
      ]
    },
    {
      "cell_type": "markdown",
      "source": [
        "**Exemple**: afficher la suite Fibonacci.\n",
        "\n",
        "La suite de Fibonacci est définie comme suit:\n",
        "\n",
        "$F_0 = 1$ et $F_1 = 1$ et $F_n = F_ {n-1} + F_ {n-2}$ pour $n > 1$"
      ],
      "metadata": {
        "id": "iOqgEnV2rp7i"
      }
    },
    {
      "cell_type": "code",
      "source": [
        "k = 10\n",
        "f0, f1 = 1, 1\n",
        "print(f0, f1, end=' ')\n",
        "\n",
        "for _ in range(k) :\n",
        "  print(f0 + f1, end=' ')\n",
        "  f0, f1 = f1, f0 + f1"
      ],
      "metadata": {
        "colab": {
          "base_uri": "https://localhost:8080/"
        },
        "id": "SJVmo8LKti09",
        "outputId": "abd83f29-da12-4990-c98f-ce3979c2bb2d"
      },
      "execution_count": null,
      "outputs": [
        {
          "output_type": "stream",
          "name": "stdout",
          "text": [
            "1 1 2 3 5 8 13 21 34 55 89 144 "
          ]
        }
      ]
    },
    {
      "cell_type": "markdown",
      "source": [
        "**Exemple**: la suite 3n + 1\n",
        "\n",
        "La règle pour créer la suite 3n + 1 est de partir d'un entier positif, et de générer le terme suivant à partir du terme précédent, soit en le divisant par deux lorsqu'il est pair, soit en le multipliant par trois et en ajoutant 1 lorsqu'il est impair. La suite se termine lorsque le terme suivant atteint 1.\n",
        "\n",
        "La conjecture de Collatz stipule que la suite 3n + 1 aboutit toujours à un."
      ],
      "metadata": {
        "id": "0Kt6lNV7BpaJ"
      }
    },
    {
      "cell_type": "code",
      "source": [
        "n = 13\n",
        "\n",
        "while n != 1:\n",
        "    print(n, end=' ')\n",
        "    if n % 2 == 0:        # n is even\n",
        "        n = n // 2\n",
        "    else:                 # n is odd\n",
        "        n = n * 3 + 1\n",
        "print(n)                  # the last print is 1"
      ],
      "metadata": {
        "colab": {
          "base_uri": "https://localhost:8080/"
        },
        "id": "zL5-qKL7DXgi",
        "outputId": "c4ee42b7-7fe3-423b-ab6b-bd87992ef257"
      },
      "execution_count": null,
      "outputs": [
        {
          "output_type": "stream",
          "name": "stdout",
          "text": [
            "13 40 20 10 5 16 8 4 2 1\n"
          ]
        }
      ]
    },
    {
      "cell_type": "markdown",
      "source": [
        "**Exemple**: le plus grand diviseur commun (PGDC).\n",
        "\n",
        "Écrire un programme qui calcule la valeur du PGDC de deux nombres naturels.\n",
        "\n",
        "L'algorithme d'Euclid permet de trouver le PGDC de deux nombres naturels $m$ et $n$.\n",
        "\n",
        "Cet algorithme procède comme suit:\n",
        "\n",
        "* calculer le reste de la division de $m$ par $n$,\n",
        "* ensuite, calculer le reste de la division de $n$ par le premier reste trouvé,\n",
        "* et ainsi de suite jusqu'à ce qu'un reste zéro soit trouvé.\n",
        "* Le dernier diviseur utilisé est le PGDC de $m$ et $n$.\n",
        "\n",
        "**Exemple**\n",
        "\n",
        "Trouver le PGDC de $m$ = 1386 et $n$ = 140.\n",
        "\n",
        "| Dividende | Diviseur | Division euclidienne | Reste |\n",
        "|: --- |: --- |: --- |: --- |\n",
        "| 1386 | 140 | 1386 = 140 x 9 + 126 | 126 |\n",
        "| 140 | 126 | 140 = 126 x 1 + 14 | 14 |\n",
        "| 126 | **14** | 126 = 14 x 9 + 0 | **0** |\n",
        "\n",
        "Le dernier diviseur est **14**, et par conséquent, le PGDC de 1386 et 140 est 14."
      ],
      "metadata": {
        "id": "2WTOtLp9woOW"
      }
    },
    {
      "cell_type": "code",
      "source": [
        "m, n = 1386, 140\n",
        "\n",
        "while n != 0 :\n",
        "  m, n = n, m % n\n",
        "\n",
        "print(m)"
      ],
      "metadata": {
        "colab": {
          "base_uri": "https://localhost:8080/"
        },
        "id": "HaRG480szA3_",
        "outputId": "daf9e403-a56a-4cfe-d437-1558cb7d4b68"
      },
      "execution_count": null,
      "outputs": [
        {
          "output_type": "stream",
          "name": "stdout",
          "text": [
            "14\n"
          ]
        }
      ]
    },
    {
      "cell_type": "markdown",
      "source": [
        "**Exemple**: Nombres premiers.\n",
        "\n",
        "Le crible d'Eratosthènes est un algorithme qui permet de trouver tous les nombres premiers inférieurs à un entier naturel donné N.\n",
        "\n",
        "L'algorithme procède par élimination: il consiste à parcourir en plusieurs passage la liste d'entiers de 2 à N, et à chaque passage, supprimer tous les multiples d'un entier autres que lui-même.\n",
        "\n",
        "En supprimant tous ces multiples, à la fin, seuls resteront les entiers qui ne sont multiples d'aucun entier sauf 1 et eux-mêmes, et qui sont donc des nombres premiers.\n",
        "\n",
        "On commence par supprimer les multiples de 2, puis les multiples restants de 3, puis les multiples restants de 5, et ainsi de suite, à chaque fois, supprimant tous les multiples du plus petit entier restant.\n",
        "\n",
        "L'animation ci-dessous illustre le crible d'Eratosthènes pour n = 120:"
      ],
      "metadata": {
        "id": "oQ0AEYo0uaqb"
      }
    },
    {
      "cell_type": "markdown",
      "source": [
        "<br><br>\n",
        "![course-python-programming-programs-fr-01.gif](data:image/gif;base64,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)\n",
        "<br><br>"
      ],
      "metadata": {
        "id": "NSnsuCY5vRRl"
      }
    },
    {
      "cell_type": "code",
      "source": [
        "num = 120\n",
        "\n",
        "prime = []\n",
        "for i in range(num+1) :\n",
        "  prime += [True]\n",
        "\n",
        "p = 2\n",
        "while (p * p <= num) :\n",
        "  if (prime[p] == True) :\n",
        "    for i in range(p * p, num+1, p) :\n",
        "        prime[i] = False\n",
        "  p += 1\n",
        "\n",
        "for p in range(2, num+1) :\n",
        "  if prime[p] :\n",
        "    print(p, end=' ')"
      ],
      "metadata": {
        "colab": {
          "base_uri": "https://localhost:8080/"
        },
        "id": "51OS4oiUu3gr",
        "outputId": "742a64bc-4476-4d0f-8ccf-e60f37456254"
      },
      "execution_count": null,
      "outputs": [
        {
          "output_type": "stream",
          "name": "stdout",
          "text": [
            "2 3 5 7 11 13 17 19 23 29 31 37 41 43 47 53 59 61 67 71 73 79 83 89 97 101 103 107 109 113 "
          ]
        }
      ]
    }
  ]
}