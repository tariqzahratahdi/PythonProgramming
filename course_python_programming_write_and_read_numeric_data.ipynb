{
  "nbformat": 4,
  "nbformat_minor": 0,
  "metadata": {
    "colab": {
      "provenance": [],
      "authorship_tag": "ABX9TyNhOffAwNnFfF3+HjFS/de9",
      "include_colab_link": true
    },
    "kernelspec": {
      "name": "python3",
      "display_name": "Python 3"
    },
    "language_info": {
      "name": "python"
    }
  },
  "cells": [
    {
      "cell_type": "markdown",
      "metadata": {
        "id": "view-in-github",
        "colab_type": "text"
      },
      "source": [
        "<a href=\"https://colab.research.google.com/github/tariqzahratahdi/PythonProgramming/blob/main/course_python_programming_write_and_read_numeric_data.ipynb\" target=\"_parent\"><img src=\"https://colab.research.google.com/assets/colab-badge.svg\" alt=\"Open In Colab\"/></a>"
      ]
    },
    {
      "cell_type": "markdown",
      "source": [
        "# **Write and Read Numeric Data**\n",
        "\n",
        "# Write **`int`** Data\n",
        "\n",
        "To write an `int` data type to a binary file, the `int` object must be converted to a `bytes` object by the **`to_bytes()`** method.\n",
        "\n",
        "The `to_bytes()` method returns an array of `bytes` representing a given integer.\n",
        "\n",
        "> *Syntax*\n",
        "<font size=\"4\">\n",
        "```python\n",
        "integer_variable.to_bytes(length, byteorder)\n",
        "```\n",
        "</font>\n",
        "\n",
        "*Parameters*\n",
        "* `length`: number of bytes returned.\n",
        "* `byteorder`: integer representation\n",
        "    * `big`: big-endian representation, most significant byte (MSB) at the beginning of the array.\n",
        "    * `little`: little-endian representation, least significant byte (LSB) at the beginning of the array.\n",
        "\n",
        "**Example**"
      ],
      "metadata": {
        "id": "ylFJEfKPayav"
      }
    },
    {
      "cell_type": "code",
      "execution_count": null,
      "metadata": {
        "colab": {
          "base_uri": "https://localhost:8080/"
        },
        "id": "8vRrpTTdZ96x",
        "outputId": "7fc4989a-ae7b-46d1-c5c2-0bea3af94bab"
      },
      "outputs": [
        {
          "output_type": "stream",
          "name": "stdout",
          "text": [
            "b'\\x00\\x00\\x00\\x00\\x00\\x00\\x00\\x0c'\n"
          ]
        }
      ],
      "source": [
        "n = 12\n",
        "\n",
        "# convert int to bytes\n",
        "data = n.to_bytes(8,'big')\n",
        "\n",
        "print(data)\n",
        "bf = open('tmp', 'wb')\n",
        "bf.write(data)\n",
        "bf.close()"
      ]
    },
    {
      "cell_type": "markdown",
      "source": [
        "# Read **`int`** Data\n",
        "\n",
        "To read an *int* data type from a binary file, we use the **`from_bytes()`** method to convert the result returned by the `read()` method into an *int* object.\n",
        "\n",
        "The `from_bytes()` method returns an integer represented by an array of `bytes`.\n",
        "\n",
        "> *Syntax*\n",
        "<font size=\"4\">\n",
        "```python\n",
        "integer_variable.from_bytes(bytes_array, byteorder)\n",
        "```\n",
        "</font>\n",
        "\n",
        "*Parameters*\n",
        "* `bytes_array`: array of `bytes`.\n",
        "* `byteorder`: integer representation\n",
        "    * `big`: big-endian representation, most significant byte (MSB) at the beginning of the array.\n",
        "    * `little`: little-endian representation, least significant byte (LSB) at the beginning of the array.\n",
        "\n",
        "**Example**\n",
        "\n"
      ],
      "metadata": {
        "id": "Eoj81urjdjzL"
      }
    },
    {
      "cell_type": "code",
      "source": [
        "bf = open('tmp', 'rb')\n",
        "data = bf.read()\n",
        "bf.close()\n",
        "\n",
        "# convert bytes to int\n",
        "n = int.from_bytes(data, 'big')\n",
        "\n",
        "print(n)"
      ],
      "metadata": {
        "colab": {
          "base_uri": "https://localhost:8080/"
        },
        "id": "To4HJIBfeN7C",
        "outputId": "ca640230-0144-46e9-d0c2-ed49600277ce"
      },
      "execution_count": null,
      "outputs": [
        {
          "output_type": "stream",
          "name": "stdout",
          "text": [
            "12\n"
          ]
        }
      ]
    },
    {
      "cell_type": "markdown",
      "source": [
        "# Write **`float`** Data\n",
        "\n",
        "To write a `float` data to a binary file, the `float` object must be converted to *bytes* by the **`pack()`** method defined in the **`struct`** module.\n",
        "\n",
        "**Example**"
      ],
      "metadata": {
        "id": "IYqB0OZrfPFg"
      }
    },
    {
      "cell_type": "code",
      "source": [
        "import struct\n",
        "r = 12.34\n",
        "\n",
        "# convert float to bytes\n",
        "data = struct.pack('f', r)\n",
        "\n",
        "bf = open('tmp', 'wb')\n",
        "bf.write(data)\n",
        "bf.close()"
      ],
      "metadata": {
        "id": "0XaoD-b1fc2G"
      },
      "execution_count": null,
      "outputs": []
    },
    {
      "cell_type": "markdown",
      "source": [
        "# Read **`float`** Data\n",
        "\n",
        "To read a `float` data in a binary file, we convert the `bytes` object returned by the `read()` method into a `float` object using the **`unpack()`** method defined in the **`struct`** module.\n",
        "\n",
        "**Example**"
      ],
      "metadata": {
        "id": "UKFadDrzgJGR"
      }
    },
    {
      "cell_type": "code",
      "source": [
        "import struct\n",
        "bf = open('tmp', 'rb')\n",
        "data = bf.read()\n",
        "bf.close()\n",
        "\n",
        "# convert bytes to float\n",
        "r = struct.unpack('f', data)\n",
        "\n",
        "print(r)"
      ],
      "metadata": {
        "colab": {
          "base_uri": "https://localhost:8080/"
        },
        "id": "9Eq4AzfkgY5w",
        "outputId": "1b94621b-d7f6-458f-867c-b3994e0eb30f"
      },
      "execution_count": null,
      "outputs": [
        {
          "output_type": "stream",
          "name": "stdout",
          "text": [
            "(12.34000015258789,)\n"
          ]
        }
      ]
    }
  ]
}