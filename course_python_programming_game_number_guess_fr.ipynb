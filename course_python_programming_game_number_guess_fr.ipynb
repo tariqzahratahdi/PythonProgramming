{
  "nbformat": 4,
  "nbformat_minor": 0,
  "metadata": {
    "colab": {
      "provenance": [],
      "authorship_tag": "ABX9TyOogBk2dkMUPREtsoBavwAH",
      "include_colab_link": true
    },
    "kernelspec": {
      "name": "python3",
      "display_name": "Python 3"
    },
    "language_info": {
      "name": "python"
    }
  },
  "cells": [
    {
      "cell_type": "markdown",
      "metadata": {
        "id": "view-in-github",
        "colab_type": "text"
      },
      "source": [
        "<a href=\"https://colab.research.google.com/github/tariqzahratahdi/PythonProgramming/blob/main/course_python_programming_game_number_guess_fr.ipynb\" target=\"_parent\"><img src=\"https://colab.research.google.com/assets/colab-badge.svg\" alt=\"Open In Colab\"/></a>"
      ]
    },
    {
      "cell_type": "markdown",
      "source": [
        "# Jeu de devinette simple\n",
        "\n",
        "Dans un jeu de devinette, l'utilisateur tente de deviner un nombre secret généré aléatoirement. Le nombre de tentatives est limité à une valeur maximale donnée.\n",
        "\n",
        "Après chaque tentative, l'utilisateur obtient des indices indiquant si sa supposition est plus grande, plus petite ou correcte.\n",
        "\n",
        "Le jeu se termine lorsque l'utilisateur a deviné le nombre secret ou lorsqu'il a dépassé le nombre maximal de tentatives autorisé."
      ],
      "metadata": {
        "id": "av-NHKYFEaAx"
      }
    },
    {
      "cell_type": "markdown",
      "source": [
        "### Gestion des erreurs de lecture de données\n",
        "\n",
        "L'erreur Python **`ValueError`** est une exception qui se produit lorsqu'une fonction reçoit un argument dont le type de données correct, mais dont la valeur est incorrecte.\n",
        "\n",
        "Cette erreur se produit généralement lors d'opérations mathématiques nécessitant un certain type de valeur.\n",
        "\n",
        "Pour résoudre l'erreur `ValueError`, un bloc **`try-except`** peut être utilisé.\n",
        "\n",
        "Les lignes de code pouvant générer (throw) l'erreur `ValueError` sont placées dans la clause `try`, ensuite la clause `except` intercepte (catch) et gère l'erreur.\n",
        "\n",
        "**Exemple:** lecture de données sans utilisation du bloc `try-except`"
      ],
      "metadata": {
        "id": "ak0FnSfnemLY"
      }
    },
    {
      "cell_type": "code",
      "source": [
        "n = int(input('donner un nombre entier: '))\n",
        "print(n)"
      ],
      "metadata": {
        "colab": {
          "base_uri": "https://localhost:8080/"
        },
        "id": "yeLDYaf0LNiG",
        "outputId": "aa671fad-c4f9-464c-b0c6-04d03106cb02"
      },
      "execution_count": null,
      "outputs": [
        {
          "output_type": "stream",
          "name": "stdout",
          "text": [
            "donner un nombre entier: 1\n",
            "1\n"
          ]
        }
      ]
    },
    {
      "cell_type": "markdown",
      "source": [
        "**Exemple:** lecture de données avec utilisation du bloc `try-except`"
      ],
      "metadata": {
        "id": "84aE0gCULUu9"
      }
    },
    {
      "cell_type": "code",
      "source": [
        "try:\n",
        "  n = int(input('donner un nombre entier: '))\n",
        "  print(n)\n",
        "except ValueError:\n",
        "  print('invalid input')"
      ],
      "metadata": {
        "colab": {
          "base_uri": "https://localhost:8080/"
        },
        "id": "Z5UXzIZufzC5",
        "outputId": "b9bdaed9-7db5-44a1-cec5-a2d7a49a05f3"
      },
      "execution_count": null,
      "outputs": [
        {
          "output_type": "stream",
          "name": "stdout",
          "text": [
            "donner un nombre entier: 1a\n",
            "invalid input\n"
          ]
        }
      ]
    },
    {
      "cell_type": "markdown",
      "source": [
        "**Example:** utiliser une boucle `while` pour inviter l'utilisateur à saisir une donnée valide tant que la donnée saisie est non valide."
      ],
      "metadata": {
        "id": "IxQV3VYAgxb6"
      }
    },
    {
      "cell_type": "code",
      "source": [
        "while True:\n",
        "  try:\n",
        "    n = int(input('donner un nombre entier: '))\n",
        "    print('valid input: ', n)\n",
        "    break\n",
        "  except ValueError:\n",
        "    print('invalid input')"
      ],
      "metadata": {
        "colab": {
          "base_uri": "https://localhost:8080/"
        },
        "id": "O_WFmmR2g0b6",
        "outputId": "e240dd75-ff3e-4857-ec20-9cf7fb900219"
      },
      "execution_count": null,
      "outputs": [
        {
          "output_type": "stream",
          "name": "stdout",
          "text": [
            "donner un nombre entier: a\n",
            "invalid input\n",
            "donner un nombre entier: a\n",
            "invalid input\n",
            "donner un nombre entier: 1\n",
            "valid input:  1\n"
          ]
        }
      ]
    },
    {
      "cell_type": "markdown",
      "source": [
        "### Étape 1 - Importer le module `random`\n",
        "\n",
        "Le module `random` dispose de fonctions permettant de générer un nombre aléatoire dans une plage de valeurs spécifiée."
      ],
      "metadata": {
        "id": "rzrHfEWdFmFD"
      }
    },
    {
      "cell_type": "code",
      "execution_count": null,
      "metadata": {
        "id": "RAyfOG0JDvcb"
      },
      "outputs": [],
      "source": [
        "import random"
      ]
    },
    {
      "cell_type": "markdown",
      "source": [
        "### Étape 2 - Définir la plage de valeurs et le nombre maximal de tentatives\n",
        "\n",
        "Nous définissons la plage pour le nombre secret et le nombre maximal de tentatives autorisé pour le joueur.\n",
        "\n",
        "Définissons respectivement les valeurs `lower_bound` et `upper_bound` à 1 et 1000. Nous définissons également le nombre maximal de tentatives autorisé `max_attempts` à 10."
      ],
      "metadata": {
        "id": "2iFd0EWTGD93"
      }
    },
    {
      "cell_type": "code",
      "source": [
        "# define range and max_attempts\n",
        "lower_bound = 1\n",
        "upper_bound = 1000\n",
        "max_attempts = 10"
      ],
      "metadata": {
        "id": "0U_Uh5JTG5Yy"
      },
      "execution_count": null,
      "outputs": []
    },
    {
      "cell_type": "markdown",
      "source": [
        "### Étape 3 - Générer un nombre aléatoire\n",
        "\n",
        "Générons un nombre aléatoire dans la plage spécifiée à l'aide de la fonction `random.randint()`. Il s'agit du nombre secret que l'utilisateur tentera de deviner."
      ],
      "metadata": {
        "id": "qmwTCiI3G_Zn"
      }
    },
    {
      "cell_type": "code",
      "source": [
        "# generate the secret number\n",
        "secret_number = random.randint(lower_bound, upper_bound)"
      ],
      "metadata": {
        "id": "9DBJ5hK_HnkI"
      },
      "execution_count": null,
      "outputs": []
    },
    {
      "cell_type": "markdown",
      "source": [
        "### Étape 4 - Lire la saisie utilisateur\n",
        "\n",
        "Pour obtenir la saisie utilisateur, créons une fonction appelée `get_guess()`.\n",
        "\n",
        "N'oubliez pas que l'utilisateur peut saisir une valeur non valide: un nombre hors de la plage `[lower_bound, upper_bound]`, une chaîne de caractères ou un nombre à virgule flottante, etc.\n",
        "\n",
        "Nous gérons ce problème dans la fonction `get_guess()`, qui invite continuellement l'utilisateur à saisir un nombre compris dans la plage spécifiée jusqu'à ce qu'il fournisse une valeur valide.\n",
        "\n",
        "Nous utilisons une boucle `while` pour inviter l'utilisateur à saisir une valeur valide jusqu'à ce qu'il saisisse un entier compris entre `lower_bound` et `upper_bound`.\n",
        "\n",
        "L'erreur Python `ValueError` est une exception qui se produit lorsqu'une fonction reçoit un argument dont le type de données correct, mais dont la valeur est incorrecte.\n",
        "\n",
        "Cette erreur se produit généralement lors d'opérations mathématiques nécessitant un certain type de valeur.\n",
        "\n",
        "Pour résoudre l'erreur `ValueError`, on utilise un bloc `try-except`.\n",
        "\n",
        "Les lignes de code pouvant générer l'erreur `ValueError` sont placées dans la clause `try`, ensuite la clause `except` intercepte et gère l'erreur."
      ],
      "metadata": {
        "id": "FaaKNVW_J7Pu"
      }
    },
    {
      "cell_type": "code",
      "source": [
        "# Get the user's guess\n",
        "def get_guess():\n",
        "    while True:\n",
        "        try:\n",
        "            guess = int(input(f\"Guess a number between {lower_bound} and {upper_bound}: \"))\n",
        "            if lower_bound <= guess <= upper_bound:\n",
        "                return guess\n",
        "            else:\n",
        "                print(\"Invalid input. Please enter a number within the specified range.\")\n",
        "        except ValueError:\n",
        "            print(\"Invalid input. Please enter a valid number.\")"
      ],
      "metadata": {
        "id": "WmhAyozSK5Q-"
      },
      "execution_count": null,
      "outputs": []
    },
    {
      "cell_type": "markdown",
      "source": [
        "### Étape 5 - Valider la supposition de l'utilisateur\n",
        "\n",
        "Définissons une fonction `check_guess()` qui prend en entrée la supposition de l'utilisateur et le nombre secret et fournit un résultat indiquant si la supposition est correcte, plus grande ou plus petite.\n",
        "\n",
        "La fonction compare la supposition du joueur au nombre secret et renvoie le message correspondant."
      ],
      "metadata": {
        "id": "ZoZ9GDMRMM9F"
      }
    },
    {
      "cell_type": "code",
      "source": [
        "# Validate guess\n",
        "def check_guess(guess, secret_number):\n",
        "    if guess == secret_number:\n",
        "        return \"Correct\"\n",
        "    elif guess < secret_number:\n",
        "        return \"Low\"\n",
        "    else:\n",
        "        return \"High\""
      ],
      "metadata": {
        "id": "LMhJqyeeMhpW"
      },
      "execution_count": null,
      "outputs": []
    },
    {
      "cell_type": "markdown",
      "source": [
        "### Étape 6 - Suivi du nombre de tentatives et détection des conditions de fin de partie\n",
        "\n",
        "Nous allons maintenant créer la fonction `play_game()` qui gère la logique du jeu et assemble le tout.\n",
        "\n",
        "Cette fonction utilise la variable `attempts` pour suivre le nombre de tentatives effectuées par l'utilisateur.\n",
        "\n",
        "Dans une boucle `while`, l'utilisateur est invité à saisir un nombre, qui est traité par la fonction `get_guess()`.\n",
        "\n",
        "L'appel de la fonction `check_guess()` fournit un retour sur la supposition de l'utilisateur:\n",
        "\n",
        "* Si la supposition est correcte, l'utilisateur gagne et la partie se termine.\n",
        "* Sinon, l'utilisateur a une nouvelle chance de deviner.\n",
        "* Et ainsi de suite jusqu'à ce que le joueur devine le nombre secret ou n'ait plus de tentatives."
      ],
      "metadata": {
        "id": "FT4-5BWgMtWl"
      }
    },
    {
      "cell_type": "code",
      "source": [
        "# track the number of attempts, detect if the game is over\n",
        "def play_game():\n",
        "    attempts = 0\n",
        "    won = False\n",
        "\n",
        "    while attempts < max_attempts:\n",
        "        attempts += 1\n",
        "        guess = get_guess()\n",
        "        result = check_guess(guess, secret_number)\n",
        "\n",
        "        if result == \"Correct\":\n",
        "            print(f\"Congratulations! You guessed the secret number {secret_number} in {attempts} attempts.\")\n",
        "            won = True\n",
        "            break\n",
        "        else:\n",
        "            print(f\"{result}. Try again!\")\n",
        "\n",
        "    else:\n",
        "        print(f\"Sorry, you ran out of attempts! The secret number is {secret_number}.\")"
      ],
      "metadata": {
        "id": "7RaaUeoYNK3M"
      },
      "execution_count": null,
      "outputs": []
    },
    {
      "cell_type": "markdown",
      "source": [
        "### Étape 7 - Jouez!\n",
        "\n",
        "Enfin, vous pouvez appeler la fonction `play_game()` pour démarrer le jeu."
      ],
      "metadata": {
        "id": "ygFpUjydOYy-"
      }
    },
    {
      "cell_type": "code",
      "source": [
        "play_game()"
      ],
      "metadata": {
        "colab": {
          "base_uri": "https://localhost:8080/"
        },
        "id": "EZI7IBpSNhq1",
        "outputId": "dfc69895-a086-49d1-89f0-b438be525447"
      },
      "execution_count": null,
      "outputs": [
        {
          "output_type": "stream",
          "name": "stdout",
          "text": [
            "Guess a number between 1 and 1000: 500\n",
            "High. Try again!\n",
            "Guess a number between 1 and 1000: 250\n",
            "Low. Try again!\n",
            "Guess a number between 1 and 1000: 375\n",
            "Low. Try again!\n",
            "Guess a number between 1 and 1000: 450\n",
            "Low. Try again!\n",
            "Guess a number between 1 and 1000: 475\n",
            "Low. Try again!\n",
            "Guess a number between 1 and 1000: 485\n",
            "Low. Try again!\n",
            "Guess a number between 1 and 1000: 495\n",
            "High. Try again!\n",
            "Guess a number between 1 and 1000: 490\n",
            "High. Try again!\n",
            "Guess a number between 1 and 1000: 488\n",
            "Congratulations! You guessed the secret number 488 in 9 attempts.\n"
          ]
        }
      ]
    },
    {
      "cell_type": "markdown",
      "source": [
        "### Mettre tout cela ensemble\n",
        "\n",
        "Nous rassemblons tous les modules dans un script:"
      ],
      "metadata": {
        "id": "vGPMbmRhQFuW"
      }
    },
    {
      "cell_type": "code",
      "source": [
        "# main.py\n",
        "import random\n",
        "\n",
        "# define range and max_attempts\n",
        "lower_bound = 1\n",
        "upper_bound = 1000\n",
        "max_attempts = 10\n",
        "\n",
        "# generate the secret number\n",
        "secret_number = random.randint(lower_bound, upper_bound)\n",
        "\n",
        "# get the user's guess\n",
        "def get_guess():\n",
        "    while True:\n",
        "        try:\n",
        "            guess = int(input(f\"Guess a number between {lower_bound} and {upper_bound}: \"))\n",
        "            if lower_bound <= guess <= upper_bound:\n",
        "                return guess\n",
        "            else:\n",
        "                print(\"Invalid input. Please enter a number within the specified range.\")\n",
        "        except ValueError:\n",
        "            print(\"Invalid input. Please enter a valid number.\")\n",
        "\n",
        "# validate guess\n",
        "def check_guess(guess, secret_number):\n",
        "    if guess == secret_number:\n",
        "        return \"Correct\"\n",
        "    elif guess < secret_number:\n",
        "        return \"Low\"\n",
        "    else:\n",
        "        return \"High\"\n",
        "\n",
        "# start the game, track the number of attempts, detect if the game is over\n",
        "def play_game():\n",
        "    attempts = 0\n",
        "    won = False\n",
        "\n",
        "    while attempts < max_attempts:\n",
        "        attempts += 1\n",
        "        guess = get_guess()\n",
        "        result = check_guess(guess, secret_number)\n",
        "\n",
        "        if result == \"Correct\":\n",
        "            print(f\"Congratulations! You guessed the secret number {secret_number} in {attempts} attempts.\")\n",
        "            won = True\n",
        "            break\n",
        "        else:\n",
        "            print(f\"{result}. Try again!\")\n",
        "    else:\n",
        "        print(f\"Sorry, you ran out of attempts! The secret number is {secret_number}.\")\n",
        "\n",
        "# play the game\n",
        "play_game()"
      ],
      "metadata": {
        "colab": {
          "base_uri": "https://localhost:8080/"
        },
        "id": "iSiM_-pkQPdY",
        "outputId": "cd019983-3809-449a-fb88-5eaf292bfbd7"
      },
      "execution_count": null,
      "outputs": [
        {
          "output_type": "stream",
          "name": "stdout",
          "text": [
            "Guess a number between 1 and 1000: 1\n",
            "Low. Try again!\n",
            "Guess a number between 1 and 1000: 1\n",
            "Low. Try again!\n",
            "Guess a number between 1 and 1000: 1\n",
            "Low. Try again!\n",
            "Guess a number between 1 and 1000: 1\n",
            "Low. Try again!\n",
            "Guess a number between 1 and 1000: 1\n",
            "Low. Try again!\n",
            "Guess a number between 1 and 1000: 1\n",
            "Low. Try again!\n",
            "Guess a number between 1 and 1000: 1\n",
            "Low. Try again!\n",
            "Guess a number between 1 and 1000: 1\n",
            "Low. Try again!\n",
            "Guess a number between 1 and 1000: 1\n",
            "Low. Try again!\n",
            "Guess a number between 1 and 1000: 1\n",
            "Low. Try again!\n",
            "Sorry, you ran out of attempts! The secret number is 438.\n"
          ]
        }
      ]
    }
  ]
}