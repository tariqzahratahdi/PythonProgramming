{
  "nbformat": 4,
  "nbformat_minor": 0,
  "metadata": {
    "colab": {
      "provenance": [],
      "authorship_tag": "ABX9TyNjsWPLv17+JkjvWs+ir5yg",
      "include_colab_link": true
    },
    "kernelspec": {
      "name": "python3",
      "display_name": "Python 3"
    },
    "language_info": {
      "name": "python"
    }
  },
  "cells": [
    {
      "cell_type": "markdown",
      "metadata": {
        "id": "view-in-github",
        "colab_type": "text"
      },
      "source": [
        "<a href=\"https://colab.research.google.com/github/tariqzahratahdi/PythonProgramming/blob/main/course_python_programming_files_management.ipynb\" target=\"_parent\"><img src=\"https://colab.research.google.com/assets/colab-badge.svg\" alt=\"Open In Colab\"/></a>"
      ]
    },
    {
      "cell_type": "markdown",
      "source": [
        "# **Files Management**\n",
        "\n",
        "# **`os`** module\n",
        "\n",
        "The Python **`os`** module provides methods to perform file-processing operations, such as renaming and deleting files.\n",
        "\n",
        "The Python `os` module provides methods to perform directory management operations, such as creating, renaming, and deleting directories.\n",
        "\n",
        "**Example**"
      ],
      "metadata": {
        "id": "yCHq-iNjjaba"
      }
    },
    {
      "cell_type": "code",
      "execution_count": null,
      "metadata": {
        "colab": {
          "base_uri": "https://localhost:8080/"
        },
        "id": "J-vL1_TBjYBZ",
        "outputId": "7402a45b-0218-4f8e-ba55-1ce4a6a0be84"
      },
      "outputs": [
        {
          "output_type": "stream",
          "name": "stdout",
          "text": [
            "/content\n",
            "['.config', 'sample_data']\n"
          ]
        }
      ],
      "source": [
        "import os\n",
        "\n",
        "# Get path of the current directory\n",
        "d = os.getcwd()\n",
        "\n",
        "print(d)\n",
        "\n",
        "# Get entries in directory\n",
        "e = os.listdir(d)\n",
        "\n",
        "print(e)"
      ]
    },
    {
      "cell_type": "markdown",
      "source": [
        "### **`getcwd()`** method\n",
        "\n",
        "We use the **`getcwd()`** method of the `os` module to get the path of the current directory.\n",
        "\n",
        "**`listdir()`** method\n",
        "\n",
        "We use the **`listdir()`** method of the `os` module to get the names of files and subdirectories in a directory.\n",
        "\n"
      ],
      "metadata": {
        "id": "Dqk8FouRo9_-"
      }
    },
    {
      "cell_type": "markdown",
      "source": [
        "# Files Management\n",
        "\n",
        "### **`rename()`** method\n",
        "\n",
        "> *Syntax*\n",
        "<font size=\"4\">\n",
        "```python\n",
        "os.rename(current_file_name, new_file_name)\n",
        "```\n",
        "</font>\n",
        "\n",
        "**Example**: first create a file named `tmp`."
      ],
      "metadata": {
        "id": "pUK9xx_skIae"
      }
    },
    {
      "cell_type": "code",
      "source": [
        "# Rename  file\n",
        "os.rename('tmp', 'tmp1' )"
      ],
      "metadata": {
        "id": "ETfdqrWakhCA"
      },
      "execution_count": null,
      "outputs": []
    },
    {
      "cell_type": "markdown",
      "source": [
        "### **`remove()`** method\n",
        "\n",
        "> *Syntax*\n",
        "<font size=\"4\">\n",
        "```python\n",
        "os.remove(file_name)\n",
        "```\n",
        "</font>\n",
        "\n",
        "**Example**"
      ],
      "metadata": {
        "id": "am-3BDrgmQbF"
      }
    },
    {
      "cell_type": "code",
      "source": [
        "# Delete file\n",
        "os.remove('tmp1')"
      ],
      "metadata": {
        "id": "EAIFmhwamf4_"
      },
      "execution_count": null,
      "outputs": []
    },
    {
      "cell_type": "markdown",
      "source": [
        "# Directories Management\n",
        "\n",
        "### **`mkdir()`** method\n",
        "\n",
        "The **`mkdir()`** method of the `os` module is used to create a directory in the current directory.\n",
        "\n",
        "This method receives an argument that contains the name of the directory to create.\n",
        "\n",
        "> *Syntax*\n",
        "<font size=\"4\">\n",
        "```python\n",
        "os.mkdir(directory_name)\n",
        "```\n",
        "</font>\n",
        "\n",
        "**Example**"
      ],
      "metadata": {
        "id": "sT1m2fPtnA-2"
      }
    },
    {
      "cell_type": "code",
      "source": [
        "# Create a directory\n",
        "os.mkdir('dir_tmp')"
      ],
      "metadata": {
        "id": "VWYfdvLunnOT"
      },
      "execution_count": null,
      "outputs": []
    },
    {
      "cell_type": "markdown",
      "source": [
        "### **`chdir()`** method\n",
        "\n",
        "We use the **`chdir()`** method of the `os` module to change the current working directory.\n",
        "\n",
        "This method receives an argument that contains the *path* of the directory that will be the current working directory.\n",
        "\n",
        "> *Syntax*\n",
        "<font size=\"4\">\n",
        "```python\n",
        "os.chdir(path_to_directory)\n",
        "```\n",
        "</font>\n",
        "\n",
        "**Example**"
      ],
      "metadata": {
        "id": "v3JneV3un3B6"
      }
    },
    {
      "cell_type": "code",
      "source": [
        "# Change current directory\n",
        "os.chdir('/content/sample_data')\n",
        "\n",
        "print(os.getcwd())\n",
        "\n",
        "# Change current directory\n",
        "os.chdir('/content')\n",
        "\n",
        "print(os.getcwd())"
      ],
      "metadata": {
        "colab": {
          "base_uri": "https://localhost:8080/"
        },
        "id": "_Z3Ns9D_oIcr",
        "outputId": "1dab12e9-258e-47df-a4ac-6f691b8b839b"
      },
      "execution_count": null,
      "outputs": [
        {
          "output_type": "stream",
          "name": "stdout",
          "text": [
            "/content/sample_data\n",
            "/content\n"
          ]
        }
      ]
    },
    {
      "cell_type": "markdown",
      "source": [
        "### **`rmdir()`** method\n",
        "\n",
        "We use the **`rmdir()`** method of the `os` module to delete a directory.\n",
        "\n",
        "This method receives an argument that contains the *path* of the directory to delete.\n",
        "\n",
        "> *Syntax*\n",
        "<font size=\"4\">\n",
        "```python\n",
        "os.rmdir(directory_name)\n",
        "```\n",
        "</font>\n",
        "\n",
        "**Example**"
      ],
      "metadata": {
        "id": "4k0eLhFxpwyp"
      }
    },
    {
      "cell_type": "code",
      "source": [
        "# Remove directory\n",
        "os.rmdir('/content/dir_tmp')"
      ],
      "metadata": {
        "id": "kerWb53MqVD2"
      },
      "execution_count": null,
      "outputs": []
    }
  ]
}