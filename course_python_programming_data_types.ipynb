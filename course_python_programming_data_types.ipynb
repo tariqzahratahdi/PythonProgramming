{
  "nbformat": 4,
  "nbformat_minor": 0,
  "metadata": {
    "colab": {
      "provenance": [],
      "authorship_tag": "ABX9TyOix64v2+XFXW5tKUpShMl3"
    },
    "kernelspec": {
      "name": "python3",
      "display_name": "Python 3"
    },
    "language_info": {
      "name": "python"
    }
  },
  "cells": [
    {
      "cell_type": "markdown",
      "source": [
        "# Data Types\n",
        "\n",
        "The following table lists the predefined data types in Python.\n",
        "\n",
        "|Data Type|Python Classes|\n",
        "|:---|:---|\n",
        "|Numeric|`int`, `float`, `complex`|\n",
        "|String|`str`|\n",
        "|Sequence|`list`, `tuple`, `range`|\n",
        "|Binary|`bytes`, `bytearray`, `memoryview`|\n",
        "|Mapping|`dict`|\n",
        "|Boolean|`bool`|\n",
        "|Set|`set`, `frozenset`|\n",
        "|None|`NoneType`|\n",
        "\n",
        "To get the type of a variable, we use the `type()` function.\n",
        "\n"
      ],
      "metadata": {
        "id": "unh50uzU7p7J"
      }
    },
    {
      "cell_type": "markdown",
      "source": [
        "# Numeric Type\n",
        "\n",
        "Python has four predefined numeric types:\n",
        "\n",
        "`int` (signed integer)\n",
        "\n",
        "`bool` (boolean)\n",
        "\n",
        "`float` (real number)\n",
        "\n",
        "`complex` (complex number)\n",
        "\n",
        "**Example**"
      ],
      "metadata": {
        "id": "_QhFdkjv9R1M"
      }
    },
    {
      "cell_type": "code",
      "execution_count": null,
      "metadata": {
        "colab": {
          "base_uri": "https://localhost:8080/"
        },
        "id": "fSyoLqb87XTW",
        "outputId": "e79164a4-96ea-41b9-895f-c80c7e46724e"
      },
      "outputs": [
        {
          "output_type": "stream",
          "name": "stdout",
          "text": [
            "<class 'int'>\n",
            "<class 'bool'>\n",
            "<class 'float'>\n",
            "<class 'complex'>\n"
          ]
        }
      ],
      "source": [
        "integer_number = 1        # int: integer variable\n",
        "boolean = True            # bool: boolean variable\n",
        "real_number = 1.2         # float: real variable\n",
        "complex_number = 1 + 2j   # complex: complex variable\n",
        "\n",
        "print(type(integer_number))\n",
        "print(type(boolean))\n",
        "print(type(real_number))\n",
        "print(type(complex_number))"
      ]
    },
    {
      "cell_type": "markdown",
      "source": [
        "# Sequence Type\n",
        "\n",
        "A sequence is a collection data type.\n",
        "\n",
        "It is an *ordered* collection of elements.\n",
        "\n",
        "The elements of the sequence have a *position index* starting with the value `0`.\n",
        "\n",
        "A Python sequence is *bounded* and *iterable*.\n",
        "\n",
        "Python has three sequence data types:\n",
        "\n",
        "* `str`\n",
        "* `list`\n",
        "* `tuple`\n"
      ],
      "metadata": {
        "id": "hFpP6VVT-5M4"
      }
    },
    {
      "cell_type": "markdown",
      "source": [
        "# `str` Type\n",
        "\n",
        "A variable of type `str` (string) is a string of characters delimited by single, double or triple quotes.\n",
        "\n",
        "*Indexing*\n",
        "\n",
        "We access the elements of a variable of type `str` using the index operator `[ ]`.\n",
        "\n",
        "*Slicing*\n",
        "\n",
        "A substring of a string is called a *slice*.\n",
        "\n",
        "We slice a string using the slice operator `[:]`.\n",
        "\n",
        "`my_string[start:end:step])`\n",
        "\n",
        "`start` (optional): starting index (inclusive). Defaults to `0` if omitted.\n",
        "\n",
        "`end` (optional): stopping index (exclusive). Defaults to the end of the string if omitted.\n",
        "\n",
        "`step` (optional): interval between indices. A positive value slices from left to right, while a negative value slices from right to left. If omitted, it defaults to `1` (no skipping of characters).\n",
        "\n",
        "*Operations*\n",
        "\n",
        "* The concatenation operator is the symbol `+` .\n",
        "* The repetition operator is the symbol `*` .\n",
        "\n",
        "**Example**"
      ],
      "metadata": {
        "id": "fy-PqC3C_Ub_"
      }
    },
    {
      "cell_type": "code",
      "source": [
        "greet = 'Hello'\n",
        "print(greet)\n",
        "print(greet[0])\n",
        "print(greet[:3])\n",
        "print(greet[2:4])\n",
        "print(greet[2:])\n",
        "print(greet[::-1])\n",
        "print(greet * 2)\n",
        "print(greet + \" World!\")"
      ],
      "metadata": {
        "colab": {
          "base_uri": "https://localhost:8080/"
        },
        "id": "mrDAfoWpAO2D",
        "outputId": "00e5de37-9603-499b-9de7-82426fdcf586"
      },
      "execution_count": null,
      "outputs": [
        {
          "output_type": "stream",
          "name": "stdout",
          "text": [
            "Hello\n",
            "H\n",
            "Hel\n",
            "ll\n",
            "llo\n",
            "olleH\n",
            "HelloHello\n",
            "Hello World!\n"
          ]
        }
      ]
    },
    {
      "cell_type": "markdown",
      "source": [
        "# `list` Type\n",
        "\n",
        "A `list` type variable consists of elements separated by commas and delimited by square brackets `[ ]`.\n",
        "\n",
        "The elements of a `list` can be of different types.\n",
        "\n",
        "*Nested list*\n",
        "\n",
        "A `list` can have one element of type `list`.\n",
        "\n",
        "*Indexing*\n",
        "\n",
        "We access the elements of a `list` in the same manner as for a `str`.\n",
        "\n",
        "*Slicing*\n",
        "\n",
        "We slice a `list` in the same manner as for a `str`.\n",
        "\n",
        "*Operations*\n",
        "\n",
        "* The concatenation operator is the symbol `+` .\n",
        "* The repetition operator is the symbol `*` .\n",
        "\n",
        "**Example**"
      ],
      "metadata": {
        "id": "2TLAwOPdErUU"
      }
    },
    {
      "cell_type": "code",
      "source": [
        "data = [2, 3, 5, 7, 11]\n",
        "print(data)\n",
        "print(data[0])\n",
        "print(data[1:3])\n",
        "print(data[1:])\n",
        "print(data[::-1])"
      ],
      "metadata": {
        "colab": {
          "base_uri": "https://localhost:8080/"
        },
        "id": "hzyAHQnCFtA6",
        "outputId": "149456dc-8c1e-42ae-f34e-a45a73e9e360"
      },
      "execution_count": null,
      "outputs": [
        {
          "output_type": "stream",
          "name": "stdout",
          "text": [
            "[2, 3, 5, 7, 11]\n",
            "2\n",
            "[3, 5]\n",
            "[3, 5, 7, 11]\n",
            "[11, 7, 5, 3, 2]\n"
          ]
        }
      ]
    },
    {
      "cell_type": "markdown",
      "source": [
        "# `tuple` Type\n",
        "\n",
        "A `tuple` variable consists of elements separated by commas and delimited by parentheses `( )`.\n",
        "\n",
        "The elements of a tuple can be of different types.\n",
        "\n",
        "*Nested tuple*\n",
        "\n",
        "A tuple can have an element of type tuple or list.\n",
        "\n",
        "*Indexing*\n",
        "\n",
        "We access the elements of a `tuple` in the same manner as for a `str`.\n",
        "\n",
        "*Slicing*\n",
        "\n",
        "We slice a `tuple` in the same manner as for a `str`.\n",
        "\n",
        "*Operations*\n",
        "\n",
        "* The concatenation operator is the symbol `+` .\n",
        "* The repetition operator is the symbol `*` .\n",
        "\n",
        "Unlike a variable of type `list`, a variable of type `tuple` cannot be modified.\n",
        "\n",
        "A variable of type `tuple` can be considered as a variable of type `list` that is read-only.\n",
        "\n",
        "**Example**"
      ],
      "metadata": {
        "id": "4-bR9gPSF8Zx"
      }
    },
    {
      "cell_type": "code",
      "source": [
        "data = (2, 3, 5, 7, 11)\n",
        "print(data)\n",
        "print(data[0])\n",
        "print(data[1:3])\n",
        "print(data[1:])\n",
        "print(data[::-1])"
      ],
      "metadata": {
        "id": "IE-9qz0ZNrzk"
      },
      "execution_count": null,
      "outputs": []
    },
    {
      "cell_type": "markdown",
      "source": [
        "# `dict` Type\n",
        "\n",
        "A `dict` (dictionary) variable is a collection of `key:value` pairs.\n",
        "\n",
        "These pairs are separated by commas and the sequence is delimited by curly braces `{ }`.\n",
        "\n",
        "To establish the correspondence between the elements constituting the key and value pair, we use the symbol `:` (colon.)\n",
        "\n",
        "To access the values ​​of a `dict` variable, we use the brackets `[ ]`.\n",
        "\n",
        "**Example**"
      ],
      "metadata": {
        "id": "fZQTBfslOVzC"
      }
    },
    {
      "cell_type": "code",
      "source": [
        "data = {\n",
        "'com' : 'Commercial',\n",
        "'org' : 'Organization',\n",
        "'net' : 'Network'\n",
        "}\n",
        "\n",
        "print(data)\n",
        "print(data['com'])\n",
        "print(data.keys())\n",
        "print(data.values())"
      ],
      "metadata": {
        "colab": {
          "base_uri": "https://localhost:8080/"
        },
        "id": "yhmv73hJOmzE",
        "outputId": "009dd70a-4fa5-48b3-87a8-5d4168710ac5"
      },
      "execution_count": null,
      "outputs": [
        {
          "output_type": "stream",
          "name": "stdout",
          "text": [
            "{'com': 'Commercial', 'org': 'Organization', 'net': 'Network'}\n",
            "Commercial\n",
            "dict_keys(['com', 'org', 'net'])\n",
            "dict_values(['Commercial', 'Organization', 'Network'])\n"
          ]
        }
      ]
    },
    {
      "cell_type": "markdown",
      "source": [
        "# `set` Type\n",
        "\n",
        "The `set` type is an implementation of the mathematical concept of a set.\n",
        "\n",
        "A variable of type `set` consists of a collection of elements delimited by curly braces `{ }`, the elements being separated by commas.\n",
        "\n",
        "The collection is *unindexed* and `unordered`.\n",
        "\n",
        "The elements can be of different types.\n",
        "\n",
        "Each element of the collection is enumerated once and only once.\n",
        "\n",
        "An element must be a *non-mutable* object such as a numeric object (`int`, `bool`, `float`, `complex`), `str` or `tuple`.\n"
      ],
      "metadata": {
        "id": "yuIB_oKGO6w2"
      }
    }
  ]
}