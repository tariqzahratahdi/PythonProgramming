{
  "nbformat": 4,
  "nbformat_minor": 0,
  "metadata": {
    "colab": {
      "provenance": [],
      "authorship_tag": "ABX9TyP5GTHUvpr7SjzCMFKs/5eK",
      "include_colab_link": true
    },
    "kernelspec": {
      "name": "python3",
      "display_name": "Python 3"
    },
    "language_info": {
      "name": "python"
    }
  },
  "cells": [
    {
      "cell_type": "markdown",
      "metadata": {
        "id": "view-in-github",
        "colab_type": "text"
      },
      "source": [
        "<a href=\"https://colab.research.google.com/github/tariqzahratahdi/PythonProgramming/blob/main/course_python_programming_reading_and_writing_data_fr.ipynb\" target=\"_parent\"><img src=\"https://colab.research.google.com/assets/colab-badge.svg\" alt=\"Open In Colab\"/></a>"
      ]
    },
    {
      "cell_type": "markdown",
      "source": [
        "# Lecture et écriture de données\n",
        "\n",
        "# Lecture de données\n",
        "\n",
        "Dans un programme Python, on utilise la fonction prédéfinie `input()` pour lire les données entrées sur le flux d'entrée standard (clavier).\n",
        "\n",
        "**Exemple**"
      ],
      "metadata": {
        "id": "dWklEFj3FOKc"
      }
    },
    {
      "cell_type": "code",
      "execution_count": null,
      "metadata": {
        "colab": {
          "base_uri": "https://localhost:8080/"
        },
        "id": "HN9peFulFLwD",
        "outputId": "f3193f68-2ccf-4eac-cf0e-2b0d5828bb1f"
      },
      "outputs": [
        {
          "name": "stdout",
          "output_type": "stream",
          "text": [
            "lundi\n",
            "mars\n"
          ]
        }
      ],
      "source": [
        "day = input()\n",
        "month = input()"
      ]
    },
    {
      "cell_type": "markdown",
      "source": [
        "Lorsque l'interprèteur Python rencontre la fonction `input()`, il attend que l'utilisateur entre les données sur flux d'entrée standard (clavier) jusqu'à ce que la touche Entrée soit enfoncée.\n",
        "\n",
        "La séquence de caractères entrée peut être stockée dans une variable de type `str` pour une utilisation ultérieure.\n",
        "\n",
        "Lorsque la touche Entrée est lue, le programme passe à l'instruction suivante.\n",
        "\n",
        "Pour afficher un message d'invite, on passe celui-ci comme un argument à la fonction `input()`.\n",
        "\n",
        "**Exemple**"
      ],
      "metadata": {
        "id": "K1B7kkKpG4rT"
      }
    },
    {
      "cell_type": "code",
      "source": [
        "day = input('Enter the day : ')\n",
        "month = input('Enter the month : ')"
      ],
      "metadata": {
        "colab": {
          "base_uri": "https://localhost:8080/"
        },
        "id": "5ydfOFrzHDOc",
        "outputId": "6b24cd79-2118-4a32-9172-c7a22b590cf5"
      },
      "execution_count": null,
      "outputs": [
        {
          "name": "stdout",
          "output_type": "stream",
          "text": [
            "Enter the day : mardi\n",
            "Enter the month : mars\n"
          ]
        }
      ]
    },
    {
      "cell_type": "markdown",
      "source": [
        "# Lire une donnée numérique\n",
        "\n",
        "Le type d'une donnée lue à l'aide de la fonction `input()` est `str`.\n",
        "\n",
        "Pour lire une donnée de type numérique, on utilise les fonctions prédéfinies `int()` ou `float()` pour convertir une donnée lue à l'aide de la fonction `input()`.\n",
        "\n",
        "**Exemple**"
      ],
      "metadata": {
        "id": "jmje8GX-HTGK"
      }
    },
    {
      "cell_type": "code",
      "source": [
        "width = int(input('Enter width : '))\n",
        "height = int(input('Enter height : '))\n",
        "\n",
        "print(width * height)"
      ],
      "metadata": {
        "colab": {
          "base_uri": "https://localhost:8080/"
        },
        "id": "KUTYX8e3HeQL",
        "outputId": "653ace6d-6c17-471c-d274-d1e2ce2d20dd"
      },
      "execution_count": null,
      "outputs": [
        {
          "output_type": "stream",
          "name": "stdout",
          "text": [
            "Enter width : 12\n",
            "Enter height : 3\n",
            "36\n"
          ]
        }
      ]
    },
    {
      "cell_type": "markdown",
      "source": [
        "# Écrire une donnée\n",
        "\n",
        "Dans un programme Python, on utilise la fonction prédéfinie `print()` pour écrire une donnée (afficher) dans le flux de sortie standard (écran.)\n",
        "\n",
        "**Exemple**"
      ],
      "metadata": {
        "id": "uw0TA224Hrgt"
      }
    },
    {
      "cell_type": "code",
      "source": [
        "print('Hello World!')"
      ],
      "metadata": {
        "colab": {
          "base_uri": "https://localhost:8080/"
        },
        "id": "TpjdOp7ZHxiN",
        "outputId": "a2a1e7ad-1ec1-4f33-8a09-3a17ed2475f1"
      },
      "execution_count": null,
      "outputs": [
        {
          "output_type": "stream",
          "name": "stdout",
          "text": [
            "Hello World!\n"
          ]
        }
      ]
    },
    {
      "cell_type": "markdown",
      "source": [
        "La fonction `print()` accepte plusieurs arguments qui sont des expressions valides.\n",
        "\n",
        "**Exemple**"
      ],
      "metadata": {
        "id": "U_EnuhiYH4TM"
      }
    },
    {
      "cell_type": "code",
      "source": [
        "width = 7\n",
        "height = 5\n",
        "\n",
        "print('width : ', width)\n",
        "print('height : ', height)\n",
        "print('area : ', width * height)"
      ],
      "metadata": {
        "colab": {
          "base_uri": "https://localhost:8080/"
        },
        "id": "jfA8r4tFH8pk",
        "outputId": "7b304ab0-e5ae-4e60-de4c-c1e4da41becd"
      },
      "execution_count": null,
      "outputs": [
        {
          "output_type": "stream",
          "name": "stdout",
          "text": [
            "width :  7\n",
            "height :  5\n",
            "area :  35\n"
          ]
        }
      ]
    },
    {
      "cell_type": "markdown",
      "source": [
        "La fonction `print()` émet un caractère newline (`\\n`) à la fin de la ligne.\n",
        "\n",
        "Par conséquent, le message affiché par l'instruction `print()` suivante apparaît sur la ligne suivante de la console.\n",
        "\n",
        "Pour afficher les résultats de deux instructions successives `print()` sur la même ligne, on demande à la fonction `print()` d'émettre une chaîne de caractères en tant que séparateur à la fin, et on le fait en passant cette chaîne comme un argument nommé `end`.\n",
        "\n",
        "**Exemple**"
      ],
      "metadata": {
        "id": "vSJdeHAaIGc7"
      }
    },
    {
      "cell_type": "code",
      "source": [
        "width = 7\n",
        "height = 5\n",
        "\n",
        "print('width : ', width, end=' - ')\n",
        "print('height : ', height, end=' - ')\n",
        "print('area : ', width * height)"
      ],
      "metadata": {
        "colab": {
          "base_uri": "https://localhost:8080/"
        },
        "id": "4Ia0c_f5ISNe",
        "outputId": "5f6a3979-0c57-445e-ce0b-5453bfe86839"
      },
      "execution_count": null,
      "outputs": [
        {
          "output_type": "stream",
          "name": "stdout",
          "text": [
            "width :  7 - height :  5 - area :  35\n"
          ]
        }
      ]
    },
    {
      "cell_type": "markdown",
      "source": [
        "La fonction `print()` affiche ses arguments séparés par un espace.\n",
        "\n",
        "Pour utiliser un autre caractère comme séparateur, on le transmet comme un argument nommé `sep`.\n",
        "\n",
        "**Exemple**: Arguments séparés par une virgule."
      ],
      "metadata": {
        "id": "LYuJ1iWAI0bx"
      }
    },
    {
      "cell_type": "code",
      "source": [
        "width = 7\n",
        "height = 5\n",
        "area = width * height\n",
        "\n",
        "print(width, height, area, sep=' , ')"
      ],
      "metadata": {
        "colab": {
          "base_uri": "https://localhost:8080/"
        },
        "id": "AnLh1d2BJMdC",
        "outputId": "0c7d9bf4-1e3c-4c1e-c058-a6d0536189d2"
      },
      "execution_count": null,
      "outputs": [
        {
          "output_type": "stream",
          "name": "stdout",
          "text": [
            "7 , 5 , 35\n"
          ]
        }
      ]
    },
    {
      "cell_type": "markdown",
      "source": [
        "# Écriture formatée de données\n",
        "\n",
        "La méthode `str.format()` est utilisée pour formater l'affichage avec la fonction `print()`.\n",
        "\n",
        "Les accolades `{}` sont utilisées pour spécifier l'emplacement et l'ordre des arguments transmis à la fonction `print()`.\n",
        "\n",
        "**Exemple**"
      ],
      "metadata": {
        "id": "oqEbGrwWJdM_"
      }
    },
    {
      "cell_type": "code",
      "source": [
        "width = 7\n",
        "height = 5\n",
        "\n",
        "print('width : {} height : {}'.format(width, height))"
      ],
      "metadata": {
        "colab": {
          "base_uri": "https://localhost:8080/"
        },
        "id": "-AbVRnHPJnIJ",
        "outputId": "cd86ee82-9cec-4673-8bc0-0616ca41e780"
      },
      "execution_count": null,
      "outputs": [
        {
          "output_type": "stream",
          "name": "stdout",
          "text": [
            "width : 7 height : 5\n"
          ]
        }
      ]
    },
    {
      "cell_type": "markdown",
      "source": [
        "# format f-Strings\n",
        "\n",
        "Le format f-Strings facilite l'affichage des valeurs et des variables. Il utilise les accolades `{}` pour passer les variables.\n",
        "\n",
        "**Exemple**"
      ],
      "metadata": {
        "id": "cLej4ptxJu1c"
      }
    },
    {
      "cell_type": "code",
      "source": [
        "name = 'apple'\n",
        "family = 'fruit'\n",
        "\n",
        "print(f'{name} is a {family}')"
      ],
      "metadata": {
        "colab": {
          "base_uri": "https://localhost:8080/"
        },
        "id": "Az1YB_l2J2bX",
        "outputId": "e4103b3d-902c-4452-d534-217645f9b8c0"
      },
      "execution_count": null,
      "outputs": [
        {
          "output_type": "stream",
          "name": "stdout",
          "text": [
            "apple is a fruit\n"
          ]
        }
      ]
    },
    {
      "cell_type": "markdown",
      "source": [
        "# Écriture formatée d'un nombre entier\n",
        "\n",
        "**Exemple**: utilisation de la méthode `format()`."
      ],
      "metadata": {
        "id": "j_vA2ZjHKjoI"
      }
    },
    {
      "cell_type": "code",
      "source": [
        "i = 255\n",
        "print('left   : {:<8}'.format(i))\n",
        "print('center : {:^8}'.format(i))\n",
        "print('right  : {:>8}'.format(i))\n",
        "print('zero   : {:08}'.format(i))\n",
        "print('bin    : {:b}'.format(i))\n",
        "print('oct    : {:o}'.format(i))\n",
        "print('hex    : {:x}'.format(i))"
      ],
      "metadata": {
        "colab": {
          "base_uri": "https://localhost:8080/"
        },
        "id": "DE-FrkxXKxVO",
        "outputId": "cd3b4a31-413d-4109-e0e9-48bc73a98886"
      },
      "execution_count": null,
      "outputs": [
        {
          "output_type": "stream",
          "name": "stdout",
          "text": [
            "left   : 255     \n",
            "center :   255   \n",
            "right  :      255\n",
            "zero   : 00000255\n",
            "bin    : 11111111\n",
            "oct    : 377\n",
            "hex    : ff\n"
          ]
        }
      ]
    },
    {
      "cell_type": "markdown",
      "source": [
        "**Exemple**: utilisation du format f-Strings."
      ],
      "metadata": {
        "id": "HWifrGMEK7c6"
      }
    },
    {
      "cell_type": "code",
      "source": [
        "i = 255\n",
        "print(f'left: {i: <8}')\n",
        "print(f'center: {i: ^8}')\n",
        "print(f'right: {i: >8}')\n",
        "print(f'zéro: {i: 08}')\n",
        "print(f'bin: {i: b}')\n",
        "print(f'oct: {i: o}')\n",
        "print(f'hex: {i: x}')"
      ],
      "metadata": {
        "colab": {
          "base_uri": "https://localhost:8080/"
        },
        "id": "7DukzhKsK-Q0",
        "outputId": "01303a9b-3ccf-437f-a8d0-fc1cc6dd632f"
      },
      "execution_count": null,
      "outputs": [
        {
          "output_type": "stream",
          "name": "stdout",
          "text": [
            "left: 255     \n",
            "center:   255   \n",
            "right:      255\n",
            "zéro:  0000255\n",
            "bin:  11111111\n",
            "oct:  377\n",
            "hex:  ff\n"
          ]
        }
      ]
    },
    {
      "cell_type": "markdown",
      "source": [
        "# Écriture formatée d'un nombre réel\n",
        "\n",
        "**Exemple**: utilisation de la méthode `format()`."
      ],
      "metadata": {
        "id": "VH6wxQagLG4s"
      }
    },
    {
      "cell_type": "code",
      "source": [
        "r = 0.1234\n",
        "print('digit   : {:.2}'.format(r))\n",
        "print('digit   : {:.6f}'.format(r))\n",
        "print('exp     : {:.4e}'.format(r))\n",
        "print('percent : {:.0%}'.format(r))"
      ],
      "metadata": {
        "colab": {
          "base_uri": "https://localhost:8080/"
        },
        "id": "s-QzTAkiLJ11",
        "outputId": "aca824dd-5eae-4d37-d384-337eafc8000c"
      },
      "execution_count": null,
      "outputs": [
        {
          "output_type": "stream",
          "name": "stdout",
          "text": [
            "digit   : 0.12\n",
            "digit   : 0.123400\n",
            "exp     : 1.2340e-01\n",
            "percent : 12%\n"
          ]
        }
      ]
    },
    {
      "cell_type": "markdown",
      "source": [
        "**Exemple**: utilisation du format f-Strings."
      ],
      "metadata": {
        "id": "g5akvm_iLVld"
      }
    },
    {
      "cell_type": "code",
      "source": [
        "r = 0.1234\n",
        "print(f'digit: {r: .2}')\n",
        "print(f'digit: {r: .6f}')\n",
        "print(f'exp: {r: .4e}')\n",
        "print(f'percent: {r: 0.0%}')"
      ],
      "metadata": {
        "colab": {
          "base_uri": "https://localhost:8080/"
        },
        "id": "hBD0-j5DLaCK",
        "outputId": "25ff88d9-4afe-4b71-bd5f-ea0b3e914fd2"
      },
      "execution_count": null,
      "outputs": [
        {
          "output_type": "stream",
          "name": "stdout",
          "text": [
            "digit:  0.12\n",
            "digit:  0.123400\n",
            "exp:  1.2340e-01\n",
            "percent:  12%\n"
          ]
        }
      ]
    }
  ]
}