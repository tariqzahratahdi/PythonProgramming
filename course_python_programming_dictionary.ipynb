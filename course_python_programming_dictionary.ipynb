{
  "nbformat": 4,
  "nbformat_minor": 0,
  "metadata": {
    "colab": {
      "provenance": [],
      "authorship_tag": "ABX9TyOZvoV+gHiYx9Pt5BYhvRPR",
      "include_colab_link": true
    },
    "kernelspec": {
      "name": "python3",
      "display_name": "Python 3"
    },
    "language_info": {
      "name": "python"
    }
  },
  "cells": [
    {
      "cell_type": "markdown",
      "metadata": {
        "id": "view-in-github",
        "colab_type": "text"
      },
      "source": [
        "<a href=\"https://colab.research.google.com/github/tariqzahratahdi/PythonProgramming/blob/main/course_python_programming_dictionary.ipynb\" target=\"_parent\"><img src=\"https://colab.research.google.com/assets/colab-badge.svg\" alt=\"Open In Colab\"/></a>"
      ]
    },
    {
      "cell_type": "markdown",
      "source": [
        "# **Dictionary**\n",
        "\n",
        "# **`dict`** Data Type\n",
        "\n",
        "A `dict` (dictionary) variable is a collection of **`key:value`** pairs.\n",
        "\n",
        "These pairs are separated by commas and the sequence is delimited by braces `{ }`.\n",
        "\n",
        "To establish the correspondence between the elements constituting the `key` and `value` pair, we use the symbol `:` (colon.)\n",
        "\n",
        "To access the values ​​of a `dict` variable, we use the brackets `[ ]`.\n",
        "\n",
        "The `value` assigned to a `key` must be `non-mutable` (number, tuple, string, etc.)\n",
        "\n",
        "The value assigned to a `key` must be unique.\n",
        "\n",
        "**Example**"
      ],
      "metadata": {
        "id": "RoFpueJqGzOg"
      }
    },
    {
      "cell_type": "code",
      "execution_count": null,
      "metadata": {
        "colab": {
          "base_uri": "https://localhost:8080/"
        },
        "id": "zLRR22aqGw7f",
        "outputId": "5e85ba36-10bf-4544-9821-48a50d7e3fdf"
      },
      "outputs": [
        {
          "output_type": "stream",
          "name": "stdout",
          "text": [
            "{'com': 'Commercial', 'org': 'Organization', 'net': 'Network'}\n",
            "Organization\n",
            "dict_keys(['com', 'org', 'net'])\n",
            "dict_values(['Commercial', 'Organization', 'Network'])\n"
          ]
        }
      ],
      "source": [
        "data = {\n",
        "'com' : 'Commercial',\n",
        "'org' : 'Organization',\n",
        "'net' : 'Network'\n",
        "}\n",
        "print(data)\n",
        "print(data['org'])\n",
        "print(data.keys())\n",
        "print(data.values())"
      ]
    },
    {
      "cell_type": "markdown",
      "source": [
        "# Add Items\n",
        "\n",
        "We add an element to a `dict` by assigning a `value` component to a new `key` component.\n",
        "\n",
        "**Example**"
      ],
      "metadata": {
        "id": "K1liNpB5He94"
      }
    },
    {
      "cell_type": "code",
      "source": [
        "data = {\n",
        "'com' : 'Commercial',\n",
        "'org' : 'Organization',\n",
        "'net' : 'Network'\n",
        "}\n",
        "print(data)\n",
        "\n",
        "# Add an item\n",
        "data['edu'] = 'Education'\n",
        "\n",
        "print(data)"
      ],
      "metadata": {
        "colab": {
          "base_uri": "https://localhost:8080/"
        },
        "id": "av9ZT35iHkdZ",
        "outputId": "3fe22559-e15e-449a-d702-2e09345a9b17"
      },
      "execution_count": null,
      "outputs": [
        {
          "output_type": "stream",
          "name": "stdout",
          "text": [
            "{'com': 'Commercial', 'org': 'Organization', 'net': 'Network'}\n",
            "{'com': 'Commercial', 'org': 'Organization', 'net': 'Network', 'edu': 'Education'}\n"
          ]
        }
      ]
    },
    {
      "cell_type": "markdown",
      "source": [
        "# Remove Items\n",
        "\n",
        "The `del` statement is used to delete an element from a `dict`.\n",
        "\n",
        "**Example**"
      ],
      "metadata": {
        "id": "3yUGa89mHx8B"
      }
    },
    {
      "cell_type": "code",
      "source": [
        "data = {\n",
        "'com' : 'Commercial',\n",
        "'org' : 'Organization',\n",
        "'net' : 'Network'\n",
        "}\n",
        "print(data)\n",
        "\n",
        "# Remove an item\n",
        "del data['net']\n",
        "\n",
        "print(data)"
      ],
      "metadata": {
        "colab": {
          "base_uri": "https://localhost:8080/"
        },
        "id": "xQVIJMRDH6PL",
        "outputId": "d562d0f7-0188-455b-c919-68f8c5e07ba7"
      },
      "execution_count": null,
      "outputs": [
        {
          "output_type": "stream",
          "name": "stdout",
          "text": [
            "{'com': 'Commercial', 'org': 'Organization', 'net': 'Network'}\n",
            "{'com': 'Commercial', 'org': 'Organization'}\n"
          ]
        }
      ]
    },
    {
      "cell_type": "markdown",
      "source": [
        "The **`pop()`** method is used to remove and return an element of a specified `key` from a `dict`.\n",
        "\n",
        "**Example**"
      ],
      "metadata": {
        "id": "2vN9RLqmIEcu"
      }
    },
    {
      "cell_type": "code",
      "source": [
        "data = {\n",
        "'com' : 'Commercial',\n",
        "'org' : 'Organization',\n",
        "'net' : 'Network'\n",
        "}\n",
        "print(data)\n",
        "\n",
        "# Remove an item\n",
        "element = data.pop('com')\n",
        "\n",
        "print(data)\n",
        "print('Popped element:', element)"
      ],
      "metadata": {
        "colab": {
          "base_uri": "https://localhost:8080/"
        },
        "id": "YDhv6FQPIMZL",
        "outputId": "a422e214-a57c-4899-8d15-a23d6aa2990d"
      },
      "execution_count": null,
      "outputs": [
        {
          "output_type": "stream",
          "name": "stdout",
          "text": [
            "{'com': 'Commercial', 'org': 'Organization', 'net': 'Network'}\n",
            "{'org': 'Organization', 'net': 'Network'}\n",
            "Popped element: Commercial\n"
          ]
        }
      ]
    },
    {
      "cell_type": "markdown",
      "source": [
        "The **`clear()`** method is used to remove all elements from a `dict`.\n",
        "\n",
        "**Example**"
      ],
      "metadata": {
        "id": "mL2S-v6WIcTG"
      }
    },
    {
      "cell_type": "code",
      "source": [
        "data = {\n",
        "'com' : 'Commercial',\n",
        "'org' : 'Organization',\n",
        "'net' : 'Network'\n",
        "}\n",
        "print(data)\n",
        "\n",
        "# Clear the dictionary\n",
        "data.clear()\n",
        "\n",
        "print(data)"
      ],
      "metadata": {
        "colab": {
          "base_uri": "https://localhost:8080/"
        },
        "id": "bcNkxZNtIh3-",
        "outputId": "0a72ccb7-b029-451a-df3d-94f42cb8f0f1"
      },
      "execution_count": null,
      "outputs": [
        {
          "output_type": "stream",
          "name": "stdout",
          "text": [
            "{'com': 'Commercial', 'org': 'Organization', 'net': 'Network'}\n",
            "{}\n"
          ]
        }
      ]
    },
    {
      "cell_type": "markdown",
      "source": [
        "# Change Items\n",
        "\n",
        "The `dict` data type is `mutable` in nature.\n",
        "\n",
        "We change the `value` component of an element of a `dict` by referring to its `key` component.\n",
        "\n",
        "**Example**"
      ],
      "metadata": {
        "id": "4TzRDi2iIrpd"
      }
    },
    {
      "cell_type": "code",
      "source": [
        "data = {\n",
        "'com' : 'Commercial',\n",
        "'org' : 'Organization',\n",
        "'net' : 'Networking'\n",
        "}\n",
        "print(data)\n",
        "\n",
        "# Change the value of an item\n",
        "data['net'] = 'Network'\n",
        "\n",
        "print(data)"
      ],
      "metadata": {
        "colab": {
          "base_uri": "https://localhost:8080/"
        },
        "id": "SQqM-cglI2iZ",
        "outputId": "9f9d710c-7246-42c4-a640-03b63715dfb7"
      },
      "execution_count": null,
      "outputs": [
        {
          "output_type": "stream",
          "name": "stdout",
          "text": [
            "{'com': 'Commercial', 'org': 'Organization', 'net': 'Networking'}\n",
            "{'com': 'Commercial', 'org': 'Organization', 'net': 'Network'}\n"
          ]
        }
      ]
    },
    {
      "cell_type": "markdown",
      "source": [
        "# Iteration through a **`dict`**\n",
        "\n",
        "A `dict` is bounded and iterable: we can iterate through the key components of its elements in a `for` loop.\n",
        "\n",
        "We use the membership operator **`in`** to iterate through the elements of a `dict`.\n",
        "\n",
        "**Example**"
      ],
      "metadata": {
        "id": "iN-GAl4uJAXP"
      }
    },
    {
      "cell_type": "code",
      "source": [
        "data = {\n",
        "'com' : 'Commercial',\n",
        "'org' : 'Organization',\n",
        "'net' : 'Network'\n",
        "}\n",
        "\n",
        "# iterate on dictionary keys one by one\n",
        "for domain in data :\n",
        "   entity = data[domain]\n",
        "   print(domain, ':', entity)"
      ],
      "metadata": {
        "colab": {
          "base_uri": "https://localhost:8080/"
        },
        "id": "9Qf6bSGJJMXo",
        "outputId": "6d11b135-5e27-4d52-e142-d5aaba5e88e1"
      },
      "execution_count": null,
      "outputs": [
        {
          "output_type": "stream",
          "name": "stdout",
          "text": [
            "com : Commercial\n",
            "org : Organization\n",
            "net : Network\n"
          ]
        }
      ]
    },
    {
      "cell_type": "markdown",
      "source": [
        "# Length of a **`dict`**\n",
        "\n",
        "The length of a `dict` is the number of elements it contains.\n",
        "\n",
        "The **`len()`** function returns the length of a `dict`.\n",
        "\n",
        "**Example**"
      ],
      "metadata": {
        "id": "zCbjy7j-Jbr6"
      }
    },
    {
      "cell_type": "code",
      "source": [
        "data = {\n",
        "'com' : 'Commercial',\n",
        "'org' : 'Organization',\n",
        "'net' : 'Network'\n",
        "}\n",
        "\n",
        "# get dictionary length\n",
        "print(len(data))"
      ],
      "metadata": {
        "colab": {
          "base_uri": "https://localhost:8080/"
        },
        "id": "xaqPlAmIJmsI",
        "outputId": "5ccbf348-0efe-4598-bee0-d8e8329bacb4"
      },
      "execution_count": null,
      "outputs": [
        {
          "output_type": "stream",
          "name": "stdout",
          "text": [
            "3\n"
          ]
        }
      ]
    },
    {
      "cell_type": "markdown",
      "source": [
        "# **`dict`** Methods\n",
        "\n",
        "The following are built-in methods for a `dict` object.\n",
        "\n",
        "|Method|Description|\n",
        "|:---|:---|\n",
        "|`dict.keys()`|Returns list of `key` components of `dict`.|\n",
        "|`dict.values()`|Returns list of `value` components of `dict`.|\n",
        "|`dict.get()`|Returns `value` component for specified `key` in `dict`.|\n",
        "|`dict.update()`|Adds `key:value` pair to `dict`.|\n",
        "|`dict.pop()`|Removes and returns last element or element with specified `key` from `dict`.|\n",
        "|`dict.clear()`|Removes all elements of dict.|\n",
        "|`dict.copy()`|Returns a copy of `dict`.|"
      ],
      "metadata": {
        "id": "3h9PxCMiJvNJ"
      }
    }
  ]
}