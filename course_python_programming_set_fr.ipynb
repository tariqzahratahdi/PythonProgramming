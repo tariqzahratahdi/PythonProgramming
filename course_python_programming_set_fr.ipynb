{
  "nbformat": 4,
  "nbformat_minor": 0,
  "metadata": {
    "colab": {
      "provenance": [],
      "authorship_tag": "ABX9TyOaubpuH4pM/nn3zieYLUh9"
    },
    "kernelspec": {
      "name": "python3",
      "display_name": "Python 3"
    },
    "language_info": {
      "name": "python"
    }
  },
  "cells": [
    {
      "cell_type": "markdown",
      "source": [
        "# **Set**\n",
        "\n",
        "# Type de données **`set`**\n",
        "\n",
        "Le type de données **`set`** est une implémentation du concept mathématique d'ensemble.\n",
        "\n",
        "Une variable de type `set` est une collection d'éléments délimités par des accolades `{}` et séparés par des virgules.\n",
        "\n",
        "La collection est *non indexée* et *non ordonnée*.\n",
        "\n",
        "Les éléments peuvent être de types différents.\n",
        "\n",
        "Chaque élément de la collection est énuméré une et une seule fois.\n",
        "\n",
        "Un élément doit être un objet *non mutable* comme un objet numérique (`int`, `bool`, `float`, `complex`), `str` ou `tuple`.\n",
        "\n",
        "**Exemple**"
      ],
      "metadata": {
        "id": "W-MkY_M63FV4"
      }
    },
    {
      "cell_type": "code",
      "execution_count": null,
      "metadata": {
        "colab": {
          "base_uri": "https://localhost:8080/"
        },
        "id": "FxQfcH6Dxnuw",
        "outputId": "0739c62e-ebdf-4299-c6a0-74a035fc020a"
      },
      "outputs": [
        {
          "output_type": "stream",
          "name": "stdout",
          "text": [
            "Prime numbers:\n",
            "{2, 3, 5, 7}\n",
            "Vowels:\n",
            "{'e', 'a', 'o', 'i', 'u'}\n"
          ]
        }
      ],
      "source": [
        "# create a set of integer type\n",
        "primes = {2, 3, 5, 7}\n",
        "print('Prime numbers:')\n",
        "print(primes)\n",
        "\n",
        "# create a set of string type\n",
        "vowels = {'a', 'e', 'i', 'o', 'u'}\n",
        "print('Vowels:')\n",
        "print(vowels)"
      ]
    },
    {
      "cell_type": "markdown",
      "source": [
        "# La fonction **`set()`**\n",
        "\n",
        "La fonction prédéfinie **`set()`** prend comme argument un objet de séquence (`list`, `tuple` ou `str`) et renvoie un objet `set` en écartant les doublons.\n",
        "\n",
        "**Exemple**"
      ],
      "metadata": {
        "id": "dW-8cvc237jn"
      }
    },
    {
      "cell_type": "code",
      "source": [
        "# tuple and list\n",
        "primes = (2, 3, 5, 7)\n",
        "vowels = ['a', 'e', 'i', 'o', 'u']\n",
        "\n",
        "# create sets\n",
        "primes_set = set(primes)\n",
        "print(primes_set)\n",
        "vowels_set = set(vowels)\n",
        "print(vowels_set)"
      ],
      "metadata": {
        "colab": {
          "base_uri": "https://localhost:8080/"
        },
        "id": "3u-XfTUF4JuY",
        "outputId": "9a933137-6b08-4e23-fb75-5f256b713270"
      },
      "execution_count": null,
      "outputs": [
        {
          "output_type": "stream",
          "name": "stdout",
          "text": [
            "{2, 3, 5, 7}\n",
            "{'e', 'a', 'o', 'i', 'u'}\n"
          ]
        }
      ]
    },
    {
      "cell_type": "markdown",
      "source": [
        "# Ajouter des éléments\n",
        "\n",
        "La méthode **`add ()`** est utilisée pour ajouter un élément à un `set`.\n",
        "\n",
        "**Exemple**"
      ],
      "metadata": {
        "id": "cEazFaNn4Vx-"
      }
    },
    {
      "cell_type": "code",
      "source": [
        "primes = {2, 3, 5, 7}\n",
        "print('Initial Set:')\n",
        "print(primes)\n",
        "\n",
        "# using add() method\n",
        "primes.add(11)\n",
        "\n",
        "print('Updated Set:')\n",
        "print(primes)"
      ],
      "metadata": {
        "colab": {
          "base_uri": "https://localhost:8080/"
        },
        "id": "ZEu_g1Ep4cfw",
        "outputId": "9f67f158-337d-47eb-9661-96b773895dae"
      },
      "execution_count": null,
      "outputs": [
        {
          "output_type": "stream",
          "name": "stdout",
          "text": [
            "Initial Set:\n",
            "{2, 3, 5, 7}\n",
            "Updated Set:\n",
            "{2, 3, 5, 7, 11}\n"
          ]
        }
      ]
    },
    {
      "cell_type": "markdown",
      "source": [
        "# Ajouter des éléments d'une collection\n",
        "\n",
        "La méthode **`update()`** est utilisée pour ajouter à un `set` des éléments d'une collection (`list`, `tuple`, `str`, `set`, etc.).\n",
        "\n",
        "**Exemple**"
      ],
      "metadata": {
        "id": "s8P2lVRz4nBm"
      }
    },
    {
      "cell_type": "code",
      "source": [
        "primes = {2, 3, 5, 7}\n",
        "print('Initial Set:')\n",
        "print(primes)\n",
        "more_primes = {11, 13, 17, 19}\n",
        "\n",
        "# using update() method\n",
        "primes.update(more_primes)\n",
        "\n",
        "print('Updated Set:')\n",
        "print(primes)"
      ],
      "metadata": {
        "colab": {
          "base_uri": "https://localhost:8080/"
        },
        "id": "CK1P-eIJ4zDc",
        "outputId": "7102ed77-1606-4dd2-fd9c-c20cdf7eb74d"
      },
      "execution_count": null,
      "outputs": [
        {
          "output_type": "stream",
          "name": "stdout",
          "text": [
            "Initial Set:\n",
            "{2, 3, 5, 7}\n",
            "Updated Set:\n",
            "{2, 3, 5, 7, 11, 13, 17, 19}\n"
          ]
        }
      ]
    },
    {
      "cell_type": "markdown",
      "source": [
        "# Supprimer des éléments\n",
        "\n",
        "La méthode **`discard()`** est utilisée pour supprimer un élément d'un `set`.\n",
        "\n",
        "**Exemple**"
      ],
      "metadata": {
        "id": "ZxB8H3E64_Aa"
      }
    },
    {
      "cell_type": "code",
      "source": [
        "primes = {1, 2, 3, 5, 7}\n",
        "print('Initial Set:')\n",
        "print(primes)\n",
        "\n",
        "# using discard() method\n",
        "primes.discard(1)\n",
        "\n",
        "print('Updated Set:')\n",
        "print(primes)"
      ],
      "metadata": {
        "colab": {
          "base_uri": "https://localhost:8080/"
        },
        "id": "UXG99Cr15Hcm",
        "outputId": "9bb56a3e-9927-44d6-a628-dd27a3d36ca8"
      },
      "execution_count": null,
      "outputs": [
        {
          "output_type": "stream",
          "name": "stdout",
          "text": [
            "Initial Set:\n",
            "{1, 2, 3, 5, 7}\n",
            "Updated Set:\n",
            "{2, 3, 5, 7}\n"
          ]
        }
      ]
    },
    {
      "cell_type": "markdown",
      "source": [
        "# Réunion\n",
        "\n",
        "La réunion de deux ensembles `A` et `B` donne un ensemble qui contient tous les éléments qui appartiennent à `A` ou à `B`.\n",
        "\n",
        "La méthode **`union()`** renvoie comme résultat la réunion de deux ensembles.\n",
        "\n",
        "**Exemple**"
      ],
      "metadata": {
        "id": "VhpkmgYy5REd"
      }
    },
    {
      "cell_type": "code",
      "source": [
        "first_primes = {2, 3, 5, 7}\n",
        "more_primes = {11, 13, 17, 19}\n",
        "\n",
        "# using union() method\n",
        "primes = first_primes.union(more_primes)\n",
        "\n",
        "print('Union Set:')\n",
        "print(primes)"
      ],
      "metadata": {
        "colab": {
          "base_uri": "https://localhost:8080/"
        },
        "id": "rcZ-AA9p5kox",
        "outputId": "25eff3d5-ee9d-4d27-f188-4f7d89e48cb9"
      },
      "execution_count": null,
      "outputs": [
        {
          "output_type": "stream",
          "name": "stdout",
          "text": [
            "Union Set:\n",
            "{2, 3, 5, 7, 11, 13, 17, 19}\n"
          ]
        }
      ]
    },
    {
      "cell_type": "markdown",
      "source": [
        "# Intersection\n",
        "\n",
        "L'intersection de deux ensembles `A` et` B` donne un ensemble qui contient tous les éléments qui appartiennent à la fois à `A` et à `B`.\n",
        "\n",
        "La méthode **`intersection()`** renvoie comme résultat l'intersection de deux ensembles.\n",
        "\n",
        "**Exemple**"
      ],
      "metadata": {
        "id": "5cVkbdp15xj9"
      }
    },
    {
      "cell_type": "code",
      "source": [
        "first_numbers = {0 ,1, 2, 3, 4, 5, 6, 7, 8, 9}\n",
        "primes = {2, 3, 5, 7, 11, 13, 17, 19}\n",
        "\n",
        "# using intersection() method\n",
        "first_primes = primes.intersection(first_numbers)\n",
        "\n",
        "print('Intersection Set:')\n",
        "print(first_primes)"
      ],
      "metadata": {
        "colab": {
          "base_uri": "https://localhost:8080/"
        },
        "id": "QVa51AeF59vs",
        "outputId": "cc244c29-9494-49c7-ae7d-2d00e61e575d"
      },
      "execution_count": null,
      "outputs": [
        {
          "output_type": "stream",
          "name": "stdout",
          "text": [
            "Intersection Set:\n",
            "{2, 3, 5, 7}\n"
          ]
        }
      ]
    },
    {
      "cell_type": "markdown",
      "source": [
        "# Itération sur les éléments d'un **`set`**\n",
        "\n",
        "Un `set` est limité et itérable: on peut parcourir ses éléments dans une boucle `for`.\n",
        "\n",
        "On utilise l'opérateur d'appartenance **`in`** pour itérer sur les éléments d'un `set`.\n",
        "\n",
        "**Exemple**"
      ],
      "metadata": {
        "id": "n6uRGDk06Rty"
      }
    },
    {
      "cell_type": "code",
      "source": [
        "primes = {2, 3, 5, 7, 11, 13, 17, 19}\n",
        "# iterate through set elements\n",
        "for element in primes :\n",
        "  print(element, end=' ')"
      ],
      "metadata": {
        "colab": {
          "base_uri": "https://localhost:8080/"
        },
        "id": "Oh2YhBfU6etl",
        "outputId": "be346940-4f0b-434f-be2c-0b1b08a276f3"
      },
      "execution_count": null,
      "outputs": [
        {
          "output_type": "stream",
          "name": "stdout",
          "text": [
            "2 3 5 7 11 13 17 19 "
          ]
        }
      ]
    },
    {
      "cell_type": "markdown",
      "source": [
        "# Accèder aux éléments\n",
        "\n",
        "On acède aux éléments d'un `set` en convertissant le `set` en un `list`, en utilisant la définition d'une liste par compréhension.\n",
        "\n",
        "Cela permet d'itérer sur les éléments du `set` dans une boucle `for` et d'effectuer des opérations sur eux.\n",
        "\n",
        "**Exemple**"
      ],
      "metadata": {
        "id": "5xANA1uR6rvg"
      }
    },
    {
      "cell_type": "code",
      "source": [
        "primes_set = {2, 3, 5, 7, 11, 13, 17, 19}\n",
        "# access set elements using list comprehension\n",
        "primes_list= [element for element in primes_set]\n",
        "print(primes_list)"
      ],
      "metadata": {
        "colab": {
          "base_uri": "https://localhost:8080/"
        },
        "id": "G9uH8OUW63n5",
        "outputId": "97375cc8-4d90-4bd1-95a5-c3fca5ed790f"
      },
      "execution_count": null,
      "outputs": [
        {
          "output_type": "stream",
          "name": "stdout",
          "text": [
            "[2, 3, 5, 7, 11, 13, 17, 19]\n"
          ]
        }
      ]
    },
    {
      "cell_type": "markdown",
      "source": [
        "# Appartenance\n",
        "\n",
        "On peut vérifier si un certain élément appartient à un `set` en utilisant les opérateurs d'appartenance: **`in`** et **`not in`**."
      ],
      "metadata": {
        "id": "IMWr0Q_f7Ojf"
      }
    },
    {
      "cell_type": "markdown",
      "source": [
        "# Méthodes\n",
        "\n",
        "Voici des méthodes prédéfinies opérant sur un objet `set`.\n",
        "\n",
        "| Méthode | Description |\n",
        "|: --- |: --- |\n",
        "| `set.add()` | Ajoute un élément à un ensemble.|\n",
        "| `set.clear()` | Supprime tous les éléments d'un ensemble.|\n",
        "| `set.copy()` | Renvoie une copie d'un ensemble.|\n",
        "| `set.discard()` | Supprime un élément d'un ensemble.|\n",
        "| `set.pop()` | Supprime et renvoie un élément arbitraire.|\n",
        "| `set.remove()` | Supprime un élément d'un ensemble; cet élément doit appartenir à cet ensemble. |\n",
        "\n"
      ],
      "metadata": {
        "id": "tyzuPC5W7YNX"
      }
    },
    {
      "cell_type": "markdown",
      "source": [
        "# Fonctions\n",
        "\n",
        "Voici des fonctions qui prennent un `set` comme argument.\n",
        "\n",
        "| Fonction | Description |\n",
        "|: --- |: --- |\n",
        "| `all()` | Renvoie `True` si tous les éléments de l'ensemble sont `True` ou si l'ensemble est vide.|\n",
        "| `any()` | Renvoie `True` si un élément de l'ensemble est `True`. Si l'ensemble est vide, renvoie `False`.|\n",
        "| `enumerate()` | Renvoie un objet enumerate qui contient l'index et la valeur de tous les éléments de l'ensemble par paires. |\n",
        "| `len()` | Renvoie le nombre d'éléments dans l'ensemble.|\n",
        "| `max()` | Renvoie le plus grand élément de l'ensemble.|\n",
        "| `min()` | Renvoie le plus petit élément de l'ensemble.|\n",
        "| `sorted()` | Renvoie un objet list trié par les éléments de l'ensemble (ne trie pas l'ensemble lui-même).|\n",
        "| `sum()` | Renvoie la somme de tous les éléments de l'ensemble.|\n",
        "\n",
        "**Exemple**"
      ],
      "metadata": {
        "id": "A2bt_sgo8Gk5"
      }
    },
    {
      "cell_type": "code",
      "source": [
        "s = {2, 3, 5, 7}\n",
        "\n",
        "e = enumerate(s)\n",
        "\n",
        "print(type(e))\n",
        "\n",
        "# print the tuples in enumerate object\n",
        "for elem in e:\n",
        "    print(elem)"
      ],
      "metadata": {
        "colab": {
          "base_uri": "https://localhost:8080/"
        },
        "id": "j8B_ECDV8t_x",
        "outputId": "b23018a7-f309-4223-a9bb-122885e64dfd"
      },
      "execution_count": null,
      "outputs": [
        {
          "output_type": "stream",
          "name": "stdout",
          "text": [
            "<class 'enumerate'>\n",
            "(0, 2)\n",
            "(1, 3)\n",
            "(2, 5)\n",
            "(3, 7)\n"
          ]
        }
      ]
    }
  ]
}