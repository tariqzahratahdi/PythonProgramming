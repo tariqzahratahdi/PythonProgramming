{
  "nbformat": 4,
  "nbformat_minor": 0,
  "metadata": {
    "colab": {
      "provenance": [],
      "authorship_tag": "ABX9TyPtuqh44E8Wddg4oBBifSUk",
      "include_colab_link": true
    },
    "kernelspec": {
      "name": "python3",
      "display_name": "Python 3"
    },
    "language_info": {
      "name": "python"
    }
  },
  "cells": [
    {
      "cell_type": "markdown",
      "metadata": {
        "id": "view-in-github",
        "colab_type": "text"
      },
      "source": [
        "<a href=\"https://colab.research.google.com/github/tariqzahratahdi/PythonProgramming/blob/main/course_python_programming_functions_fr.ipynb\" target=\"_parent\"><img src=\"https://colab.research.google.com/assets/colab-badge.svg\" alt=\"Open In Colab\"/></a>"
      ]
    },
    {
      "cell_type": "markdown",
      "source": [
        "# **Fonctions**\n",
        "\n",
        "# Fonction\n",
        "\n",
        "Une fonction est un sous-programme nommé (procédure) qui peut être appelé dans le programme pour déclencher l'exécution de la séquence d'instructions qui composent le corps de la fonction.\n",
        "\n",
        "On peut tranmettre des valeurs à une fonction en déclarant des *paramètres* dans sa définition.\n",
        "\n",
        "Les valeurs transmises à la fonction, appelée *arguments*, seront affectées à ces paramètres.\n",
        "\n",
        "Une fonction peut *renvoyer* un résultat au programme appelant."
      ],
      "metadata": {
        "id": "1SFO9Hep-21C"
      }
    },
    {
      "cell_type": "markdown",
      "source": [
        "# Types de fonctions Python\n",
        "\n",
        "Python fournit les types de fonctions suivants:\n",
        "\n",
        "* Fonctions intégrées (built-in).\n",
        "* Fonctions définies dans les modules intégrés.\n",
        "* Fonctions définies par l'utilisateur."
      ],
      "metadata": {
        "id": "UOjDVDzj_RUN"
      }
    },
    {
      "cell_type": "markdown",
      "source": [
        "# Définir une fonction python\n",
        "\n",
        "*Syntaxe*\n",
        "\n",
        "<blockquote>\n",
        "<font size=\"4\">\n",
        "<pre>\n",
        "<font color=\"#0000ff\">def</font> <font color=\"#795e26\">functionname</font>(<font color=\"#001080\">parameters</font>) :\n",
        "   <font color=\"#116644\"><i># function body</i></font>\n",
        "   statements\n",
        "   <font color=\"#af00db\">return</font> expression\n",
        "</pre>\n",
        "</font>\n",
        "</blockquote>\n",
        "\n",
        "L'instruction **`return`** est utilisée pour renvoyer un résultat au programme appellant.\n",
        "\n",
        "**Exemple**: Écrire une fonction qui renvoie un entier aléatoire entre 0 et 100.\n",
        "\n",
        "Nous utiliserons la méthode `random()` qui renvoie un nombre réel aléatoire entre 0 et 1. Cette méthode est définie dans le module `random`.\n",
        "\n"
      ],
      "metadata": {
        "id": "f9AG_gPL_kN7"
      }
    },
    {
      "cell_type": "code",
      "execution_count": null,
      "metadata": {
        "colab": {
          "base_uri": "https://localhost:8080/"
        },
        "id": "eZvR9oQu-zhR",
        "outputId": "a69d7566-9ddf-4724-d880-f1a6bee6ee8d"
      },
      "outputs": [
        {
          "output_type": "stream",
          "name": "stdout",
          "text": [
            "38\n"
          ]
        }
      ],
      "source": [
        "# Import random module\n",
        "import random\n",
        "\n",
        "# Function definition\n",
        "def random_int() :\n",
        "  return int(100 * random.random())\n",
        "\n",
        "# Function call\n",
        "print(random_int())"
      ]
    },
    {
      "cell_type": "markdown",
      "source": [
        "# Fonction avec paramètres\n",
        "\n",
        "Pour transmettre des valeurs à une fonction, on déclare des *paramètres formels* dans la définition de la fonction.\n",
        "\n",
        "Les valeurs transmises à la fonction, appelée *arguments* ou *paramètres effectifs*, seront attribués à ces paramètres formels.\n",
        "\n",
        "**Exemple**: Écrire une fonction qui renvoie un entier aléatoire entre 0 et une valeur entière donnée."
      ],
      "metadata": {
        "id": "5RBGgu7xC3Bn"
      }
    },
    {
      "cell_type": "code",
      "source": [
        "# Function definition with one parameter\n",
        "def random_int(n) :\n",
        "  return int(n * random.random())\n",
        "\n",
        "# Function call with an argument\n",
        "print(random_int(1000))"
      ],
      "metadata": {
        "colab": {
          "base_uri": "https://localhost:8080/"
        },
        "id": "g1W2e6I1DLGt",
        "outputId": "8977f33c-9298-46a5-80e6-822853b90039"
      },
      "execution_count": null,
      "outputs": [
        {
          "output_type": "stream",
          "name": "stdout",
          "text": [
            "383\n"
          ]
        }
      ]
    },
    {
      "cell_type": "markdown",
      "source": [
        "# Argument par défaut\n",
        "\n",
        "Une valeur par défaut peut être attribuée à un argument transmis à une fonction.\n",
        "\n",
        "**Exemple**"
      ],
      "metadata": {
        "id": "uHt_M24tDirE"
      }
    },
    {
      "cell_type": "code",
      "source": [
        "# Function definition with one parameter\n",
        "def random_int(n = 100) :\n",
        "  return int(n * random.random())\n",
        "\n",
        "# Function call with an argument\n",
        "print(random_int())\n",
        "print(random_int(50))"
      ],
      "metadata": {
        "colab": {
          "base_uri": "https://localhost:8080/"
        },
        "id": "6TyXMV4MDnsP",
        "outputId": "72ec5024-79dd-4b55-89a7-10142643e7be"
      },
      "execution_count": null,
      "outputs": [
        {
          "output_type": "stream",
          "name": "stdout",
          "text": [
            "82\n",
            "34\n"
          ]
        }
      ]
    },
    {
      "cell_type": "markdown",
      "source": [
        "# Argument mot-clé\n",
        "\n",
        "Avec un argument de mot-clé, l'argument est attribué en fonction du *nom* du paramètre formel.\n",
        "\n",
        "Cela vous permet d'ignorer des arguments ou de les placer dans le désordre.\n",
        "\n",
        "Dans ce cas, la position des arguments n'a pas d'importance.\n",
        "\n",
        "**Exemple**: Écrire une fonction qui renvoie un entier aléatoire entre deux valeurs données."
      ],
      "metadata": {
        "id": "yAL-5EssD-nh"
      }
    },
    {
      "cell_type": "code",
      "source": [
        "# Function definition\n",
        "def random_int(min, max) :\n",
        "  return int(min + (max - min) * random.random())\n",
        "\n",
        "# Function call\n",
        "print(random_int(max = 200, min = 100))"
      ],
      "metadata": {
        "colab": {
          "base_uri": "https://localhost:8080/"
        },
        "id": "vWadRtWbEG7R",
        "outputId": "c4367452-ebbf-4fba-ffda-5db2006bf644"
      },
      "execution_count": null,
      "outputs": [
        {
          "output_type": "stream",
          "name": "stdout",
          "text": [
            "155\n"
          ]
        }
      ]
    },
    {
      "cell_type": "markdown",
      "source": [
        "# Arguments arbitraires\n",
        "\n",
        "Parfois, on ne sait pas à l'avance le nombre d'arguments qui seront transmis à une fonction.\n",
        "\n",
        "Pour gérer ce type de situation, on utilise *des arguments arbitraires*.\n",
        "\n",
        "Les arguments arbitraires permettent de passer un nombre variable de valeurs à la fonction.\n",
        "\n",
        "On utilise un astérisque (`*`) avant le nom du paramètre formel pour désigner ce type d'argument.\n",
        "\n",
        "La séquence des arguments arbitraires transmis à une fonction est considéré comme un `tuple`, et on peut donc itérer sur ses éléments dans une boucle `for`.\n",
        "\n",
        "**Exemple**: Écrire d'une fonction qui renvoie la moyenne de plusieurs valeurs."
      ],
      "metadata": {
        "id": "Z0GhVlo8EnN2"
      }
    },
    {
      "cell_type": "code",
      "source": [
        "# Function definition\n",
        "def mean(*numbers) :\n",
        "   result = 0\n",
        "   for num in numbers :\n",
        "      result += num / len(numbers)\n",
        "   return result\n",
        "\n",
        "# Function call with 4 arguments\n",
        "print(mean(1, 2, 3, 4, 5, 6))"
      ],
      "metadata": {
        "colab": {
          "base_uri": "https://localhost:8080/"
        },
        "id": "GEV6YyQwE0ik",
        "outputId": "72c3f348-c045-4422-8a10-b05c014aa0e4"
      },
      "execution_count": null,
      "outputs": [
        {
          "output_type": "stream",
          "name": "stdout",
          "text": [
            "3.5\n"
          ]
        }
      ]
    },
    {
      "cell_type": "markdown",
      "source": [
        "# Portée d'une variable\n",
        "\n",
        "Une variable déclarée dans le corps d'une fonction est appelée une variable **locale**.\n",
        "\n",
        "Une telle variable n'existe que lors de l'exécution de cette fonction et n'est utilisée que par cette fonction.\n",
        "\n",
        "Le programme principal n'a pas accès à une variable locale d'une fonction.\n",
        "\n",
        "Une fonction n'a pas accès à une variable locale d'une autre fonction.\n",
        "\n",
        "Une variable déclarée dans le programme principal est appelée une variable **globale**. Elle existe pendant toute l'exécution du programme et est accessible partout.\n",
        "\n",
        "Une variable locale à une fonction et ayant le même nom qu'une variable globale, cache la variable globale lors de l'exécution de cette fonction.\n",
        "\n",
        "Une variable **`non-local`** est utilisée dans les fonctions imbriquées.\n",
        "\n",
        "Sa portée locale n'est pas définie. Cela signifie que la variable ne peut être ni dans la portée locale ni dans la portée globale.\n",
        "\n",
        "**Exemple**: variable non locale."
      ],
      "metadata": {
        "id": "vgR7ifIVFW6K"
      }
    },
    {
      "cell_type": "code",
      "source": [
        "# parent function\n",
        "def outer():\n",
        "   message = 'local'\n",
        "   # nested function\n",
        "   def inner():\n",
        "      # declare nonlocal variable\n",
        "      nonlocal message\n",
        "      message = 'nonlocal'\n",
        "      print ('inner: ', message)\n",
        "   # call nested function inside parent function\n",
        "   inner()\n",
        "   print ('outer: ', message)\n",
        "\n",
        "# call parent function\n",
        "outer()"
      ],
      "metadata": {
        "colab": {
          "base_uri": "https://localhost:8080/"
        },
        "id": "XR7KZB2cFp0E",
        "outputId": "ebf4488e-59a9-493d-9ac6-e1d1fe31657e"
      },
      "execution_count": null,
      "outputs": [
        {
          "output_type": "stream",
          "name": "stdout",
          "text": [
            "inner:  nonlocal\n",
            "outer:  nonlocal\n"
          ]
        }
      ]
    },
    {
      "cell_type": "markdown",
      "source": [
        "La variable `non-local` du message nommé dans la fonction `inner()` a le même nom qu'une variable locale dans la fonction outer().\n",
        "\n",
        "Si la valeur de la variable `non-local` change, ce changement affecte la variable locale.\n",
        "\n"
      ],
      "metadata": {
        "id": "WVvXLc3uGJM-"
      }
    },
    {
      "cell_type": "markdown",
      "source": [
        "# Passage des paramètres\n",
        "\n",
        "Le passage des paramètres (ou transmission des paramètres) fait référence au mécanisme par lequel les arguments (paramètres effectifs) sont attribués aux paramètres formels d'une fonction lorsque la fonction est appelée.\n",
        "\n",
        "Un paramètre est transmis soit par **valeur** ou par **référence**.\n",
        "\n",
        "Le comportement de la fonction dépend de la nature non mutable ou mutable de la variable transmise comme argument à la fonction.\n",
        "\n",
        "| Variables mutables | Variables non mutables |\n",
        "|: --- |: --- |\n",
        "| `list` | Nombres |\n",
        "| `dict` | `tuple` |\n",
        "| `set` | `str` |\n",
        "\n",
        "On peut ajouter des éléments à une variable de type `list`, `dict` ou `set`. Ainsi, la longueur de la variable change, et elle est considérée comme mutable.\n",
        "\n",
        "## Passage par valeur\n",
        "\n",
        "La fonction utilise le paramètre passé par valeur lorsque la variable passée comme argument est non mutable, par exemple une variable numérique.\n",
        "\n",
        "Dans l'instruction d'appel de fonction, l'argument est une valeur, une variable ou une expression qui est évaluée au moment où la fonction est appelée.\n",
        "\n",
        "Lorsqu'une variable numérique est transmise comme argument et que la fonction modifie alors la valeur de l'argument formel, elle crée en fait une nouvelle variable en mémoire, laissant la variable d'origine inchangée.\n",
        "\n",
        "**Exemple**"
      ],
      "metadata": {
        "id": "1BMA24DTGYF7"
      }
    },
    {
      "cell_type": "code",
      "source": [
        "def func(arg) :\n",
        "   arg = arg + 1\n",
        "   print('arg inside: ', arg)\n",
        "\n",
        "var = 20.3\n",
        "func(var)\n",
        "print('var: ', var)"
      ],
      "metadata": {
        "colab": {
          "base_uri": "https://localhost:8080/"
        },
        "id": "CJEKeAw6HqDn",
        "outputId": "04ef49d3-9798-4b63-e484-94cde2af5e2c"
      },
      "execution_count": null,
      "outputs": [
        {
          "output_type": "stream",
          "name": "stdout",
          "text": [
            "arg inside:  21.3\n",
            "var:  20.3\n"
          ]
        }
      ]
    },
    {
      "cell_type": "markdown",
      "source": [
        "## Passage par référence\n",
        "\n",
        "La fonction utilise le paramètre passé par référence lorsque la variable passée comme argument est mutable, par exemple une variable de type `list`.\n",
        "\n",
        "Dans l'instruction d'appel de fonction, l'argument est une variable dont la valeur est susceptible d'être modifiée par la fonction.\n",
        "\n",
        "Lorsqu'une variable de type `list` est transmise comme argument et que la fonction modifie alors la valeur du paramètre formel, ce changement se reflète dans cette variable.\n",
        "\n",
        "**Exemple**: ajouter un élément à une liste."
      ],
      "metadata": {
        "id": "AxqeOuZMH88h"
      }
    },
    {
      "cell_type": "code",
      "source": [
        "def append_to(num, target=[]):\n",
        "   target += [num]\n",
        "   return target\n",
        "\n",
        "data = [1, 2, 3]\n",
        "append_to(4, data)\n",
        "print(data)"
      ],
      "metadata": {
        "colab": {
          "base_uri": "https://localhost:8080/"
        },
        "id": "PfF3E71CI6cg",
        "outputId": "ecc94239-9498-42e3-cc6b-cd29c70b85d4"
      },
      "execution_count": null,
      "outputs": [
        {
          "output_type": "stream",
          "name": "stdout",
          "text": [
            "[1, 2, 3, 4]\n"
          ]
        }
      ]
    },
    {
      "cell_type": "markdown",
      "source": [
        "# Exemples\n",
        "\n",
        "**Exemple**: écrire une fonction qui renvoie les termes de la suite de Fibonacci."
      ],
      "metadata": {
        "id": "vUmV1CbJLHVo"
      }
    },
    {
      "cell_type": "code",
      "source": [
        "def fibonacci(n) :\n",
        "  if n == 0 :\n",
        "    s = [1]\n",
        "  elif n == 1 :\n",
        "    s = [1, 1]\n",
        "  else :\n",
        "    f0, f1 = 1, 1\n",
        "    s = [1, 1]\n",
        "    for _ in range(2, n+1) :\n",
        "      f0, f1 = f1, f0 + f1\n",
        "      s += [f1]\n",
        "  return s\n",
        "\n",
        "# function call\n",
        "print(fibonacci(20))"
      ],
      "metadata": {
        "colab": {
          "base_uri": "https://localhost:8080/"
        },
        "id": "YB1KkDaISChn",
        "outputId": "c2dcfc2b-9069-4f04-9f5d-d31b9a8348b5"
      },
      "execution_count": null,
      "outputs": [
        {
          "output_type": "stream",
          "name": "stdout",
          "text": [
            "[1, 1, 2, 3, 5, 8, 13, 21, 34, 55, 89, 144, 233, 377, 610, 987, 1597, 2584, 4181, 6765, 10946]\n"
          ]
        }
      ]
    },
    {
      "cell_type": "markdown",
      "source": [
        "**Exemple**: écrire une fonction qui renvoie la séquence des nombres premiers."
      ],
      "metadata": {
        "id": "frejflrIhwPJ"
      }
    },
    {
      "cell_type": "code",
      "source": [
        "def primes_sequence(n) :\n",
        "\n",
        "  sieve = []\n",
        "  for _ in range(n+1) :\n",
        "    sieve += [True]\n",
        "\n",
        "  p = 2\n",
        "  while (p * p <= n) :\n",
        "    if (sieve[p]) :\n",
        "      for i in range(p * p, n+1, p) :\n",
        "          sieve[i] = False\n",
        "    p += 1\n",
        "\n",
        "  primes = []\n",
        "  for p in range(2, n+1) :\n",
        "    if sieve[p] :\n",
        "      primes += [p]\n",
        "  return primes\n",
        "\n",
        "# function call\n",
        "print(primes_sequence(120))"
      ],
      "metadata": {
        "colab": {
          "base_uri": "https://localhost:8080/"
        },
        "id": "P_GDLVdDh423",
        "outputId": "e070ca8b-cd65-409a-ecb8-3b8b5c2b7c62"
      },
      "execution_count": null,
      "outputs": [
        {
          "output_type": "stream",
          "name": "stdout",
          "text": [
            "[2, 3, 5, 7, 11, 13, 17, 19, 23, 29, 31, 37, 41, 43, 47, 53, 59, 61, 67, 71, 73, 79, 83, 89, 97, 101, 103, 107, 109, 113]\n"
          ]
        }
      ]
    }
  ]
}