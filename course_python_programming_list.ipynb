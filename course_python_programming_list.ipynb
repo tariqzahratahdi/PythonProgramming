{
  "nbformat": 4,
  "nbformat_minor": 0,
  "metadata": {
    "colab": {
      "provenance": [],
      "authorship_tag": "ABX9TyNJtR/v70/TaSxvIfA/qKdE",
      "include_colab_link": true
    },
    "kernelspec": {
      "name": "python3",
      "display_name": "Python 3"
    },
    "language_info": {
      "name": "python"
    }
  },
  "cells": [
    {
      "cell_type": "markdown",
      "metadata": {
        "id": "view-in-github",
        "colab_type": "text"
      },
      "source": [
        "<a href=\"https://colab.research.google.com/github/tariqzahratahdi/PythonProgramming/blob/main/course_python_programming_list.ipynb\" target=\"_parent\"><img src=\"https://colab.research.google.com/assets/colab-badge.svg\" alt=\"Open In Colab\"/></a>"
      ]
    },
    {
      "cell_type": "markdown",
      "source": [
        "# List\n",
        "\n",
        "# **`list`** Data Type\n",
        "\n",
        "The predefined data type **`list`** is a collection data type.\n",
        "\n",
        "A `list` is an ordered collection of elements.\n",
        "\n",
        "The elements of a `list` have a position index starting with the value `0`.\n",
        "\n",
        "A list variable consists of elements separated by commas and delimited by square brackets `[ ]`.\n",
        "\n",
        "Example\n",
        "\n",
        "`data = [2, 3, 5, 7]`\n",
        "\n",
        "The `list` data type is conceptually similar to the array type, but unlike an array, the elements of a list can be of different types.\n",
        "\n",
        "A Python `list` is bounded and iterable: you can iterate over these elements in a `for` loop.\n",
        "\n",
        "*Nested `list`*\n",
        "\n",
        "A `list` can have one element of type `list`.\n",
        "\n",
        "*Access*\n",
        "\n",
        "You access the elements of a `list` using the `[ ]` and `[:]` operators.\n",
        "\n",
        "*Slicing*\n",
        "\n",
        "We slice a `list` using the following form:\n",
        "\n",
        "`my_list[start:end:step])`\n",
        "\n",
        "`start` (optional): starting index (inclusive). Defaults to `0` if omitted.\n",
        "\n",
        "`end` (optional): stopping index (exclusive). Defaults to the end of the liste if omitted.\n",
        "\n",
        "`step` (optional): interval between indices (incrementation step). A positive value slices from left to right, while a negative value slices from right to left. If omitted, it defaults to `1` (no skipping of elements).\n",
        "\n",
        "*Operations*\n",
        "\n",
        "The concatenation operator is the symbol `+`\n",
        "\n",
        "The repetition operator is the symbol `*`\n",
        "\n",
        "The membership operator is `in`\n",
        "\n",
        "The non-membership operator is `not in`\n",
        "\n",
        "|Expression|Result|Description|\n",
        "|:---|:---|:---|\n",
        "|`[1, 2, 3] + [4, 5, 6]`|[1, 2, 3, 4, 5, 6]|Concatenate|\n",
        "|`['A'] * 3`|['A', 'A', 'A']|Repetition|\n",
        "|`3 in [1, 2, 3]`|True|Membership|\n",
        "\n",
        "**Example**: Fibonacci sequence"
      ],
      "metadata": {
        "id": "D9B3E9nMu5c-"
      }
    },
    {
      "cell_type": "code",
      "execution_count": null,
      "metadata": {
        "colab": {
          "base_uri": "https://localhost:8080/"
        },
        "id": "R0a3nADFu1Tb",
        "outputId": "48337465-d9b0-4e7f-9f3f-e55077b081d0"
      },
      "outputs": [
        {
          "output_type": "stream",
          "name": "stdout",
          "text": [
            "[1, 2, 3, 5, 8, 13, 21, 34, 55, 89, 144]\n"
          ]
        }
      ],
      "source": [
        "data = [1,2]\n",
        "for k in range(2,11,1) :\n",
        "  data += [data[k-1] + data[k-2]]\n",
        "print(data)"
      ]
    },
    {
      "cell_type": "markdown",
      "source": [
        "# Add `list` Items\n",
        "\n",
        "The **`append()`** method allows you to add elements to the end of a list.\n",
        "\n",
        "**Example**"
      ],
      "metadata": {
        "id": "dEJgaPA7xX9x"
      }
    },
    {
      "cell_type": "code",
      "source": [
        "fruits = ['apple', 'banana', 'orange']\n",
        "print('Original list:')\n",
        "print(fruits)\n",
        "\n",
        "# using append method\n",
        "fruits.append('cherry')\n",
        "\n",
        "print('Updated list:')\n",
        "print(fruits)"
      ],
      "metadata": {
        "colab": {
          "base_uri": "https://localhost:8080/"
        },
        "id": "7Cnj2ct4xiI8",
        "outputId": "43b9a044-8d56-4e18-fdd1-86229d15d7cc"
      },
      "execution_count": null,
      "outputs": [
        {
          "output_type": "stream",
          "name": "stdout",
          "text": [
            "Original List:\n",
            "['apple', 'banana', 'orange']\n",
            "Updated List:\n",
            "['apple', 'banana', 'orange', 'cherry']\n"
          ]
        }
      ]
    },
    {
      "cell_type": "markdown",
      "source": [
        "# Insert **`list`** Items\n",
        "\n",
        "The **`insert()`** method allows you to insert an element into a list at a given index (position).\n",
        "\n",
        "**Example**"
      ],
      "metadata": {
        "id": "4VaaNvbKx_t0"
      }
    },
    {
      "cell_type": "code",
      "source": [
        "fruits = ['apple', 'banana', 'orange']\n",
        "print('Original list:')\n",
        "print(fruits)\n",
        "\n",
        "# insert 'cherry' at index 2\n",
        "fruits.insert(2, 'cherry')\n",
        "\n",
        "print('Updated list:')\n",
        "print(fruits)"
      ],
      "metadata": {
        "colab": {
          "base_uri": "https://localhost:8080/"
        },
        "id": "t-wNeKA8yMYi",
        "outputId": "159f5a95-f765-41cd-88b9-79223751180e"
      },
      "execution_count": null,
      "outputs": [
        {
          "output_type": "stream",
          "name": "stdout",
          "text": [
            "Original list:\n",
            "['apple', 'banana', 'orange']\n",
            "Updated list:\n",
            "['apple', 'banana', 'cherry', 'orange']\n"
          ]
        }
      ]
    },
    {
      "cell_type": "markdown",
      "source": [
        "Extend a **`list`**\n",
        "\n",
        "The **`extend()`** method allows you to add the elements of a `list` to another `list`.\n",
        "\n",
        "**Example**"
      ],
      "metadata": {
        "id": "1tpxRuh3ya0Z"
      }
    },
    {
      "cell_type": "code",
      "source": [
        "fruits = ['apple', 'banana', 'orange']\n",
        "print('Original List:')\n",
        "print(fruits)\n",
        "more_fruits = ['cherry', 'kiwi', 'peach']\n",
        "\n",
        "# adding elements of one list to another\n",
        "fruits.extend(more_fruits)\n",
        "\n",
        "print('Updated List:')\n",
        "print(fruits)"
      ],
      "metadata": {
        "colab": {
          "base_uri": "https://localhost:8080/"
        },
        "id": "TuYWy2oTyq8o",
        "outputId": "b47d17ca-882e-4055-d95a-c32cee93f9dc"
      },
      "execution_count": null,
      "outputs": [
        {
          "output_type": "stream",
          "name": "stdout",
          "text": [
            "Original List:\n",
            "['apple', 'banana', 'orange']\n",
            "Updated List:\n",
            "['apple', 'banana', 'orange', 'cherry', 'kiwi', 'peach']\n"
          ]
        }
      ]
    },
    {
      "cell_type": "markdown",
      "source": [
        "# Change **`list`** Items\n",
        "\n",
        "The assignment operator `=` is used to assign a value to an element of a `list`.\n",
        "\n",
        "**Example**"
      ],
      "metadata": {
        "id": "Ex2qHOOKy-Zq"
      }
    },
    {
      "cell_type": "code",
      "source": [
        "colors = ['Red', 'Green', 'Yellow']\n",
        "print('Original List:',)\n",
        "print(colors)\n",
        "\n",
        "# changing the third item to 'Blue'\n",
        "colors[2] = 'Blue'\n",
        "\n",
        "print('Updated List:')\n",
        "print(colors)"
      ],
      "metadata": {
        "colab": {
          "base_uri": "https://localhost:8080/"
        },
        "id": "DM9LRFcvzHGF",
        "outputId": "e169ed2c-f4bd-47b5-9d05-02a36be2d3a6"
      },
      "execution_count": null,
      "outputs": [
        {
          "output_type": "stream",
          "name": "stdout",
          "text": [
            "Original List:\n",
            "['Red', 'Green', 'Yellow']\n",
            "Updated List:\n",
            "['Red', 'Green', 'Blue']\n"
          ]
        }
      ]
    },
    {
      "cell_type": "markdown",
      "source": [
        "# Remove **`list`** Items\n",
        "\n",
        "The **`remove()`** method allows you to remove an element from a `list`.\n",
        "\n",
        "**Example**"
      ],
      "metadata": {
        "id": "-dwwUF3f0v4y"
      }
    },
    {
      "cell_type": "code",
      "source": [
        "colors = ['Red', 'Green', 'Yellow', 'Blue']\n",
        "print('Original List:')\n",
        "print(colors)\n",
        "\n",
        "# remove item Yellow from the list\n",
        "colors.remove('Yellow')\n",
        "\n",
        "print('Updated List:')\n",
        "print(colors)"
      ],
      "metadata": {
        "colab": {
          "base_uri": "https://localhost:8080/"
        },
        "id": "jYtDRaXg0_5R",
        "outputId": "698b466c-6614-46cc-ca09-fce4f199f07d"
      },
      "execution_count": null,
      "outputs": [
        {
          "output_type": "stream",
          "name": "stdout",
          "text": [
            "Original List:\n",
            "['Red', 'Green', 'Yellow', 'Blue']\n",
            "Updated List:\n",
            "['Red', 'Green', 'Blue']\n"
          ]
        }
      ]
    },
    {
      "cell_type": "markdown",
      "source": [
        "The **`pop()`** method is used to remove and return an element of specified index from a `list`.\n",
        "\n",
        "**Example**"
      ],
      "metadata": {
        "id": "Xa3TNSGZ1KqN"
      }
    },
    {
      "cell_type": "code",
      "source": [
        "colors = ['Red', 'Green', 'Yellow', 'Blue']\n",
        "print('Original List:')\n",
        "print(colors)\n",
        "\n",
        "# remove item Yellow from the list\n",
        "element = colors.pop(2)\n",
        "\n",
        "print('Updated List:')\n",
        "print(colors)\n",
        "print('popped element:')\n",
        "print(element)"
      ],
      "metadata": {
        "colab": {
          "base_uri": "https://localhost:8080/"
        },
        "id": "IKCOErmn1QV3",
        "outputId": "f1341314-d500-4081-d155-5780568e8c96"
      },
      "execution_count": null,
      "outputs": [
        {
          "output_type": "stream",
          "name": "stdout",
          "text": [
            "Original List:\n",
            "['Red', 'Green', 'Yellow', 'Blue']\n",
            "Updated List:\n",
            "['Red', 'Green', 'Blue']\n",
            "popped element:\n",
            "Yellow\n"
          ]
        }
      ]
    },
    {
      "cell_type": "markdown",
      "source": [
        "# Remove All Items\n",
        "\n",
        "The **`clear()`** method allows you to remove all elements from a `list`.\n",
        "\n",
        "**Example**"
      ],
      "metadata": {
        "id": "Sey2xon81kGt"
      }
    },
    {
      "cell_type": "code",
      "source": [
        "colors = ['Red', 'Green', 'Blue']\n",
        "print('Original List:')\n",
        "print(colors)\n",
        "\n",
        "# remove all items from the list\n",
        "colors.clear()\n",
        "\n",
        "print('Updated List:')\n",
        "print(colors)"
      ],
      "metadata": {
        "colab": {
          "base_uri": "https://localhost:8080/"
        },
        "id": "qE4HVodU1vKh",
        "outputId": "e67159c1-4893-4bc0-bb16-ba6caa1cd706"
      },
      "execution_count": null,
      "outputs": [
        {
          "output_type": "stream",
          "name": "stdout",
          "text": [
            "Original List:\n",
            "['Red', 'Green', 'Blue']\n",
            "Updated List:\n",
            "[]\n"
          ]
        }
      ]
    },
    {
      "cell_type": "markdown",
      "source": [
        "# Remove a Range of Items\n",
        "\n",
        "The **`del`** statement allows you to delete one or more elements from a `list`.\n",
        "\n",
        "**Example**"
      ],
      "metadata": {
        "id": "UDXGcWm_2DHe"
      }
    },
    {
      "cell_type": "code",
      "source": [
        "colors = ['Red', 'Green', 'Blue', 'Cyan', 'Magenta', 'Yellow', 'Black']\n",
        "print('Original List:')\n",
        "print(colors)\n",
        "\n",
        "# delete 4th item\n",
        "del colors[3]\n",
        "\n",
        "print('Updated List:')\n",
        "print(colors)\n",
        "\n",
        "# delete items from 4th to 6th\n",
        "del colors[3:6]\n",
        "\n",
        "print('Updated List:')\n",
        "print(colors)"
      ],
      "metadata": {
        "colab": {
          "base_uri": "https://localhost:8080/"
        },
        "id": "BddbEChZ2JaD",
        "outputId": "d437fd4e-3222-47d8-8298-a941d0051e85"
      },
      "execution_count": null,
      "outputs": [
        {
          "output_type": "stream",
          "name": "stdout",
          "text": [
            "Original List:\n",
            "['Red', 'Green', 'Blue', 'Cyan', 'Magenta', 'Yellow', 'Black']\n",
            "Updated List:\n",
            "['Red', 'Green', 'Blue', 'Magenta', 'Yellow', 'Black']\n",
            "Updated List:\n",
            "['Red', 'Green', 'Blue']\n"
          ]
        }
      ]
    },
    {
      "cell_type": "markdown",
      "source": [
        "The `del` statement can be used to remove all elements from a `list`.\n",
        "\n",
        "**Example**"
      ],
      "metadata": {
        "id": "nj-o1-J72fAI"
      }
    },
    {
      "cell_type": "code",
      "source": [
        "colors = ['Red', 'Green', 'Blue']\n",
        "print('Original List:')\n",
        "print(colors)\n",
        "\n",
        "# remove all items from the list\n",
        "del colors[:]\n",
        "\n",
        "print('Updated List:')\n",
        "print(colors)"
      ],
      "metadata": {
        "colab": {
          "base_uri": "https://localhost:8080/"
        },
        "id": "hs-apXSD2imp",
        "outputId": "250b4be6-d488-40bb-8fa4-3282f33914c3"
      },
      "execution_count": null,
      "outputs": [
        {
          "output_type": "stream",
          "name": "stdout",
          "text": [
            "Original List:\n",
            "['Red', 'Green', 'Blue']\n",
            "Updated List:\n",
            "[]\n"
          ]
        }
      ]
    },
    {
      "cell_type": "markdown",
      "source": [
        "# Length of a **`list`**\n",
        "\n",
        "The length of a list is the number of elements that make up the list.\n",
        "\n",
        "The **`len()`** function gives the length of a `list`.\n",
        "\n",
        "**Example**"
      ],
      "metadata": {
        "id": "H40boX0S2sgX"
      }
    },
    {
      "cell_type": "code",
      "source": [
        "colors = ['Red', 'Green', 'Blue']\n",
        "print('Total elements:', len(colors))"
      ],
      "metadata": {
        "colab": {
          "base_uri": "https://localhost:8080/"
        },
        "id": "V26boKKx22V2",
        "outputId": "7a49696d-ed7f-4920-ed65-2cf0705070a8"
      },
      "execution_count": null,
      "outputs": [
        {
          "output_type": "stream",
          "name": "stdout",
          "text": [
            "Total elements: 3\n"
          ]
        }
      ]
    },
    {
      "cell_type": "markdown",
      "source": [
        "# Iteration Through a **`list`** Items\n",
        "\n",
        "A `list` is limited and iterable: we can iterate through its elements in a `for` loop.\n",
        "\n",
        "We use the membership operator **`in`** to iterate through the elements of a `list`.\n",
        "\n",
        "**Example**"
      ],
      "metadata": {
        "id": "RtLCqkqI3Abw"
      }
    },
    {
      "cell_type": "code",
      "source": [
        "fruits = ['apple', 'banana', 'orange']\n",
        "\n",
        "# iterate through the list\n",
        "for item in fruits:\n",
        "   print(item)"
      ],
      "metadata": {
        "colab": {
          "base_uri": "https://localhost:8080/"
        },
        "id": "UY4_evER3RPd",
        "outputId": "70b62d59-9e55-46fe-cb37-96b9f36b3e72"
      },
      "execution_count": null,
      "outputs": [
        {
          "output_type": "stream",
          "name": "stdout",
          "text": [
            "apple\n",
            "banana\n",
            "orange\n"
          ]
        }
      ]
    },
    {
      "cell_type": "markdown",
      "source": [
        "## Iterate Through Two Lists Simultaneously\n",
        "\n",
        "We use the built-in `zip()` function to iterate through two lists simultaneously.\n",
        "\n",
        "The `zip()` function stops at the shortest list if they are not of equal length."
      ],
      "metadata": {
        "id": "iuNb1miTk_wj"
      }
    },
    {
      "cell_type": "code",
      "source": [
        "fruits = ['apple', 'banana', 'orange']\n",
        "prices = [1, 2, 3]\n",
        "\n",
        "for fruit, price in zip(fruits, prices) :\n",
        "  print(fruit, price)"
      ],
      "metadata": {
        "colab": {
          "base_uri": "https://localhost:8080/"
        },
        "id": "mOtHyJ_-lweb",
        "outputId": "d22e33de-4cef-49aa-e001-166c67e8e48b"
      },
      "execution_count": null,
      "outputs": [
        {
          "output_type": "stream",
          "name": "stdout",
          "text": [
            "apple 1\n",
            "banana 2\n",
            "orange 3\n"
          ]
        }
      ]
    },
    {
      "cell_type": "markdown",
      "source": [
        "# Sorting a **`list`**\n",
        "\n",
        "The **`sort()`** method is used to sort a list.\n",
        "\n",
        "**Example**"
      ],
      "metadata": {
        "id": "TVSPfteM3k5j"
      }
    },
    {
      "cell_type": "code",
      "source": [
        "primes = [11, 3, 7, 5, 2]\n",
        "\n",
        "# sort the list in ascending order\n",
        "primes.sort()\n",
        "\n",
        "print(primes)"
      ],
      "metadata": {
        "colab": {
          "base_uri": "https://localhost:8080/"
        },
        "id": "8H-n5RIE3ubI",
        "outputId": "509928c5-9743-4823-d2dc-598a26843c88"
      },
      "execution_count": null,
      "outputs": [
        {
          "output_type": "stream",
          "name": "stdout",
          "text": [
            "[2, 3, 5, 7, 11]\n"
          ]
        }
      ]
    },
    {
      "cell_type": "markdown",
      "source": [
        "# List Comprehension\n",
        "\n",
        "List comprehension is an efficient way to create lists.\n",
        "\n",
        "It allows you to generate a new `list` by applying an expression to each item in an iterable, optionally including a condition to filter elements.\n",
        "\n",
        "**Example**"
      ],
      "metadata": {
        "id": "o7_ZT8_F33mg"
      }
    },
    {
      "cell_type": "code",
      "source": [
        "nums = [1, 2, 3, 4]\n",
        "squares = [ n * n for n in nums ]\n",
        "print(squares)"
      ],
      "metadata": {
        "colab": {
          "base_uri": "https://localhost:8080/"
        },
        "id": "bHtNJkag4DFj",
        "outputId": "6d26beaf-e6af-47da-ffad-ec1ddef0b905"
      },
      "execution_count": null,
      "outputs": [
        {
          "output_type": "stream",
          "name": "stdout",
          "text": [
            "[1, 4, 9, 16]\n"
          ]
        }
      ]
    },
    {
      "cell_type": "markdown",
      "source": [
        "**Example**: condition to filter elements."
      ],
      "metadata": {
        "id": "0iO1Cxdn4Se5"
      }
    },
    {
      "cell_type": "code",
      "source": [
        "# Squares of even numbers in a range\n",
        "squares = [n * n for n in range(10) if n % 2 == 0]\n",
        "print(squares)"
      ],
      "metadata": {
        "colab": {
          "base_uri": "https://localhost:8080/"
        },
        "id": "QGiIUMsZ4UmE",
        "outputId": "6b913fa5-b6fb-42a7-91ef-2b2eb27b4405"
      },
      "execution_count": null,
      "outputs": [
        {
          "output_type": "stream",
          "name": "stdout",
          "text": [
            "[0, 4, 16, 36, 64]\n"
          ]
        }
      ]
    },
    {
      "cell_type": "markdown",
      "source": [
        "# List Methods\n",
        "\n",
        "The following are the methods for adding new items into a `list`.\n",
        "\n",
        "|Method|Description|\n",
        "|:---|:---|\n",
        "|`list.append(obj`)|Appends object obj to list.|\n",
        "|`list.extend(seq)`|Appends the contents of sequence seq to list.|\n",
        "|`list.insert(index, obj)`|Inserts object obj into list at offset index.|\n",
        "\n",
        "The following are the methods specifically designed for removing items from a `list`.\n",
        "\n",
        "|Method|Description|\n",
        "|:---|:---|\n",
        "|`list.clear()`|Clears all the contents of the list.|\n",
        "|`list.pop(obj=list[-1])`|Removes and returns the last object or the object at the specified index from the list.|\n",
        "|`list.remove(obj)`|Removes the first occurrence of object obj from the list.|\n",
        "\n",
        "The following are the methods used for finding or counting items in a `list`.\n",
        "\n",
        "|Method|Description|\n",
        "|:---|:---|\n",
        "|list.index(obj)|Returns the lowest index in list where obj appears.|\n",
        "|list.count(obj)|Returns count of how many times obj occurs in the list.|\n",
        "\n",
        "The following are the methods used for creating copies and arranging items in a `list`.\n",
        "\n",
        "|Method|Description|\n",
        "|:---|:---|\n",
        "|list.copy()|Returns a copy of the list object.|\n",
        "|list.sort([func])|Sorts the objects in the list in place, using a comparison function if provided.|\n",
        "|list.reverse()|Reverses the order of objects in the list in place.|"
      ],
      "metadata": {
        "id": "QK_SNmmF4rYt"
      }
    }
  ]
}