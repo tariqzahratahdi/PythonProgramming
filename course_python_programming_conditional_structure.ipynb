{
  "nbformat": 4,
  "nbformat_minor": 0,
  "metadata": {
    "colab": {
      "provenance": [],
      "authorship_tag": "ABX9TyNjfQ4AnC8dPygaz5pE6XP5",
      "include_colab_link": true
    },
    "kernelspec": {
      "name": "python3",
      "display_name": "Python 3"
    },
    "language_info": {
      "name": "python"
    }
  },
  "cells": [
    {
      "cell_type": "markdown",
      "metadata": {
        "id": "view-in-github",
        "colab_type": "text"
      },
      "source": [
        "<a href=\"https://colab.research.google.com/github/tariqzahratahdi/PythonProgramming/blob/main/course_python_programming_conditional_structure.ipynb\" target=\"_parent\"><img src=\"https://colab.research.google.com/assets/colab-badge.svg\" alt=\"Open In Colab\"/></a>"
      ]
    },
    {
      "cell_type": "markdown",
      "source": [
        "# Conditional Structure\n",
        "\n",
        "The conditional structure allows you to decide what processing to do depending on whether a condition is true or not.\n",
        "\n",
        "# **`if`** Statement\n",
        "The **`if`** statement implements a simple conditional structure.\n",
        "\n",
        "*Syntax*\n",
        "\n",
        "<blockquote>\n",
        "<font size=\"3\">\n",
        "<pre>\n",
        "<font color=\"#af00db\">if</font> boolean_expression :\n",
        "   statements\n",
        "</pre>\n",
        "</font>\n",
        "</blockquote>\n",
        "\n",
        "If the value of the `boolean_expression` is `True`, then `statements` is executed.\n",
        "\n",
        "**Example**"
      ],
      "metadata": {
        "id": "kM10MEHal3zl"
      }
    },
    {
      "cell_type": "code",
      "source": [
        "discount = 0\n",
        "amount = 1200\n",
        "\n",
        "if amount > 1000 :\n",
        "   discount = amount * 0.1\n",
        "\n",
        "print('Payable amount = ', amount - discount)"
      ],
      "metadata": {
        "colab": {
          "base_uri": "https://localhost:8080/"
        },
        "id": "V8b7Uib8nrTu",
        "outputId": "c9fcda04-d2ee-476d-c977-5d7ff35404ae"
      },
      "execution_count": null,
      "outputs": [
        {
          "output_type": "stream",
          "name": "stdout",
          "text": [
            "Payable amount =  1080.0\n"
          ]
        }
      ]
    },
    {
      "cell_type": "markdown",
      "source": [
        "# **`if else`** Statement\n",
        "\n",
        "The **`if else`** else statement implements a compound conditional structure.\n",
        "\n",
        "*Syntax*\n",
        "\n",
        "<blockquote>\n",
        "<font size=\"3\">\n",
        "<pre>\n",
        "<font color=\"#af00db\">if</font> boolean_expression :\n",
        "   statements_1\n",
        "<font color=\"#af00db\">else</font> :\n",
        "   statements_2\n",
        "</pre>\n",
        "</font>\n",
        "</blockquote>\n",
        "\n",
        "If `boolean_expression` is `True`, then `statements_1` is executed, else `statement_2` is executed.\n",
        "\n",
        "**Example**"
      ],
      "metadata": {
        "id": "DTenvmbcoad5"
      }
    },
    {
      "cell_type": "code",
      "source": [
        "amount = 1200\n",
        "\n",
        "if amount > 1000 :\n",
        "  discount = amount * 0.2\n",
        "else :\n",
        "  discount = amount * 0.1\n",
        "\n",
        "print('Payable amount = ', amount - discount)"
      ],
      "metadata": {
        "colab": {
          "base_uri": "https://localhost:8080/"
        },
        "id": "PpPMCELhqXi4",
        "outputId": "596307b0-3bca-43d0-b5e4-02024ebf7519"
      },
      "execution_count": null,
      "outputs": [
        {
          "output_type": "stream",
          "name": "stdout",
          "text": [
            "Payable amount =  960.0\n"
          ]
        }
      ]
    },
    {
      "cell_type": "markdown",
      "source": [
        "# **`if elif else`** Statment\n",
        "\n",
        "The **`if elif else`** statement implements a nested conditional structure.\n",
        "\n",
        "*Synatx*\n",
        "\n",
        "<blockquote>\n",
        "<font size=\"3\">\n",
        "<pre>\n",
        "<font color=\"#af00db\">if</font> expression_1 :\n",
        "   statements_1\n",
        "<font color=\"#af00db\">elif  expression_2</font> :\n",
        "   statements_2\n",
        "<font color=\"#af00db\">elif expression_3</font> :\n",
        "   statements_3\n",
        "<font color=\"#af00db\">else</font> :\n",
        "   statements\n",
        "</pre>\n",
        "</font>\n",
        "</blockquote>\n",
        "\n",
        "Implementation with **`if else`**\n",
        "\n",
        "<blockquote>\n",
        "<font size=\"3\">\n",
        "<pre>\n",
        "<font color=\"#af00db\">if</font> expression_1 :\n",
        "   statements_1\n",
        "<font color=\"#af00db\">else</font> :\n",
        "   <font color=\"#af00db\">if</font> expression_2 :\n",
        "      statements_2\n",
        "   <font color=\"#af00db\">else</font> :\n",
        "      <font color=\"#af00db\">if</font> expression_3 :\n",
        "         statements_3\n",
        "      <font color=\"#af00db\">else</font> :\n",
        "         statements\n",
        "</pre>\n",
        "</font>\n",
        "</blockquote>\n",
        "\n",
        "**Example**"
      ],
      "metadata": {
        "id": "gtwgk7flqpW0"
      }
    },
    {
      "cell_type": "code",
      "source": [
        "amount = 2500\n",
        "\n",
        "if amount > 10000 :\n",
        "   discount = amount * 20 / 100\n",
        "elif amount > 5000 :\n",
        "   discount = amount * 10 / 100\n",
        "elif amount > 1000 :\n",
        "   discount = amount * 5 / 100\n",
        "else :\n",
        "   discount = 0\n",
        "\n",
        "print('Payable amount = ', amount - discount)"
      ],
      "metadata": {
        "colab": {
          "base_uri": "https://localhost:8080/"
        },
        "id": "xYGMplHCsyuq",
        "outputId": "d22ee755-325e-4bff-d470-a99ca1a75d93"
      },
      "execution_count": null,
      "outputs": [
        {
          "output_type": "stream",
          "name": "stdout",
          "text": [
            "Payable amount =  2375.0\n"
          ]
        }
      ]
    },
    {
      "cell_type": "markdown",
      "source": [
        "# **`match`** Statement\n",
        "\n",
        "The **`match`** statement implements a multiple conditional structure.\n",
        "\n",
        "The basic use of the **`match`** statement is to compare a variable to several values.\n",
        "\n",
        "*Syntax*\n",
        "\n",
        "<blockquote>\n",
        "<font size=\"3\">\n",
        "<pre>\n",
        "<font color=\"#af00db\">match</font> variable_name :\n",
        "   <font color=\"#af00db\">case</font> <font color=\"#116644\">value_1</font> :\n",
        "      statement_1\n",
        "   <font color=\"#af00db\">case</font> <font color=\"#116644\">value_2</font>  :\n",
        "      statement_2\n",
        "   ...\n",
        "   <font color=\"#af00db\">case</font> <font color=\"#116644\">value_n</font>  :\n",
        "      statement_n\n",
        "   <font color=\"#af00db\">case</font> _ :\n",
        "      statement\n",
        "</pre>\n",
        "</font>\n",
        "</blockquote>\n",
        "\n",
        "**Example**: the following program displays the name of the day of the week corresponding to a given integer."
      ],
      "metadata": {
        "id": "X5e3egRAtYG5"
      }
    },
    {
      "cell_type": "code",
      "source": [
        "n = 5\n",
        "\n",
        "match n :\n",
        "   case 1: d = 'Monday'\n",
        "   case 2: d = 'Tuesday'\n",
        "   case 3: d = 'Wednesday'\n",
        "   case 4: d = 'Thursday'\n",
        "   case 5: d = 'Friday'\n",
        "   case 6: d = 'Saturday'\n",
        "   case 7: d = 'Sunday'\n",
        "   case _: d = 'Invalid day number'\n",
        "\n",
        "print(d)"
      ],
      "metadata": {
        "colab": {
          "base_uri": "https://localhost:8080/"
        },
        "id": "UPFQlE3Zt1gP",
        "outputId": "88eac59c-bf9c-4052-dd46-7223c8e45efe"
      },
      "execution_count": null,
      "outputs": [
        {
          "output_type": "stream",
          "name": "stdout",
          "text": [
            "Friday\n"
          ]
        }
      ]
    }
  ]
}